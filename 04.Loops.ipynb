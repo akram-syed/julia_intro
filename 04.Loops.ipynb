{
  "cells": [
    {
      "cell_type": "markdown",
      "source": [
        "# Loops\n",
        "\n",
        "Topics:\n",
        "\n",
        "1. `while` loops\n",
        "2. `for` loops\n",
        "<br>\n",
        "\n",
        "## while loops\n",
        "\n",
        "The syntax for a `while` is\n",
        "\n",
        "```julia\n",
        "while *condition*\n",
        "    *loop body*\n",
        "end\n",
        "```\n",
        "\n",
        "For example, we could use `while` to count or to iterate over an array."
      ],
      "metadata": {}
    },
    {
      "cell_type": "code",
      "source": [
        "n = 0\n",
        "while n < 10\n",
        "    n += 1\n",
        "    println(n)\n",
        "end\n",
        "n"
      ],
      "outputs": [
        {
          "output_type": "stream",
          "name": "stdout",
          "text": [
            "1\n",
            "2\n",
            "3\n",
            "4\n",
            "5\n",
            "6\n",
            "7\n",
            "8\n",
            "9\n",
            "10\n"
          ]
        },
        {
          "output_type": "execute_result",
          "execution_count": 1,
          "data": {
            "text/plain": "10"
          },
          "metadata": {}
        }
      ],
      "execution_count": 1,
      "metadata": {
        "execution": {
          "iopub.status.busy": "2021-03-26T16:35:53.008Z",
          "iopub.execute_input": "2021-03-26T16:35:53.653Z",
          "iopub.status.idle": "2021-03-26T16:35:54.372Z"
        }
      }
    },
    {
      "cell_type": "code",
      "source": [
        "myfriends = [\"Ted\", \"Robyn\", \"Barney\", \"Lily\", \"Marshall\"]\n",
        "\n",
        "i = 1\n",
        "while i <= length(myfriends)\n",
        "    friend = myfriends[i]\n",
        "    println(\"Hi $friend, it's great to see you!\")\n",
        "    i += 1\n",
        "end"
      ],
      "outputs": [
        {
          "output_type": "stream",
          "name": "stdout",
          "text": [
            "Hi Ted, it's great to see you!\n",
            "Hi Robyn, it's great to see you!\n",
            "Hi Barney, it's great to see you!\n",
            "Hi Lily, it's great to see you!\n",
            "Hi Marshall, it's great to see you!\n"
          ]
        }
      ],
      "execution_count": 2,
      "metadata": {
        "execution": {
          "iopub.status.busy": "2021-03-26T16:36:09.854Z",
          "iopub.execute_input": "2021-03-26T16:36:09.863Z",
          "iopub.status.idle": "2021-03-26T16:36:09.888Z"
        }
      }
    },
    {
      "cell_type": "markdown",
      "source": [
        "## for loops\n",
        "\n",
        "The syntax for a `for` loop is\n",
        "\n",
        "```julia\n",
        "for *var* in *loop iterable*\n",
        "    *loop body*\n",
        "end\n",
        "```\n",
        "\n",
        "We could use a for loop to generate the same results as either of the examples above:"
      ],
      "metadata": {}
    },
    {
      "cell_type": "code",
      "source": [
        "for n in 1:10\n",
        "    println(n)\n",
        "end"
      ],
      "outputs": [
        {
          "output_type": "stream",
          "name": "stdout",
          "text": [
            "1\n",
            "2\n",
            "3\n",
            "4\n",
            "5\n",
            "6\n",
            "7\n",
            "8\n",
            "9\n",
            "10\n"
          ]
        }
      ],
      "execution_count": 3,
      "metadata": {
        "execution": {
          "iopub.status.busy": "2021-03-26T16:36:39.400Z",
          "iopub.execute_input": "2021-03-26T16:36:39.414Z",
          "iopub.status.idle": "2021-03-26T16:36:39.431Z"
        }
      }
    },
    {
      "cell_type": "code",
      "source": [
        "myfriends = [\"Ted\", \"Robyn\", \"Barney\", \"Lily\", \"Marshall\"]\n",
        "\n",
        "for friend in myfriends\n",
        "    println(\"Hi $friend, it's great to see you!\")\n",
        "end"
      ],
      "outputs": [
        {
          "output_type": "stream",
          "name": "stdout",
          "text": [
            "Hi Ted, it's great to see you!\n",
            "Hi Robyn, it's great to see you!\n",
            "Hi Barney, it's great to see you!\n",
            "Hi Lily, it's great to see you!\n",
            "Hi Marshall, it's great to see you!\n"
          ]
        }
      ],
      "execution_count": 4,
      "metadata": {
        "execution": {
          "iopub.status.busy": "2021-03-26T16:36:49.646Z",
          "iopub.execute_input": "2021-03-26T16:36:49.657Z",
          "iopub.status.idle": "2021-03-26T16:36:49.673Z"
        }
      }
    },
    {
      "cell_type": "markdown",
      "source": [
        "Now let's use `for` loops to create some addition tables, where the value of every entry is the sum of its row and column indices. <br>\n",
        "\n",
        "First, we initialize an array with zeros."
      ],
      "metadata": {}
    },
    {
      "cell_type": "code",
      "source": [
        "m, n = 5, 5\n",
        "A = fill(0, (m, n))"
      ],
      "outputs": [
        {
          "output_type": "execute_result",
          "execution_count": 5,
          "data": {
            "text/plain": "5×5 Matrix{Int64}:\n 0  0  0  0  0\n 0  0  0  0  0\n 0  0  0  0  0\n 0  0  0  0  0\n 0  0  0  0  0"
          },
          "metadata": {}
        }
      ],
      "execution_count": 5,
      "metadata": {
        "execution": {
          "iopub.status.busy": "2021-03-26T16:36:57.090Z",
          "iopub.execute_input": "2021-03-26T16:36:57.099Z",
          "iopub.status.idle": "2021-03-26T16:36:58.155Z"
        }
      }
    },
    {
      "cell_type": "code",
      "source": [
        "x, y = 3, 3\n",
        "B = zeros(x, y)"
      ],
      "outputs": [
        {
          "output_type": "execute_result",
          "execution_count": 7,
          "data": {
            "text/plain": "3×3 Matrix{Float64}:\n 0.0  0.0  0.0\n 0.0  0.0  0.0\n 0.0  0.0  0.0"
          },
          "metadata": {}
        }
      ],
      "execution_count": 7,
      "metadata": {
        "collapsed": true,
        "jupyter": {
          "source_hidden": false,
          "outputs_hidden": false
        },
        "nteract": {
          "transient": {
            "deleting": false
          }
        },
        "execution": {
          "iopub.status.busy": "2021-03-26T16:38:11.910Z",
          "iopub.execute_input": "2021-03-26T16:38:11.919Z",
          "iopub.status.idle": "2021-03-26T16:38:11.934Z"
        }
      }
    },
    {
      "cell_type": "code",
      "source": [
        "for i in 1:m\n",
        "    for j in 1:n\n",
        "        A[i, j] = i + j\n",
        "    end\n",
        "end\n",
        "A"
      ],
      "outputs": [
        {
          "output_type": "execute_result",
          "execution_count": 8,
          "data": {
            "text/plain": "5×5 Matrix{Int64}:\n 2  3  4  5   6\n 3  4  5  6   7\n 4  5  6  7   8\n 5  6  7  8   9\n 6  7  8  9  10"
          },
          "metadata": {}
        }
      ],
      "execution_count": 8,
      "metadata": {
        "execution": {
          "iopub.status.busy": "2021-03-26T16:38:27.262Z",
          "iopub.execute_input": "2021-03-26T16:38:27.268Z",
          "iopub.status.idle": "2021-03-26T16:38:27.281Z"
        }
      }
    },
    {
      "cell_type": "markdown",
      "source": [
        "Here's some syntactic sugar for the same nested `for` loop"
      ],
      "metadata": {}
    },
    {
      "cell_type": "code",
      "source": [
        "B = fill(0, (m, n))"
      ],
      "outputs": [
        {
          "output_type": "execute_result",
          "execution_count": 9,
          "data": {
            "text/plain": "5×5 Matrix{Int64}:\n 0  0  0  0  0\n 0  0  0  0  0\n 0  0  0  0  0\n 0  0  0  0  0\n 0  0  0  0  0"
          },
          "metadata": {}
        }
      ],
      "execution_count": 9,
      "metadata": {
        "execution": {
          "iopub.status.busy": "2021-03-26T16:38:40.776Z",
          "iopub.execute_input": "2021-03-26T16:38:40.782Z",
          "iopub.status.idle": "2021-03-26T16:38:40.799Z"
        }
      }
    },
    {
      "cell_type": "code",
      "source": [
        "for i in 1:m, j in 1:n\n",
        "    B[i, j] = i + j\n",
        "end\n",
        "B"
      ],
      "outputs": [
        {
          "output_type": "execute_result",
          "execution_count": 10,
          "data": {
            "text/plain": "5×5 Matrix{Int64}:\n 2  3  4  5   6\n 3  4  5  6   7\n 4  5  6  7   8\n 5  6  7  8   9\n 6  7  8  9  10"
          },
          "metadata": {}
        }
      ],
      "execution_count": 10,
      "metadata": {
        "execution": {
          "iopub.status.busy": "2021-03-26T16:38:48.009Z",
          "iopub.execute_input": "2021-03-26T16:38:48.020Z",
          "iopub.status.idle": "2021-03-26T16:38:48.034Z"
        }
      }
    },
    {
      "cell_type": "markdown",
      "source": [
        "The more \"Julia\" way to create this addition table would have been with an *array comprehension*."
      ],
      "metadata": {}
    },
    {
      "cell_type": "code",
      "source": [
        "C = [i + j for i in 1:m, j in 1:n]"
      ],
      "outputs": [
        {
          "output_type": "execute_result",
          "execution_count": 11,
          "data": {
            "text/plain": "5×5 Matrix{Int64}:\n 2  3  4  5   6\n 3  4  5  6   7\n 4  5  6  7   8\n 5  6  7  8   9\n 6  7  8  9  10"
          },
          "metadata": {}
        }
      ],
      "execution_count": 11,
      "metadata": {
        "execution": {
          "iopub.status.busy": "2021-03-26T16:39:05.349Z",
          "iopub.execute_input": "2021-03-26T16:39:05.357Z",
          "iopub.status.idle": "2021-03-26T16:39:05.375Z"
        }
      }
    },
    {
      "cell_type": "markdown",
      "source": [
        "### Exercises\n",
        "\n",
        "#### 4.1\n",
        "Loop over integers between 1 and 100 and print their squares."
      ],
      "metadata": {}
    },
    {
      "cell_type": "code",
      "source": [
        "[println(i^2) for i in 1:100]"
      ],
      "outputs": [
        {
          "output_type": "stream",
          "name": "stdout",
          "text": [
            "1\n",
            "4\n",
            "9\n",
            "16\n",
            "25\n",
            "36\n",
            "49\n",
            "64\n",
            "81\n",
            "100\n",
            "121\n",
            "144\n",
            "169\n",
            "196\n",
            "225\n",
            "256\n",
            "289\n",
            "324\n",
            "361\n",
            "400\n",
            "441\n",
            "484\n",
            "529\n",
            "576\n",
            "625\n",
            "676\n",
            "729\n",
            "784\n",
            "841\n",
            "900\n",
            "961\n",
            "1024\n",
            "1089\n",
            "1156\n",
            "1225\n",
            "1296\n",
            "1369\n",
            "1444\n",
            "1521\n",
            "1600\n",
            "1681\n",
            "1764\n",
            "1849\n",
            "1936\n",
            "2025\n",
            "2116\n",
            "2209\n",
            "2304\n",
            "2401\n",
            "2500\n",
            "2601\n",
            "2704\n",
            "2809\n",
            "2916\n",
            "3025\n",
            "3136\n",
            "3249\n",
            "3364\n",
            "3481\n",
            "3600\n",
            "3721\n",
            "3844\n",
            "3969\n",
            "4096\n",
            "4225\n",
            "4356\n",
            "4489\n",
            "4624\n",
            "4761\n",
            "4900\n",
            "5041\n",
            "5184\n",
            "5329\n",
            "5476\n",
            "5625\n",
            "5776\n",
            "5929\n",
            "6084\n",
            "6241\n",
            "6400\n",
            "6561\n",
            "6724\n",
            "6889\n",
            "7056\n",
            "7225\n",
            "7396\n",
            "7569\n",
            "7744\n",
            "7921\n",
            "8100\n",
            "8281\n",
            "8464\n",
            "8649\n",
            "8836\n",
            "9025\n",
            "9216\n",
            "9409\n",
            "9604\n",
            "9801\n",
            "10000\n"
          ]
        },
        {
          "output_type": "execute_result",
          "execution_count": 13,
          "data": {
            "text/plain": "100-element Vector{Nothing}:\n nothing\n nothing\n nothing\n nothing\n nothing\n nothing\n nothing\n nothing\n nothing\n nothing\n nothing\n nothing\n nothing\n ⋮\n nothing\n nothing\n nothing\n nothing\n nothing\n nothing\n nothing\n nothing\n nothing\n nothing\n nothing\n nothing"
          },
          "metadata": {}
        }
      ],
      "execution_count": 13,
      "metadata": {
        "collapsed": true,
        "jupyter": {
          "source_hidden": false,
          "outputs_hidden": false
        },
        "nteract": {
          "transient": {
            "deleting": false
          }
        },
        "execution": {
          "iopub.status.busy": "2021-03-26T16:44:50.330Z",
          "iopub.execute_input": "2021-03-26T16:44:50.341Z",
          "iopub.status.idle": "2021-03-26T16:44:50.865Z"
        }
      }
    },
    {
      "cell_type": "markdown",
      "source": [
        "#### 4.2\n",
        "Add to the code above a bit to create a dictionary, `squares` that holds integers and their squares as key, value pairs such that\n",
        "\n",
        "```julia\n",
        "squares[10] == 100\n",
        "```"
      ],
      "metadata": {}
    },
    {
      "cell_type": "code",
      "source": [
        "squares = Dict()\n",
        "[squares[i] = i^2 for i in 1:100]\n",
        "#= for i in 1:100\n",
        "  squares[i] = i^2\n",
        "end\n",
        "=#\n",
        "typeof(squares)"
      ],
      "outputs": [
        {
          "output_type": "execute_result",
          "execution_count": 39,
          "data": {
            "text/plain": "Dict{Any, Any}"
          },
          "metadata": {}
        }
      ],
      "execution_count": 39,
      "metadata": {
        "collapsed": true,
        "jupyter": {
          "source_hidden": false,
          "outputs_hidden": false
        },
        "nteract": {
          "transient": {
            "deleting": false
          }
        },
        "execution": {
          "iopub.status.busy": "2021-03-26T16:58:47.905Z",
          "iopub.execute_input": "2021-03-26T16:58:47.913Z",
          "iopub.status.idle": "2021-03-26T16:58:47.932Z"
        }
      }
    },
    {
      "cell_type": "code",
      "source": [
        "@assert squares[10] == 100\n",
        "@assert squares[11] == 121"
      ],
      "outputs": [],
      "execution_count": 40,
      "metadata": {
        "execution": {
          "iopub.status.busy": "2021-03-26T17:07:42.190Z",
          "iopub.execute_input": "2021-03-26T17:07:42.203Z",
          "iopub.status.idle": "2021-03-26T17:07:42.216Z"
        }
      }
    },
    {
      "cell_type": "markdown",
      "source": [
        "#### 4.3\n",
        "Use an array comprehension to create an an array `squares_arr` that stores the squares for all integers between 1 and 100."
      ],
      "metadata": {}
    },
    {
      "cell_type": "code",
      "source": [
        "squares_arr = [i = i^2 for i in 1:100]\n",
        "typeof(squares_arr)"
      ],
      "outputs": [
        {
          "output_type": "execute_result",
          "execution_count": 41,
          "data": {
            "text/plain": "Vector{Int64} (alias for Array{Int64, 1})"
          },
          "metadata": {}
        }
      ],
      "execution_count": 41,
      "metadata": {
        "collapsed": true,
        "jupyter": {
          "source_hidden": false,
          "outputs_hidden": false
        },
        "nteract": {
          "transient": {
            "deleting": false
          }
        },
        "execution": {
          "iopub.status.busy": "2021-03-26T17:08:48.983Z",
          "iopub.execute_input": "2021-03-26T17:08:48.990Z",
          "iopub.status.idle": "2021-03-26T17:08:49.005Z"
        }
      }
    },
    {
      "cell_type": "code",
      "source": [
        "@assert length(squares_arr) == 100\n",
        "@assert sum(squares_arr) == 338350"
      ],
      "outputs": [],
      "execution_count": 42,
      "metadata": {
        "execution": {
          "iopub.status.busy": "2021-03-26T17:08:55.588Z",
          "iopub.execute_input": "2021-03-26T17:08:55.598Z",
          "iopub.status.idle": "2021-03-26T17:08:55.609Z"
        }
      }
    }
  ],
  "metadata": {
    "language_info": {
      "file_extension": ".jl",
      "name": "julia",
      "mimetype": "application/julia",
      "version": "1.6.0"
    },
    "kernelspec": {
      "name": "julia-1.0",
      "display_name": "Julia 1.0.3",
      "language": "julia"
    },
    "nteract": {
      "version": "0.28.0"
    }
  },
  "nbformat": 4,
  "nbformat_minor": 3
}