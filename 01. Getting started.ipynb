{
  "cells": [
    {
      "cell_type": "markdown",
      "source": [
        "# Getting started\n",
        "\n",
        "Topics:\n",
        "\n",
        "1. How to print\n",
        "2. How to assign variables\n",
        "3. How to comment\n",
        "4. Syntax for basic math"
      ],
      "metadata": {}
    },
    {
      "cell_type": "markdown",
      "source": [
        "## How to print\n",
        "\n",
        "In Julia we usually use `println()` to print"
      ],
      "metadata": {}
    },
    {
      "cell_type": "code",
      "source": [
        "println(\"I'm excited to learn Julia!\")"
      ],
      "outputs": [
        {
          "output_type": "stream",
          "name": "stdout",
          "text": [
            "I'm excited to learn Julia!\n"
          ]
        }
      ],
      "execution_count": 24,
      "metadata": {
        "execution": {
          "iopub.status.busy": "2021-03-26T00:59:39.095Z",
          "iopub.execute_input": "2021-03-26T00:59:39.106Z",
          "iopub.status.idle": "2021-03-26T00:59:39.129Z"
        }
      }
    },
    {
      "cell_type": "markdown",
      "source": [
        "## Supressing an output\n",
        "Add a semicolon after the last line to supress the output."
      ],
      "metadata": {
        "nteract": {
          "transient": {
            "deleting": false
          }
        }
      }
    },
    {
      "cell_type": "code",
      "source": [
        "123\n",
        "456;"
      ],
      "outputs": [],
      "execution_count": 21,
      "metadata": {
        "collapsed": true,
        "jupyter": {
          "source_hidden": false,
          "outputs_hidden": false
        },
        "nteract": {
          "transient": {
            "deleting": false
          }
        },
        "execution": {
          "iopub.status.busy": "2021-03-26T00:59:15.710Z",
          "iopub.execute_input": "2021-03-26T00:59:15.721Z",
          "iopub.status.idle": "2021-03-26T00:59:15.738Z"
        }
      }
    },
    {
      "cell_type": "markdown",
      "source": [
        "## How to assign variables\n",
        "\n",
        "All we need is a variable name, value, and an equal's sign!<br>\n",
        "Julia will figure out types for us."
      ],
      "metadata": {}
    },
    {
      "cell_type": "code",
      "source": [
        "my_answer = 42\n",
        "typeof(my_answer)"
      ],
      "outputs": [
        {
          "output_type": "execute_result",
          "execution_count": 27,
          "data": {
            "text/plain": "Int64"
          },
          "metadata": {}
        }
      ],
      "execution_count": 27,
      "metadata": {
        "execution": {
          "iopub.status.busy": "2021-03-26T01:00:05.797Z",
          "iopub.execute_input": "2021-03-26T01:00:05.809Z",
          "iopub.status.idle": "2021-03-26T01:00:05.904Z"
        }
      }
    },
    {
      "cell_type": "code",
      "source": [
        "my_pi = 3.14159\n",
        "typeof(my_pi)"
      ],
      "outputs": [
        {
          "output_type": "execute_result",
          "execution_count": 3,
          "data": {
            "text/plain": "Float64"
          },
          "metadata": {}
        }
      ],
      "execution_count": 3,
      "metadata": {
        "execution": {
          "iopub.status.busy": "2021-03-26T00:31:43.168Z",
          "iopub.execute_input": "2021-03-26T00:31:43.182Z",
          "iopub.status.idle": "2021-03-26T00:31:43.211Z"
        }
      }
    },
    {
      "cell_type": "code",
      "source": [
        "😺 = \"smiley cat!\"\n",
        "typeof(😺)"
      ],
      "outputs": [
        {
          "output_type": "execute_result",
          "execution_count": 4,
          "data": {
            "text/plain": "String"
          },
          "metadata": {}
        }
      ],
      "execution_count": 4,
      "metadata": {
        "execution": {
          "iopub.status.busy": "2021-03-26T00:31:45.890Z",
          "iopub.execute_input": "2021-03-26T00:31:45.904Z",
          "iopub.status.idle": "2021-03-26T00:31:45.927Z"
        }
      }
    },
    {
      "cell_type": "markdown",
      "source": [
        "To type a smiley cat, use tab completion to select the emoji name and then tab again"
      ],
      "metadata": {}
    },
    {
      "cell_type": "code",
      "source": [
        "# \\:smi + <tab> --> select with down arrow + <enter> ---> <tab> + <enter> to complete"
      ],
      "outputs": [],
      "execution_count": 6,
      "metadata": {
        "execution": {
          "iopub.status.busy": "2021-03-26T00:32:01.350Z",
          "iopub.execute_input": "2021-03-26T00:32:01.361Z",
          "iopub.status.idle": "2021-03-26T00:32:01.378Z"
        }
      }
    },
    {
      "cell_type": "markdown",
      "source": [
        "After assigning a value to a variable, we can reassign a value of a different type to that variable without any issue."
      ],
      "metadata": {}
    },
    {
      "cell_type": "code",
      "source": [
        "😺 = 1"
      ],
      "outputs": [
        {
          "output_type": "execute_result",
          "execution_count": 7,
          "data": {
            "text/plain": "1"
          },
          "metadata": {}
        }
      ],
      "execution_count": 7,
      "metadata": {
        "execution": {
          "iopub.status.busy": "2021-03-26T00:32:14.937Z",
          "iopub.execute_input": "2021-03-26T00:32:14.955Z",
          "iopub.status.idle": "2021-03-26T00:32:15.135Z"
        }
      }
    },
    {
      "cell_type": "code",
      "source": [
        "typeof(😺)"
      ],
      "outputs": [
        {
          "output_type": "execute_result",
          "execution_count": 8,
          "data": {
            "text/plain": "Int64"
          },
          "metadata": {}
        }
      ],
      "execution_count": 8,
      "metadata": {
        "execution": {
          "iopub.status.busy": "2021-03-26T00:32:16.514Z",
          "iopub.execute_input": "2021-03-26T00:32:16.526Z",
          "iopub.status.idle": "2021-03-26T00:32:16.554Z"
        }
      }
    },
    {
      "cell_type": "markdown",
      "source": [
        "Note: Julia allows us to write super generic code, and 😺 is an example of this. \n",
        "\n",
        "This allows us to write code like"
      ],
      "metadata": {}
    },
    {
      "cell_type": "code",
      "source": [
        "😀 = 0\n",
        "😞 = -1"
      ],
      "outputs": [
        {
          "output_type": "execute_result",
          "execution_count": 9,
          "data": {
            "text/plain": "-1"
          },
          "metadata": {}
        }
      ],
      "execution_count": 9,
      "metadata": {
        "execution": {
          "iopub.status.busy": "2021-03-26T00:32:23.384Z",
          "iopub.execute_input": "2021-03-26T00:32:23.398Z",
          "iopub.status.idle": "2021-03-26T00:32:23.421Z"
        }
      }
    },
    {
      "cell_type": "code",
      "source": [
        "😺 + 😞 == 😀"
      ],
      "outputs": [
        {
          "output_type": "execute_result",
          "execution_count": 10,
          "data": {
            "text/plain": "true"
          },
          "metadata": {}
        }
      ],
      "execution_count": 10,
      "metadata": {
        "execution": {
          "iopub.status.busy": "2021-03-26T00:32:35.809Z",
          "iopub.execute_input": "2021-03-26T00:32:35.821Z",
          "iopub.status.idle": "2021-03-26T00:32:36.008Z"
        }
      }
    },
    {
      "cell_type": "markdown",
      "source": [
        "## How to comment"
      ],
      "metadata": {}
    },
    {
      "cell_type": "code",
      "source": [
        "# You can leave comments on a single line using the pound/hash key"
      ],
      "outputs": [],
      "execution_count": 11,
      "metadata": {
        "execution": {
          "iopub.status.busy": "2021-03-26T00:32:50.351Z",
          "iopub.execute_input": "2021-03-26T00:32:50.363Z",
          "iopub.status.idle": "2021-03-26T00:32:50.381Z"
        }
      }
    },
    {
      "cell_type": "code",
      "source": [
        "#=\n",
        "\n",
        "For multi-line comments, \n",
        "use the '#= =#' sequence.\n",
        "\n",
        "=#"
      ],
      "outputs": [],
      "execution_count": 12,
      "metadata": {
        "execution": {
          "iopub.status.busy": "2021-03-26T00:32:53.835Z",
          "iopub.execute_input": "2021-03-26T00:32:53.849Z",
          "iopub.status.idle": "2021-03-26T00:32:53.868Z"
        }
      }
    },
    {
      "cell_type": "markdown",
      "source": [
        "## Syntax for basic math"
      ],
      "metadata": {}
    },
    {
      "cell_type": "code",
      "source": [
        "sum = 3 + 7"
      ],
      "outputs": [
        {
          "output_type": "execute_result",
          "execution_count": 13,
          "data": {
            "text/plain": "10"
          },
          "metadata": {}
        }
      ],
      "execution_count": 13,
      "metadata": {
        "execution": {
          "iopub.status.busy": "2021-03-26T00:32:58.515Z",
          "iopub.execute_input": "2021-03-26T00:32:58.526Z",
          "iopub.status.idle": "2021-03-26T00:32:58.549Z"
        }
      }
    },
    {
      "cell_type": "code",
      "source": [
        "difference = 10 - 3"
      ],
      "outputs": [
        {
          "output_type": "execute_result",
          "execution_count": 14,
          "data": {
            "text/plain": "7"
          },
          "metadata": {}
        }
      ],
      "execution_count": 14,
      "metadata": {
        "execution": {
          "iopub.status.busy": "2021-03-26T00:33:00.793Z",
          "iopub.execute_input": "2021-03-26T00:33:00.805Z",
          "iopub.status.idle": "2021-03-26T00:33:00.828Z"
        }
      }
    },
    {
      "cell_type": "code",
      "source": [
        "product = 20 * 5"
      ],
      "outputs": [
        {
          "output_type": "execute_result",
          "execution_count": 15,
          "data": {
            "text/plain": "100"
          },
          "metadata": {}
        }
      ],
      "execution_count": 15,
      "metadata": {
        "execution": {
          "iopub.status.busy": "2021-03-26T00:33:02.972Z",
          "iopub.execute_input": "2021-03-26T00:33:02.983Z",
          "iopub.status.idle": "2021-03-26T00:33:03.005Z"
        }
      }
    },
    {
      "cell_type": "code",
      "source": [
        "quotient = 100 / 10"
      ],
      "outputs": [
        {
          "output_type": "execute_result",
          "execution_count": 16,
          "data": {
            "text/plain": "10.0"
          },
          "metadata": {}
        }
      ],
      "execution_count": 16,
      "metadata": {
        "execution": {
          "iopub.status.busy": "2021-03-26T00:33:04.299Z",
          "iopub.execute_input": "2021-03-26T00:33:04.312Z",
          "iopub.status.idle": "2021-03-26T00:33:04.568Z"
        }
      }
    },
    {
      "cell_type": "code",
      "source": [
        "power = 10 ^ 2"
      ],
      "outputs": [
        {
          "output_type": "execute_result",
          "execution_count": 17,
          "data": {
            "text/plain": "100"
          },
          "metadata": {}
        }
      ],
      "execution_count": 17,
      "metadata": {
        "execution": {
          "iopub.status.busy": "2021-03-26T00:33:06.930Z",
          "iopub.execute_input": "2021-03-26T00:33:06.941Z",
          "iopub.status.idle": "2021-03-26T00:33:06.967Z"
        }
      }
    },
    {
      "cell_type": "code",
      "source": [
        "modulus = 101 % 2"
      ],
      "outputs": [
        {
          "output_type": "execute_result",
          "execution_count": 18,
          "data": {
            "text/plain": "1"
          },
          "metadata": {}
        }
      ],
      "execution_count": 18,
      "metadata": {
        "execution": {
          "iopub.status.busy": "2021-03-26T00:33:08.130Z",
          "iopub.execute_input": "2021-03-26T00:33:08.141Z",
          "iopub.status.idle": "2021-03-26T00:33:08.162Z"
        }
      }
    },
    {
      "cell_type": "markdown",
      "source": [
        "### Exercises\n",
        "\n",
        "#### 1.1 \n",
        "Look up docs for the `convert` function."
      ],
      "metadata": {}
    },
    {
      "cell_type": "markdown",
      "source": [
        "Convert is a base function (`Base.convert`) and can convert a variable from one datatype to another datatype."
      ],
      "metadata": {
        "nteract": {
          "transient": {
            "deleting": false
          }
        }
      }
    },
    {
      "cell_type": "code",
      "source": [
        "a = 1\n",
        "b = 1/3\n",
        "a = convert(Float32, a)\n",
        "a\n",
        "b = convert(Float64, b)\n",
        "b\n",
        "convert(Rational{Int32}, b)"
      ],
      "outputs": [
        {
          "output_type": "execute_result",
          "execution_count": 51,
          "data": {
            "text/plain": "1//3"
          },
          "metadata": {}
        }
      ],
      "execution_count": 51,
      "metadata": {
        "execution": {
          "iopub.status.busy": "2021-03-26T01:14:00.792Z",
          "iopub.execute_input": "2021-03-26T01:14:00.804Z",
          "iopub.status.idle": "2021-03-26T01:14:01.058Z"
        }
      }
    },
    {
      "cell_type": "markdown",
      "source": [
        "#### 1.2 \n",
        "Assign `365` to a variable named `days`. Convert `days` to a float and assign it to variable `days_float`"
      ],
      "metadata": {}
    },
    {
      "cell_type": "code",
      "source": [
        "days = 365\n",
        "days_float = convert(Float32, days)"
      ],
      "outputs": [
        {
          "output_type": "execute_result",
          "execution_count": 54,
          "data": {
            "text/plain": "365.0f0"
          },
          "metadata": {}
        }
      ],
      "execution_count": 54,
      "metadata": {
        "execution": {
          "iopub.status.busy": "2021-03-26T01:15:00.788Z",
          "iopub.execute_input": "2021-03-26T01:15:00.797Z",
          "iopub.status.idle": "2021-03-26T01:15:00.821Z"
        }
      }
    },
    {
      "cell_type": "code",
      "source": [
        "@assert days == 365\n",
        "@assert days_float == 365.0\n"
      ],
      "outputs": [],
      "execution_count": 57,
      "metadata": {
        "deletable": false,
        "editable": false,
        "hide_input": true,
        "nbgrader": {
          "checksum": "a2dc243275e0310c3b29a745b952f321",
          "grade": true,
          "grade_id": "cell-715f78016beb0489",
          "locked": true,
          "points": 1,
          "schema_version": 1,
          "solution": false
        },
        "execution": {
          "iopub.status.busy": "2021-03-26T01:23:32.840Z",
          "iopub.execute_input": "2021-03-26T01:23:32.851Z",
          "iopub.status.idle": "2021-03-26T01:23:32.867Z"
        }
      }
    },
    {
      "cell_type": "markdown",
      "source": [
        "#### 1.3 \n",
        "See what happens when you execute\n",
        "\n",
        "```julia\n",
        "convert(Int64, \"1\")\n",
        "```\n",
        "and\n",
        "\n",
        "```julia\n",
        "parse(Int64, \"1\")\n",
        "```"
      ],
      "metadata": {}
    },
    {
      "cell_type": "markdown",
      "source": [
        "Strings cannot be converted to an integer."
      ],
      "metadata": {
        "nteract": {
          "transient": {
            "deleting": false
          }
        }
      }
    },
    {
      "cell_type": "code",
      "source": [
        "convert(Int64, \"1\")"
      ],
      "outputs": [
        {
          "output_type": "error",
          "ename": "LoadError",
          "evalue": "MethodError: \u001b[0mCannot `convert` an object of type \u001b[92mString\u001b[39m\u001b[0m to an object of type \u001b[91mInt64\u001b[39m\n\u001b[0mClosest candidates are:\n\u001b[0m  convert(::Type{T}, \u001b[91m::T\u001b[39m) where T<:Number at number.jl:6\n\u001b[0m  convert(::Type{T}, \u001b[91m::Number\u001b[39m) where T<:Number at number.jl:7\n\u001b[0m  convert(::Type{T}, \u001b[91m::Base.TwicePrecision\u001b[39m) where T<:Number at twiceprecision.jl:250\n\u001b[0m  ...",
          "traceback": [
            "MethodError: \u001b[0mCannot `convert` an object of type \u001b[92mString\u001b[39m\u001b[0m to an object of type \u001b[91mInt64\u001b[39m\n\u001b[0mClosest candidates are:\n\u001b[0m  convert(::Type{T}, \u001b[91m::T\u001b[39m) where T<:Number at number.jl:6\n\u001b[0m  convert(::Type{T}, \u001b[91m::Number\u001b[39m) where T<:Number at number.jl:7\n\u001b[0m  convert(::Type{T}, \u001b[91m::Base.TwicePrecision\u001b[39m) where T<:Number at twiceprecision.jl:250\n\u001b[0m  ...",
            "",
            "Stacktrace:",
            " [1] top-level scope",
            "   @ In[58]:1",
            " [2] eval",
            "   @ ./boot.jl:360 [inlined]",
            " [3] include_string(mapexpr::typeof(REPL.softscope), mod::Module, code::String, filename::String)",
            "   @ Base ./loading.jl:1094"
          ]
        }
      ],
      "execution_count": 58,
      "metadata": {
        "execution": {
          "iopub.status.busy": "2021-03-26T01:23:59.999Z",
          "iopub.execute_input": "2021-03-26T01:24:00.009Z"
        }
      }
    },
    {
      "cell_type": "code",
      "source": [
        "Please click on `Validate` on the top, once you are done with the exercises."
      ],
      "outputs": [
        {
          "output_type": "error",
          "ename": "LoadError",
          "evalue": "syntax: extra token \"click\" after end of expression",
          "traceback": [
            "syntax: extra token \"click\" after end of expression",
            "",
            "Stacktrace:",
            " [1] top-level scope",
            "   @ In[60]:1",
            " [2] eval",
            "   @ ./boot.jl:360 [inlined]",
            " [3] include_string(mapexpr::typeof(REPL.softscope), mod::Module, code::String, filename::String)",
            "   @ Base ./loading.jl:1094"
          ]
        }
      ],
      "execution_count": 60,
      "metadata": {
        "execution": {
          "iopub.status.busy": "2021-03-26T01:25:04.264Z",
          "iopub.execute_input": "2021-03-26T01:25:04.276Z"
        }
      }
    }
  ],
  "metadata": {
    "kernelspec": {
      "display_name": "Julia 1.0.0",
      "language": "julia",
      "name": "julia-1.0"
    },
    "language_info": {
      "file_extension": ".jl",
      "name": "julia",
      "mimetype": "application/julia",
      "version": "1.6.0"
    },
    "nteract": {
      "version": "0.28.0"
    }
  },
  "nbformat": 4,
  "nbformat_minor": 2
}