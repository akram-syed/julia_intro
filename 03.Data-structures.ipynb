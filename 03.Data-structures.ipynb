{
  "cells": [
    {
      "cell_type": "markdown",
      "source": [
        "# Data structures\n",
        "\n",
        "Once we start working with many pieces of data at once, it will be convenient for us to store data in structures like arrays or dictionaries (rather than just relying on variables).<br>\n",
        "\n",
        "Types of data structures covered:\n",
        "\n",
        "1. Tuples\n",
        "2. Dictionaries\n",
        "3. Arrays\n",
        "\n",
        "As an overview, tuples and arrays are both ordered sequences of elements (so we can index into them). Dictionaries and arrays are both mutable.\n",
        "We'll explain this more below!"
      ],
      "metadata": {}
    },
    {
      "cell_type": "markdown",
      "source": [
        "## Tuples\n",
        "\n",
        "We can create a tuple by enclosing an ordered collection of elements in `( )`.\n",
        "\n",
        "Syntax: <br>\n",
        "```julia\n",
        "(item1, item2, ...)```"
      ],
      "metadata": {}
    },
    {
      "cell_type": "code",
      "source": [
        "myfavoriteanimals = (\"penguins\", \"cats\", \"sugargliders\")"
      ],
      "outputs": [
        {
          "output_type": "execute_result",
          "execution_count": 1,
          "data": {
            "text/plain": "(\"penguins\", \"cats\", \"sugargliders\")"
          },
          "metadata": {}
        }
      ],
      "execution_count": 1,
      "metadata": {
        "execution": {
          "iopub.status.busy": "2021-03-26T03:01:23.198Z",
          "iopub.execute_input": "2021-03-26T03:01:23.753Z",
          "iopub.status.idle": "2021-03-26T03:01:24.562Z"
        }
      }
    },
    {
      "cell_type": "markdown",
      "source": [
        "We can index into this tuple,"
      ],
      "metadata": {}
    },
    {
      "cell_type": "code",
      "source": [
        "myfavoriteanimals[1]"
      ],
      "outputs": [
        {
          "output_type": "execute_result",
          "execution_count": 2,
          "data": {
            "text/plain": "\"penguins\""
          },
          "metadata": {}
        }
      ],
      "execution_count": 2,
      "metadata": {
        "execution": {
          "iopub.status.busy": "2021-03-26T03:01:28.532Z",
          "iopub.execute_input": "2021-03-26T03:01:28.549Z",
          "iopub.status.idle": "2021-03-26T03:01:28.796Z"
        }
      }
    },
    {
      "cell_type": "markdown",
      "source": [
        "but since tuples are immutable, we can't update it"
      ],
      "metadata": {}
    },
    {
      "cell_type": "code",
      "source": [
        "myfavoriteanimals[1] = \"otters\""
      ],
      "outputs": [
        {
          "output_type": "error",
          "ename": "LoadError",
          "evalue": "MethodError: no method matching setindex!(::Tuple{String, String, String}, ::String, ::Int64)",
          "traceback": [
            "MethodError: no method matching setindex!(::Tuple{String, String, String}, ::String, ::Int64)",
            "",
            "Stacktrace:",
            " [1] top-level scope",
            "   @ In[6]:1",
            " [2] eval",
            "   @ ./boot.jl:360 [inlined]",
            " [3] include_string(mapexpr::typeof(REPL.softscope), mod::Module, code::String, filename::String)",
            "   @ Base ./loading.jl:1094"
          ]
        }
      ],
      "execution_count": 6,
      "metadata": {
        "execution": {
          "iopub.status.busy": "2021-03-26T03:02:26.401Z",
          "iopub.execute_input": "2021-03-26T03:02:26.420Z"
        }
      }
    },
    {
      "cell_type": "markdown",
      "source": [
        "## Now in 1.0: NamedTuples\n",
        "\n",
        "As you might guess, `NamedTuple`s are just like `Tuple`s except that each element additionally has a name! They have a special syntax using `=` inside a tuple:\n",
        "\n",
        "```julia\n",
        "(name1 = item1, name2 = item2, ...)\n",
        "```"
      ],
      "metadata": {}
    },
    {
      "cell_type": "code",
      "source": [
        "myfavoriteanimals = (bird = \"penguins\", mammal = \"cats\", marsupial = \"sugargliders\")"
      ],
      "outputs": [
        {
          "output_type": "execute_result",
          "execution_count": 7,
          "data": {
            "text/plain": "(bird = \"penguins\", mammal = \"cats\", marsupial = \"sugargliders\")"
          },
          "metadata": {}
        }
      ],
      "execution_count": 7,
      "metadata": {
        "execution": {
          "iopub.status.busy": "2021-03-26T03:03:14.737Z",
          "iopub.execute_input": "2021-03-26T03:03:14.754Z",
          "iopub.status.idle": "2021-03-26T03:03:14.966Z"
        }
      }
    },
    {
      "cell_type": "markdown",
      "source": [
        "Like regular `Tuples`, `NamedTuples` are ordered, so we can retrieve their elements via indexing:"
      ],
      "metadata": {}
    },
    {
      "cell_type": "code",
      "source": [
        "myfavoriteanimals[1]"
      ],
      "outputs": [
        {
          "output_type": "execute_result",
          "execution_count": 8,
          "data": {
            "text/plain": "\"penguins\""
          },
          "metadata": {}
        }
      ],
      "execution_count": 8,
      "metadata": {
        "execution": {
          "iopub.status.busy": "2021-03-26T03:03:20.346Z",
          "iopub.execute_input": "2021-03-26T03:03:20.363Z",
          "iopub.status.idle": "2021-03-26T03:03:20.397Z"
        }
      }
    },
    {
      "cell_type": "markdown",
      "source": [
        "They also add the special ability to access values by their name:"
      ],
      "metadata": {}
    },
    {
      "cell_type": "code",
      "source": [
        "myfavoriteanimals.bird"
      ],
      "outputs": [
        {
          "output_type": "execute_result",
          "execution_count": 9,
          "data": {
            "text/plain": "\"penguins\""
          },
          "metadata": {}
        }
      ],
      "execution_count": 9,
      "metadata": {
        "execution": {
          "iopub.status.busy": "2021-03-26T03:03:24.943Z",
          "iopub.execute_input": "2021-03-26T03:03:24.960Z",
          "iopub.status.idle": "2021-03-26T03:03:24.996Z"
        }
      }
    },
    {
      "cell_type": "markdown",
      "source": [
        "## Dictionaries\n",
        "\n",
        "If we have sets of data related to one another, we may choose to store that data in a dictionary. We can create a dictionary using the `Dict()` function, which we can initialize as an empty dictionary or one storing key, value pairs.\n",
        "\n",
        "Syntax:\n",
        "```julia\n",
        "Dict(key1 => value1, key2 => value2, ...)```\n",
        "\n",
        "A good example is a contacts list, where we associate names with phone numbers."
      ],
      "metadata": {}
    },
    {
      "cell_type": "code",
      "source": [
        "myphonebook = Dict(\"Jenny\" => \"867-5309\", \"Ghostbusters\" => \"555-2368\")"
      ],
      "outputs": [
        {
          "output_type": "execute_result",
          "execution_count": 10,
          "data": {
            "text/plain": "Dict{String, String} with 2 entries:\n  \"Jenny\"        => \"867-5309\"\n  \"Ghostbusters\" => \"555-2368\""
          },
          "metadata": {}
        }
      ],
      "execution_count": 10,
      "metadata": {
        "execution": {
          "iopub.status.busy": "2021-03-26T03:05:19.937Z",
          "iopub.execute_input": "2021-03-26T03:05:19.953Z",
          "iopub.status.idle": "2021-03-26T03:05:20.496Z"
        }
      }
    },
    {
      "cell_type": "markdown",
      "source": [
        "In this example, each name and number is a \"key\" and \"value\" pair. We can grab Jenny's number (a value) using the associated key"
      ],
      "metadata": {}
    },
    {
      "cell_type": "code",
      "source": [
        "myphonebook[\"Jenny\"]"
      ],
      "outputs": [
        {
          "output_type": "execute_result",
          "execution_count": 11,
          "data": {
            "text/plain": "\"867-5309\""
          },
          "metadata": {}
        }
      ],
      "execution_count": 11,
      "metadata": {
        "execution": {
          "iopub.status.busy": "2021-03-26T03:05:31.259Z",
          "iopub.execute_input": "2021-03-26T03:05:31.274Z",
          "iopub.status.idle": "2021-03-26T03:05:31.306Z"
        }
      }
    },
    {
      "cell_type": "markdown",
      "source": [
        "We can add another entry to this dictionary as follows"
      ],
      "metadata": {}
    },
    {
      "cell_type": "code",
      "source": [
        "myphonebook[\"Kramer\"] = \"555-FILK\""
      ],
      "outputs": [
        {
          "output_type": "execute_result",
          "execution_count": 12,
          "data": {
            "text/plain": "\"555-FILK\""
          },
          "metadata": {}
        }
      ],
      "execution_count": 12,
      "metadata": {
        "execution": {
          "iopub.status.busy": "2021-03-26T03:05:40.632Z",
          "iopub.execute_input": "2021-03-26T03:05:40.655Z",
          "iopub.status.idle": "2021-03-26T03:05:40.696Z"
        }
      }
    },
    {
      "cell_type": "markdown",
      "source": [
        "Let's check what our phonebook looks like now..."
      ],
      "metadata": {}
    },
    {
      "cell_type": "code",
      "source": [
        "myphonebook"
      ],
      "outputs": [
        {
          "output_type": "execute_result",
          "execution_count": 13,
          "data": {
            "text/plain": "Dict{String, String} with 3 entries:\n  \"Jenny\"        => \"867-5309\"\n  \"Kramer\"       => \"555-FILK\"\n  \"Ghostbusters\" => \"555-2368\""
          },
          "metadata": {}
        }
      ],
      "execution_count": 13,
      "metadata": {
        "execution": {
          "iopub.status.busy": "2021-03-26T03:05:45.565Z",
          "iopub.execute_input": "2021-03-26T03:05:45.585Z",
          "iopub.status.idle": "2021-03-26T03:05:45.621Z"
        }
      }
    },
    {
      "cell_type": "markdown",
      "source": [
        "We can delete Kramer from our contact list - and simultaneously grab his number - by using `pop!`"
      ],
      "metadata": {}
    },
    {
      "cell_type": "code",
      "source": [
        "pop!(myphonebook, \"Kramer\")"
      ],
      "outputs": [
        {
          "output_type": "execute_result",
          "execution_count": 14,
          "data": {
            "text/plain": "\"555-FILK\""
          },
          "metadata": {}
        }
      ],
      "execution_count": 14,
      "metadata": {
        "execution": {
          "iopub.status.busy": "2021-03-26T03:06:09.130Z",
          "iopub.execute_input": "2021-03-26T03:06:09.146Z",
          "iopub.status.idle": "2021-03-26T03:06:09.181Z"
        }
      }
    },
    {
      "cell_type": "code",
      "source": [
        "myphonebook"
      ],
      "outputs": [
        {
          "output_type": "execute_result",
          "execution_count": 15,
          "data": {
            "text/plain": "Dict{String, String} with 2 entries:\n  \"Jenny\"        => \"867-5309\"\n  \"Ghostbusters\" => \"555-2368\""
          },
          "metadata": {}
        }
      ],
      "execution_count": 15,
      "metadata": {
        "execution": {
          "iopub.status.busy": "2021-03-26T03:06:12.551Z",
          "iopub.execute_input": "2021-03-26T03:06:12.570Z",
          "iopub.status.idle": "2021-03-26T03:06:12.609Z"
        }
      }
    },
    {
      "cell_type": "markdown",
      "source": [
        "Unlike tuples and arrays, dictionaries are not ordered. So, we can't index into them."
      ],
      "metadata": {}
    },
    {
      "cell_type": "code",
      "source": [
        "myphonebook[1]"
      ],
      "outputs": [
        {
          "output_type": "error",
          "ename": "LoadError",
          "evalue": "KeyError: key 1 not found",
          "traceback": [
            "KeyError: key 1 not found",
            "",
            "Stacktrace:",
            " [1] getindex(h::Dict{String, String}, key::Int64)",
            "   @ Base ./dict.jl:482",
            " [2] top-level scope",
            "   @ In[16]:1",
            " [3] eval",
            "   @ ./boot.jl:360 [inlined]",
            " [4] include_string(mapexpr::typeof(REPL.softscope), mod::Module, code::String, filename::String)",
            "   @ Base ./loading.jl:1094"
          ]
        }
      ],
      "execution_count": 16,
      "metadata": {
        "execution": {
          "iopub.status.busy": "2021-03-26T03:06:22.658Z",
          "iopub.execute_input": "2021-03-26T03:06:22.676Z"
        }
      }
    },
    {
      "cell_type": "markdown",
      "source": [
        "In the example above, `julia` thinks you're trying to access a value associated with the key `1`."
      ],
      "metadata": {}
    },
    {
      "cell_type": "markdown",
      "source": [
        "## Arrays\n",
        "\n",
        "Unlike tuples, arrays are mutable. Unlike dictionaries, arrays contain ordered collections. <br>\n",
        "We can create an array by enclosing this collection in `[ ]`.\n",
        "\n",
        "Syntax: <br>\n",
        "```julia\n",
        "[item1, item2, ...]```\n",
        "\n",
        "\n",
        "For example, we might create an array to keep track of my friends"
      ],
      "metadata": {}
    },
    {
      "cell_type": "code",
      "source": [
        "myfriends = [\"Ted\", \"Robyn\", \"Barney\", \"Lily\", \"Marshall\"]"
      ],
      "outputs": [
        {
          "output_type": "execute_result",
          "execution_count": 17,
          "data": {
            "text/plain": "5-element Vector{String}:\n \"Ted\"\n \"Robyn\"\n \"Barney\"\n \"Lily\"\n \"Marshall\""
          },
          "metadata": {}
        }
      ],
      "execution_count": 17,
      "metadata": {
        "execution": {
          "iopub.status.busy": "2021-03-26T03:06:49.097Z",
          "iopub.execute_input": "2021-03-26T03:06:49.121Z",
          "iopub.status.idle": "2021-03-26T03:06:49.870Z"
        }
      }
    },
    {
      "cell_type": "markdown",
      "source": [
        "The `1` in `Array{String,1}` means this is a one dimensional vector.  An `Array{String,2}` would be a 2d matrix, etc.  The `String` is the type of each element."
      ],
      "metadata": {}
    },
    {
      "cell_type": "markdown",
      "source": [
        "or to store a sequence of numbers"
      ],
      "metadata": {}
    },
    {
      "cell_type": "code",
      "source": [
        "fibonacci = [1, 1, 2, 3, 5, 8, 13]"
      ],
      "outputs": [
        {
          "output_type": "execute_result",
          "execution_count": 18,
          "data": {
            "text/plain": "7-element Vector{Int64}:\n  1\n  1\n  2\n  3\n  5\n  8\n 13"
          },
          "metadata": {}
        }
      ],
      "execution_count": 18,
      "metadata": {
        "execution": {
          "iopub.status.busy": "2021-03-26T03:09:01.091Z",
          "iopub.execute_input": "2021-03-26T03:09:01.113Z",
          "iopub.status.idle": "2021-03-26T03:09:01.568Z"
        }
      }
    },
    {
      "cell_type": "code",
      "source": [
        "mixture = [1, 1, 2, 3, \"Ted\", \"Robyn\"]"
      ],
      "outputs": [
        {
          "output_type": "execute_result",
          "execution_count": 19,
          "data": {
            "text/plain": "6-element Vector{Any}:\n 1\n 1\n 2\n 3\n  \"Ted\"\n  \"Robyn\""
          },
          "metadata": {}
        }
      ],
      "execution_count": 19,
      "metadata": {
        "execution": {
          "iopub.status.busy": "2021-03-26T03:09:05.326Z",
          "iopub.execute_input": "2021-03-26T03:09:05.353Z",
          "iopub.status.idle": "2021-03-26T03:09:06.160Z"
        }
      }
    },
    {
      "cell_type": "markdown",
      "source": [
        "Once we have an array, we can grab individual pieces of data from inside that array by indexing into the array. For example, if we want the third friend listed in `myfriends`, we write"
      ],
      "metadata": {}
    },
    {
      "cell_type": "code",
      "source": [
        "myfriends[3]"
      ],
      "outputs": [
        {
          "output_type": "execute_result",
          "execution_count": 20,
          "data": {
            "text/plain": "\"Barney\""
          },
          "metadata": {}
        }
      ],
      "execution_count": 20,
      "metadata": {
        "execution": {
          "iopub.status.busy": "2021-03-26T03:09:28.486Z",
          "iopub.execute_input": "2021-03-26T03:09:28.510Z",
          "iopub.status.idle": "2021-03-26T03:09:28.548Z"
        }
      }
    },
    {
      "cell_type": "markdown",
      "source": [
        "We can use indexing to edit an existing element of an array"
      ],
      "metadata": {}
    },
    {
      "cell_type": "code",
      "source": [
        "myfriends[3] = \"Baby Bop\""
      ],
      "outputs": [
        {
          "output_type": "execute_result",
          "execution_count": 21,
          "data": {
            "text/plain": "\"Baby Bop\""
          },
          "metadata": {}
        }
      ],
      "execution_count": 21,
      "metadata": {
        "execution": {
          "iopub.status.busy": "2021-03-26T03:09:45.850Z",
          "iopub.execute_input": "2021-03-26T03:09:45.867Z",
          "iopub.status.idle": "2021-03-26T03:09:45.920Z"
        }
      }
    },
    {
      "cell_type": "markdown",
      "source": [
        "Yes, Julia is 1-based indexing, not 0-based like Python.  Wars are faught over lesser issues. I have a friend with the wisdom of Solomon who proposes settling this once and for all with ½ 😃"
      ],
      "metadata": {}
    },
    {
      "cell_type": "markdown",
      "source": [
        "We can also edit the array by using the `push!` and `pop!` functions. `push!` adds an element to the end of an array and `pop!` removes the last element of an array.\n",
        "\n",
        "We can add another number to our fibonnaci sequence"
      ],
      "metadata": {}
    },
    {
      "cell_type": "code",
      "source": [
        "push!(fibonacci, 21)"
      ],
      "outputs": [
        {
          "output_type": "execute_result",
          "execution_count": 22,
          "data": {
            "text/plain": "8-element Vector{Int64}:\n  1\n  1\n  2\n  3\n  5\n  8\n 13\n 21"
          },
          "metadata": {}
        }
      ],
      "execution_count": 22,
      "metadata": {
        "execution": {
          "iopub.status.busy": "2021-03-26T03:10:27.426Z",
          "iopub.execute_input": "2021-03-26T03:10:27.441Z",
          "iopub.status.idle": "2021-03-26T03:10:27.474Z"
        }
      }
    },
    {
      "cell_type": "markdown",
      "source": [
        "and then remove it"
      ],
      "metadata": {}
    },
    {
      "cell_type": "code",
      "source": [
        "pop!(fibonacci)"
      ],
      "outputs": [
        {
          "output_type": "execute_result",
          "execution_count": 23,
          "data": {
            "text/plain": "21"
          },
          "metadata": {}
        }
      ],
      "execution_count": 23,
      "metadata": {
        "execution": {
          "iopub.status.busy": "2021-03-26T03:10:34.358Z",
          "iopub.execute_input": "2021-03-26T03:10:34.378Z",
          "iopub.status.idle": "2021-03-26T03:10:34.534Z"
        }
      }
    },
    {
      "cell_type": "code",
      "source": [
        "fibonacci"
      ],
      "outputs": [
        {
          "output_type": "execute_result",
          "execution_count": 24,
          "data": {
            "text/plain": "7-element Vector{Int64}:\n  1\n  1\n  2\n  3\n  5\n  8\n 13"
          },
          "metadata": {}
        }
      ],
      "execution_count": 24,
      "metadata": {
        "execution": {
          "iopub.status.busy": "2021-03-26T03:10:37.021Z",
          "iopub.execute_input": "2021-03-26T03:10:37.040Z",
          "iopub.status.idle": "2021-03-26T03:10:37.081Z"
        }
      }
    },
    {
      "cell_type": "markdown",
      "source": [
        "So far I've given examples of only 1D arrays of scalars, but arrays can have an arbitrary number of dimensions and can also store other arrays.\n",
        "<br><br>\n",
        "For example, the following are arrays of arrays:"
      ],
      "metadata": {}
    },
    {
      "cell_type": "code",
      "source": [
        "favorites = [[\"koobideh\", \"chocolate\", \"eggs\"],[\"penguins\", \"cats\", \"sugargliders\"]]"
      ],
      "outputs": [
        {
          "output_type": "execute_result",
          "execution_count": 25,
          "data": {
            "text/plain": "2-element Vector{Vector{String}}:\n [\"koobideh\", \"chocolate\", \"eggs\"]\n [\"penguins\", \"cats\", \"sugargliders\"]"
          },
          "metadata": {}
        }
      ],
      "execution_count": 25,
      "metadata": {
        "execution": {
          "iopub.status.busy": "2021-03-26T03:11:03.320Z",
          "iopub.execute_input": "2021-03-26T03:11:03.340Z",
          "iopub.status.idle": "2021-03-26T03:11:03.876Z"
        }
      }
    },
    {
      "cell_type": "code",
      "source": [
        "numbers = [[1, 2, 3], [4, 5], [6, 7, 8, 9]]"
      ],
      "outputs": [
        {
          "output_type": "execute_result",
          "execution_count": 26,
          "data": {
            "text/plain": "3-element Vector{Vector{Int64}}:\n [1, 2, 3]\n [4, 5]\n [6, 7, 8, 9]"
          },
          "metadata": {}
        }
      ],
      "execution_count": 26,
      "metadata": {
        "execution": {
          "iopub.status.busy": "2021-03-26T03:11:07.541Z",
          "iopub.execute_input": "2021-03-26T03:11:07.559Z",
          "iopub.status.idle": "2021-03-26T03:11:08.078Z"
        }
      }
    },
    {
      "cell_type": "markdown",
      "source": [
        "Below are examples of 2D and 3D arrays populated with random values."
      ],
      "metadata": {}
    },
    {
      "cell_type": "code",
      "source": [
        "rand(4, 3)"
      ],
      "outputs": [
        {
          "output_type": "execute_result",
          "execution_count": 27,
          "data": {
            "text/plain": "4×3 Matrix{Float64}:\n 0.624892  0.572011  0.564913\n 0.981253  0.606677  0.0789278\n 0.823569  0.130164  0.0349755\n 0.748956  0.382296  0.748929"
          },
          "metadata": {}
        }
      ],
      "execution_count": 27,
      "metadata": {
        "execution": {
          "iopub.status.busy": "2021-03-26T03:11:42.501Z",
          "iopub.execute_input": "2021-03-26T03:11:42.516Z",
          "iopub.status.idle": "2021-03-26T03:11:43.079Z"
        }
      }
    },
    {
      "cell_type": "code",
      "source": [
        "rand(4, 3, 2)"
      ],
      "outputs": [
        {
          "output_type": "execute_result",
          "execution_count": 28,
          "data": {
            "text/plain": "4×3×2 Array{Float64, 3}:\n[:, :, 1] =\n 0.291379  0.607077  0.336615\n 0.913375  0.962527  0.514136\n 0.511484  0.587321  0.632777\n 0.23171   0.444171  0.491007\n\n[:, :, 2] =\n 0.234435   0.423629   0.639423\n 0.0423686  0.813428   0.0529089\n 0.327455   0.276709   0.927325\n 0.828188   0.0105523  0.627783"
          },
          "metadata": {}
        }
      ],
      "execution_count": 28,
      "metadata": {
        "execution": {
          "iopub.status.busy": "2021-03-26T03:11:47.793Z",
          "iopub.execute_input": "2021-03-26T03:11:47.816Z",
          "iopub.status.idle": "2021-03-26T03:11:48.499Z"
        }
      }
    },
    {
      "cell_type": "markdown",
      "source": [
        "Be careful when you want to copy arrays!"
      ],
      "metadata": {}
    },
    {
      "cell_type": "code",
      "source": [
        "fibonacci"
      ],
      "outputs": [
        {
          "output_type": "execute_result",
          "execution_count": 29,
          "data": {
            "text/plain": "7-element Vector{Int64}:\n  1\n  1\n  2\n  3\n  5\n  8\n 13"
          },
          "metadata": {}
        }
      ],
      "execution_count": 29,
      "metadata": {
        "execution": {
          "iopub.status.busy": "2021-03-26T03:12:11.923Z",
          "iopub.execute_input": "2021-03-26T03:12:11.941Z",
          "iopub.status.idle": "2021-03-26T03:12:11.978Z"
        }
      }
    },
    {
      "cell_type": "code",
      "source": [
        "somenumbers = fibonacci"
      ],
      "outputs": [
        {
          "output_type": "execute_result",
          "execution_count": 30,
          "data": {
            "text/plain": "7-element Vector{Int64}:\n  1\n  1\n  2\n  3\n  5\n  8\n 13"
          },
          "metadata": {}
        }
      ],
      "execution_count": 30,
      "metadata": {
        "execution": {
          "iopub.status.busy": "2021-03-26T03:12:15.983Z",
          "iopub.execute_input": "2021-03-26T03:12:16.004Z",
          "iopub.status.idle": "2021-03-26T03:12:16.042Z"
        }
      }
    },
    {
      "cell_type": "code",
      "source": [
        "somenumbers[1] = 404"
      ],
      "outputs": [
        {
          "output_type": "execute_result",
          "execution_count": 31,
          "data": {
            "text/plain": "404"
          },
          "metadata": {}
        }
      ],
      "execution_count": 31,
      "metadata": {
        "execution": {
          "iopub.status.busy": "2021-03-26T03:12:21.807Z",
          "iopub.execute_input": "2021-03-26T03:12:21.823Z",
          "iopub.status.idle": "2021-03-26T03:12:21.856Z"
        }
      }
    },
    {
      "cell_type": "code",
      "source": [
        "fibonacci"
      ],
      "outputs": [
        {
          "output_type": "execute_result",
          "execution_count": 32,
          "data": {
            "text/plain": "7-element Vector{Int64}:\n 404\n   1\n   2\n   3\n   5\n   8\n  13"
          },
          "metadata": {}
        }
      ],
      "execution_count": 32,
      "metadata": {
        "execution": {
          "iopub.status.busy": "2021-03-26T03:12:24.260Z",
          "iopub.execute_input": "2021-03-26T03:12:24.282Z",
          "iopub.status.idle": "2021-03-26T03:12:24.322Z"
        }
      }
    },
    {
      "cell_type": "markdown",
      "source": [
        "Editing `somenumbers` caused `fibonacci` to get updated as well!\n",
        "\n",
        "In the above example, we didn't actually make a copy of `fibonacci`. We just created a new way to access the entries in the array bound to `fibonacci`.\n",
        "\n",
        "If we'd like to make a copy of the array bound to `fibonacci`, we can use the `copy` function."
      ],
      "metadata": {}
    },
    {
      "cell_type": "code",
      "source": [
        "# First, restore fibonacci\n",
        "fibonacci[1] = 1\n",
        "fibonacci"
      ],
      "outputs": [
        {
          "output_type": "execute_result",
          "execution_count": 33,
          "data": {
            "text/plain": "7-element Vector{Int64}:\n  1\n  1\n  2\n  3\n  5\n  8\n 13"
          },
          "metadata": {}
        }
      ],
      "execution_count": 33,
      "metadata": {
        "execution": {
          "iopub.status.busy": "2021-03-26T03:12:38.673Z",
          "iopub.execute_input": "2021-03-26T03:12:38.688Z",
          "iopub.status.idle": "2021-03-26T03:12:38.721Z"
        }
      }
    },
    {
      "cell_type": "code",
      "source": [
        "somemorenumbers = copy(fibonacci)"
      ],
      "outputs": [
        {
          "output_type": "execute_result",
          "execution_count": 34,
          "data": {
            "text/plain": "7-element Vector{Int64}:\n  1\n  1\n  2\n  3\n  5\n  8\n 13"
          },
          "metadata": {}
        }
      ],
      "execution_count": 34,
      "metadata": {
        "execution": {
          "iopub.status.busy": "2021-03-26T03:12:42.649Z",
          "iopub.execute_input": "2021-03-26T03:12:42.671Z",
          "iopub.status.idle": "2021-03-26T03:12:42.708Z"
        }
      }
    },
    {
      "cell_type": "code",
      "source": [
        "somemorenumbers[1] = 404"
      ],
      "outputs": [
        {
          "output_type": "execute_result",
          "execution_count": 35,
          "data": {
            "text/plain": "404"
          },
          "metadata": {}
        }
      ],
      "execution_count": 35,
      "metadata": {
        "execution": {
          "iopub.status.busy": "2021-03-26T03:12:46.904Z",
          "iopub.execute_input": "2021-03-26T03:12:46.925Z",
          "iopub.status.idle": "2021-03-26T03:12:46.963Z"
        }
      }
    },
    {
      "cell_type": "code",
      "source": [
        "fibonacci"
      ],
      "outputs": [
        {
          "output_type": "execute_result",
          "execution_count": 36,
          "data": {
            "text/plain": "7-element Vector{Int64}:\n  1\n  1\n  2\n  3\n  5\n  8\n 13"
          },
          "metadata": {}
        }
      ],
      "execution_count": 36,
      "metadata": {
        "execution": {
          "iopub.status.busy": "2021-03-26T03:12:49.141Z",
          "iopub.execute_input": "2021-03-26T03:12:49.162Z",
          "iopub.status.idle": "2021-03-26T03:12:49.202Z"
        }
      }
    },
    {
      "cell_type": "markdown",
      "source": [
        "In this last example, fibonacci was not updated. Therefore we see that the arrays bound to `somemorenumbers` and `fibonacci` are distinct."
      ],
      "metadata": {}
    },
    {
      "cell_type": "markdown",
      "source": [
        "### Exercises\n",
        "\n",
        "#### 3.1\n",
        "Create an array, `a_ray`, with the following code:\n",
        "\n",
        "```julia\n",
        "a_ray = [1, 2, 3]\n",
        "```\n",
        "\n",
        "Add the number `4` to the end of this array and then remove it."
      ],
      "metadata": {}
    },
    {
      "cell_type": "code",
      "source": [
        "a_ray = [1, 2, 3]\n",
        "push!(a_ray, 4)\n",
        "pop!(a_ray)"
      ],
      "outputs": [
        {
          "output_type": "execute_result",
          "execution_count": 39,
          "data": {
            "text/plain": "4"
          },
          "metadata": {}
        }
      ],
      "execution_count": 39,
      "metadata": {
        "collapsed": true,
        "jupyter": {
          "source_hidden": false,
          "outputs_hidden": false
        },
        "nteract": {
          "transient": {
            "deleting": false
          }
        },
        "execution": {
          "iopub.status.busy": "2021-03-26T03:14:43.526Z",
          "iopub.execute_input": "2021-03-26T03:14:43.539Z",
          "iopub.status.idle": "2021-03-26T03:14:43.569Z"
        }
      }
    },
    {
      "cell_type": "code",
      "source": [
        "@assert a_ray == [1, 2, 3]"
      ],
      "outputs": [],
      "execution_count": 41,
      "metadata": {
        "execution": {
          "iopub.status.busy": "2021-03-26T03:14:55.176Z",
          "iopub.execute_input": "2021-03-26T03:14:55.192Z",
          "iopub.status.idle": "2021-03-26T03:14:55.219Z"
        }
      }
    },
    {
      "cell_type": "markdown",
      "source": [
        "#### 3.2\n",
        "Try to add \"Emergency\" as key to `myphonebook` with the value `string(911)` with the following code\n",
        "```julia\n",
        "myphonebook[\"Emergency\"] = 911\n",
        "```\n",
        "\n",
        "Why doesn't this work?\n",
        "\n",
        "Becuase it's a vector of type Int64."
      ],
      "metadata": {}
    },
    {
      "cell_type": "code",
      "source": [
        "myphonebook[\"Emergency\"] = 911"
      ],
      "outputs": [
        {
          "output_type": "error",
          "ename": "LoadError",
          "evalue": "MethodError: \u001b[0mCannot `convert` an object of type \u001b[92mInt64\u001b[39m\u001b[0m to an object of type \u001b[91mString\u001b[39m\n\u001b[0mClosest candidates are:\n\u001b[0m  convert(::Type{String}, \u001b[91m::String\u001b[39m) at essentials.jl:210\n\u001b[0m  convert(::Type{T}, \u001b[91m::T\u001b[39m) where T<:AbstractString at strings/basic.jl:231\n\u001b[0m  convert(::Type{T}, \u001b[91m::AbstractString\u001b[39m) where T<:AbstractString at strings/basic.jl:232\n\u001b[0m  ...",
          "traceback": [
            "MethodError: \u001b[0mCannot `convert` an object of type \u001b[92mInt64\u001b[39m\u001b[0m to an object of type \u001b[91mString\u001b[39m\n\u001b[0mClosest candidates are:\n\u001b[0m  convert(::Type{String}, \u001b[91m::String\u001b[39m) at essentials.jl:210\n\u001b[0m  convert(::Type{T}, \u001b[91m::T\u001b[39m) where T<:AbstractString at strings/basic.jl:231\n\u001b[0m  convert(::Type{T}, \u001b[91m::AbstractString\u001b[39m) where T<:AbstractString at strings/basic.jl:232\n\u001b[0m  ...",
            "",
            "Stacktrace:",
            " [1] setindex!(h::Dict{String, String}, v0::Int64, key::String)",
            "   @ Base ./dict.jl:382",
            " [2] top-level scope",
            "   @ In[43]:1",
            " [3] eval",
            "   @ ./boot.jl:360 [inlined]",
            " [4] include_string(mapexpr::typeof(REPL.softscope), mod::Module, code::String, filename::String)",
            "   @ Base ./loading.jl:1094"
          ]
        }
      ],
      "execution_count": 43,
      "metadata": {
        "collapsed": true,
        "jupyter": {
          "source_hidden": false,
          "outputs_hidden": false
        },
        "nteract": {
          "transient": {
            "deleting": false
          }
        },
        "execution": {
          "iopub.status.busy": "2021-03-26T03:16:31.987Z",
          "iopub.execute_input": "2021-03-26T03:16:32.003Z",
          "iopub.status.idle": "2021-03-26T03:16:14.873Z"
        }
      }
    },
    {
      "cell_type": "markdown",
      "source": [
        "#### 3.3\n",
        "Create a new dictionary called `flexible_phonebook` that has Jenny's number stored as an integer and Ghostbusters' number stored as a string with the following code\n",
        "\n",
        "```julia\n",
        "flexible_phonebook = Dict(\"Jenny\" => 8675309, \"Ghostbusters\" => \"555-2368\")\n",
        "```"
      ],
      "metadata": {}
    },
    {
      "cell_type": "code",
      "source": [
        "flexible_phonebook = Dict(\"Jenny\" => 8675309, \"Ghostbusters\" => \"555-2368\")"
      ],
      "outputs": [
        {
          "output_type": "execute_result",
          "execution_count": 44,
          "data": {
            "text/plain": "Dict{String, Any} with 2 entries:\n  \"Jenny\"        => 8675309\n  \"Ghostbusters\" => \"555-2368\""
          },
          "metadata": {}
        }
      ],
      "execution_count": 44,
      "metadata": {
        "collapsed": true,
        "jupyter": {
          "source_hidden": false,
          "outputs_hidden": false
        },
        "nteract": {
          "transient": {
            "deleting": false
          }
        },
        "execution": {
          "iopub.status.busy": "2021-03-26T03:16:58.386Z",
          "iopub.execute_input": "2021-03-26T03:16:58.402Z",
          "iopub.status.idle": "2021-03-26T03:16:59.023Z"
        }
      }
    },
    {
      "cell_type": "code",
      "source": [
        "@assert flexible_phonebook == Dict(\"Jenny\" => 8675309, \"Ghostbusters\" => \"555-2368\")"
      ],
      "outputs": [],
      "execution_count": 45,
      "metadata": {
        "execution": {
          "iopub.status.busy": "2021-03-26T03:17:02.830Z",
          "iopub.execute_input": "2021-03-26T03:17:02.849Z",
          "iopub.status.idle": "2021-03-26T03:17:02.872Z"
        }
      }
    },
    {
      "cell_type": "markdown",
      "source": [
        "#### 3.4\n",
        "Add the key \"Emergency\" with the value `911` (an integer) to `flexible_phonebook`."
      ],
      "metadata": {}
    },
    {
      "cell_type": "code",
      "source": [
        "flexible_phonebook[\"Emergency\"] = 911"
      ],
      "outputs": [
        {
          "output_type": "execute_result",
          "execution_count": 46,
          "data": {
            "text/plain": "911"
          },
          "metadata": {}
        }
      ],
      "execution_count": 46,
      "metadata": {
        "collapsed": true,
        "jupyter": {
          "source_hidden": false,
          "outputs_hidden": false
        },
        "nteract": {
          "transient": {
            "deleting": false
          }
        },
        "execution": {
          "iopub.status.busy": "2021-03-26T03:17:48.523Z",
          "iopub.execute_input": "2021-03-26T03:17:48.537Z",
          "iopub.status.idle": "2021-03-26T03:17:48.569Z"
        }
      }
    },
    {
      "cell_type": "code",
      "source": [
        "@assert haskey(flexible_phonebook, \"Emergency\")"
      ],
      "outputs": [],
      "execution_count": 47,
      "metadata": {
        "execution": {
          "iopub.status.busy": "2021-03-26T03:17:51.416Z",
          "iopub.execute_input": "2021-03-26T03:17:51.438Z",
          "iopub.status.idle": "2021-03-26T03:17:51.466Z"
        }
      }
    },
    {
      "cell_type": "code",
      "source": [
        "@assert flexible_phonebook[\"Emergency\"] == 911"
      ],
      "outputs": [],
      "execution_count": 48,
      "metadata": {
        "execution": {
          "iopub.status.busy": "2021-03-26T03:17:57.722Z",
          "iopub.execute_input": "2021-03-26T03:17:57.740Z",
          "iopub.status.idle": "2021-03-26T03:17:57.769Z"
        }
      }
    },
    {
      "cell_type": "markdown",
      "source": [
        "#### 3.5\n",
        "Why can we add an integer as a value to `flexible_phonebook` but not `myphonebook`? How could we have initialized `myphonebook` so that it would accept integers as values?"
      ],
      "metadata": {}
    }
  ],
  "metadata": {
    "language_info": {
      "file_extension": ".jl",
      "name": "julia",
      "mimetype": "application/julia",
      "version": "1.6.0"
    },
    "kernelspec": {
      "name": "julia-1.0",
      "display_name": "Julia 1.0.3",
      "language": "julia"
    },
    "nteract": {
      "version": "0.28.0"
    }
  },
  "nbformat": 4,
  "nbformat_minor": 3
}