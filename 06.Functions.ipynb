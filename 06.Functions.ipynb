{
  "cells": [
    {
      "cell_type": "markdown",
      "source": [
        "# Functions\n",
        "\n",
        "Topics:\n",
        "\n",
        "1. How to declare a function\n",
        "2. Duck-typing in Julia\n",
        "3. Mutating vs. non-mutating functions\n",
        "4. Some higher order functions"
      ],
      "metadata": {}
    },
    {
      "cell_type": "markdown",
      "source": [
        "## How to declare a function\n",
        "Julia gives us a few different ways to write a function. The first requires the `function` and `end` keywords"
      ],
      "metadata": {}
    },
    {
      "cell_type": "code",
      "source": [
        "function sayhi(name)\n",
        "    println(\"Hi $name, it's great to see you!\")\n",
        "end"
      ],
      "outputs": [
        {
          "output_type": "execute_result",
          "execution_count": 6,
          "data": {
            "text/plain": "sayhi (generic function with 1 method)"
          },
          "metadata": {}
        }
      ],
      "execution_count": 6,
      "metadata": {
        "execution": {
          "iopub.status.busy": "2021-03-26T19:45:54.244Z",
          "iopub.execute_input": "2021-03-26T19:45:54.258Z",
          "iopub.status.idle": "2021-03-26T19:45:54.283Z"
        }
      }
    },
    {
      "cell_type": "code",
      "source": [
        "function f(x)\n",
        "    x^2\n",
        "end"
      ],
      "outputs": [
        {
          "output_type": "execute_result",
          "execution_count": 5,
          "data": {
            "text/plain": "f (generic function with 1 method)"
          },
          "metadata": {}
        }
      ],
      "execution_count": 5,
      "metadata": {
        "execution": {
          "iopub.status.busy": "2021-03-26T19:45:51.224Z",
          "iopub.execute_input": "2021-03-26T19:45:51.246Z",
          "iopub.status.idle": "2021-03-26T19:45:51.323Z"
        }
      }
    },
    {
      "cell_type": "markdown",
      "source": [
        "We can call either of these functions like this:"
      ],
      "metadata": {}
    },
    {
      "cell_type": "code",
      "source": [
        "sayhi(\"C-3PO\")"
      ],
      "outputs": [
        {
          "output_type": "stream",
          "name": "stdout",
          "text": [
            "Hi C-3PO, it's great to see you!\n"
          ]
        }
      ],
      "execution_count": 7,
      "metadata": {
        "execution": {
          "iopub.status.busy": "2021-03-26T19:46:00.770Z",
          "iopub.execute_input": "2021-03-26T19:46:00.791Z",
          "iopub.status.idle": "2021-03-26T19:46:00.829Z"
        }
      }
    },
    {
      "cell_type": "code",
      "source": [
        "f(42)"
      ],
      "outputs": [
        {
          "output_type": "execute_result",
          "execution_count": 8,
          "data": {
            "text/plain": "1764"
          },
          "metadata": {}
        }
      ],
      "execution_count": 8,
      "metadata": {
        "execution": {
          "iopub.status.busy": "2021-03-26T19:46:04.684Z",
          "iopub.execute_input": "2021-03-26T19:46:04.702Z",
          "iopub.status.idle": "2021-03-26T19:46:04.865Z"
        }
      }
    },
    {
      "cell_type": "markdown",
      "source": [
        "Alternatively, we could have declared either of these functions in a single line"
      ],
      "metadata": {}
    },
    {
      "cell_type": "code",
      "source": [
        "sayhi2(name) = println(\"Hi $name, it's great to see you!\")"
      ],
      "outputs": [
        {
          "output_type": "execute_result",
          "execution_count": 9,
          "data": {
            "text/plain": "sayhi2 (generic function with 1 method)"
          },
          "metadata": {}
        }
      ],
      "execution_count": 9,
      "metadata": {
        "execution": {
          "iopub.status.busy": "2021-03-26T19:46:16.848Z",
          "iopub.execute_input": "2021-03-26T19:46:16.868Z",
          "iopub.status.idle": "2021-03-26T19:46:16.918Z"
        }
      }
    },
    {
      "cell_type": "code",
      "source": [
        "f2(x) = x^2"
      ],
      "outputs": [
        {
          "output_type": "execute_result",
          "execution_count": 10,
          "data": {
            "text/plain": "f2 (generic function with 1 method)"
          },
          "metadata": {}
        }
      ],
      "execution_count": 10,
      "metadata": {
        "execution": {
          "iopub.status.busy": "2021-03-26T19:46:19.400Z",
          "iopub.execute_input": "2021-03-26T19:46:19.415Z",
          "iopub.status.idle": "2021-03-26T19:46:19.458Z"
        }
      }
    },
    {
      "cell_type": "code",
      "source": [
        "sayhi2(\"R2D2\")"
      ],
      "outputs": [
        {
          "output_type": "stream",
          "name": "stdout",
          "text": [
            "Hi R2D2, it's great to see you!\n"
          ]
        }
      ],
      "execution_count": 11,
      "metadata": {
        "execution": {
          "iopub.status.busy": "2021-03-26T19:46:24.017Z",
          "iopub.execute_input": "2021-03-26T19:46:24.031Z",
          "iopub.status.idle": "2021-03-26T19:46:24.056Z"
        }
      }
    },
    {
      "cell_type": "code",
      "source": [
        "f2(42)"
      ],
      "outputs": [
        {
          "output_type": "execute_result",
          "execution_count": 12,
          "data": {
            "text/plain": "1764"
          },
          "metadata": {}
        }
      ],
      "execution_count": 12,
      "metadata": {
        "execution": {
          "iopub.status.busy": "2021-03-26T19:46:25.453Z",
          "iopub.execute_input": "2021-03-26T19:46:25.464Z",
          "iopub.status.idle": "2021-03-26T19:46:25.491Z"
        }
      }
    },
    {
      "cell_type": "markdown",
      "source": [
        "Finally, we could have declared these as \"anonymous\" functions"
      ],
      "metadata": {}
    },
    {
      "cell_type": "markdown",
      "source": [
        "**this is also called a lambda function**"
      ],
      "metadata": {
        "nteract": {
          "transient": {
            "deleting": false
          }
        }
      }
    },
    {
      "cell_type": "code",
      "source": [
        "sayhi3 = name -> println(\"Hi $name, it's great to see you!\")"
      ],
      "outputs": [
        {
          "output_type": "execute_result",
          "execution_count": 13,
          "data": {
            "text/plain": "#1 (generic function with 1 method)"
          },
          "metadata": {}
        }
      ],
      "execution_count": 13,
      "metadata": {
        "execution": {
          "iopub.status.busy": "2021-03-26T19:46:44.663Z",
          "iopub.execute_input": "2021-03-26T19:46:44.681Z",
          "iopub.status.idle": "2021-03-26T19:46:44.739Z"
        }
      }
    },
    {
      "cell_type": "code",
      "source": [
        "f3 = x -> x^2"
      ],
      "outputs": [
        {
          "output_type": "execute_result",
          "execution_count": 14,
          "data": {
            "text/plain": "#3 (generic function with 1 method)"
          },
          "metadata": {}
        }
      ],
      "execution_count": 14,
      "metadata": {
        "execution": {
          "iopub.status.busy": "2021-03-26T19:46:48.345Z",
          "iopub.execute_input": "2021-03-26T19:46:48.359Z",
          "iopub.status.idle": "2021-03-26T19:46:48.396Z"
        }
      }
    },
    {
      "cell_type": "code",
      "source": [
        "sayhi3(\"Chewbacca\")"
      ],
      "outputs": [
        {
          "output_type": "stream",
          "name": "stdout",
          "text": [
            "Hi Chewbacca, it's great to see you!\n"
          ]
        }
      ],
      "execution_count": 15,
      "metadata": {
        "execution": {
          "iopub.status.busy": "2021-03-26T19:46:50.778Z",
          "iopub.execute_input": "2021-03-26T19:46:50.793Z",
          "iopub.status.idle": "2021-03-26T19:46:50.825Z"
        }
      }
    },
    {
      "cell_type": "code",
      "source": [
        "f3(42)"
      ],
      "outputs": [
        {
          "output_type": "execute_result",
          "execution_count": 16,
          "data": {
            "text/plain": "1764"
          },
          "metadata": {}
        }
      ],
      "execution_count": 16,
      "metadata": {
        "execution": {
          "iopub.status.busy": "2021-03-26T19:47:02.101Z",
          "iopub.execute_input": "2021-03-26T19:47:02.114Z",
          "iopub.status.idle": "2021-03-26T19:47:02.143Z"
        }
      }
    },
    {
      "cell_type": "markdown",
      "source": [
        "## Duck-typing in Julia\n",
        "*\"If it quacks like a duck, it's a duck.\"* <br><br>\n",
        "Julia functions will just work on whatever inputs make sense. <br><br>\n",
        "For example, `sayhi` works on the name of this minor tv character, written as an integer..."
      ],
      "metadata": {}
    },
    {
      "cell_type": "code",
      "source": [
        "sayhi(55595472)"
      ],
      "outputs": [
        {
          "output_type": "stream",
          "name": "stdout",
          "text": [
            "Hi 55595472, it's great to see you!\n"
          ]
        }
      ],
      "execution_count": 17,
      "metadata": {
        "execution": {
          "iopub.status.busy": "2021-03-26T19:47:22.883Z",
          "iopub.execute_input": "2021-03-26T19:47:22.898Z",
          "iopub.status.idle": "2021-03-26T19:47:22.925Z"
        }
      }
    },
    {
      "cell_type": "markdown",
      "source": [
        "And `f` will work on a matrix."
      ],
      "metadata": {}
    },
    {
      "cell_type": "code",
      "source": [
        "A = rand(3, 3)\n",
        "A"
      ],
      "outputs": [
        {
          "output_type": "execute_result",
          "execution_count": 18,
          "data": {
            "text/plain": "3×3 Matrix{Float64}:\n 0.0918824  0.356883   0.206429\n 0.937898   0.450555   0.42389\n 0.629665   0.0533592  0.853537"
          },
          "metadata": {}
        }
      ],
      "execution_count": 18,
      "metadata": {
        "execution": {
          "iopub.status.busy": "2021-03-26T19:47:29.841Z",
          "iopub.execute_input": "2021-03-26T19:47:29.855Z",
          "iopub.status.idle": "2021-03-26T19:47:30.974Z"
        }
      }
    },
    {
      "cell_type": "code",
      "source": [
        "f(A)"
      ],
      "outputs": [
        {
          "output_type": "execute_result",
          "execution_count": 19,
          "data": {
            "text/plain": "3×3 Matrix{Float64}:\n 0.473144  0.204602  0.346441\n 0.77566   0.560338  0.746401\n 0.645342  0.294302  0.881125"
          },
          "metadata": {}
        }
      ],
      "execution_count": 19,
      "metadata": {
        "execution": {
          "iopub.status.busy": "2021-03-26T19:47:39.232Z",
          "iopub.execute_input": "2021-03-26T19:47:39.246Z",
          "iopub.status.idle": "2021-03-26T19:47:39.952Z"
        }
      }
    },
    {
      "cell_type": "markdown",
      "source": [
        "The above (`f(A)`) works because the square of a matrix is a well defined function. But this does not work on a vector, which is not well defined."
      ],
      "metadata": {
        "nteract": {
          "transient": {
            "deleting": false
          }
        }
      }
    },
    {
      "cell_type": "markdown",
      "source": [
        "`f` will also work on a string like \"hi\" because `*` is defined for string inputs as string concatenation."
      ],
      "metadata": {}
    },
    {
      "cell_type": "code",
      "source": [
        "f(\"hi\")"
      ],
      "outputs": [
        {
          "output_type": "execute_result",
          "execution_count": 20,
          "data": {
            "text/plain": "\"hihi\""
          },
          "metadata": {}
        }
      ],
      "execution_count": 20,
      "metadata": {
        "execution": {
          "iopub.status.busy": "2021-03-26T19:48:00.316Z",
          "iopub.execute_input": "2021-03-26T19:48:00.330Z",
          "iopub.status.idle": "2021-03-26T19:48:00.553Z"
        }
      }
    },
    {
      "cell_type": "markdown",
      "source": [
        "On the other hand, `f` will not work on a vector. Unlike `A^2`, which is well-defined, the meaning of `v^2` for a vector, `v`, is not a well-defined algebraic operation."
      ],
      "metadata": {}
    },
    {
      "cell_type": "code",
      "source": [
        "v = rand(3)"
      ],
      "outputs": [
        {
          "output_type": "execute_result",
          "execution_count": 21,
          "data": {
            "text/plain": "3-element Vector{Float64}:\n 0.5508741929906922\n 0.5639005331923976\n 0.033816779498624605"
          },
          "metadata": {}
        }
      ],
      "execution_count": 21,
      "metadata": {
        "execution": {
          "iopub.status.busy": "2021-03-26T19:48:18.887Z",
          "iopub.execute_input": "2021-03-26T19:48:18.903Z",
          "iopub.status.idle": "2021-03-26T19:48:19.364Z"
        }
      }
    },
    {
      "cell_type": "code",
      "source": [
        "f(v)"
      ],
      "outputs": [
        {
          "output_type": "error",
          "ename": "LoadError",
          "evalue": "MethodError: no method matching ^(::Vector{Float64}, ::Int64)\n\u001b[0mClosest candidates are:\n\u001b[0m  ^(\u001b[91m::Union{AbstractChar, AbstractString}\u001b[39m, ::Integer) at strings/basic.jl:718\n\u001b[0m  ^(\u001b[91m::LinearAlgebra.Symmetric{var\"#s832\", S} where {var\"#s832\"<:Real, S<:(AbstractMatrix{var\"#s832\"} where var\"#s832\"<:var\"#s832\")}\u001b[39m, ::Integer) at /Users/julia/buildbot/worker/package_macos64/build/usr/share/julia/stdlib/v1.6/LinearAlgebra/src/symmetric.jl:868\n\u001b[0m  ^(\u001b[91m::LinearAlgebra.Symmetric{var\"#s832\", S} where {var\"#s832\"<:Complex, S<:(AbstractMatrix{var\"#s832\"} where var\"#s832\"<:var\"#s832\")}\u001b[39m, ::Integer) at /Users/julia/buildbot/worker/package_macos64/build/usr/share/julia/stdlib/v1.6/LinearAlgebra/src/symmetric.jl:869\n\u001b[0m  ...",
          "traceback": [
            "MethodError: no method matching ^(::Vector{Float64}, ::Int64)\n\u001b[0mClosest candidates are:\n\u001b[0m  ^(\u001b[91m::Union{AbstractChar, AbstractString}\u001b[39m, ::Integer) at strings/basic.jl:718\n\u001b[0m  ^(\u001b[91m::LinearAlgebra.Symmetric{var\"#s832\", S} where {var\"#s832\"<:Real, S<:(AbstractMatrix{var\"#s832\"} where var\"#s832\"<:var\"#s832\")}\u001b[39m, ::Integer) at /Users/julia/buildbot/worker/package_macos64/build/usr/share/julia/stdlib/v1.6/LinearAlgebra/src/symmetric.jl:868\n\u001b[0m  ^(\u001b[91m::LinearAlgebra.Symmetric{var\"#s832\", S} where {var\"#s832\"<:Complex, S<:(AbstractMatrix{var\"#s832\"} where var\"#s832\"<:var\"#s832\")}\u001b[39m, ::Integer) at /Users/julia/buildbot/worker/package_macos64/build/usr/share/julia/stdlib/v1.6/LinearAlgebra/src/symmetric.jl:869\n\u001b[0m  ...",
            "",
            "Stacktrace:",
            " [1] macro expansion",
            "   @ ./none:0 [inlined]",
            " [2] literal_pow",
            "   @ ./none:0 [inlined]",
            " [3] f(x::Vector{Float64})",
            "   @ Main ./In[5]:2",
            " [4] top-level scope",
            "   @ In[22]:1",
            " [5] eval",
            "   @ ./boot.jl:360 [inlined]",
            " [6] include_string(mapexpr::typeof(REPL.softscope), mod::Module, code::String, filename::String)",
            "   @ Base ./loading.jl:1094"
          ]
        }
      ],
      "execution_count": 22,
      "metadata": {
        "execution": {
          "iopub.status.busy": "2021-03-26T19:48:23.133Z",
          "iopub.execute_input": "2021-03-26T19:48:23.148Z"
        }
      }
    },
    {
      "cell_type": "markdown",
      "source": [
        "## Mutating vs. non-mutating functions\n",
        "\n",
        "By convention, functions followed by `!` alter their contents and functions lacking `!` do not.\n",
        "\n",
        "For example, let's look at the difference between `sort` and `sort!`."
      ],
      "metadata": {}
    },
    {
      "cell_type": "code",
      "source": [
        "v = [3, 5, 2]"
      ],
      "outputs": [
        {
          "output_type": "execute_result",
          "execution_count": 23,
          "data": {
            "text/plain": "3-element Vector{Int64}:\n 3\n 5\n 2"
          },
          "metadata": {}
        }
      ],
      "execution_count": 23,
      "metadata": {
        "execution": {
          "iopub.status.busy": "2021-03-26T19:49:16.938Z",
          "iopub.execute_input": "2021-03-26T19:49:16.960Z",
          "iopub.status.idle": "2021-03-26T19:49:17.398Z"
        }
      }
    },
    {
      "cell_type": "code",
      "source": [
        "sort(v)"
      ],
      "outputs": [
        {
          "output_type": "execute_result",
          "execution_count": 24,
          "data": {
            "text/plain": "3-element Vector{Int64}:\n 2\n 3\n 5"
          },
          "metadata": {}
        }
      ],
      "execution_count": 24,
      "metadata": {
        "execution": {
          "iopub.status.busy": "2021-03-26T19:49:20.034Z",
          "iopub.execute_input": "2021-03-26T19:49:20.052Z",
          "iopub.status.idle": "2021-03-26T19:49:20.084Z"
        }
      }
    },
    {
      "cell_type": "code",
      "source": [
        "v"
      ],
      "outputs": [
        {
          "output_type": "execute_result",
          "execution_count": 25,
          "data": {
            "text/plain": "3-element Vector{Int64}:\n 3\n 5\n 2"
          },
          "metadata": {}
        }
      ],
      "execution_count": 25,
      "metadata": {
        "execution": {
          "iopub.status.busy": "2021-03-26T19:49:24.800Z",
          "iopub.execute_input": "2021-03-26T19:49:24.813Z",
          "iopub.status.idle": "2021-03-26T19:49:24.845Z"
        }
      }
    },
    {
      "cell_type": "markdown",
      "source": [
        "`sort(v)` returns a sorted array that contains the same elements as `v`, but `v` is left unchanged. <br><br>\n",
        "\n",
        "On the other hand, when we run `sort!(v)`, the contents of v are sorted within the array `v`."
      ],
      "metadata": {}
    },
    {
      "cell_type": "markdown",
      "source": [
        "***Recall the `push!` and `pop!` functions we used in the data structures notebook - the exclamation mark indicates a \"mutating\" function***"
      ],
      "metadata": {
        "nteract": {
          "transient": {
            "deleting": false
          }
        }
      }
    },
    {
      "cell_type": "code",
      "source": [
        "sort!(v)"
      ],
      "outputs": [
        {
          "output_type": "execute_result",
          "execution_count": 26,
          "data": {
            "text/plain": "3-element Vector{Int64}:\n 2\n 3\n 5"
          },
          "metadata": {}
        }
      ],
      "execution_count": 26,
      "metadata": {
        "execution": {
          "iopub.status.busy": "2021-03-26T19:49:28.598Z",
          "iopub.execute_input": "2021-03-26T19:49:28.614Z",
          "iopub.status.idle": "2021-03-26T19:49:28.652Z"
        }
      }
    },
    {
      "cell_type": "code",
      "source": [
        "v"
      ],
      "outputs": [
        {
          "output_type": "execute_result",
          "execution_count": 27,
          "data": {
            "text/plain": "3-element Vector{Int64}:\n 2\n 3\n 5"
          },
          "metadata": {}
        }
      ],
      "execution_count": 27,
      "metadata": {
        "execution": {
          "iopub.status.busy": "2021-03-26T19:49:30.932Z",
          "iopub.execute_input": "2021-03-26T19:49:30.951Z",
          "iopub.status.idle": "2021-03-26T19:49:30.982Z"
        }
      }
    },
    {
      "cell_type": "markdown",
      "source": [
        "## Some higher order functions\n",
        "\n",
        "### map\n",
        "\n",
        "`map` is a \"higher-order\" function in Julia that *takes a function* as one of its input arguments.\n",
        "`map` then applies that function to every element of the data structure you pass it. For example, executing\n",
        "\n",
        "```julia\n",
        "map(f, [1, 2, 3])\n",
        "```\n",
        "will give you an output array where the function `f` has been applied to all elements of `[1, 2, 3]`\n",
        "```julia\n",
        "[f(1), f(2), f(3)]\n",
        "```"
      ],
      "metadata": {}
    },
    {
      "cell_type": "code",
      "source": [
        "map(f, [1, 2, 3])"
      ],
      "outputs": [
        {
          "output_type": "execute_result",
          "execution_count": 28,
          "data": {
            "text/plain": "3-element Vector{Int64}:\n 1\n 4\n 9"
          },
          "metadata": {}
        }
      ],
      "execution_count": 28,
      "metadata": {
        "execution": {
          "iopub.status.busy": "2021-03-26T19:49:58.697Z",
          "iopub.execute_input": "2021-03-26T19:49:58.710Z",
          "iopub.status.idle": "2021-03-26T19:49:58.740Z"
        }
      }
    },
    {
      "cell_type": "markdown",
      "source": [
        "Here we've squared all the elements of the vector `[1, 2, 3]`, rather than squaring the vector `[1, 2, 3]`.\n",
        "\n",
        "To do this, we could have passed to `map` an anonymous function rather than a named function, such as"
      ],
      "metadata": {}
    },
    {
      "cell_type": "code",
      "source": [
        "x -> x^3"
      ],
      "outputs": [
        {
          "output_type": "execute_result",
          "execution_count": 29,
          "data": {
            "text/plain": "#5 (generic function with 1 method)"
          },
          "metadata": {}
        }
      ],
      "execution_count": 29,
      "metadata": {
        "execution": {
          "iopub.status.busy": "2021-03-26T19:50:10.643Z",
          "iopub.execute_input": "2021-03-26T19:50:10.663Z",
          "iopub.status.idle": "2021-03-26T19:50:10.706Z"
        }
      }
    },
    {
      "cell_type": "markdown",
      "source": [
        "via"
      ],
      "metadata": {}
    },
    {
      "cell_type": "code",
      "source": [
        "map(x -> x^3, [1, 2, 3])"
      ],
      "outputs": [
        {
          "output_type": "execute_result",
          "execution_count": 30,
          "data": {
            "text/plain": "3-element Vector{Int64}:\n  1\n  8\n 27"
          },
          "metadata": {}
        }
      ],
      "execution_count": 30,
      "metadata": {
        "execution": {
          "iopub.status.busy": "2021-03-26T19:50:30.017Z",
          "iopub.execute_input": "2021-03-26T19:50:30.030Z",
          "iopub.status.idle": "2021-03-26T19:50:30.065Z"
        }
      }
    },
    {
      "cell_type": "markdown",
      "source": [
        "and now we've cubed all the elements of `[1, 2, 3]`!"
      ],
      "metadata": {}
    },
    {
      "cell_type": "markdown",
      "source": [
        "### broadcast\n",
        "\n",
        "`broadcast` is another higher-order function like `map`. `broadcast` is a generalization of `map`, so it can do every thing `map` can do and more. The syntax for calling `broadcast` is the same as for calling `map`"
      ],
      "metadata": {}
    },
    {
      "cell_type": "code",
      "source": [
        "broadcast(f, [1, 2, 3])"
      ],
      "outputs": [
        {
          "output_type": "execute_result",
          "execution_count": 31,
          "data": {
            "text/plain": "3-element Vector{Int64}:\n 1\n 4\n 9"
          },
          "metadata": {}
        }
      ],
      "execution_count": 31,
      "metadata": {
        "execution": {
          "iopub.status.busy": "2021-03-26T19:50:51.002Z",
          "iopub.execute_input": "2021-03-26T19:50:51.018Z",
          "iopub.status.idle": "2021-03-26T19:50:51.046Z"
        }
      }
    },
    {
      "cell_type": "markdown",
      "source": [
        "and again, we've applied `f` (squared) to all the elements of `[1, 2, 3]` - this time by \"broadcasting\" `f`!\n",
        "\n",
        "Some syntactic sugar for calling `broadcast` is to place a `.` between the name of the function you want to `broadcast` and its input arguments. For example,\n",
        "\n",
        "```julia\n",
        "broadcast(f, [1, 2, 3])\n",
        "```\n",
        "is the same as\n",
        "```julia\n",
        "f.([1, 2, 3])\n",
        "```"
      ],
      "metadata": {}
    },
    {
      "cell_type": "code",
      "source": [
        "f.([1, 2, 3])"
      ],
      "outputs": [
        {
          "output_type": "execute_result",
          "execution_count": 32,
          "data": {
            "text/plain": "3-element Vector{Int64}:\n 1\n 4\n 9"
          },
          "metadata": {}
        }
      ],
      "execution_count": 32,
      "metadata": {
        "execution": {
          "iopub.status.busy": "2021-03-26T19:51:04.840Z",
          "iopub.execute_input": "2021-03-26T19:51:04.855Z",
          "iopub.status.idle": "2021-03-26T19:51:04.885Z"
        }
      }
    },
    {
      "cell_type": "markdown",
      "source": [
        "Notice again how different this is from calling\n",
        "```julia\n",
        "f([1, 2, 3])\n",
        "```\n",
        "We can square every element of a vector, but we can't square a vector!"
      ],
      "metadata": {}
    },
    {
      "cell_type": "markdown",
      "source": [
        "To drive home the point, let's look at the difference between\n",
        "\n",
        "```julia\n",
        "f(A)\n",
        "```\n",
        "and\n",
        "```julia\n",
        "f.(A)\n",
        "```\n",
        "for a matrix `A`:"
      ],
      "metadata": {}
    },
    {
      "cell_type": "code",
      "source": [
        "A = [i + 3*j for j in 0:2, i in 1:3]"
      ],
      "outputs": [
        {
          "output_type": "execute_result",
          "execution_count": 33,
          "data": {
            "text/plain": "3×3 Matrix{Int64}:\n 1  2  3\n 4  5  6\n 7  8  9"
          },
          "metadata": {}
        }
      ],
      "execution_count": 33,
      "metadata": {
        "execution": {
          "iopub.status.busy": "2021-03-26T19:51:24.130Z",
          "iopub.execute_input": "2021-03-26T19:51:24.147Z",
          "iopub.status.idle": "2021-03-26T19:51:24.699Z"
        }
      }
    },
    {
      "cell_type": "code",
      "source": [
        "f(A)"
      ],
      "outputs": [
        {
          "output_type": "execute_result",
          "execution_count": 34,
          "data": {
            "text/plain": "3×3 Matrix{Int64}:\n  30   36   42\n  66   81   96\n 102  126  150"
          },
          "metadata": {}
        }
      ],
      "execution_count": 34,
      "metadata": {
        "execution": {
          "iopub.status.busy": "2021-03-26T19:51:31.627Z",
          "iopub.execute_input": "2021-03-26T19:51:31.643Z",
          "iopub.status.idle": "2021-03-26T19:51:32.229Z"
        }
      }
    },
    {
      "cell_type": "markdown",
      "source": [
        "As before we see that for a matrix, `A`,\n",
        "```\n",
        "f(A) = A^2 = A * A\n",
        "```\n",
        "\n",
        "On the other hand,"
      ],
      "metadata": {}
    },
    {
      "cell_type": "code",
      "source": [
        "B = f.(A)"
      ],
      "outputs": [
        {
          "output_type": "execute_result",
          "execution_count": 35,
          "data": {
            "text/plain": "3×3 Matrix{Int64}:\n  1   4   9\n 16  25  36\n 49  64  81"
          },
          "metadata": {}
        }
      ],
      "execution_count": 35,
      "metadata": {
        "execution": {
          "iopub.status.busy": "2021-03-26T19:53:41.636Z",
          "iopub.execute_input": "2021-03-26T19:53:41.658Z",
          "iopub.status.idle": "2021-03-26T19:53:41.693Z"
        }
      }
    },
    {
      "cell_type": "markdown",
      "source": [
        "contains the squares of all the entries of `A`.\n",
        "\n",
        "This dot syntax for broadcasting allows us to write relatively complex compound elementwise expressions in a way that looks natural/closer to mathematical notation. For example, we can write"
      ],
      "metadata": {}
    },
    {
      "cell_type": "code",
      "source": [
        "A .+ 2 .* f.(A) ./ A"
      ],
      "outputs": [
        {
          "output_type": "execute_result",
          "execution_count": 36,
          "data": {
            "text/plain": "3×3 Matrix{Float64}:\n  3.0   6.0   9.0\n 12.0  15.0  18.0\n 21.0  24.0  27.0"
          },
          "metadata": {}
        }
      ],
      "execution_count": 36,
      "metadata": {
        "execution": {
          "iopub.status.busy": "2021-03-26T19:54:33.157Z",
          "iopub.execute_input": "2021-03-26T19:54:33.173Z",
          "iopub.status.idle": "2021-03-26T19:54:33.257Z"
        }
      }
    },
    {
      "cell_type": "markdown",
      "source": [
        "instead of"
      ],
      "metadata": {}
    },
    {
      "cell_type": "code",
      "source": [
        "broadcast(x -> x + 2 * f(x) / x, A)"
      ],
      "outputs": [
        {
          "output_type": "execute_result",
          "execution_count": 37,
          "data": {
            "text/plain": "3×3 Matrix{Float64}:\n  3.0   6.0   9.0\n 12.0  15.0  18.0\n 21.0  24.0  27.0"
          },
          "metadata": {}
        }
      ],
      "execution_count": 37,
      "metadata": {
        "execution": {
          "iopub.status.busy": "2021-03-26T19:54:38.241Z",
          "iopub.execute_input": "2021-03-26T19:54:38.254Z",
          "iopub.status.idle": "2021-03-26T19:54:38.284Z"
        }
      }
    },
    {
      "cell_type": "markdown",
      "source": [
        "and the two will perform exactly the same."
      ],
      "metadata": {}
    },
    {
      "cell_type": "markdown",
      "source": [
        "### Exercises\n",
        "\n",
        "#### 6.1\n",
        "Write a function `add_one` that adds 1 to its input."
      ],
      "metadata": {}
    },
    {
      "cell_type": "code",
      "source": [
        "#=\n",
        "function add_one(x)\n",
        "  x + 1\n",
        "end\n",
        "=#\n",
        "# or\n",
        "add_one(x) = x + 1"
      ],
      "outputs": [
        {
          "output_type": "execute_result",
          "execution_count": 42,
          "data": {
            "text/plain": "add_one (generic function with 1 method)"
          },
          "metadata": {}
        }
      ],
      "execution_count": 42,
      "metadata": {
        "collapsed": true,
        "jupyter": {
          "source_hidden": false,
          "outputs_hidden": false
        },
        "nteract": {
          "transient": {
            "deleting": false
          }
        },
        "execution": {
          "iopub.status.busy": "2021-03-26T19:56:52.759Z",
          "iopub.execute_input": "2021-03-26T19:56:52.773Z",
          "iopub.status.idle": "2021-03-26T19:56:52.804Z"
        }
      }
    },
    {
      "cell_type": "code",
      "source": [
        "@assert add_one(1) == 2"
      ],
      "outputs": [],
      "execution_count": 43,
      "metadata": {
        "execution": {
          "iopub.status.busy": "2021-03-26T19:56:54.719Z",
          "iopub.execute_input": "2021-03-26T19:56:54.734Z",
          "iopub.status.idle": "2021-03-26T19:56:54.756Z"
        }
      }
    },
    {
      "cell_type": "code",
      "source": [
        "@assert add_one(11) == 12"
      ],
      "outputs": [],
      "execution_count": 44,
      "metadata": {
        "execution": {
          "iopub.status.busy": "2021-03-26T19:57:26.560Z",
          "iopub.execute_input": "2021-03-26T19:57:26.576Z",
          "iopub.status.idle": "2021-03-26T19:57:26.599Z"
        }
      }
    },
    {
      "cell_type": "markdown",
      "source": [
        "#### 6.2\n",
        "Use `map` or `broadcast` to increment every element of matrix `A` by `1` and assign it to a variable `A1`."
      ],
      "metadata": {}
    },
    {
      "cell_type": "code",
      "source": [
        "A1 = map(add_one, A)"
      ],
      "outputs": [
        {
          "output_type": "execute_result",
          "execution_count": 45,
          "data": {
            "text/plain": "3×3 Matrix{Int64}:\n 2  3   4\n 5  6   7\n 8  9  10"
          },
          "metadata": {}
        }
      ],
      "execution_count": 45,
      "metadata": {
        "collapsed": true,
        "jupyter": {
          "source_hidden": false,
          "outputs_hidden": false
        },
        "nteract": {
          "transient": {
            "deleting": false
          }
        },
        "execution": {
          "iopub.status.busy": "2021-03-26T19:59:30.465Z",
          "iopub.execute_input": "2021-03-26T19:59:30.481Z",
          "iopub.status.idle": "2021-03-26T19:59:30.512Z"
        }
      }
    },
    {
      "cell_type": "markdown",
      "source": [
        "#### 6.3\n",
        "Use the broadcast dot syntax to increment every element of matrix `A1` by `1` and store it in variable `A2`"
      ],
      "metadata": {}
    },
    {
      "cell_type": "code",
      "source": [
        "A2 = add_one.(A1)"
      ],
      "outputs": [
        {
          "output_type": "execute_result",
          "execution_count": 47,
          "data": {
            "text/plain": "3×3 Matrix{Int64}:\n 3   4   5\n 6   7   8\n 9  10  11"
          },
          "metadata": {}
        }
      ],
      "execution_count": 47,
      "metadata": {
        "collapsed": true,
        "jupyter": {
          "source_hidden": false,
          "outputs_hidden": false
        },
        "nteract": {
          "transient": {
            "deleting": false
          }
        },
        "execution": {
          "iopub.status.busy": "2021-03-26T20:01:15.445Z",
          "iopub.execute_input": "2021-03-26T20:01:15.462Z",
          "iopub.status.idle": "2021-03-26T20:01:15.492Z"
        }
      }
    },
    {
      "cell_type": "code",
      "source": [
        "@assert A2 == [3 4 5; 6 7 8;9 10 11]"
      ],
      "outputs": [],
      "execution_count": 48,
      "metadata": {
        "execution": {
          "iopub.status.busy": "2021-03-26T20:01:22.488Z",
          "iopub.execute_input": "2021-03-26T20:01:22.502Z",
          "iopub.status.idle": "2021-03-26T20:01:22.525Z"
        }
      }
    }
  ],
  "metadata": {
    "language_info": {
      "file_extension": ".jl",
      "name": "julia",
      "mimetype": "application/julia",
      "version": "1.6.0"
    },
    "kernelspec": {
      "name": "julia-1.0",
      "display_name": "Julia 1.0.3",
      "language": "julia"
    },
    "nteract": {
      "version": "0.28.0"
    }
  },
  "nbformat": 4,
  "nbformat_minor": 3
}