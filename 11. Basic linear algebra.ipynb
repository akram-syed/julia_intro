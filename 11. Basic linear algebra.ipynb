{
  "cells": [
    {
      "cell_type": "markdown",
      "source": [
        "# Basic linear algebra in Julia\n",
        "Author: Andreas Noack Jensen (MIT) (http://www.econ.ku.dk/phdstudent/noack/)\n",
        "(with edits from Jane Herriman)"
      ],
      "metadata": {}
    },
    {
      "cell_type": "markdown",
      "source": [
        "First let's define a random matrix"
      ],
      "metadata": {}
    },
    {
      "cell_type": "code",
      "source": [
        "A = rand(1:4,3,3)"
      ],
      "outputs": [
        {
          "output_type": "execute_result",
          "execution_count": 1,
          "data": {
            "text/plain": "3×3 Matrix{Int64}:\n 4  4  3\n 3  4  4\n 3  2  2"
          },
          "metadata": {}
        }
      ],
      "execution_count": 1,
      "metadata": {
        "execution": {
          "iopub.status.busy": "2021-03-28T22:59:28.696Z",
          "iopub.execute_input": "2021-03-28T22:59:29.239Z",
          "iopub.status.idle": "2021-03-28T22:59:30.617Z"
        }
      }
    },
    {
      "cell_type": "markdown",
      "source": [
        "Define a vector of ones"
      ],
      "metadata": {}
    },
    {
      "cell_type": "code",
      "source": [
        "x = fill(1.0, (3,)) # = fill(1.0, 3)"
      ],
      "outputs": [
        {
          "output_type": "execute_result",
          "execution_count": 2,
          "data": {
            "text/plain": "3-element Vector{Float64}:\n 1.0\n 1.0\n 1.0"
          },
          "metadata": {}
        }
      ],
      "execution_count": 2,
      "metadata": {
        "execution": {
          "iopub.status.busy": "2021-03-28T23:00:43.429Z",
          "iopub.execute_input": "2021-03-28T23:00:43.445Z",
          "iopub.status.idle": "2021-03-28T23:00:44.031Z"
        }
      }
    },
    {
      "cell_type": "code",
      "source": [
        "# alternatively\n",
        "ones(3)"
      ],
      "outputs": [
        {
          "output_type": "execute_result",
          "execution_count": 3,
          "data": {
            "text/plain": "3-element Vector{Float64}:\n 1.0\n 1.0\n 1.0"
          },
          "metadata": {}
        }
      ],
      "execution_count": 3,
      "metadata": {
        "collapsed": true,
        "jupyter": {
          "source_hidden": false,
          "outputs_hidden": false
        },
        "nteract": {
          "transient": {
            "deleting": false
          }
        },
        "execution": {
          "iopub.status.busy": "2021-03-28T23:01:09.275Z",
          "iopub.execute_input": "2021-03-28T23:01:09.286Z",
          "iopub.status.idle": "2021-03-28T23:01:09.313Z"
        }
      }
    },
    {
      "cell_type": "markdown",
      "source": [
        "Notice that $A$ has type Array{Int64,2} but $x$ has type Array{Float64,1}. Julia defines the aliases Vector{Type}=Array{Type,1} and Matrix{Type}=Array{Type,2}. \n",
        "\n",
        "Many of the basic operations are the same as in other languages\n",
        "#### Multiplication"
      ],
      "metadata": {}
    },
    {
      "cell_type": "code",
      "source": [
        "b = A*x"
      ],
      "outputs": [
        {
          "output_type": "execute_result",
          "execution_count": 4,
          "data": {
            "text/plain": "3-element Vector{Float64}:\n 11.0\n 11.0\n  7.0"
          },
          "metadata": {}
        }
      ],
      "execution_count": 4,
      "metadata": {
        "execution": {
          "iopub.status.busy": "2021-03-28T23:01:42.754Z",
          "iopub.execute_input": "2021-03-28T23:01:42.763Z",
          "iopub.status.idle": "2021-03-28T23:01:42.784Z"
        }
      }
    },
    {
      "cell_type": "markdown",
      "source": [
        "#### Transposition\n",
        "As in other languages `A'` is the conjugate transpose, or adjoint"
      ],
      "metadata": {}
    },
    {
      "cell_type": "code",
      "source": [
        "A'"
      ],
      "outputs": [
        {
          "output_type": "execute_result",
          "execution_count": 5,
          "data": {
            "text/plain": "3×3 adjoint(::Matrix{Int64}) with eltype Int64:\n 4  3  3\n 4  4  2\n 3  4  2"
          },
          "metadata": {}
        }
      ],
      "execution_count": 5,
      "metadata": {
        "execution": {
          "iopub.status.busy": "2021-03-28T23:04:25.284Z",
          "iopub.execute_input": "2021-03-28T23:04:25.303Z",
          "iopub.status.idle": "2021-03-28T23:04:25.803Z"
        }
      }
    },
    {
      "cell_type": "markdown",
      "source": [
        "and we can get the transpose with"
      ],
      "metadata": {}
    },
    {
      "cell_type": "code",
      "source": [
        "transpose(A)"
      ],
      "outputs": [
        {
          "output_type": "execute_result",
          "execution_count": 6,
          "data": {
            "text/plain": "3×3 transpose(::Matrix{Int64}) with eltype Int64:\n 4  3  3\n 4  4  2\n 3  4  2"
          },
          "metadata": {}
        }
      ],
      "execution_count": 6,
      "metadata": {
        "execution": {
          "iopub.status.busy": "2021-03-28T23:04:37.254Z",
          "iopub.execute_input": "2021-03-28T23:04:37.268Z",
          "iopub.status.idle": "2021-03-28T23:04:37.731Z"
        }
      }
    },
    {
      "cell_type": "markdown",
      "source": [
        "#### Transposed multiplication\n",
        "Julia allows us to write this without *"
      ],
      "metadata": {}
    },
    {
      "cell_type": "code",
      "source": [
        "A'A"
      ],
      "outputs": [
        {
          "output_type": "execute_result",
          "execution_count": 7,
          "data": {
            "text/plain": "3×3 Matrix{Int64}:\n 34  34  30\n 34  36  32\n 30  32  29"
          },
          "metadata": {}
        }
      ],
      "execution_count": 7,
      "metadata": {
        "execution": {
          "iopub.status.busy": "2021-03-28T23:06:34.177Z",
          "iopub.execute_input": "2021-03-28T23:06:34.188Z",
          "iopub.status.idle": "2021-03-28T23:06:34.746Z"
        }
      }
    },
    {
      "cell_type": "markdown",
      "source": [
        "#### Solving linear systems \n",
        "The problem $Ax=b$ for ***square*** $A$ is solved by the \\ function."
      ],
      "metadata": {}
    },
    {
      "cell_type": "code",
      "source": [
        "A\\b"
      ],
      "outputs": [
        {
          "output_type": "execute_result",
          "execution_count": 8,
          "data": {
            "text/plain": "3-element Vector{Float64}:\n 1.0\n 1.0\n 1.0"
          },
          "metadata": {}
        }
      ],
      "execution_count": 8,
      "metadata": {
        "execution": {
          "iopub.status.busy": "2021-03-28T23:06:47.544Z",
          "iopub.execute_input": "2021-03-28T23:06:47.557Z",
          "iopub.status.idle": "2021-03-28T23:06:48.479Z"
        }
      }
    },
    {
      "cell_type": "markdown",
      "source": [
        "`A\\b` gives us the *least squares solution* if we have an overdetermined linear system (a \"tall\" matrix)"
      ],
      "metadata": {}
    },
    {
      "cell_type": "code",
      "source": [
        "Atall = rand(3, 2)"
      ],
      "outputs": [
        {
          "output_type": "execute_result",
          "execution_count": 9,
          "data": {
            "text/plain": "3×2 Matrix{Float64}:\n 0.35378    0.742186\n 0.944921   0.0141526\n 0.0922638  0.404151"
          },
          "metadata": {}
        }
      ],
      "execution_count": 9,
      "metadata": {
        "execution": {
          "iopub.status.busy": "2021-03-28T23:16:48.059Z",
          "iopub.execute_input": "2021-03-28T23:16:48.078Z",
          "iopub.status.idle": "2021-03-28T23:16:48.692Z"
        }
      }
    },
    {
      "cell_type": "code",
      "source": [
        "Atall\\b"
      ],
      "outputs": [
        {
          "output_type": "execute_result",
          "execution_count": 10,
          "data": {
            "text/plain": "2-element Vector{Float64}:\n 11.294540324535609\n 10.653967068961553"
          },
          "metadata": {}
        }
      ],
      "execution_count": 10,
      "metadata": {
        "execution": {
          "iopub.status.busy": "2021-03-28T23:17:00.173Z",
          "iopub.execute_input": "2021-03-28T23:17:00.186Z",
          "iopub.status.idle": "2021-03-28T23:17:00.281Z"
        }
      }
    },
    {
      "cell_type": "markdown",
      "source": [
        "and the *minimum norm least squares solution* if we have a rank-deficient least squares problem"
      ],
      "metadata": {}
    },
    {
      "cell_type": "code",
      "source": [
        "v = rand(3)\n",
        "rankdef = hcat(v, v)"
      ],
      "outputs": [
        {
          "output_type": "execute_result",
          "execution_count": 11,
          "data": {
            "text/plain": "3×2 Matrix{Float64}:\n 0.0471883  0.0471883\n 0.525467   0.525467\n 0.833616   0.833616"
          },
          "metadata": {}
        }
      ],
      "execution_count": 11,
      "metadata": {
        "execution": {
          "iopub.status.busy": "2021-03-28T23:27:14.581Z",
          "iopub.execute_input": "2021-03-28T23:27:14.604Z",
          "iopub.status.idle": "2021-03-28T23:27:14.656Z"
        }
      }
    },
    {
      "cell_type": "code",
      "source": [
        "rankdef\\b"
      ],
      "outputs": [
        {
          "output_type": "execute_result",
          "execution_count": 12,
          "data": {
            "text/plain": "2-element Vector{Float64}:\n 6.233969085490582\n 6.233969085490582"
          },
          "metadata": {}
        }
      ],
      "execution_count": 12,
      "metadata": {
        "execution": {
          "iopub.status.busy": "2021-03-28T23:27:21.588Z",
          "iopub.execute_input": "2021-03-28T23:27:21.601Z",
          "iopub.status.idle": "2021-03-28T23:27:21.626Z"
        }
      }
    },
    {
      "cell_type": "markdown",
      "source": [
        "Julia also gives us the minimum norm solution when we have an underdetermined solution (a \"short\" matrix)"
      ],
      "metadata": {}
    },
    {
      "cell_type": "code",
      "source": [
        "bshort = rand(2)\n",
        "Ashort = rand(2, 3)"
      ],
      "outputs": [
        {
          "output_type": "execute_result",
          "execution_count": 13,
          "data": {
            "text/plain": "2×3 Matrix{Float64}:\n 0.661256  0.723633  0.875906\n 0.686253  0.189021  0.977354"
          },
          "metadata": {}
        }
      ],
      "execution_count": 13,
      "metadata": {
        "execution": {
          "iopub.status.busy": "2021-03-28T23:27:31.964Z",
          "iopub.execute_input": "2021-03-28T23:27:31.976Z",
          "iopub.status.idle": "2021-03-28T23:27:31.999Z"
        }
      }
    },
    {
      "cell_type": "code",
      "source": [
        "Ashort\\bshort"
      ],
      "outputs": [
        {
          "output_type": "execute_result",
          "execution_count": 14,
          "data": {
            "text/plain": "3-element Vector{Float64}:\n 0.1039090402698415\n 0.9630088023848675\n 0.03436264962784015"
          },
          "metadata": {}
        }
      ],
      "execution_count": 14,
      "metadata": {
        "execution": {
          "iopub.status.busy": "2021-03-28T23:27:46.538Z",
          "iopub.execute_input": "2021-03-28T23:27:46.549Z",
          "iopub.status.idle": "2021-03-28T23:27:46.574Z"
        }
      }
    },
    {
      "cell_type": "markdown",
      "source": [
        "# The LinearAlgebra library\n",
        "\n",
        "While much of linear algebra is available in Julia by default (as shown above), there's a standard library named `LinearAlgebra` that brings in many more relevant names and functions. In particular, it provides factorizations and some structured matrix types.  As with all packages, you can bring these additional features into your session with a `using LinearAlgebra`."
      ],
      "metadata": {}
    },
    {
      "cell_type": "markdown",
      "source": [
        "### Exercises\n",
        "\n",
        "#### 10.1 \n",
        "Take the inner product (or \"dot\" product) of a vector `v` with itself and assign it to variable `dot_v`.\n",
        "\n"
      ],
      "metadata": {}
    },
    {
      "cell_type": "code",
      "source": [
        "v = [1,2,3]"
      ],
      "outputs": [
        {
          "output_type": "execute_result",
          "execution_count": 15,
          "data": {
            "text/plain": "3-element Vector{Int64}:\n 1\n 2\n 3"
          },
          "metadata": {}
        }
      ],
      "execution_count": 15,
      "metadata": {
        "execution": {
          "iopub.status.busy": "2021-03-28T23:29:28.243Z",
          "iopub.execute_input": "2021-03-28T23:29:28.257Z",
          "iopub.status.idle": "2021-03-28T23:29:28.700Z"
        }
      }
    },
    {
      "cell_type": "code",
      "source": [
        "using LinearAlgebra\n",
        "dot_v = dot(v, v)"
      ],
      "outputs": [
        {
          "output_type": "execute_result",
          "execution_count": 18,
          "data": {
            "text/plain": "14"
          },
          "metadata": {}
        }
      ],
      "execution_count": 18,
      "metadata": {
        "execution": {
          "iopub.status.busy": "2021-03-28T23:30:52.752Z",
          "iopub.execute_input": "2021-03-28T23:30:52.762Z",
          "iopub.status.idle": "2021-03-28T23:30:52.976Z"
        }
      }
    },
    {
      "cell_type": "code",
      "source": [
        "@assert dot_v == 14"
      ],
      "outputs": [],
      "execution_count": 19,
      "metadata": {
        "deletable": false,
        "editable": false,
        "hide_input": true,
        "nbgrader": {
          "checksum": "b93dad361f66498eb2460d708f674220",
          "grade": true,
          "grade_id": "cell-913fef9b0d19cd52",
          "locked": true,
          "points": 1,
          "schema_version": 1,
          "solution": false
        },
        "execution": {
          "iopub.status.busy": "2021-03-28T23:31:03.842Z",
          "iopub.execute_input": "2021-03-28T23:31:03.855Z",
          "iopub.status.idle": "2021-03-28T23:31:03.873Z"
        }
      }
    },
    {
      "cell_type": "markdown",
      "source": [
        "#### 10.2 \n",
        "Take the outer product of a vector v with itself and assign it to variable `outer_v`"
      ],
      "metadata": {}
    },
    {
      "cell_type": "code",
      "source": [
        "outer_v = v * v'"
      ],
      "outputs": [
        {
          "output_type": "execute_result",
          "execution_count": 21,
          "data": {
            "text/plain": "3×3 Matrix{Int64}:\n 1  2  3\n 2  4  6\n 3  6  9"
          },
          "metadata": {}
        }
      ],
      "execution_count": 21,
      "metadata": {
        "execution": {
          "iopub.status.busy": "2021-03-28T23:35:41.007Z",
          "iopub.execute_input": "2021-03-28T23:35:41.018Z",
          "iopub.status.idle": "2021-03-28T23:35:41.108Z"
        }
      }
    },
    {
      "cell_type": "code",
      "source": [
        "@assert outer_v == [1 2 3\n",
        "                    2 4 6\n",
        "                    3 6 9]"
      ],
      "outputs": [],
      "execution_count": 22,
      "metadata": {
        "execution": {
          "iopub.status.busy": "2021-03-28T23:35:46.062Z",
          "iopub.execute_input": "2021-03-28T23:35:46.074Z",
          "iopub.status.idle": "2021-03-28T23:35:46.099Z"
        }
      }
    },
    {
      "cell_type": "code",
      "source": [
        "cross_v = cross(v, v)"
      ],
      "outputs": [
        {
          "output_type": "execute_result",
          "execution_count": 24,
          "data": {
            "text/plain": "3-element Vector{Int64}:\n 0\n 0\n 0"
          },
          "metadata": {}
        }
      ],
      "execution_count": 24,
      "metadata": {
        "collapsed": true,
        "jupyter": {
          "source_hidden": false,
          "outputs_hidden": false
        },
        "nteract": {
          "transient": {
            "deleting": false
          }
        },
        "execution": {
          "iopub.status.busy": "2021-03-28T23:37:42.986Z",
          "iopub.execute_input": "2021-03-28T23:37:42.997Z",
          "iopub.status.idle": "2021-03-28T23:37:43.024Z"
        }
      }
    },
    {
      "cell_type": "code",
      "source": [
        "@assert cross_v == [0, 0, 0]"
      ],
      "outputs": [],
      "execution_count": 25,
      "metadata": {
        "deletable": false,
        "editable": false,
        "hide_input": true,
        "nbgrader": {
          "checksum": "01642581e27c0ac19752cd90d11ac2ae",
          "grade": true,
          "grade_id": "cell-e6b6970ffe104df5",
          "locked": true,
          "points": 1,
          "schema_version": 1,
          "solution": false
        },
        "execution": {
          "iopub.status.busy": "2021-03-28T23:37:45.608Z",
          "iopub.execute_input": "2021-03-28T23:37:45.619Z",
          "iopub.status.idle": "2021-03-28T23:37:45.635Z"
        }
      }
    },
    {
      "cell_type": "markdown",
      "source": [
        "Please click on `Validate` on the top, once you are done with the exercises."
      ],
      "metadata": {}
    }
  ],
  "metadata": {
    "kernelspec": {
      "display_name": "Julia 1.0.5",
      "language": "julia",
      "name": "julia-1.0"
    },
    "language": "Julia",
    "language_info": {
      "file_extension": ".jl",
      "name": "julia",
      "mimetype": "application/julia",
      "version": "1.6.0"
    },
    "nteract": {
      "version": "0.28.0"
    }
  },
  "nbformat": 4,
  "nbformat_minor": 1
}