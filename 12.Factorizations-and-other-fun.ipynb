{
  "cells": [
    {
      "cell_type": "markdown",
      "source": [
        "# Factorizations and other fun\n",
        "Based on work by Andreas Noack\n",
        "\n",
        "## Outline\n",
        " - Factorizations\n",
        " - Special matrix structures\n",
        " - Generic linear algebra"
      ],
      "metadata": {}
    },
    {
      "cell_type": "markdown",
      "source": [
        "Before we get started, let's set up a linear system and use `LinearAlgebra` to bring in the factorizations and special matrix structures."
      ],
      "metadata": {}
    },
    {
      "cell_type": "code",
      "source": [
        "using LinearAlgebra\n",
        "A = rand(3, 3)\n",
        "x = fill(1, (3,))\n",
        "b = A * x"
      ],
      "outputs": [
        {
          "output_type": "execute_result",
          "execution_count": 1,
          "data": {
            "text/plain": "3-element Vector{Float64}:\n 1.7392394480231195\n 1.152219127766849\n 0.8282779345485132"
          },
          "metadata": {}
        }
      ],
      "execution_count": 1,
      "metadata": {
        "execution": {
          "iopub.status.busy": "2021-03-29T00:44:01.656Z",
          "iopub.execute_input": "2021-03-29T00:44:02.251Z",
          "iopub.status.idle": "2021-03-29T00:44:03.809Z"
        }
      }
    },
    {
      "cell_type": "markdown",
      "source": [
        "## Factorizations\n",
        "\n",
        "#### LU factorizations\n",
        "In Julia we can perform an LU factorization\n",
        "```julia\n",
        "PA = LU\n",
        "```\n",
        "where `P` is a permutation matrix, `L` is lower triangular unit diagonal and `U` is upper triangular, using `lufact`.\n",
        "\n",
        "Julia allows computing the LU factorization and defines a composite factorization type for storing it."
      ],
      "metadata": {}
    },
    {
      "cell_type": "code",
      "source": [
        "Alu = lu(A)"
      ],
      "outputs": [
        {
          "output_type": "execute_result",
          "execution_count": 2,
          "data": {
            "text/plain": "LU{Float64, Matrix{Float64}}\nL factor:\n3×3 Matrix{Float64}:\n 1.0       0.0       0.0\n 0.158625  1.0       0.0\n 0.154961  0.958186  1.0\nU factor:\n3×3 Matrix{Float64}:\n 0.494193  0.610149   0.634898\n 0.0       0.57543    0.300903\n 0.0       0.0       -0.280925"
          },
          "metadata": {}
        }
      ],
      "execution_count": 2,
      "metadata": {
        "execution": {
          "iopub.status.busy": "2021-03-29T00:44:15.789Z",
          "iopub.execute_input": "2021-03-29T00:44:15.808Z",
          "iopub.status.idle": "2021-03-29T00:44:16.615Z"
        }
      }
    },
    {
      "cell_type": "code",
      "source": [
        "typeof(Alu)"
      ],
      "outputs": [
        {
          "output_type": "execute_result",
          "execution_count": 3,
          "data": {
            "text/plain": "LU{Float64, Matrix{Float64}}"
          },
          "metadata": {}
        }
      ],
      "execution_count": 3,
      "metadata": {
        "execution": {
          "iopub.status.busy": "2021-03-29T00:54:37.065Z",
          "iopub.execute_input": "2021-03-29T00:54:37.091Z",
          "iopub.status.idle": "2021-03-29T00:54:37.500Z"
        }
      }
    },
    {
      "cell_type": "markdown",
      "source": [
        "The different parts of the factorization can be extracted by accessing their special properties"
      ],
      "metadata": {}
    },
    {
      "cell_type": "code",
      "source": [
        "Alu.P"
      ],
      "outputs": [
        {
          "output_type": "execute_result",
          "execution_count": 4,
          "data": {
            "text/plain": "3×3 Matrix{Float64}:\n 1.0  0.0  0.0\n 0.0  1.0  0.0\n 0.0  0.0  1.0"
          },
          "metadata": {}
        }
      ],
      "execution_count": 4,
      "metadata": {
        "execution": {
          "iopub.status.busy": "2021-03-29T00:54:47.553Z",
          "iopub.execute_input": "2021-03-29T00:54:47.571Z",
          "iopub.status.idle": "2021-03-29T00:54:47.743Z"
        }
      }
    },
    {
      "cell_type": "code",
      "source": [
        "Alu.L"
      ],
      "outputs": [
        {
          "output_type": "execute_result",
          "execution_count": 5,
          "data": {
            "text/plain": "3×3 Matrix{Float64}:\n 1.0       0.0       0.0\n 0.158625  1.0       0.0\n 0.154961  0.958186  1.0"
          },
          "metadata": {}
        }
      ],
      "execution_count": 5,
      "metadata": {
        "execution": {
          "iopub.status.busy": "2021-03-29T00:54:52.577Z",
          "iopub.execute_input": "2021-03-29T00:54:52.593Z",
          "iopub.status.idle": "2021-03-29T00:54:52.628Z"
        }
      }
    },
    {
      "cell_type": "code",
      "source": [
        "Alu.U"
      ],
      "outputs": [
        {
          "output_type": "execute_result",
          "execution_count": 6,
          "data": {
            "text/plain": "3×3 Matrix{Float64}:\n 0.494193  0.610149   0.634898\n 0.0       0.57543    0.300903\n 0.0       0.0       -0.280925"
          },
          "metadata": {}
        }
      ],
      "execution_count": 6,
      "metadata": {
        "execution": {
          "iopub.status.busy": "2021-03-29T00:54:55.292Z",
          "iopub.execute_input": "2021-03-29T00:54:55.311Z",
          "iopub.status.idle": "2021-03-29T00:54:55.344Z"
        }
      }
    },
    {
      "cell_type": "markdown",
      "source": [
        "Julia can dispatch methods on factorization objects.\n",
        "\n",
        "For example, we can solve the linear system using either the original matrix or the factorization object."
      ],
      "metadata": {}
    },
    {
      "cell_type": "code",
      "source": [
        "A\\b"
      ],
      "outputs": [
        {
          "output_type": "execute_result",
          "execution_count": 7,
          "data": {
            "text/plain": "3-element Vector{Float64}:\n 1.0\n 1.0000000000000004\n 0.9999999999999994"
          },
          "metadata": {}
        }
      ],
      "execution_count": 7,
      "metadata": {
        "execution": {
          "iopub.status.busy": "2021-03-29T00:55:01.568Z",
          "iopub.execute_input": "2021-03-29T00:55:01.588Z",
          "iopub.status.idle": "2021-03-29T00:55:02.212Z"
        }
      }
    },
    {
      "cell_type": "code",
      "source": [
        "Alu\\b"
      ],
      "outputs": [
        {
          "output_type": "execute_result",
          "execution_count": 8,
          "data": {
            "text/plain": "3-element Vector{Float64}:\n 1.0\n 1.0000000000000004\n 0.9999999999999994"
          },
          "metadata": {}
        }
      ],
      "execution_count": 8,
      "metadata": {
        "execution": {
          "iopub.status.busy": "2021-03-29T00:55:16.825Z",
          "iopub.execute_input": "2021-03-29T00:55:16.846Z",
          "iopub.status.idle": "2021-03-29T00:55:16.879Z"
        }
      }
    },
    {
      "cell_type": "markdown",
      "source": [
        "Similarly, we can calculate the determinant of `A` using either `A` or the factorization object"
      ],
      "metadata": {}
    },
    {
      "cell_type": "code",
      "source": [
        "det(A) ≈ det(Alu)"
      ],
      "outputs": [
        {
          "output_type": "execute_result",
          "execution_count": 9,
          "data": {
            "text/plain": "true"
          },
          "metadata": {}
        }
      ],
      "execution_count": 9,
      "metadata": {
        "execution": {
          "iopub.status.busy": "2021-03-29T00:55:25.887Z",
          "iopub.execute_input": "2021-03-29T00:55:25.904Z",
          "iopub.status.idle": "2021-03-29T00:55:26.144Z"
        }
      }
    },
    {
      "cell_type": "markdown",
      "source": [
        "#### QR factorizations\n",
        "\n",
        "In Julia we can perform a QR factorization\n",
        "```\n",
        "A=QR\n",
        "```\n",
        "\n",
        "where `Q` is unitary/orthogonal and `R` is upper triangular, using `qrfact`."
      ],
      "metadata": {}
    },
    {
      "cell_type": "code",
      "source": [
        "Aqr = qr(A)"
      ],
      "outputs": [
        {
          "output_type": "execute_result",
          "execution_count": 10,
          "data": {
            "text/plain": "LinearAlgebra.QRCompactWY{Float64, Matrix{Float64}}\nQ factor:\n3×3 LinearAlgebra.QRCompactWYQ{Float64, Matrix{Float64}}:\n -0.976284   0.216484  -0.00214357\n -0.154863  -0.70524   -0.691848\n -0.151286  -0.675108   0.72204\nR factor:\n3×3 Matrix{Float64}:\n -0.506198  -0.797498  -0.698038\n  0.0       -0.77805   -0.217201\n  0.0        0.0       -0.202839"
          },
          "metadata": {}
        }
      ],
      "execution_count": 10,
      "metadata": {
        "execution": {
          "iopub.status.busy": "2021-03-29T00:55:58.457Z",
          "iopub.execute_input": "2021-03-29T00:55:58.475Z",
          "iopub.status.idle": "2021-03-29T00:55:59.222Z"
        }
      }
    },
    {
      "cell_type": "markdown",
      "source": [
        "Similarly to the LU factorization, the matrices `Q` and `R` can be extracted from the QR factorization object via"
      ],
      "metadata": {}
    },
    {
      "cell_type": "code",
      "source": [
        "Aqr.Q"
      ],
      "outputs": [
        {
          "output_type": "execute_result",
          "execution_count": 11,
          "data": {
            "text/plain": "3×3 LinearAlgebra.QRCompactWYQ{Float64, Matrix{Float64}}:\n -0.976284   0.216484  -0.00214357\n -0.154863  -0.70524   -0.691848\n -0.151286  -0.675108   0.72204"
          },
          "metadata": {}
        }
      ],
      "execution_count": 11,
      "metadata": {
        "execution": {
          "iopub.status.busy": "2021-03-29T00:56:07.319Z",
          "iopub.execute_input": "2021-03-29T00:56:07.336Z",
          "iopub.status.idle": "2021-03-29T00:56:07.538Z"
        }
      }
    },
    {
      "cell_type": "code",
      "source": [
        "Aqr.R"
      ],
      "outputs": [
        {
          "output_type": "execute_result",
          "execution_count": 12,
          "data": {
            "text/plain": "3×3 Matrix{Float64}:\n -0.506198  -0.797498  -0.698038\n  0.0       -0.77805   -0.217201\n  0.0        0.0       -0.202839"
          },
          "metadata": {}
        }
      ],
      "execution_count": 12,
      "metadata": {
        "execution": {
          "iopub.status.busy": "2021-03-29T00:56:12.157Z",
          "iopub.execute_input": "2021-03-29T00:56:12.177Z",
          "iopub.status.idle": "2021-03-29T00:56:12.211Z"
        }
      }
    },
    {
      "cell_type": "markdown",
      "source": [
        "#### Eigendecompositions"
      ],
      "metadata": {}
    },
    {
      "cell_type": "markdown",
      "source": [
        "The results from eigendecompositions, singular value decompositions, Hessenberg factorizations, and Schur decompositions are all stored in `Factorization` types.\n",
        "\n",
        "The eigendecomposition can be computed"
      ],
      "metadata": {}
    },
    {
      "cell_type": "code",
      "source": [
        "Asym = A + A'\n",
        "AsymEig = eigen(Asym)"
      ],
      "outputs": [
        {
          "output_type": "execute_result",
          "execution_count": 13,
          "data": {
            "text/plain": "Eigen{Float64, Float64, Matrix{Float64}, Vector{Float64}}\nvalues:\n3-element Vector{Float64}:\n -0.47428666136326614\n  0.4597423842385169\n  2.5589183450775987\nvectors:\n3×3 Matrix{Float64}:\n -0.230128   0.819539   -0.524783\n -0.418825  -0.570167   -0.70675\n  0.878423  -0.0571497  -0.474454"
          },
          "metadata": {}
        }
      ],
      "execution_count": 13,
      "metadata": {
        "execution": {
          "iopub.status.busy": "2021-03-29T00:56:26.020Z",
          "iopub.execute_input": "2021-03-29T00:56:26.038Z",
          "iopub.status.idle": "2021-03-29T00:56:26.951Z"
        }
      }
    },
    {
      "cell_type": "markdown",
      "source": [
        "The values and the vectors can be extracted from the Eigen type by special indexing"
      ],
      "metadata": {}
    },
    {
      "cell_type": "code",
      "source": [
        "AsymEig.values"
      ],
      "outputs": [
        {
          "output_type": "execute_result",
          "execution_count": 14,
          "data": {
            "text/plain": "3-element Vector{Float64}:\n -0.47428666136326614\n  0.4597423842385169\n  2.5589183450775987"
          },
          "metadata": {}
        }
      ],
      "execution_count": 14,
      "metadata": {
        "execution": {
          "iopub.status.busy": "2021-03-29T00:57:20.810Z",
          "iopub.execute_input": "2021-03-29T00:57:20.899Z",
          "iopub.status.idle": "2021-03-29T00:57:20.929Z"
        }
      }
    },
    {
      "cell_type": "code",
      "source": [
        "AsymEig.vectors"
      ],
      "outputs": [
        {
          "output_type": "execute_result",
          "execution_count": 15,
          "data": {
            "text/plain": "3×3 Matrix{Float64}:\n -0.230128   0.819539   -0.524783\n -0.418825  -0.570167   -0.70675\n  0.878423  -0.0571497  -0.474454"
          },
          "metadata": {}
        }
      ],
      "execution_count": 15,
      "metadata": {
        "execution": {
          "iopub.status.busy": "2021-03-29T00:57:25.384Z",
          "iopub.execute_input": "2021-03-29T00:57:25.399Z",
          "iopub.status.idle": "2021-03-29T00:57:25.428Z"
        }
      }
    },
    {
      "cell_type": "markdown",
      "source": [
        "Once again, when the factorization is stored in a type, we can dispatch on it and write specialized methods that exploit the properties of the factorization, e.g. that $A^{-1}=(V\\Lambda V^{-1})^{-1}=V\\Lambda^{-1}V^{-1}$."
      ],
      "metadata": {}
    },
    {
      "cell_type": "code",
      "source": [
        "inv(AsymEig)*Asym"
      ],
      "outputs": [
        {
          "output_type": "execute_result",
          "execution_count": 18,
          "data": {
            "text/plain": "3×3 Matrix{Float64}:\n  1.0           9.4369e-16  -1.26288e-15\n  1.77636e-15   1.0         -2.47025e-15\n -1.55431e-15  -1.9984e-15   1.0"
          },
          "metadata": {}
        }
      ],
      "execution_count": 18,
      "metadata": {
        "execution": {
          "iopub.status.busy": "2021-03-29T00:57:31.011Z",
          "iopub.execute_input": "2021-03-29T00:57:31.027Z",
          "iopub.status.idle": "2021-03-29T00:57:31.062Z"
        }
      }
    },
    {
      "cell_type": "markdown",
      "source": [
        "## Special matrix structures\n",
        "Matrix structure is very important in linear algebra. To see *how* important it is, let's work with a larger linear system"
      ],
      "metadata": {}
    },
    {
      "cell_type": "code",
      "source": [
        "n = 1000\n",
        "A = randn(n,n);"
      ],
      "outputs": [],
      "execution_count": 19,
      "metadata": {
        "execution": {
          "iopub.status.busy": "2021-03-29T00:58:03.048Z",
          "iopub.execute_input": "2021-03-29T00:58:03.064Z",
          "iopub.status.idle": "2021-03-29T00:58:03.145Z"
        }
      }
    },
    {
      "cell_type": "markdown",
      "source": [
        "Julia can often infer special matrix structure"
      ],
      "metadata": {}
    },
    {
      "cell_type": "code",
      "source": [
        "Asym = A + A'\n",
        "issymmetric(Asym)"
      ],
      "outputs": [
        {
          "output_type": "execute_result",
          "execution_count": 20,
          "data": {
            "text/plain": "true"
          },
          "metadata": {}
        }
      ],
      "execution_count": 20,
      "metadata": {
        "execution": {
          "iopub.status.busy": "2021-03-29T01:00:57.798Z",
          "iopub.execute_input": "2021-03-29T01:00:57.820Z",
          "iopub.status.idle": "2021-03-29T01:00:57.852Z"
        }
      }
    },
    {
      "cell_type": "markdown",
      "source": [
        "but sometimes floating point error might get in the way."
      ],
      "metadata": {}
    },
    {
      "cell_type": "code",
      "source": [
        "Asym_noisy = copy(Asym)\n",
        "Asym_noisy[1,2] += 5eps()"
      ],
      "outputs": [
        {
          "output_type": "execute_result",
          "execution_count": 21,
          "data": {
            "text/plain": "-0.27790400214257077"
          },
          "metadata": {}
        }
      ],
      "execution_count": 21,
      "metadata": {
        "execution": {
          "iopub.status.busy": "2021-03-29T01:01:03.711Z",
          "iopub.execute_input": "2021-03-29T01:01:03.725Z",
          "iopub.status.idle": "2021-03-29T01:01:03.857Z"
        }
      }
    },
    {
      "cell_type": "code",
      "source": [
        "issymmetric(Asym_noisy)"
      ],
      "outputs": [
        {
          "output_type": "execute_result",
          "execution_count": 22,
          "data": {
            "text/plain": "false"
          },
          "metadata": {}
        }
      ],
      "execution_count": 22,
      "metadata": {
        "execution": {
          "iopub.status.busy": "2021-03-29T01:01:07.905Z",
          "iopub.execute_input": "2021-03-29T01:01:07.923Z",
          "iopub.status.idle": "2021-03-29T01:01:07.958Z"
        }
      }
    },
    {
      "cell_type": "markdown",
      "source": [
        "Luckily we can declare structure explicitly with, for example, `Diagonal`, `Triangular`, `Symmetric`, `Hermitian`, `Tridiagonal` and `SymTridiagonal`."
      ],
      "metadata": {}
    },
    {
      "cell_type": "code",
      "source": [
        "Asym_explicit = Symmetric(Asym_noisy);"
      ],
      "outputs": [],
      "execution_count": 23,
      "metadata": {
        "execution": {
          "iopub.status.busy": "2021-03-29T01:01:10.890Z",
          "iopub.execute_input": "2021-03-29T01:01:10.905Z",
          "iopub.status.idle": "2021-03-29T01:01:10.927Z"
        }
      }
    },
    {
      "cell_type": "markdown",
      "source": [
        "Let's compare how long it takes Julia to compute the eigenvalues of `Asym`, `Asym_noisy`, and `Asym_explicit`"
      ],
      "metadata": {}
    },
    {
      "cell_type": "code",
      "source": [
        "@time eigvals(Asym);"
      ],
      "outputs": [
        {
          "output_type": "stream",
          "name": "stdout",
          "text": [
            "  0.221902 seconds (134.03 k allocations: 15.456 MiB, 9.02% gc time, 77.00% compilation time)\n"
          ]
        }
      ],
      "execution_count": 24,
      "metadata": {
        "execution": {
          "iopub.status.busy": "2021-03-29T01:01:16.142Z",
          "iopub.execute_input": "2021-03-29T01:01:16.163Z",
          "iopub.status.idle": "2021-03-29T01:01:16.405Z"
        }
      }
    },
    {
      "cell_type": "code",
      "source": [
        "@time eigvals(Asym_noisy);"
      ],
      "outputs": [
        {
          "output_type": "stream",
          "name": "stdout",
          "text": [
            "  0.541851 seconds (13 allocations: 7.920 MiB)\n"
          ]
        }
      ],
      "execution_count": 25,
      "metadata": {
        "execution": {
          "iopub.status.busy": "2021-03-29T01:01:20.950Z",
          "iopub.execute_input": "2021-03-29T01:01:20.980Z",
          "iopub.status.idle": "2021-03-29T01:01:21.500Z"
        }
      }
    },
    {
      "cell_type": "code",
      "source": [
        "@time eigvals(Asym_explicit);"
      ],
      "outputs": [
        {
          "output_type": "stream",
          "name": "stdout",
          "text": [
            "  0.074539 seconds (5.88 k allocations: 8.358 MiB, 8.36% compilation time)\n"
          ]
        }
      ],
      "execution_count": 26,
      "metadata": {
        "execution": {
          "iopub.status.busy": "2021-03-29T01:01:22.544Z",
          "iopub.execute_input": "2021-03-29T01:01:22.563Z",
          "iopub.status.idle": "2021-03-29T01:01:22.615Z"
        }
      }
    },
    {
      "cell_type": "markdown",
      "source": [
        "In this example, using `Symmetric()` on `Asym_noisy` made our calculations about `5x` more efficient :)"
      ],
      "metadata": {}
    },
    {
      "cell_type": "markdown",
      "source": [
        "#### A big problem\n",
        "Using the `Tridiagonal` and `SymTridiagonal` types to store tridiagonal matrices makes it possible to work with potentially very large tridiagonal problems. The following problem would not be possible to solve on a laptop if the matrix had to be stored as a (dense) `Matrix` type."
      ],
      "metadata": {}
    },
    {
      "cell_type": "code",
      "source": [
        "n = 1_000_000;\n",
        "A = SymTridiagonal(randn(n), randn(n-1));\n",
        "@time eigmax(A)"
      ],
      "outputs": [
        {
          "output_type": "stream",
          "name": "stdout",
          "text": [
            "  0.825493 seconds (823.17 k allocations: 229.291 MiB, 22.39% gc time, 25.50% compilation time)\n"
          ]
        },
        {
          "output_type": "execute_result",
          "execution_count": 27,
          "data": {
            "text/plain": "6.458362819153823"
          },
          "metadata": {}
        }
      ],
      "execution_count": 27,
      "metadata": {
        "execution": {
          "iopub.status.busy": "2021-03-29T01:01:35.178Z",
          "iopub.execute_input": "2021-03-29T01:01:35.195Z",
          "iopub.status.idle": "2021-03-29T01:01:36.128Z"
        }
      }
    },
    {
      "cell_type": "markdown",
      "source": [
        "## Generic linear algebra\n",
        "The usual way of adding support for numerical linear algebra is by wrapping BLAS and LAPACK subroutines. For matrices with elements of `Float32`, `Float64`, `Complex{Float32}` or `Complex{Float64}` this is also what Julia does.\n",
        "\n",
        "However, Julia also supports generic linear algebra, allowing you to, for example, work with matrices and vectors of rational numbers."
      ],
      "metadata": {}
    },
    {
      "cell_type": "markdown",
      "source": [
        "#### Rational numbers\n",
        "Julia has rational numbers built in. To construct a rational number, use double forward slashes:"
      ],
      "metadata": {}
    },
    {
      "cell_type": "code",
      "source": [
        "1//2"
      ],
      "outputs": [],
      "execution_count": null,
      "metadata": {}
    },
    {
      "cell_type": "markdown",
      "source": [
        "#### Example: Rational linear system of equations\n",
        "The following example shows how linear system of equations with rational elements can be solved without promoting to floating point element types. Overflow can easily become a problem when working with rational numbers so we use `BigInt`s."
      ],
      "metadata": {}
    },
    {
      "cell_type": "code",
      "source": [
        "Arational = Matrix{Rational{BigInt}}(rand(1:10, 3, 3))/10"
      ],
      "outputs": [],
      "execution_count": null,
      "metadata": {}
    },
    {
      "cell_type": "code",
      "source": [
        "x = fill(1, 3)\n",
        "b = Arational*x"
      ],
      "outputs": [],
      "execution_count": null,
      "metadata": {}
    },
    {
      "cell_type": "code",
      "source": [
        "Arational\\b"
      ],
      "outputs": [],
      "execution_count": null,
      "metadata": {}
    },
    {
      "cell_type": "code",
      "source": [
        "lu(Arational)"
      ],
      "outputs": [],
      "execution_count": null,
      "metadata": {}
    },
    {
      "cell_type": "markdown",
      "source": [
        "### Exercises\n",
        "\n",
        "#### 11.1\n",
        "What are the eigenvalues of matrix A?\n",
        "\n",
        "```\n",
        "A =\n",
        "[\n",
        " 140   97   74  168  131\n",
        "  97  106   89  131   36\n",
        "  74   89  152  144   71\n",
        " 168  131  144   54  142\n",
        " 131   36   71  142   36\n",
        "]\n",
        "```\n",
        "and assign it a variable `A_eigv`"
      ],
      "metadata": {}
    },
    {
      "cell_type": "code",
      "source": [
        "using LinearAlgebra"
      ],
      "outputs": [],
      "execution_count": null,
      "metadata": {}
    },
    {
      "cell_type": "code",
      "source": [
        "@assert A_eigv ==  [-128.49322764802145, -55.887784553056875, 42.7521672793189, 87.16111477514521, 542.4677301466143]"
      ],
      "outputs": [],
      "execution_count": null,
      "metadata": {}
    },
    {
      "cell_type": "markdown",
      "source": [
        "#### 11.2\n",
        "Create a `Diagonal` matrix from the eigenvalues of `A`."
      ],
      "metadata": {}
    },
    {
      "cell_type": "code",
      "source": [
        "@assert A_diag ==  [-128.493    0.0      0.0      0.0       0.0;\n",
        "    0.0    -55.8878   0.0      0.0       0.0;\n",
        "    0.0      0.0     42.7522   0.0       0.0;\n",
        "    0.0      0.0      0.0     87.1611    0.0;\n",
        "    0.0 0.0      0.0      0.0     542.468]\n",
        "# #### 11.3\n",
        "# Create a `LowerTriangular` matrix from `A` and store it in `A_lowertri`\n",
        "@assert A_lowertri ==  [140    0    0    0   0;\n",
        "  97  106    0    0   0;\n",
        "  74   89  152    0   0;\n",
        " 168  131  144   54   0;\n",
        " 131   36   71  142  36]"
      ],
      "outputs": [],
      "execution_count": null,
      "metadata": {}
    }
  ],
  "metadata": {
    "language_info": {
      "file_extension": ".jl",
      "name": "julia",
      "mimetype": "application/julia",
      "version": "1.6.0"
    },
    "kernelspec": {
      "name": "julia-1.0",
      "display_name": "Julia 1.0.3",
      "language": "julia"
    },
    "nteract": {
      "version": "0.28.0"
    }
  },
  "nbformat": 4,
  "nbformat_minor": 3
}