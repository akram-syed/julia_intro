{
  "cells": [
    {
      "cell_type": "markdown",
      "source": [
        "# Julia is fast\n",
        "\n",
        "Very often, benchmarks are used to compare languages.  These benchmarks can lead to long discussions, first as to exactly what is being benchmarked and secondly what explains the differences.  These simple questions can sometimes get more complicated than you at first might imagine.\n",
        "\n",
        "The purpose of this notebook is for you to see a simple benchmark for yourself.  One can read the notebook and see what happened on the author's Macbook Pro with a 4-core Intel Core I7, or run the notebook yourself.\n",
        "\n",
        "(This material began life as a wonderful lecture by Steven Johnson at MIT: https://github.com/stevengj/18S096/blob/master/lectures/lecture1/Boxes-and-registers.ipynb.)"
      ],
      "metadata": {}
    },
    {
      "cell_type": "markdown",
      "source": [
        "# Outline of this notebook\n",
        "\n",
        "- Define the sum function\n",
        "- Implementations & benchmarking of sum in...\n",
        "    - C (hand-written)\n",
        "    - C (hand-written with -ffast-math)\n",
        "    - python (built-in)\n",
        "    - python (numpy)\n",
        "    - python (hand-written)\n",
        "    - Julia (built-in)\n",
        "    - Julia (hand-written)\n",
        "    - Julia (hand-written with SIMD)\n",
        "- Summary of benchmarks"
      ],
      "metadata": {}
    },
    {
      "cell_type": "markdown",
      "source": [
        "# `sum`: An easy enough function to understand"
      ],
      "metadata": {}
    },
    {
      "cell_type": "markdown",
      "source": [
        "Consider the  **sum** function `sum(a)`, which computes\n",
        "$$\n",
        "\\mathrm{sum}(a) = \\sum_{i=1}^n a_i,\n",
        "$$\n",
        "where $n$ is the length of `a`."
      ],
      "metadata": {}
    },
    {
      "cell_type": "code",
      "source": [
        "a = rand(10^7) # 1D vector of random numbers, uniform on [0,1)"
      ],
      "outputs": [
        {
          "output_type": "execute_result",
          "execution_count": 1,
          "data": {
            "text/plain": "10000000-element Vector{Float64}:\n 0.027592313048556028\n 0.030659225498066656\n 0.05428699211774468\n 0.8346671135441202\n 0.16086587198581892\n 0.011536003858898747\n 0.5378486326370588\n 0.012036275674046193\n 0.19375397083175439\n 0.31692377414639683\n 0.6491111951627053\n 0.480054960180188\n 0.706703619316629\n ⋮\n 0.9225595083694449\n 0.9339477884742802\n 0.5444640042275897\n 0.7908407480770014\n 0.10026425879436385\n 0.06401098148838358\n 0.8109888114134827\n 0.14278508598599182\n 0.6035005841963639\n 0.3740216406656831\n 0.2098786288892618\n 0.05660496927426961"
          },
          "metadata": {}
        }
      ],
      "execution_count": 1,
      "metadata": {
        "execution": {
          "iopub.status.busy": "2021-03-26T22:05:20.141Z",
          "iopub.execute_input": "2021-03-26T22:05:20.658Z",
          "iopub.status.idle": "2021-03-26T22:05:22.169Z"
        }
      }
    },
    {
      "cell_type": "code",
      "source": [
        "sum(a)"
      ],
      "outputs": [
        {
          "output_type": "execute_result",
          "execution_count": 2,
          "data": {
            "text/plain": "5.000489438658384e6"
          },
          "metadata": {}
        }
      ],
      "execution_count": 2,
      "metadata": {
        "execution": {
          "iopub.status.busy": "2021-03-26T22:05:53.076Z",
          "iopub.execute_input": "2021-03-26T22:05:53.102Z",
          "iopub.status.idle": "2021-03-26T22:05:53.416Z"
        }
      }
    },
    {
      "cell_type": "markdown",
      "source": [
        "The expected result is 0.5 * 10^7, since the mean of each entry is 0.5"
      ],
      "metadata": {}
    },
    {
      "cell_type": "markdown",
      "source": [
        "# Benchmarking a few ways in a few languages"
      ],
      "metadata": {}
    },
    {
      "cell_type": "code",
      "source": [
        "@time sum(a)"
      ],
      "outputs": [
        {
          "output_type": "stream",
          "name": "stdout",
          "text": [
            "  0.006514 seconds (1 allocation: 16 bytes)\n"
          ]
        },
        {
          "output_type": "execute_result",
          "execution_count": 3,
          "data": {
            "text/plain": "5.000489438658384e6"
          },
          "metadata": {}
        }
      ],
      "execution_count": 3,
      "metadata": {
        "execution": {
          "iopub.status.busy": "2021-03-26T22:06:03.560Z",
          "iopub.execute_input": "2021-03-26T22:06:03.582Z",
          "iopub.status.idle": "2021-03-26T22:06:03.696Z"
        }
      }
    },
    {
      "cell_type": "code",
      "source": [
        "@time sum(a)"
      ],
      "outputs": [
        {
          "output_type": "stream",
          "name": "stdout",
          "text": [
            "  0.004617 seconds (1 allocation: 16 bytes)\n"
          ]
        },
        {
          "output_type": "execute_result",
          "execution_count": 4,
          "data": {
            "text/plain": "5.000489438658384e6"
          },
          "metadata": {}
        }
      ],
      "execution_count": 4,
      "metadata": {
        "execution": {
          "iopub.status.busy": "2021-03-26T22:06:09.583Z",
          "iopub.execute_input": "2021-03-26T22:06:09.604Z",
          "iopub.status.idle": "2021-03-26T22:06:09.652Z"
        }
      }
    },
    {
      "cell_type": "code",
      "source": [
        "@time sum(a)"
      ],
      "outputs": [
        {
          "output_type": "stream",
          "name": "stdout",
          "text": [
            "  0.005336 seconds (1 allocation: 16 bytes)\n"
          ]
        },
        {
          "output_type": "execute_result",
          "execution_count": 5,
          "data": {
            "text/plain": "5.000489438658384e6"
          },
          "metadata": {}
        }
      ],
      "execution_count": 5,
      "metadata": {
        "execution": {
          "iopub.status.busy": "2021-03-26T22:06:12.914Z",
          "iopub.execute_input": "2021-03-26T22:06:12.930Z",
          "iopub.status.idle": "2021-03-26T22:06:12.965Z"
        }
      }
    },
    {
      "cell_type": "markdown",
      "source": [
        "The `@time` macro can yield noisy results, so it's not our best choice for benchmarking!\n",
        "\n",
        "Luckily, Julia has a `BenchmarkTools.jl` package to make benchmarking easy and accurate:"
      ],
      "metadata": {}
    },
    {
      "cell_type": "code",
      "source": [
        "# using Pkg\n",
        "# Pkg.add(\"BenchmarkTools\")"
      ],
      "outputs": [],
      "execution_count": null,
      "metadata": {}
    },
    {
      "cell_type": "code",
      "source": [
        "using BenchmarkTools"
      ],
      "outputs": [],
      "execution_count": 7,
      "metadata": {
        "execution": {
          "iopub.status.busy": "2021-03-26T22:06:42.716Z",
          "iopub.execute_input": "2021-03-26T22:06:42.732Z",
          "iopub.status.idle": "2021-03-26T22:06:42.761Z"
        }
      }
    },
    {
      "cell_type": "markdown",
      "source": [
        "#  1. The C language\n",
        "\n",
        "C is often considered the gold standard: difficult on the human, nice for the machine. Getting within a factor of 2 of C is often satisfying. Nonetheless, even within C, there are many kinds of optimizations possible that a naive C writer may or may not get the advantage of.\n",
        "\n",
        "The current author does not speak C, so he does not read the cell below, but is happy to know that you can put C code in a Julia session, compile it, and run it. Note that the `\"\"\"` wrap a multi-line string."
      ],
      "metadata": {}
    },
    {
      "cell_type": "code",
      "source": [
        "using Libdl\n",
        "C_code = \"\"\"\n",
        "#include <stddef.h>\n",
        "double c_sum(size_t n, double *X) {\n",
        "    double s = 0.0;\n",
        "    for (size_t i = 0; i < n; ++i) {\n",
        "        s += X[i];\n",
        "    }\n",
        "    return s;\n",
        "}\n",
        "\"\"\"\n",
        "\n",
        "const Clib = tempname()   # make a temporary file\n",
        "\n",
        "\n",
        "# compile to a shared library by piping C_code to gcc\n",
        "# (works only if you have gcc installed):\n",
        "\n",
        "open(`gcc -fPIC -O3 -msse3 -xc -shared -o $(Clib * \".\" * Libdl.dlext) -`, \"w\") do f\n",
        "    print(f, C_code)\n",
        "end\n",
        "\n",
        "# define a Julia function that calls the C function:\n",
        "c_sum(X::Array{Float64}) = ccall((\"c_sum\", Clib), Float64, (Csize_t, Ptr{Float64}), length(X), X)"
      ],
      "outputs": [
        {
          "output_type": "execute_result",
          "execution_count": 8,
          "data": {
            "text/plain": "c_sum (generic function with 1 method)"
          },
          "metadata": {}
        }
      ],
      "execution_count": 8,
      "metadata": {
        "execution": {
          "iopub.status.busy": "2021-03-26T22:06:57.924Z",
          "iopub.execute_input": "2021-03-26T22:06:57.942Z",
          "iopub.status.idle": "2021-03-26T22:06:59.852Z"
        }
      }
    },
    {
      "cell_type": "code",
      "source": [
        "c_sum(a)"
      ],
      "outputs": [
        {
          "output_type": "execute_result",
          "execution_count": 9,
          "data": {
            "text/plain": "5.000489438658943e6"
          },
          "metadata": {}
        }
      ],
      "execution_count": 9,
      "metadata": {
        "execution": {
          "iopub.status.busy": "2021-03-26T22:07:41.527Z",
          "iopub.execute_input": "2021-03-26T22:07:41.544Z",
          "iopub.status.idle": "2021-03-26T22:07:41.632Z"
        }
      }
    },
    {
      "cell_type": "code",
      "source": [
        "c_sum(a) ≈ sum(a) # type \\approx and then <TAB> to get the ≈ symbolb"
      ],
      "outputs": [
        {
          "output_type": "execute_result",
          "execution_count": 10,
          "data": {
            "text/plain": "true"
          },
          "metadata": {}
        }
      ],
      "execution_count": 10,
      "metadata": {
        "execution": {
          "iopub.status.busy": "2021-03-26T22:07:49.212Z",
          "iopub.execute_input": "2021-03-26T22:07:49.228Z",
          "iopub.status.idle": "2021-03-26T22:07:49.428Z"
        }
      }
    },
    {
      "cell_type": "code",
      "source": [
        "c_sum(a) - sum(a)"
      ],
      "outputs": [
        {
          "output_type": "execute_result",
          "execution_count": 11,
          "data": {
            "text/plain": "5.597248673439026e-7"
          },
          "metadata": {}
        }
      ],
      "execution_count": 11,
      "metadata": {
        "execution": {
          "iopub.status.busy": "2021-03-26T22:07:53.376Z",
          "iopub.execute_input": "2021-03-26T22:07:53.394Z",
          "iopub.status.idle": "2021-03-26T22:07:53.423Z"
        }
      }
    },
    {
      "cell_type": "code",
      "source": [
        "≈  # alias for the `isapprox` function"
      ],
      "outputs": [
        {
          "output_type": "execute_result",
          "execution_count": 12,
          "data": {
            "text/plain": "isapprox (generic function with 9 methods)"
          },
          "metadata": {}
        }
      ],
      "execution_count": 12,
      "metadata": {
        "execution": {
          "iopub.status.busy": "2021-03-26T22:07:57.744Z",
          "iopub.execute_input": "2021-03-26T22:07:57.760Z",
          "iopub.status.idle": "2021-03-26T22:07:57.818Z"
        }
      }
    },
    {
      "cell_type": "code",
      "source": [
        "?isapprox"
      ],
      "outputs": [
        {
          "output_type": "stream",
          "name": "stdout",
          "text": [
            "search: \u001b[0m\u001b[1mi\u001b[22m\u001b[0m\u001b[1ms\u001b[22m\u001b[0m\u001b[1ma\u001b[22m\u001b[0m\u001b[1mp\u001b[22m\u001b[0m\u001b[1mp\u001b[22m\u001b[0m\u001b[1mr\u001b[22m\u001b[0m\u001b[1mo\u001b[22m\u001b[0m\u001b[1mx\u001b[22m\n",
            "\n"
          ]
        },
        {
          "output_type": "execute_result",
          "execution_count": 13,
          "data": {
            "text/plain": "\u001b[36m  isapprox(x, y; atol::Real=0, rtol::Real=atol>0 ? 0 : √eps, nans::Bool=false[, norm::Function])\u001b[39m\n\n  Inexact equality comparison: \u001b[36mtrue\u001b[39m if \u001b[36mnorm(x-y) <= max(atol,\n  rtol*max(norm(x), norm(y)))\u001b[39m. The default \u001b[36matol\u001b[39m is zero and the default \u001b[36mrtol\u001b[39m\n  depends on the types of \u001b[36mx\u001b[39m and \u001b[36my\u001b[39m. The keyword argument \u001b[36mnans\u001b[39m determines\n  whether or not NaN values are considered equal (defaults to false).\n\n  For real or complex floating-point values, if an \u001b[36matol > 0\u001b[39m is not specified,\n  \u001b[36mrtol\u001b[39m defaults to the square root of \u001b[36meps\u001b[39m of the type of \u001b[36mx\u001b[39m or \u001b[36my\u001b[39m, whichever is\n  bigger (least precise). This corresponds to requiring equality of about half\n  of the significand digits. Otherwise, e.g. for integer arguments or if an\n  \u001b[36matol > 0\u001b[39m is supplied, \u001b[36mrtol\u001b[39m defaults to zero.\n\n  The \u001b[36mnorm\u001b[39m keyword defaults to \u001b[36mabs\u001b[39m for numeric \u001b[36m(x,y)\u001b[39m and to \u001b[36mLinearAlgebra.norm\u001b[39m\n  for arrays (where an alternative \u001b[36mnorm\u001b[39m choice is sometimes useful). When \u001b[36mx\u001b[39m\n  and \u001b[36my\u001b[39m are arrays, if \u001b[36mnorm(x-y)\u001b[39m is not finite (i.e. \u001b[36m±Inf\u001b[39m or \u001b[36mNaN\u001b[39m), the\n  comparison falls back to checking whether all elements of \u001b[36mx\u001b[39m and \u001b[36my\u001b[39m are\n  approximately equal component-wise.\n\n  The binary operator \u001b[36m≈\u001b[39m is equivalent to \u001b[36misapprox\u001b[39m with the default arguments,\n  and \u001b[36mx ≉ y\u001b[39m is equivalent to \u001b[36m!isapprox(x,y)\u001b[39m.\n\n  Note that \u001b[36mx ≈ 0\u001b[39m (i.e., comparing to zero with the default tolerances) is\n  equivalent to \u001b[36mx == 0\u001b[39m since the default \u001b[36matol\u001b[39m is \u001b[36m0\u001b[39m. In such cases, you should\n  either supply an appropriate \u001b[36matol\u001b[39m (or use \u001b[36mnorm(x) ≤ atol\u001b[39m) or rearrange your\n  code (e.g. use \u001b[36mx ≈ y\u001b[39m rather than \u001b[36mx - y ≈ 0\u001b[39m). It is not possible to pick a\n  nonzero \u001b[36matol\u001b[39m automatically because it depends on the overall scaling (the\n  \"units\") of your problem: for example, in \u001b[36mx - y ≈ 0\u001b[39m, \u001b[36matol=1e-9\u001b[39m is an\n  absurdly small tolerance if \u001b[36mx\u001b[39m is the radius of the Earth\n  (https://en.wikipedia.org/wiki/Earth_radius) in meters, but an absurdly\n  large tolerance if \u001b[36mx\u001b[39m is the radius of a Hydrogen atom\n  (https://en.wikipedia.org/wiki/Bohr_radius) in meters.\n\n\u001b[39m\u001b[1m  │ \u001b[22m\u001b[39m\u001b[1mJulia 1.6\u001b[22m\n\u001b[39m\u001b[1m  │\u001b[22m\n\u001b[39m\u001b[1m  │\u001b[22m  Passing the \u001b[36mnorm\u001b[39m keyword argument when comparing numeric\n\u001b[39m\u001b[1m  │\u001b[22m  (non-array) arguments requires Julia 1.6 or later.\n\n\u001b[1m  Examples\u001b[22m\n\u001b[1m  ≡≡≡≡≡≡≡≡≡≡\u001b[22m\n\n\u001b[36m  julia> 0.1 ≈ (0.1 - 1e-10)\u001b[39m\n\u001b[36m  true\u001b[39m\n\u001b[36m  \u001b[39m\n\u001b[36m  julia> isapprox(10, 11; atol = 2)\u001b[39m\n\u001b[36m  true\u001b[39m\n\u001b[36m  \u001b[39m\n\u001b[36m  julia> isapprox([10.0^9, 1.0], [10.0^9, 2.0])\u001b[39m\n\u001b[36m  true\u001b[39m\n\u001b[36m  \u001b[39m\n\u001b[36m  julia> 1e-10 ≈ 0\u001b[39m\n\u001b[36m  false\u001b[39m\n\u001b[36m  \u001b[39m\n\u001b[36m  julia> isapprox(1e-10, 0, atol=1e-8)\u001b[39m\n\u001b[36m  true\u001b[39m\n\n  ────────────────────────────────────────────────────────────────────────────\n\n\u001b[36m  isapprox(x; kwargs...) / ≈(x; kwargs...)\u001b[39m\n\n  Create a function that compares its argument to \u001b[36mx\u001b[39m using \u001b[36m≈\u001b[39m, i.e. a function\n  equivalent to \u001b[36my -> y ≈ x\u001b[39m.\n\n  The keyword arguments supported here are the same as those in the 2-argument\n  \u001b[36misapprox\u001b[39m.",
            "text/markdown": "```\nisapprox(x, y; atol::Real=0, rtol::Real=atol>0 ? 0 : √eps, nans::Bool=false[, norm::Function])\n```\n\nInexact equality comparison: `true` if `norm(x-y) <= max(atol, rtol*max(norm(x), norm(y)))`. The default `atol` is zero and the default `rtol` depends on the types of `x` and `y`. The keyword argument `nans` determines whether or not NaN values are considered equal (defaults to false).\n\nFor real or complex floating-point values, if an `atol > 0` is not specified, `rtol` defaults to the square root of [`eps`](@ref) of the type of `x` or `y`, whichever is bigger (least precise). This corresponds to requiring equality of about half of the significand digits. Otherwise, e.g. for integer arguments or if an `atol > 0` is supplied, `rtol` defaults to zero.\n\nThe `norm` keyword defaults to `abs` for numeric `(x,y)` and to `LinearAlgebra.norm` for arrays (where an alternative `norm` choice is sometimes useful). When `x` and `y` are arrays, if `norm(x-y)` is not finite (i.e. `±Inf` or `NaN`), the comparison falls back to checking whether all elements of `x` and `y` are approximately equal component-wise.\n\nThe binary operator `≈` is equivalent to `isapprox` with the default arguments, and `x ≉ y` is equivalent to `!isapprox(x,y)`.\n\nNote that `x ≈ 0` (i.e., comparing to zero with the default tolerances) is equivalent to `x == 0` since the default `atol` is `0`.  In such cases, you should either supply an appropriate `atol` (or use `norm(x) ≤ atol`) or rearrange your code (e.g. use `x ≈ y` rather than `x - y ≈ 0`).   It is not possible to pick a nonzero `atol` automatically because it depends on the overall scaling (the \"units\") of your problem: for example, in `x - y ≈ 0`, `atol=1e-9` is an absurdly small tolerance if `x` is the [radius of the Earth](https://en.wikipedia.org/wiki/Earth_radius) in meters, but an absurdly large tolerance if `x` is the [radius of a Hydrogen atom](https://en.wikipedia.org/wiki/Bohr_radius) in meters.\n\n!!! compat \"Julia 1.6\"\n    Passing the `norm` keyword argument when comparing numeric (non-array) arguments requires Julia 1.6 or later.\n\n\n# Examples\n\n```jldoctest\njulia> 0.1 ≈ (0.1 - 1e-10)\ntrue\n\njulia> isapprox(10, 11; atol = 2)\ntrue\n\njulia> isapprox([10.0^9, 1.0], [10.0^9, 2.0])\ntrue\n\njulia> 1e-10 ≈ 0\nfalse\n\njulia> isapprox(1e-10, 0, atol=1e-8)\ntrue\n```\n\n---\n\n```\nisapprox(x; kwargs...) / ≈(x; kwargs...)\n```\n\nCreate a function that compares its argument to `x` using `≈`, i.e. a function equivalent to `y -> y ≈ x`.\n\nThe keyword arguments supported here are the same as those in the 2-argument `isapprox`.\n",
            "text/latex": "\\begin{verbatim}\nisapprox(x, y; atol::Real=0, rtol::Real=atol>0 ? 0 : √eps, nans::Bool=false[, norm::Function])\n\\end{verbatim}\nInexact equality comparison: \\texttt{true} if \\texttt{norm(x-y) <= max(atol, rtol*max(norm(x), norm(y)))}. The default \\texttt{atol} is zero and the default \\texttt{rtol} depends on the types of \\texttt{x} and \\texttt{y}. The keyword argument \\texttt{nans} determines whether or not NaN values are considered equal (defaults to false).\n\nFor real or complex floating-point values, if an \\texttt{atol > 0} is not specified, \\texttt{rtol} defaults to the square root of \\href{@ref}{\\texttt{eps}} of the type of \\texttt{x} or \\texttt{y}, whichever is bigger (least precise). This corresponds to requiring equality of about half of the significand digits. Otherwise, e.g. for integer arguments or if an \\texttt{atol > 0} is supplied, \\texttt{rtol} defaults to zero.\n\nThe \\texttt{norm} keyword defaults to \\texttt{abs} for numeric \\texttt{(x,y)} and to \\texttt{LinearAlgebra.norm} for arrays (where an alternative \\texttt{norm} choice is sometimes useful). When \\texttt{x} and \\texttt{y} are arrays, if \\texttt{norm(x-y)} is not finite (i.e. \\texttt{±Inf} or \\texttt{NaN}), the comparison falls back to checking whether all elements of \\texttt{x} and \\texttt{y} are approximately equal component-wise.\n\nThe binary operator \\texttt{≈} is equivalent to \\texttt{isapprox} with the default arguments, and \\texttt{x ≉ y} is equivalent to \\texttt{!isapprox(x,y)}.\n\nNote that \\texttt{x ≈ 0} (i.e., comparing to zero with the default tolerances) is equivalent to \\texttt{x == 0} since the default \\texttt{atol} is \\texttt{0}.  In such cases, you should either supply an appropriate \\texttt{atol} (or use \\texttt{norm(x) ≤ atol}) or rearrange your code (e.g. use \\texttt{x ≈ y} rather than \\texttt{x - y ≈ 0}).   It is not possible to pick a nonzero \\texttt{atol} automatically because it depends on the overall scaling (the \"units\") of your problem: for example, in \\texttt{x - y ≈ 0}, \\texttt{atol=1e-9} is an absurdly small tolerance if \\texttt{x} is the \\href{https://en.wikipedia.org/wiki/Earth_radius}{radius of the Earth} in meters, but an absurdly large tolerance if \\texttt{x} is the \\href{https://en.wikipedia.org/wiki/Bohr_radius}{radius of a Hydrogen atom} in meters.\n\n\\begin{quote}\n\\textbf{compat}\n\nJulia 1.6\n\nPassing the \\texttt{norm} keyword argument when comparing numeric (non-array) arguments requires Julia 1.6 or later.\n\n\\end{quote}\n\\section{Examples}\n\\begin{verbatim}\njulia> 0.1 ≈ (0.1 - 1e-10)\ntrue\n\njulia> isapprox(10, 11; atol = 2)\ntrue\n\njulia> isapprox([10.0^9, 1.0], [10.0^9, 2.0])\ntrue\n\njulia> 1e-10 ≈ 0\nfalse\n\njulia> isapprox(1e-10, 0, atol=1e-8)\ntrue\n\\end{verbatim}\n\\rule{\\textwidth}{1pt}\n\\begin{verbatim}\nisapprox(x; kwargs...) / ≈(x; kwargs...)\n\\end{verbatim}\nCreate a function that compares its argument to \\texttt{x} using \\texttt{≈}, i.e. a function equivalent to \\texttt{y -> y ≈ x}.\n\nThe keyword arguments supported here are the same as those in the 2-argument \\texttt{isapprox}.\n\n"
          },
          "metadata": {}
        }
      ],
      "execution_count": 13,
      "metadata": {
        "execution": {
          "iopub.status.busy": "2021-03-26T22:08:04.585Z",
          "iopub.execute_input": "2021-03-26T22:08:04.604Z",
          "iopub.status.idle": "2021-03-26T22:08:05.676Z"
        }
      }
    },
    {
      "cell_type": "markdown",
      "source": [
        "We can now benchmark the C code directly from Julia:"
      ],
      "metadata": {}
    },
    {
      "cell_type": "code",
      "source": [
        "c_bench = @benchmark c_sum($a)"
      ],
      "outputs": [
        {
          "output_type": "execute_result",
          "execution_count": 14,
          "data": {
            "text/plain": "BenchmarkTools.Trial: \n  memory estimate:  0 bytes\n  allocs estimate:  0\n  --------------\n  minimum time:     11.597 ms (0.00% GC)\n  median time:      17.387 ms (0.00% GC)\n  mean time:        17.154 ms (0.00% GC)\n  maximum time:     17.508 ms (0.00% GC)\n  --------------\n  samples:          292\n  evals/sample:     1"
          },
          "metadata": {}
        }
      ],
      "execution_count": 14,
      "metadata": {
        "execution": {
          "iopub.status.busy": "2021-03-26T22:08:26.629Z",
          "iopub.execute_input": "2021-03-26T22:08:26.645Z",
          "iopub.status.idle": "2021-03-26T22:08:38.727Z"
        }
      }
    },
    {
      "cell_type": "code",
      "source": [
        "println(\"C: Fastest time was $(minimum(c_bench.times) / 1e6) msec\")"
      ],
      "outputs": [
        {
          "output_type": "stream",
          "name": "stdout",
          "text": [
            "C: Fastest time was 11.597034 msec\n"
          ]
        }
      ],
      "execution_count": 16,
      "metadata": {
        "execution": {
          "iopub.status.busy": "2021-03-26T22:08:49.023Z",
          "iopub.execute_input": "2021-03-26T22:08:49.042Z",
          "iopub.status.idle": "2021-03-26T22:08:49.077Z"
        }
      }
    },
    {
      "cell_type": "code",
      "source": [
        "d = Dict()  # a \"dictionary\", i.e. an associative array\n",
        "d[\"C\"] = minimum(c_bench.times) / 1e6  # in milliseconds\n",
        "d"
      ],
      "outputs": [
        {
          "output_type": "execute_result",
          "execution_count": 17,
          "data": {
            "text/plain": "Dict{Any, Any} with 1 entry:\n  \"C\" => 11.597"
          },
          "metadata": {}
        }
      ],
      "execution_count": 17,
      "metadata": {
        "execution": {
          "iopub.status.busy": "2021-03-26T22:08:52.761Z",
          "iopub.execute_input": "2021-03-26T22:08:52.778Z",
          "iopub.status.idle": "2021-03-26T22:08:53.822Z"
        }
      }
    },
    {
      "cell_type": "code",
      "source": [
        "using Plots\n",
        "gr()"
      ],
      "outputs": [
        {
          "output_type": "execute_result",
          "execution_count": 18,
          "data": {
            "text/plain": "Plots.GRBackend()"
          },
          "metadata": {}
        }
      ],
      "execution_count": 18,
      "metadata": {
        "execution": {
          "iopub.status.busy": "2021-03-26T22:08:57.350Z",
          "iopub.execute_input": "2021-03-26T22:08:57.366Z",
          "iopub.status.idle": "2021-03-26T22:09:01.166Z"
        }
      }
    },
    {
      "cell_type": "code",
      "source": [
        "using Statistics # bring in statistical support for standard deviations\n",
        "t = c_bench.times / 1e6 # times in milliseconds\n",
        "m, σ = minimum(t), std(t)\n",
        "\n",
        "histogram(t, bins=500,\n",
        "    xlim=(m - 0.01, m + σ),\n",
        "    xlabel=\"milliseconds\", ylabel=\"count\", label=\"\")\n",
        "# # 2. C with -ffast-math"
      ],
      "outputs": [
        {
          "output_type": "execute_result",
          "execution_count": 19,
          "data": {
            "image/svg+xml": "<?xml version=\"1.0\" encoding=\"utf-8\"?>\n<svg xmlns=\"http://www.w3.org/2000/svg\" xmlns:xlink=\"http://www.w3.org/1999/xlink\" width=\"600\" height=\"400\" viewBox=\"0 0 2400 1600\">\n<defs>\n  <clipPath id=\"clip400\">\n    <rect x=\"0\" y=\"0\" width=\"2400\" height=\"1600\"/>\n  </clipPath>\n</defs>\n<path clip-path=\"url(#clip400)\" d=\"\nM0 1600 L2400 1600 L2400 0 L0 0  Z\n  \" fill=\"#ffffff\" fill-rule=\"evenodd\" fill-opacity=\"1\"/>\n<defs>\n  <clipPath id=\"clip401\">\n    <rect x=\"480\" y=\"0\" width=\"1681\" height=\"1600\"/>\n  </clipPath>\n</defs>\n<path clip-path=\"url(#clip400)\" d=\"\nM202.459 1423.18 L2352.76 1423.18 L2352.76 47.2441 L202.459 47.2441  Z\n  \" fill=\"#ffffff\" fill-rule=\"evenodd\" fill-opacity=\"1\"/>\n<defs>\n  <clipPath id=\"clip402\">\n    <rect x=\"202\" y=\"47\" width=\"2151\" height=\"1377\"/>\n  </clipPath>\n</defs>\n<polyline clip-path=\"url(#clip402)\" style=\"stroke:#000000; stroke-width:2; stroke-opacity:0.1; fill:none\" points=\"\n  234.159,1423.18 234.159,47.2441 \n  \"/>\n<polyline clip-path=\"url(#clip402)\" style=\"stroke:#000000; stroke-width:2; stroke-opacity:0.1; fill:none\" points=\"\n  723.127,1423.18 723.127,47.2441 \n  \"/>\n<polyline clip-path=\"url(#clip402)\" style=\"stroke:#000000; stroke-width:2; stroke-opacity:0.1; fill:none\" points=\"\n  1212.09,1423.18 1212.09,47.2441 \n  \"/>\n<polyline clip-path=\"url(#clip402)\" style=\"stroke:#000000; stroke-width:2; stroke-opacity:0.1; fill:none\" points=\"\n  1701.06,1423.18 1701.06,47.2441 \n  \"/>\n<polyline clip-path=\"url(#clip402)\" style=\"stroke:#000000; stroke-width:2; stroke-opacity:0.1; fill:none\" points=\"\n  2190.03,1423.18 2190.03,47.2441 \n  \"/>\n<polyline clip-path=\"url(#clip400)\" style=\"stroke:#000000; stroke-width:4; stroke-opacity:1; fill:none\" points=\"\n  202.459,1423.18 2352.76,1423.18 \n  \"/>\n<polyline clip-path=\"url(#clip400)\" style=\"stroke:#000000; stroke-width:4; stroke-opacity:1; fill:none\" points=\"\n  234.159,1423.18 234.159,1406.67 \n  \"/>\n<polyline clip-path=\"url(#clip400)\" style=\"stroke:#000000; stroke-width:4; stroke-opacity:1; fill:none\" points=\"\n  723.127,1423.18 723.127,1406.67 \n  \"/>\n<polyline clip-path=\"url(#clip400)\" style=\"stroke:#000000; stroke-width:4; stroke-opacity:1; fill:none\" points=\"\n  1212.09,1423.18 1212.09,1406.67 \n  \"/>\n<polyline clip-path=\"url(#clip400)\" style=\"stroke:#000000; stroke-width:4; stroke-opacity:1; fill:none\" points=\"\n  1701.06,1423.18 1701.06,1406.67 \n  \"/>\n<polyline clip-path=\"url(#clip400)\" style=\"stroke:#000000; stroke-width:4; stroke-opacity:1; fill:none\" points=\"\n  2190.03,1423.18 2190.03,1406.67 \n  \"/>\n<path clip-path=\"url(#clip400)\" d=\"M 0 0 M193.083 1479.92 L200.721 1479.92 L200.721 1453.55 L192.411 1455.22 L192.411 1450.96 L200.675 1449.29 L205.351 1449.29 L205.351 1479.92 L212.99 1479.92 L212.99 1483.85 L193.083 1483.85 L193.083 1479.92 Z\" fill=\"#000000\" fill-rule=\"evenodd\" fill-opacity=\"1\" /><path clip-path=\"url(#clip400)\" d=\"M 0 0 M218.869 1479.92 L226.508 1479.92 L226.508 1453.55 L218.198 1455.22 L218.198 1450.96 L226.462 1449.29 L231.138 1449.29 L231.138 1479.92 L238.777 1479.92 L238.777 1483.85 L218.869 1483.85 L218.869 1479.92 Z\" fill=\"#000000\" fill-rule=\"evenodd\" fill-opacity=\"1\" /><path clip-path=\"url(#clip400)\" d=\"M 0 0 M243.846 1477.97 L248.73 1477.97 L248.73 1483.85 L243.846 1483.85 L243.846 1477.97 Z\" fill=\"#000000\" fill-rule=\"evenodd\" fill-opacity=\"1\" /><path clip-path=\"url(#clip400)\" d=\"M 0 0 M264.378 1464.71 Q261.23 1464.71 259.379 1466.86 Q257.55 1469.01 257.55 1472.76 Q257.55 1476.49 259.379 1478.67 Q261.23 1480.82 264.378 1480.82 Q267.527 1480.82 269.355 1478.67 Q271.207 1476.49 271.207 1472.76 Q271.207 1469.01 269.355 1466.86 Q267.527 1464.71 264.378 1464.71 M273.661 1450.06 L273.661 1454.31 Q271.902 1453.48 270.096 1453.04 Q268.314 1452.6 266.554 1452.6 Q261.925 1452.6 259.471 1455.73 Q257.041 1458.85 256.693 1465.17 Q258.059 1463.16 260.119 1462.09 Q262.179 1461 264.656 1461 Q269.865 1461 272.874 1464.18 Q275.906 1467.32 275.906 1472.76 Q275.906 1478.09 272.758 1481.31 Q269.61 1484.52 264.378 1484.52 Q258.383 1484.52 255.212 1479.94 Q252.041 1475.33 252.041 1466.61 Q252.041 1458.41 255.929 1453.55 Q259.818 1448.67 266.369 1448.67 Q268.128 1448.67 269.911 1449.01 Q271.716 1449.36 273.661 1450.06 Z\" fill=\"#000000\" fill-rule=\"evenodd\" fill-opacity=\"1\" /><path clip-path=\"url(#clip400)\" d=\"M 0 0 M682.178 1479.92 L689.817 1479.92 L689.817 1453.55 L681.507 1455.22 L681.507 1450.96 L689.77 1449.29 L694.446 1449.29 L694.446 1479.92 L702.085 1479.92 L702.085 1483.85 L682.178 1483.85 L682.178 1479.92 Z\" fill=\"#000000\" fill-rule=\"evenodd\" fill-opacity=\"1\" /><path clip-path=\"url(#clip400)\" d=\"M 0 0 M707.965 1479.92 L715.604 1479.92 L715.604 1453.55 L707.293 1455.22 L707.293 1450.96 L715.557 1449.29 L720.233 1449.29 L720.233 1479.92 L727.872 1479.92 L727.872 1483.85 L707.965 1483.85 L707.965 1479.92 Z\" fill=\"#000000\" fill-rule=\"evenodd\" fill-opacity=\"1\" /><path clip-path=\"url(#clip400)\" d=\"M 0 0 M732.941 1477.97 L737.826 1477.97 L737.826 1483.85 L732.941 1483.85 L732.941 1477.97 Z\" fill=\"#000000\" fill-rule=\"evenodd\" fill-opacity=\"1\" /><path clip-path=\"url(#clip400)\" d=\"M 0 0 M752.895 1467.44 Q749.562 1467.44 747.64 1469.22 Q745.742 1471 745.742 1474.13 Q745.742 1477.25 747.64 1479.04 Q749.562 1480.82 752.895 1480.82 Q756.228 1480.82 758.15 1479.04 Q760.071 1477.23 760.071 1474.13 Q760.071 1471 758.15 1469.22 Q756.252 1467.44 752.895 1467.44 M748.219 1465.45 Q745.21 1464.71 743.52 1462.65 Q741.853 1460.59 741.853 1457.63 Q741.853 1453.48 744.793 1451.07 Q747.756 1448.67 752.895 1448.67 Q758.057 1448.67 760.997 1451.07 Q763.937 1453.48 763.937 1457.63 Q763.937 1460.59 762.247 1462.65 Q760.58 1464.71 757.594 1465.45 Q760.974 1466.24 762.849 1468.53 Q764.747 1470.82 764.747 1474.13 Q764.747 1479.15 761.668 1481.84 Q758.613 1484.52 752.895 1484.52 Q747.177 1484.52 744.099 1481.84 Q741.043 1479.15 741.043 1474.13 Q741.043 1470.82 742.941 1468.53 Q744.84 1466.24 748.219 1465.45 M746.506 1458.06 Q746.506 1460.75 748.173 1462.25 Q749.863 1463.76 752.895 1463.76 Q755.904 1463.76 757.594 1462.25 Q759.307 1460.75 759.307 1458.06 Q759.307 1455.38 757.594 1453.88 Q755.904 1452.37 752.895 1452.37 Q749.863 1452.37 748.173 1453.88 Q746.506 1455.38 746.506 1458.06 Z\" fill=\"#000000\" fill-rule=\"evenodd\" fill-opacity=\"1\" /><path clip-path=\"url(#clip400)\" d=\"M 0 0 M1171.28 1479.92 L1178.92 1479.92 L1178.92 1453.55 L1170.61 1455.22 L1170.61 1450.96 L1178.88 1449.29 L1183.55 1449.29 L1183.55 1479.92 L1191.19 1479.92 L1191.19 1483.85 L1171.28 1483.85 L1171.28 1479.92 Z\" fill=\"#000000\" fill-rule=\"evenodd\" fill-opacity=\"1\" /><path clip-path=\"url(#clip400)\" d=\"M 0 0 M1200.29 1479.92 L1216.61 1479.92 L1216.61 1483.85 L1194.66 1483.85 L1194.66 1479.92 Q1197.33 1477.16 1201.91 1472.53 Q1206.52 1467.88 1207.7 1466.54 Q1209.94 1464.01 1210.82 1462.28 Q1211.72 1460.52 1211.72 1458.83 Q1211.72 1456.07 1209.78 1454.34 Q1207.86 1452.6 1204.76 1452.6 Q1202.56 1452.6 1200.1 1453.37 Q1197.67 1454.13 1194.9 1455.68 L1194.9 1450.96 Q1197.72 1449.82 1200.17 1449.25 Q1202.63 1448.67 1204.66 1448.67 Q1210.03 1448.67 1213.23 1451.35 Q1216.42 1454.04 1216.42 1458.53 Q1216.42 1460.66 1215.61 1462.58 Q1214.83 1464.48 1212.72 1467.07 Q1212.14 1467.74 1209.04 1470.96 Q1205.94 1474.15 1200.29 1479.92 Z\" fill=\"#000000\" fill-rule=\"evenodd\" fill-opacity=\"1\" /><path clip-path=\"url(#clip400)\" d=\"M 0 0 M1221.68 1477.97 L1226.56 1477.97 L1226.56 1483.85 L1221.68 1483.85 L1221.68 1477.97 Z\" fill=\"#000000\" fill-rule=\"evenodd\" fill-opacity=\"1\" /><path clip-path=\"url(#clip400)\" d=\"M 0 0 M1241.63 1452.37 Q1238.02 1452.37 1236.19 1455.94 Q1234.39 1459.48 1234.39 1466.61 Q1234.39 1473.71 1236.19 1477.28 Q1238.02 1480.82 1241.63 1480.82 Q1245.27 1480.82 1247.07 1477.28 Q1248.9 1473.71 1248.9 1466.61 Q1248.9 1459.48 1247.07 1455.94 Q1245.27 1452.37 1241.63 1452.37 M1241.63 1448.67 Q1247.44 1448.67 1250.5 1453.27 Q1253.58 1457.86 1253.58 1466.61 Q1253.58 1475.33 1250.5 1479.94 Q1247.44 1484.52 1241.63 1484.52 Q1235.82 1484.52 1232.74 1479.94 Q1229.69 1475.33 1229.69 1466.61 Q1229.69 1457.86 1232.74 1453.27 Q1235.82 1448.67 1241.63 1448.67 Z\" fill=\"#000000\" fill-rule=\"evenodd\" fill-opacity=\"1\" /><path clip-path=\"url(#clip400)\" d=\"M 0 0 M1661.05 1479.92 L1668.69 1479.92 L1668.69 1453.55 L1660.38 1455.22 L1660.38 1450.96 L1668.64 1449.29 L1673.32 1449.29 L1673.32 1479.92 L1680.96 1479.92 L1680.96 1483.85 L1661.05 1483.85 L1661.05 1479.92 Z\" fill=\"#000000\" fill-rule=\"evenodd\" fill-opacity=\"1\" /><path clip-path=\"url(#clip400)\" d=\"M 0 0 M1690.06 1479.92 L1706.38 1479.92 L1706.38 1483.85 L1684.43 1483.85 L1684.43 1479.92 Q1687.09 1477.16 1691.68 1472.53 Q1696.28 1467.88 1697.46 1466.54 Q1699.71 1464.01 1700.59 1462.28 Q1701.49 1460.52 1701.49 1458.83 Q1701.49 1456.07 1699.55 1454.34 Q1697.63 1452.6 1694.52 1452.6 Q1692.32 1452.6 1689.87 1453.37 Q1687.44 1454.13 1684.66 1455.68 L1684.66 1450.96 Q1687.49 1449.82 1689.94 1449.25 Q1692.39 1448.67 1694.43 1448.67 Q1699.8 1448.67 1703 1451.35 Q1706.19 1454.04 1706.19 1458.53 Q1706.19 1460.66 1705.38 1462.58 Q1704.59 1464.48 1702.49 1467.07 Q1701.91 1467.74 1698.81 1470.96 Q1695.7 1474.15 1690.06 1479.92 Z\" fill=\"#000000\" fill-rule=\"evenodd\" fill-opacity=\"1\" /><path clip-path=\"url(#clip400)\" d=\"M 0 0 M1711.44 1477.97 L1716.33 1477.97 L1716.33 1483.85 L1711.44 1483.85 L1711.44 1477.97 Z\" fill=\"#000000\" fill-rule=\"evenodd\" fill-opacity=\"1\" /><path clip-path=\"url(#clip400)\" d=\"M 0 0 M1725.43 1479.92 L1741.75 1479.92 L1741.75 1483.85 L1719.8 1483.85 L1719.8 1479.92 Q1722.46 1477.16 1727.05 1472.53 Q1731.65 1467.88 1732.83 1466.54 Q1735.08 1464.01 1735.96 1462.28 Q1736.86 1460.52 1736.86 1458.83 Q1736.86 1456.07 1734.92 1454.34 Q1733 1452.6 1729.89 1452.6 Q1727.69 1452.6 1725.24 1453.37 Q1722.81 1454.13 1720.03 1455.68 L1720.03 1450.96 Q1722.86 1449.82 1725.31 1449.25 Q1727.76 1448.67 1729.8 1448.67 Q1735.17 1448.67 1738.37 1451.35 Q1741.56 1454.04 1741.56 1458.53 Q1741.56 1460.66 1740.75 1462.58 Q1739.96 1464.48 1737.86 1467.07 Q1737.28 1467.74 1734.18 1470.96 Q1731.07 1474.15 1725.43 1479.92 Z\" fill=\"#000000\" fill-rule=\"evenodd\" fill-opacity=\"1\" /><path clip-path=\"url(#clip400)\" d=\"M 0 0 M2148.98 1479.92 L2156.62 1479.92 L2156.62 1453.55 L2148.31 1455.22 L2148.31 1450.96 L2156.57 1449.29 L2161.25 1449.29 L2161.25 1479.92 L2168.88 1479.92 L2168.88 1483.85 L2148.98 1483.85 L2148.98 1479.92 Z\" fill=\"#000000\" fill-rule=\"evenodd\" fill-opacity=\"1\" /><path clip-path=\"url(#clip400)\" d=\"M 0 0 M2177.98 1479.92 L2194.3 1479.92 L2194.3 1483.85 L2172.36 1483.85 L2172.36 1479.92 Q2175.02 1477.16 2179.6 1472.53 Q2184.21 1467.88 2185.39 1466.54 Q2187.63 1464.01 2188.51 1462.28 Q2189.42 1460.52 2189.42 1458.83 Q2189.42 1456.07 2187.47 1454.34 Q2185.55 1452.6 2182.45 1452.6 Q2180.25 1452.6 2177.8 1453.37 Q2175.37 1454.13 2172.59 1455.68 L2172.59 1450.96 Q2175.41 1449.82 2177.87 1449.25 Q2180.32 1448.67 2182.36 1448.67 Q2187.73 1448.67 2190.92 1451.35 Q2194.12 1454.04 2194.12 1458.53 Q2194.12 1460.66 2193.31 1462.58 Q2192.52 1464.48 2190.41 1467.07 Q2189.83 1467.74 2186.73 1470.96 Q2183.63 1474.15 2177.98 1479.92 Z\" fill=\"#000000\" fill-rule=\"evenodd\" fill-opacity=\"1\" /><path clip-path=\"url(#clip400)\" d=\"M 0 0 M2199.37 1477.97 L2204.25 1477.97 L2204.25 1483.85 L2199.37 1483.85 L2199.37 1477.97 Z\" fill=\"#000000\" fill-rule=\"evenodd\" fill-opacity=\"1\" /><path clip-path=\"url(#clip400)\" d=\"M 0 0 M2222.17 1453.37 L2210.37 1471.81 L2222.17 1471.81 L2222.17 1453.37 M2220.94 1449.29 L2226.82 1449.29 L2226.82 1471.81 L2231.75 1471.81 L2231.75 1475.7 L2226.82 1475.7 L2226.82 1483.85 L2222.17 1483.85 L2222.17 1475.7 L2206.57 1475.7 L2206.57 1471.19 L2220.94 1449.29 Z\" fill=\"#000000\" fill-rule=\"evenodd\" fill-opacity=\"1\" /><path clip-path=\"url(#clip400)\" d=\"M 0 0 M1136.8 1539.24 Q1138.99 1535.29 1142.05 1533.41 Q1145.11 1531.54 1149.24 1531.54 Q1154.81 1531.54 1157.84 1535.45 Q1160.86 1539.33 1160.86 1546.53 L1160.86 1568.04 L1154.97 1568.04 L1154.97 1546.72 Q1154.97 1541.59 1153.16 1539.11 Q1151.34 1536.63 1147.62 1536.63 Q1143.07 1536.63 1140.43 1539.65 Q1137.78 1542.68 1137.78 1547.9 L1137.78 1568.04 L1131.9 1568.04 L1131.9 1546.72 Q1131.9 1541.56 1130.08 1539.11 Q1128.27 1536.63 1124.48 1536.63 Q1119.99 1536.63 1117.35 1539.68 Q1114.71 1542.71 1114.71 1547.9 L1114.71 1568.04 L1108.82 1568.04 L1108.82 1532.4 L1114.71 1532.4 L1114.71 1537.93 Q1116.71 1534.66 1119.52 1533.1 Q1122.32 1531.54 1126.17 1531.54 Q1130.05 1531.54 1132.76 1533.51 Q1135.49 1535.48 1136.8 1539.24 Z\" fill=\"#000000\" fill-rule=\"evenodd\" fill-opacity=\"1\" /><path clip-path=\"url(#clip400)\" d=\"M 0 0 M1167 1532.4 L1172.86 1532.4 L1172.86 1568.04 L1167 1568.04 L1167 1532.4 M1167 1518.52 L1172.86 1518.52 L1172.86 1525.93 L1167 1525.93 L1167 1518.52 Z\" fill=\"#000000\" fill-rule=\"evenodd\" fill-opacity=\"1\" /><path clip-path=\"url(#clip400)\" d=\"M 0 0 M1179 1518.52 L1184.86 1518.52 L1184.86 1568.04 L1179 1568.04 L1179 1518.52 Z\" fill=\"#000000\" fill-rule=\"evenodd\" fill-opacity=\"1\" /><path clip-path=\"url(#clip400)\" d=\"M 0 0 M1191 1518.52 L1196.86 1518.52 L1196.86 1568.04 L1191 1568.04 L1191 1518.52 Z\" fill=\"#000000\" fill-rule=\"evenodd\" fill-opacity=\"1\" /><path clip-path=\"url(#clip400)\" d=\"M 0 0 M1203 1532.4 L1208.86 1532.4 L1208.86 1568.04 L1203 1568.04 L1203 1532.4 M1203 1518.52 L1208.86 1518.52 L1208.86 1525.93 L1203 1525.93 L1203 1518.52 Z\" fill=\"#000000\" fill-rule=\"evenodd\" fill-opacity=\"1\" /><path clip-path=\"url(#clip400)\" d=\"M 0 0 M1237.73 1533.45 L1237.73 1538.98 Q1235.24 1537.71 1232.57 1537.07 Q1229.9 1536.44 1227.03 1536.44 Q1222.67 1536.44 1220.48 1537.77 Q1218.31 1539.11 1218.31 1541.79 Q1218.31 1543.82 1219.87 1545 Q1221.43 1546.15 1226.14 1547.2 L1228.15 1547.64 Q1234.38 1548.98 1236.99 1551.43 Q1239.64 1553.85 1239.64 1558.21 Q1239.64 1563.17 1235.69 1566.07 Q1231.77 1568.97 1224.9 1568.97 Q1222.03 1568.97 1218.92 1568.39 Q1215.83 1567.85 1212.39 1566.74 L1212.39 1560.69 Q1215.64 1562.38 1218.79 1563.24 Q1221.94 1564.07 1225.03 1564.07 Q1229.16 1564.07 1231.39 1562.66 Q1233.62 1561.23 1233.62 1558.65 Q1233.62 1556.27 1232 1554.99 Q1230.41 1553.72 1224.96 1552.54 L1222.93 1552.07 Q1217.48 1550.92 1215.06 1548.56 Q1212.65 1546.18 1212.65 1542.04 Q1212.65 1537.01 1216.21 1534.27 Q1219.77 1531.54 1226.33 1531.54 Q1229.58 1531.54 1232.44 1532.01 Q1235.31 1532.49 1237.73 1533.45 Z\" fill=\"#000000\" fill-rule=\"evenodd\" fill-opacity=\"1\" /><path clip-path=\"url(#clip400)\" d=\"M 0 0 M1276.27 1548.76 L1276.27 1551.62 L1249.34 1551.62 Q1249.73 1557.67 1252.97 1560.85 Q1256.25 1564 1262.08 1564 Q1265.45 1564 1268.6 1563.17 Q1271.78 1562.35 1274.9 1560.69 L1274.9 1566.23 Q1271.75 1567.57 1268.44 1568.27 Q1265.13 1568.97 1261.72 1568.97 Q1253.19 1568.97 1248.2 1564 Q1243.23 1559.04 1243.23 1550.57 Q1243.23 1541.82 1247.94 1536.69 Q1252.69 1531.54 1260.71 1531.54 Q1267.9 1531.54 1272.07 1536.18 Q1276.27 1540.8 1276.27 1548.76 M1270.41 1547.04 Q1270.35 1542.23 1267.71 1539.37 Q1265.1 1536.5 1260.77 1536.5 Q1255.87 1536.5 1252.91 1539.27 Q1249.98 1542.04 1249.53 1547.07 L1270.41 1547.04 Z\" fill=\"#000000\" fill-rule=\"evenodd\" fill-opacity=\"1\" /><path clip-path=\"url(#clip400)\" d=\"M 0 0 M1308.07 1533.76 L1308.07 1539.24 Q1305.58 1537.87 1303.07 1537.2 Q1300.59 1536.5 1298.04 1536.5 Q1292.34 1536.5 1289.19 1540.13 Q1286.04 1543.73 1286.04 1550.25 Q1286.04 1556.78 1289.19 1560.4 Q1292.34 1564 1298.04 1564 Q1300.59 1564 1303.07 1563.33 Q1305.58 1562.63 1308.07 1561.26 L1308.07 1566.68 Q1305.62 1567.82 1302.97 1568.39 Q1300.36 1568.97 1297.4 1568.97 Q1289.35 1568.97 1284.61 1563.91 Q1279.87 1558.85 1279.87 1550.25 Q1279.87 1541.53 1284.64 1536.53 Q1289.45 1531.54 1297.79 1531.54 Q1300.49 1531.54 1303.07 1532.11 Q1305.65 1532.65 1308.07 1533.76 Z\" fill=\"#000000\" fill-rule=\"evenodd\" fill-opacity=\"1\" /><path clip-path=\"url(#clip400)\" d=\"M 0 0 M1328.02 1536.5 Q1323.31 1536.5 1320.58 1540.19 Q1317.84 1543.85 1317.84 1550.25 Q1317.84 1556.65 1320.54 1560.34 Q1323.28 1564 1328.02 1564 Q1332.7 1564 1335.44 1560.31 Q1338.18 1556.62 1338.18 1550.25 Q1338.18 1543.92 1335.44 1540.23 Q1332.7 1536.5 1328.02 1536.5 M1328.02 1531.54 Q1335.66 1531.54 1340.02 1536.5 Q1344.38 1541.47 1344.38 1550.25 Q1344.38 1559 1340.02 1564 Q1335.66 1568.97 1328.02 1568.97 Q1320.35 1568.97 1315.99 1564 Q1311.66 1559 1311.66 1550.25 Q1311.66 1541.47 1315.99 1536.5 Q1320.35 1531.54 1328.02 1531.54 Z\" fill=\"#000000\" fill-rule=\"evenodd\" fill-opacity=\"1\" /><path clip-path=\"url(#clip400)\" d=\"M 0 0 M1380.16 1546.53 L1380.16 1568.04 L1374.3 1568.04 L1374.3 1546.72 Q1374.3 1541.66 1372.33 1539.14 Q1370.36 1536.63 1366.41 1536.63 Q1361.67 1536.63 1358.93 1539.65 Q1356.19 1542.68 1356.19 1547.9 L1356.19 1568.04 L1350.3 1568.04 L1350.3 1532.4 L1356.19 1532.4 L1356.19 1537.93 Q1358.29 1534.72 1361.13 1533.13 Q1363.99 1531.54 1367.71 1531.54 Q1373.86 1531.54 1377.01 1535.36 Q1380.16 1539.14 1380.16 1546.53 Z\" fill=\"#000000\" fill-rule=\"evenodd\" fill-opacity=\"1\" /><path clip-path=\"url(#clip400)\" d=\"M 0 0 M1409.76 1537.81 L1409.76 1518.52 L1415.62 1518.52 L1415.62 1568.04 L1409.76 1568.04 L1409.76 1562.7 Q1407.91 1565.88 1405.08 1567.44 Q1402.28 1568.97 1398.33 1568.97 Q1391.87 1568.97 1387.8 1563.81 Q1383.76 1558.65 1383.76 1550.25 Q1383.76 1541.85 1387.8 1536.69 Q1391.87 1531.54 1398.33 1531.54 Q1402.28 1531.54 1405.08 1533.1 Q1407.91 1534.62 1409.76 1537.81 M1389.8 1550.25 Q1389.8 1556.71 1392.44 1560.4 Q1395.12 1564.07 1399.77 1564.07 Q1404.41 1564.07 1407.09 1560.4 Q1409.76 1556.71 1409.76 1550.25 Q1409.76 1543.79 1407.09 1540.13 Q1404.41 1536.44 1399.77 1536.44 Q1395.12 1536.44 1392.44 1540.13 Q1389.8 1543.79 1389.8 1550.25 Z\" fill=\"#000000\" fill-rule=\"evenodd\" fill-opacity=\"1\" /><path clip-path=\"url(#clip400)\" d=\"M 0 0 M1444.48 1533.45 L1444.48 1538.98 Q1442 1537.71 1439.33 1537.07 Q1436.65 1536.44 1433.79 1536.44 Q1429.43 1536.44 1427.23 1537.77 Q1425.07 1539.11 1425.07 1541.79 Q1425.07 1543.82 1426.63 1545 Q1428.19 1546.15 1432.9 1547.2 L1434.9 1547.64 Q1441.14 1548.98 1443.75 1551.43 Q1446.39 1553.85 1446.39 1558.21 Q1446.39 1563.17 1442.45 1566.07 Q1438.53 1568.97 1431.66 1568.97 Q1428.79 1568.97 1425.67 1568.39 Q1422.59 1567.85 1419.15 1566.74 L1419.15 1560.69 Q1422.4 1562.38 1425.55 1563.24 Q1428.7 1564.07 1431.78 1564.07 Q1435.92 1564.07 1438.15 1562.66 Q1440.38 1561.23 1440.38 1558.65 Q1440.38 1556.27 1438.76 1554.99 Q1437.16 1553.72 1431.72 1552.54 L1429.68 1552.07 Q1424.24 1550.92 1421.82 1548.56 Q1419.4 1546.18 1419.4 1542.04 Q1419.4 1537.01 1422.97 1534.27 Q1426.53 1531.54 1433.09 1531.54 Q1436.34 1531.54 1439.2 1532.01 Q1442.07 1532.49 1444.48 1533.45 Z\" fill=\"#000000\" fill-rule=\"evenodd\" fill-opacity=\"1\" /><polyline clip-path=\"url(#clip402)\" style=\"stroke:#000000; stroke-width:2; stroke-opacity:0.1; fill:none\" points=\"\n  202.459,1384.24 2352.76,1384.24 \n  \"/>\n<polyline clip-path=\"url(#clip402)\" style=\"stroke:#000000; stroke-width:2; stroke-opacity:0.1; fill:none\" points=\"\n  202.459,1067.64 2352.76,1067.64 \n  \"/>\n<polyline clip-path=\"url(#clip402)\" style=\"stroke:#000000; stroke-width:2; stroke-opacity:0.1; fill:none\" points=\"\n  202.459,751.042 2352.76,751.042 \n  \"/>\n<polyline clip-path=\"url(#clip402)\" style=\"stroke:#000000; stroke-width:2; stroke-opacity:0.1; fill:none\" points=\"\n  202.459,434.444 2352.76,434.444 \n  \"/>\n<polyline clip-path=\"url(#clip402)\" style=\"stroke:#000000; stroke-width:2; stroke-opacity:0.1; fill:none\" points=\"\n  202.459,117.845 2352.76,117.845 \n  \"/>\n<polyline clip-path=\"url(#clip400)\" style=\"stroke:#000000; stroke-width:4; stroke-opacity:1; fill:none\" points=\"\n  202.459,1423.18 202.459,47.2441 \n  \"/>\n<polyline clip-path=\"url(#clip400)\" style=\"stroke:#000000; stroke-width:4; stroke-opacity:1; fill:none\" points=\"\n  202.459,1384.24 228.263,1384.24 \n  \"/>\n<polyline clip-path=\"url(#clip400)\" style=\"stroke:#000000; stroke-width:4; stroke-opacity:1; fill:none\" points=\"\n  202.459,1067.64 228.263,1067.64 \n  \"/>\n<polyline clip-path=\"url(#clip400)\" style=\"stroke:#000000; stroke-width:4; stroke-opacity:1; fill:none\" points=\"\n  202.459,751.042 228.263,751.042 \n  \"/>\n<polyline clip-path=\"url(#clip400)\" style=\"stroke:#000000; stroke-width:4; stroke-opacity:1; fill:none\" points=\"\n  202.459,434.444 228.263,434.444 \n  \"/>\n<polyline clip-path=\"url(#clip400)\" style=\"stroke:#000000; stroke-width:4; stroke-opacity:1; fill:none\" points=\"\n  202.459,117.845 228.263,117.845 \n  \"/>\n<path clip-path=\"url(#clip400)\" d=\"M 0 0 M154.515 1370.04 Q150.903 1370.04 149.075 1373.6 Q147.269 1377.14 147.269 1384.27 Q147.269 1391.38 149.075 1394.94 Q150.903 1398.49 154.515 1398.49 Q158.149 1398.49 159.954 1394.94 Q161.783 1391.38 161.783 1384.27 Q161.783 1377.14 159.954 1373.6 Q158.149 1370.04 154.515 1370.04 M154.515 1366.33 Q160.325 1366.33 163.38 1370.94 Q166.459 1375.52 166.459 1384.27 Q166.459 1393 163.38 1397.61 Q160.325 1402.19 154.515 1402.19 Q148.704 1402.19 145.626 1397.61 Q142.57 1393 142.57 1384.27 Q142.57 1375.52 145.626 1370.94 Q148.704 1366.33 154.515 1366.33 Z\" fill=\"#000000\" fill-rule=\"evenodd\" fill-opacity=\"1\" /><path clip-path=\"url(#clip400)\" d=\"M 0 0 M119.538 1080.98 L127.177 1080.98 L127.177 1054.62 L118.867 1056.29 L118.867 1052.03 L127.13 1050.36 L131.806 1050.36 L131.806 1080.98 L139.445 1080.98 L139.445 1084.92 L119.538 1084.92 L119.538 1080.98 Z\" fill=\"#000000\" fill-rule=\"evenodd\" fill-opacity=\"1\" /><path clip-path=\"url(#clip400)\" d=\"M 0 0 M154.515 1053.44 Q150.903 1053.44 149.075 1057 Q147.269 1060.55 147.269 1067.67 Q147.269 1074.78 149.075 1078.35 Q150.903 1081.89 154.515 1081.89 Q158.149 1081.89 159.954 1078.35 Q161.783 1074.78 161.783 1067.67 Q161.783 1060.55 159.954 1057 Q158.149 1053.44 154.515 1053.44 M154.515 1049.74 Q160.325 1049.74 163.38 1054.34 Q166.459 1058.92 166.459 1067.67 Q166.459 1076.4 163.38 1081.01 Q160.325 1085.59 154.515 1085.59 Q148.704 1085.59 145.626 1081.01 Q142.57 1076.4 142.57 1067.67 Q142.57 1058.92 145.626 1054.34 Q148.704 1049.74 154.515 1049.74 Z\" fill=\"#000000\" fill-rule=\"evenodd\" fill-opacity=\"1\" /><path clip-path=\"url(#clip400)\" d=\"M 0 0 M123.126 764.387 L139.445 764.387 L139.445 768.322 L117.501 768.322 L117.501 764.387 Q120.163 761.632 124.746 757.002 Q129.353 752.35 130.533 751.007 Q132.779 748.484 133.658 746.748 Q134.561 744.989 134.561 743.299 Q134.561 740.544 132.617 738.808 Q130.695 737.072 127.593 737.072 Q125.394 737.072 122.941 737.836 Q120.51 738.6 117.732 740.151 L117.732 735.429 Q120.556 734.294 123.01 733.716 Q125.464 733.137 127.501 733.137 Q132.871 733.137 136.066 735.822 Q139.26 738.507 139.26 742.998 Q139.26 745.128 138.45 747.049 Q137.663 748.947 135.556 751.54 Q134.978 752.211 131.876 755.428 Q128.774 758.623 123.126 764.387 Z\" fill=\"#000000\" fill-rule=\"evenodd\" fill-opacity=\"1\" /><path clip-path=\"url(#clip400)\" d=\"M 0 0 M154.515 736.841 Q150.903 736.841 149.075 740.405 Q147.269 743.947 147.269 751.077 Q147.269 758.183 149.075 761.748 Q150.903 765.289 154.515 765.289 Q158.149 765.289 159.954 761.748 Q161.783 758.183 161.783 751.077 Q161.783 743.947 159.954 740.405 Q158.149 736.841 154.515 736.841 M154.515 733.137 Q160.325 733.137 163.38 737.743 Q166.459 742.327 166.459 751.077 Q166.459 759.803 163.38 764.41 Q160.325 768.993 154.515 768.993 Q148.704 768.993 145.626 764.41 Q142.57 759.803 142.57 751.077 Q142.57 742.327 145.626 737.743 Q148.704 733.137 154.515 733.137 Z\" fill=\"#000000\" fill-rule=\"evenodd\" fill-opacity=\"1\" /><path clip-path=\"url(#clip400)\" d=\"M 0 0 M132.316 433.09 Q135.672 433.807 137.547 436.076 Q139.445 438.344 139.445 441.677 Q139.445 446.793 135.927 449.594 Q132.408 452.395 125.927 452.395 Q123.751 452.395 121.436 451.955 Q119.144 451.539 116.691 450.682 L116.691 446.168 Q118.635 447.302 120.95 447.881 Q123.265 448.46 125.788 448.46 Q130.186 448.46 132.478 446.724 Q134.792 444.988 134.792 441.677 Q134.792 438.622 132.64 436.909 Q130.51 435.173 126.691 435.173 L122.663 435.173 L122.663 431.33 L126.876 431.33 Q130.325 431.33 132.154 429.965 Q133.982 428.576 133.982 425.983 Q133.982 423.321 132.084 421.909 Q130.209 420.474 126.691 420.474 Q124.769 420.474 122.57 420.891 Q120.371 421.307 117.732 422.187 L117.732 418.02 Q120.394 417.279 122.709 416.909 Q125.047 416.539 127.107 416.539 Q132.431 416.539 135.533 418.969 Q138.635 421.377 138.635 425.497 Q138.635 428.367 136.992 430.358 Q135.348 432.326 132.316 433.09 Z\" fill=\"#000000\" fill-rule=\"evenodd\" fill-opacity=\"1\" /><path clip-path=\"url(#clip400)\" d=\"M 0 0 M154.515 420.242 Q150.903 420.242 149.075 423.807 Q147.269 427.349 147.269 434.478 Q147.269 441.585 149.075 445.15 Q150.903 448.691 154.515 448.691 Q158.149 448.691 159.954 445.15 Q161.783 441.585 161.783 434.478 Q161.783 427.349 159.954 423.807 Q158.149 420.242 154.515 420.242 M154.515 416.539 Q160.325 416.539 163.38 421.145 Q166.459 425.728 166.459 434.478 Q166.459 443.205 163.38 447.812 Q160.325 452.395 154.515 452.395 Q148.704 452.395 145.626 447.812 Q142.57 443.205 142.57 434.478 Q142.57 425.728 145.626 421.145 Q148.704 416.539 154.515 416.539 Z\" fill=\"#000000\" fill-rule=\"evenodd\" fill-opacity=\"1\" /><path clip-path=\"url(#clip400)\" d=\"M 0 0 M129.862 104.64 L118.056 123.089 L129.862 123.089 L129.862 104.64 M128.635 100.565 L134.515 100.565 L134.515 123.089 L139.445 123.089 L139.445 126.977 L134.515 126.977 L134.515 135.125 L129.862 135.125 L129.862 126.977 L114.26 126.977 L114.26 122.464 L128.635 100.565 Z\" fill=\"#000000\" fill-rule=\"evenodd\" fill-opacity=\"1\" /><path clip-path=\"url(#clip400)\" d=\"M 0 0 M154.515 103.644 Q150.903 103.644 149.075 107.209 Q147.269 110.751 147.269 117.88 Q147.269 124.987 149.075 128.551 Q150.903 132.093 154.515 132.093 Q158.149 132.093 159.954 128.551 Q161.783 124.987 161.783 117.88 Q161.783 110.751 159.954 107.209 Q158.149 103.644 154.515 103.644 M154.515 99.9405 Q160.325 99.9405 163.38 104.547 Q166.459 109.13 166.459 117.88 Q166.459 126.607 163.38 131.213 Q160.325 135.797 154.515 135.797 Q148.704 135.797 145.626 131.213 Q142.57 126.607 142.57 117.88 Q142.57 109.13 145.626 104.547 Q148.704 99.9405 154.515 99.9405 Z\" fill=\"#000000\" fill-rule=\"evenodd\" fill-opacity=\"1\" /><path clip-path=\"url(#clip400)\" d=\"M 0 0 M29.7248 786.854 L35.1993 786.854 Q33.8307 789.336 33.1623 791.851 Q32.4621 794.333 32.4621 796.88 Q32.4621 802.577 36.0905 805.728 Q39.6872 808.879 46.212 808.879 Q52.7369 808.879 56.3653 805.728 Q59.9619 802.577 59.9619 796.88 Q59.9619 794.333 59.2935 791.851 Q58.5933 789.336 57.2247 786.854 L62.6355 786.854 Q63.7814 789.305 64.3543 791.946 Q64.9272 794.556 64.9272 797.516 Q64.9272 805.569 59.8664 810.311 Q54.8057 815.054 46.212 815.054 Q37.491 815.054 32.4939 810.28 Q27.4968 805.473 27.4968 797.134 Q27.4968 794.429 28.0697 791.851 Q28.6108 789.273 29.7248 786.854 Z\" fill=\"#000000\" fill-rule=\"evenodd\" fill-opacity=\"1\" /><path clip-path=\"url(#clip400)\" d=\"M 0 0 M32.4621 766.897 Q32.4621 771.608 36.1542 774.345 Q39.8145 777.082 46.212 777.082 Q52.6095 777.082 56.3017 774.377 Q59.9619 771.64 59.9619 766.897 Q59.9619 762.218 56.2698 759.481 Q52.5777 756.744 46.212 756.744 Q39.8781 756.744 36.186 759.481 Q32.4621 762.218 32.4621 766.897 M27.4968 766.897 Q27.4968 759.258 32.4621 754.898 Q37.4273 750.537 46.212 750.537 Q54.9649 750.537 59.9619 754.898 Q64.9272 759.258 64.9272 766.897 Q64.9272 774.568 59.9619 778.928 Q54.9649 783.257 46.212 783.257 Q37.4273 783.257 32.4621 778.928 Q27.4968 774.568 27.4968 766.897 Z\" fill=\"#000000\" fill-rule=\"evenodd\" fill-opacity=\"1\" /><path clip-path=\"url(#clip400)\" d=\"M 0 0 M49.9359 744.999 L28.3562 744.999 L28.3562 739.143 L49.7131 739.143 Q54.7739 739.143 57.3202 737.169 Q59.8346 735.196 59.8346 731.249 Q59.8346 726.507 56.8109 723.77 Q53.7872 721.001 48.5673 721.001 L28.3562 721.001 L28.3562 715.144 L64.0042 715.144 L64.0042 721.001 L58.5296 721.001 Q61.7762 723.133 63.3676 725.966 Q64.9272 728.767 64.9272 732.491 Q64.9272 738.634 61.1078 741.816 Q57.2883 744.999 49.9359 744.999 M27.4968 730.263 L27.4968 730.263 Z\" fill=\"#000000\" fill-rule=\"evenodd\" fill-opacity=\"1\" /><path clip-path=\"url(#clip400)\" d=\"M 0 0 M42.4881 679.369 L64.0042 679.369 L64.0042 685.225 L42.679 685.225 Q37.6183 685.225 35.1038 687.199 Q32.5894 689.172 32.5894 693.119 Q32.5894 697.861 35.6131 700.598 Q38.6368 703.336 43.8567 703.336 L64.0042 703.336 L64.0042 709.224 L28.3562 709.224 L28.3562 703.336 L33.8944 703.336 Q30.6797 701.235 29.0883 698.402 Q27.4968 695.538 27.4968 691.814 Q27.4968 685.671 31.3163 682.52 Q35.1038 679.369 42.4881 679.369 Z\" fill=\"#000000\" fill-rule=\"evenodd\" fill-opacity=\"1\" /><path clip-path=\"url(#clip400)\" d=\"M 0 0 M18.2347 667.433 L28.3562 667.433 L28.3562 655.37 L32.9077 655.37 L32.9077 667.433 L52.2594 667.433 Q56.6199 667.433 57.8613 666.255 Q59.1026 665.046 59.1026 661.386 L59.1026 655.37 L64.0042 655.37 L64.0042 661.386 Q64.0042 668.165 61.4897 670.743 Q58.9434 673.321 52.2594 673.321 L32.9077 673.321 L32.9077 677.618 L28.3562 677.618 L28.3562 673.321 L18.2347 673.321 L18.2347 667.433 Z\" fill=\"#000000\" fill-rule=\"evenodd\" fill-opacity=\"1\" /><path clip-path=\"url(#clip402)\" d=\"\nM185.262 1352.58 L185.262 1384.24 L234.159 1384.24 L234.159 1352.58 L185.262 1352.58 L185.262 1352.58  Z\n  \" fill=\"#009af9\" fill-rule=\"evenodd\" fill-opacity=\"1\"/>\n<polyline clip-path=\"url(#clip402)\" style=\"stroke:#000000; stroke-width:4; stroke-opacity:1; fill:none\" points=\"\n  185.262,1352.58 185.262,1384.24 234.159,1384.24 234.159,1352.58 185.262,1352.58 \n  \"/>\n<path clip-path=\"url(#clip402)\" d=\"\nM234.159 1384.24 L234.159 1384.24 L283.056 1384.24 L283.056 1384.24 L234.159 1384.24 L234.159 1384.24  Z\n  \" fill=\"#009af9\" fill-rule=\"evenodd\" fill-opacity=\"1\"/>\n<polyline clip-path=\"url(#clip402)\" style=\"stroke:#000000; stroke-width:4; stroke-opacity:1; fill:none\" points=\"\n  234.159,1384.24 234.159,1384.24 283.056,1384.24 234.159,1384.24 \n  \"/>\n<path clip-path=\"url(#clip402)\" d=\"\nM283.056 1384.24 L283.056 1384.24 L331.952 1384.24 L331.952 1384.24 L283.056 1384.24 L283.056 1384.24  Z\n  \" fill=\"#009af9\" fill-rule=\"evenodd\" fill-opacity=\"1\"/>\n<polyline clip-path=\"url(#clip402)\" style=\"stroke:#000000; stroke-width:4; stroke-opacity:1; fill:none\" points=\"\n  283.056,1384.24 283.056,1384.24 331.952,1384.24 283.056,1384.24 \n  \"/>\n<path clip-path=\"url(#clip402)\" d=\"\nM331.952 1384.24 L331.952 1384.24 L380.849 1384.24 L380.849 1384.24 L331.952 1384.24 L331.952 1384.24  Z\n  \" fill=\"#009af9\" fill-rule=\"evenodd\" fill-opacity=\"1\"/>\n<polyline clip-path=\"url(#clip402)\" style=\"stroke:#000000; stroke-width:4; stroke-opacity:1; fill:none\" points=\"\n  331.952,1384.24 331.952,1384.24 380.849,1384.24 331.952,1384.24 \n  \"/>\n<path clip-path=\"url(#clip402)\" d=\"\nM380.849 1384.24 L380.849 1384.24 L429.746 1384.24 L429.746 1384.24 L380.849 1384.24 L380.849 1384.24  Z\n  \" fill=\"#009af9\" fill-rule=\"evenodd\" fill-opacity=\"1\"/>\n<polyline clip-path=\"url(#clip402)\" style=\"stroke:#000000; stroke-width:4; stroke-opacity:1; fill:none\" points=\"\n  380.849,1384.24 380.849,1384.24 429.746,1384.24 380.849,1384.24 \n  \"/>\n<path clip-path=\"url(#clip402)\" d=\"\nM429.746 1384.24 L429.746 1384.24 L478.643 1384.24 L478.643 1384.24 L429.746 1384.24 L429.746 1384.24  Z\n  \" fill=\"#009af9\" fill-rule=\"evenodd\" fill-opacity=\"1\"/>\n<polyline clip-path=\"url(#clip402)\" style=\"stroke:#000000; stroke-width:4; stroke-opacity:1; fill:none\" points=\"\n  429.746,1384.24 429.746,1384.24 478.643,1384.24 429.746,1384.24 \n  \"/>\n<path clip-path=\"url(#clip402)\" d=\"\nM478.643 1384.24 L478.643 1384.24 L527.54 1384.24 L527.54 1384.24 L478.643 1384.24 L478.643 1384.24  Z\n  \" fill=\"#009af9\" fill-rule=\"evenodd\" fill-opacity=\"1\"/>\n<polyline clip-path=\"url(#clip402)\" style=\"stroke:#000000; stroke-width:4; stroke-opacity:1; fill:none\" points=\"\n  478.643,1384.24 478.643,1384.24 527.54,1384.24 478.643,1384.24 \n  \"/>\n<path clip-path=\"url(#clip402)\" d=\"\nM527.54 1384.24 L527.54 1384.24 L576.436 1384.24 L576.436 1384.24 L527.54 1384.24 L527.54 1384.24  Z\n  \" fill=\"#009af9\" fill-rule=\"evenodd\" fill-opacity=\"1\"/>\n<polyline clip-path=\"url(#clip402)\" style=\"stroke:#000000; stroke-width:4; stroke-opacity:1; fill:none\" points=\"\n  527.54,1384.24 527.54,1384.24 576.436,1384.24 527.54,1384.24 \n  \"/>\n<path clip-path=\"url(#clip402)\" d=\"\nM576.436 1384.24 L576.436 1384.24 L625.333 1384.24 L625.333 1384.24 L576.436 1384.24 L576.436 1384.24  Z\n  \" fill=\"#009af9\" fill-rule=\"evenodd\" fill-opacity=\"1\"/>\n<polyline clip-path=\"url(#clip402)\" style=\"stroke:#000000; stroke-width:4; stroke-opacity:1; fill:none\" points=\"\n  576.436,1384.24 576.436,1384.24 625.333,1384.24 576.436,1384.24 \n  \"/>\n<path clip-path=\"url(#clip402)\" d=\"\nM625.333 1384.24 L625.333 1384.24 L674.23 1384.24 L674.23 1384.24 L625.333 1384.24 L625.333 1384.24  Z\n  \" fill=\"#009af9\" fill-rule=\"evenodd\" fill-opacity=\"1\"/>\n<polyline clip-path=\"url(#clip402)\" style=\"stroke:#000000; stroke-width:4; stroke-opacity:1; fill:none\" points=\"\n  625.333,1384.24 625.333,1384.24 674.23,1384.24 625.333,1384.24 \n  \"/>\n<path clip-path=\"url(#clip402)\" d=\"\nM674.23 1352.58 L674.23 1384.24 L723.127 1384.24 L723.127 1352.58 L674.23 1352.58 L674.23 1352.58  Z\n  \" fill=\"#009af9\" fill-rule=\"evenodd\" fill-opacity=\"1\"/>\n<polyline clip-path=\"url(#clip402)\" style=\"stroke:#000000; stroke-width:4; stroke-opacity:1; fill:none\" points=\"\n  674.23,1352.58 674.23,1384.24 723.127,1384.24 723.127,1352.58 674.23,1352.58 \n  \"/>\n<path clip-path=\"url(#clip402)\" d=\"\nM723.127 1384.24 L723.127 1384.24 L772.023 1384.24 L772.023 1384.24 L723.127 1384.24 L723.127 1384.24  Z\n  \" fill=\"#009af9\" fill-rule=\"evenodd\" fill-opacity=\"1\"/>\n<polyline clip-path=\"url(#clip402)\" style=\"stroke:#000000; stroke-width:4; stroke-opacity:1; fill:none\" points=\"\n  723.127,1384.24 723.127,1384.24 772.023,1384.24 723.127,1384.24 \n  \"/>\n<path clip-path=\"url(#clip402)\" d=\"\nM772.023 1384.24 L772.023 1384.24 L820.92 1384.24 L820.92 1384.24 L772.023 1384.24 L772.023 1384.24  Z\n  \" fill=\"#009af9\" fill-rule=\"evenodd\" fill-opacity=\"1\"/>\n<polyline clip-path=\"url(#clip402)\" style=\"stroke:#000000; stroke-width:4; stroke-opacity:1; fill:none\" points=\"\n  772.023,1384.24 772.023,1384.24 820.92,1384.24 772.023,1384.24 \n  \"/>\n<path clip-path=\"url(#clip402)\" d=\"\nM820.92 1384.24 L820.92 1384.24 L869.817 1384.24 L869.817 1384.24 L820.92 1384.24 L820.92 1384.24  Z\n  \" fill=\"#009af9\" fill-rule=\"evenodd\" fill-opacity=\"1\"/>\n<polyline clip-path=\"url(#clip402)\" style=\"stroke:#000000; stroke-width:4; stroke-opacity:1; fill:none\" points=\"\n  820.92,1384.24 820.92,1384.24 869.817,1384.24 820.92,1384.24 \n  \"/>\n<path clip-path=\"url(#clip402)\" d=\"\nM869.817 1384.24 L869.817 1384.24 L918.714 1384.24 L918.714 1384.24 L869.817 1384.24 L869.817 1384.24  Z\n  \" fill=\"#009af9\" fill-rule=\"evenodd\" fill-opacity=\"1\"/>\n<polyline clip-path=\"url(#clip402)\" style=\"stroke:#000000; stroke-width:4; stroke-opacity:1; fill:none\" points=\"\n  869.817,1384.24 869.817,1384.24 918.714,1384.24 869.817,1384.24 \n  \"/>\n<path clip-path=\"url(#clip402)\" d=\"\nM918.714 1384.24 L918.714 1384.24 L967.611 1384.24 L967.611 1384.24 L918.714 1384.24 L918.714 1384.24  Z\n  \" fill=\"#009af9\" fill-rule=\"evenodd\" fill-opacity=\"1\"/>\n<polyline clip-path=\"url(#clip402)\" style=\"stroke:#000000; stroke-width:4; stroke-opacity:1; fill:none\" points=\"\n  918.714,1384.24 918.714,1384.24 967.611,1384.24 918.714,1384.24 \n  \"/>\n<path clip-path=\"url(#clip402)\" d=\"\nM967.611 1384.24 L967.611 1384.24 L1016.51 1384.24 L1016.51 1384.24 L967.611 1384.24 L967.611 1384.24  Z\n  \" fill=\"#009af9\" fill-rule=\"evenodd\" fill-opacity=\"1\"/>\n<polyline clip-path=\"url(#clip402)\" style=\"stroke:#000000; stroke-width:4; stroke-opacity:1; fill:none\" points=\"\n  967.611,1384.24 967.611,1384.24 1016.51,1384.24 967.611,1384.24 \n  \"/>\n<path clip-path=\"url(#clip402)\" d=\"\nM1016.51 1384.24 L1016.51 1384.24 L1065.4 1384.24 L1065.4 1384.24 L1016.51 1384.24 L1016.51 1384.24  Z\n  \" fill=\"#009af9\" fill-rule=\"evenodd\" fill-opacity=\"1\"/>\n<polyline clip-path=\"url(#clip402)\" style=\"stroke:#000000; stroke-width:4; stroke-opacity:1; fill:none\" points=\"\n  1016.51,1384.24 1016.51,1384.24 1065.4,1384.24 1016.51,1384.24 \n  \"/>\n<path clip-path=\"url(#clip402)\" d=\"\nM1065.4 1384.24 L1065.4 1384.24 L1114.3 1384.24 L1114.3 1384.24 L1065.4 1384.24 L1065.4 1384.24  Z\n  \" fill=\"#009af9\" fill-rule=\"evenodd\" fill-opacity=\"1\"/>\n<polyline clip-path=\"url(#clip402)\" style=\"stroke:#000000; stroke-width:4; stroke-opacity:1; fill:none\" points=\"\n  1065.4,1384.24 1065.4,1384.24 1114.3,1384.24 1065.4,1384.24 \n  \"/>\n<path clip-path=\"url(#clip402)\" d=\"\nM1114.3 1384.24 L1114.3 1384.24 L1163.2 1384.24 L1163.2 1384.24 L1114.3 1384.24 L1114.3 1384.24  Z\n  \" fill=\"#009af9\" fill-rule=\"evenodd\" fill-opacity=\"1\"/>\n<polyline clip-path=\"url(#clip402)\" style=\"stroke:#000000; stroke-width:4; stroke-opacity:1; fill:none\" points=\"\n  1114.3,1384.24 1114.3,1384.24 1163.2,1384.24 1114.3,1384.24 \n  \"/>\n<path clip-path=\"url(#clip402)\" d=\"\nM1163.2 1384.24 L1163.2 1384.24 L1212.09 1384.24 L1212.09 1384.24 L1163.2 1384.24 L1163.2 1384.24  Z\n  \" fill=\"#009af9\" fill-rule=\"evenodd\" fill-opacity=\"1\"/>\n<polyline clip-path=\"url(#clip402)\" style=\"stroke:#000000; stroke-width:4; stroke-opacity:1; fill:none\" points=\"\n  1163.2,1384.24 1163.2,1384.24 1212.09,1384.24 1163.2,1384.24 \n  \"/>\n<path clip-path=\"url(#clip402)\" d=\"\nM1212.09 1384.24 L1212.09 1384.24 L1260.99 1384.24 L1260.99 1384.24 L1212.09 1384.24 L1212.09 1384.24  Z\n  \" fill=\"#009af9\" fill-rule=\"evenodd\" fill-opacity=\"1\"/>\n<polyline clip-path=\"url(#clip402)\" style=\"stroke:#000000; stroke-width:4; stroke-opacity:1; fill:none\" points=\"\n  1212.09,1384.24 1212.09,1384.24 1260.99,1384.24 1212.09,1384.24 \n  \"/>\n<path clip-path=\"url(#clip402)\" d=\"\nM1260.99 1384.24 L1260.99 1384.24 L1309.89 1384.24 L1309.89 1384.24 L1260.99 1384.24 L1260.99 1384.24  Z\n  \" fill=\"#009af9\" fill-rule=\"evenodd\" fill-opacity=\"1\"/>\n<polyline clip-path=\"url(#clip402)\" style=\"stroke:#000000; stroke-width:4; stroke-opacity:1; fill:none\" points=\"\n  1260.99,1384.24 1260.99,1384.24 1309.89,1384.24 1260.99,1384.24 \n  \"/>\n<path clip-path=\"url(#clip402)\" d=\"\nM1309.89 1384.24 L1309.89 1384.24 L1358.79 1384.24 L1358.79 1384.24 L1309.89 1384.24 L1309.89 1384.24  Z\n  \" fill=\"#009af9\" fill-rule=\"evenodd\" fill-opacity=\"1\"/>\n<polyline clip-path=\"url(#clip402)\" style=\"stroke:#000000; stroke-width:4; stroke-opacity:1; fill:none\" points=\"\n  1309.89,1384.24 1309.89,1384.24 1358.79,1384.24 1309.89,1384.24 \n  \"/>\n<path clip-path=\"url(#clip402)\" d=\"\nM1358.79 1384.24 L1358.79 1384.24 L1407.68 1384.24 L1407.68 1384.24 L1358.79 1384.24 L1358.79 1384.24  Z\n  \" fill=\"#009af9\" fill-rule=\"evenodd\" fill-opacity=\"1\"/>\n<polyline clip-path=\"url(#clip402)\" style=\"stroke:#000000; stroke-width:4; stroke-opacity:1; fill:none\" points=\"\n  1358.79,1384.24 1358.79,1384.24 1407.68,1384.24 1358.79,1384.24 \n  \"/>\n<path clip-path=\"url(#clip402)\" d=\"\nM1407.68 1384.24 L1407.68 1384.24 L1456.58 1384.24 L1456.58 1384.24 L1407.68 1384.24 L1407.68 1384.24  Z\n  \" fill=\"#009af9\" fill-rule=\"evenodd\" fill-opacity=\"1\"/>\n<polyline clip-path=\"url(#clip402)\" style=\"stroke:#000000; stroke-width:4; stroke-opacity:1; fill:none\" points=\"\n  1407.68,1384.24 1407.68,1384.24 1456.58,1384.24 1407.68,1384.24 \n  \"/>\n<path clip-path=\"url(#clip402)\" d=\"\nM1456.58 1384.24 L1456.58 1384.24 L1505.48 1384.24 L1505.48 1384.24 L1456.58 1384.24 L1456.58 1384.24  Z\n  \" fill=\"#009af9\" fill-rule=\"evenodd\" fill-opacity=\"1\"/>\n<polyline clip-path=\"url(#clip402)\" style=\"stroke:#000000; stroke-width:4; stroke-opacity:1; fill:none\" points=\"\n  1456.58,1384.24 1456.58,1384.24 1505.48,1384.24 1456.58,1384.24 \n  \"/>\n<path clip-path=\"url(#clip402)\" d=\"\nM1505.48 1384.24 L1505.48 1384.24 L1554.37 1384.24 L1554.37 1384.24 L1505.48 1384.24 L1505.48 1384.24  Z\n  \" fill=\"#009af9\" fill-rule=\"evenodd\" fill-opacity=\"1\"/>\n<polyline clip-path=\"url(#clip402)\" style=\"stroke:#000000; stroke-width:4; stroke-opacity:1; fill:none\" points=\"\n  1505.48,1384.24 1505.48,1384.24 1554.37,1384.24 1505.48,1384.24 \n  \"/>\n<path clip-path=\"url(#clip402)\" d=\"\nM1554.37 1384.24 L1554.37 1384.24 L1603.27 1384.24 L1603.27 1384.24 L1554.37 1384.24 L1554.37 1384.24  Z\n  \" fill=\"#009af9\" fill-rule=\"evenodd\" fill-opacity=\"1\"/>\n<polyline clip-path=\"url(#clip402)\" style=\"stroke:#000000; stroke-width:4; stroke-opacity:1; fill:none\" points=\"\n  1554.37,1384.24 1554.37,1384.24 1603.27,1384.24 1554.37,1384.24 \n  \"/>\n<path clip-path=\"url(#clip402)\" d=\"\nM1603.27 1384.24 L1603.27 1384.24 L1652.17 1384.24 L1652.17 1384.24 L1603.27 1384.24 L1603.27 1384.24  Z\n  \" fill=\"#009af9\" fill-rule=\"evenodd\" fill-opacity=\"1\"/>\n<polyline clip-path=\"url(#clip402)\" style=\"stroke:#000000; stroke-width:4; stroke-opacity:1; fill:none\" points=\"\n  1603.27,1384.24 1603.27,1384.24 1652.17,1384.24 1603.27,1384.24 \n  \"/>\n<path clip-path=\"url(#clip402)\" d=\"\nM1652.17 1384.24 L1652.17 1384.24 L1701.06 1384.24 L1701.06 1384.24 L1652.17 1384.24 L1652.17 1384.24  Z\n  \" fill=\"#009af9\" fill-rule=\"evenodd\" fill-opacity=\"1\"/>\n<polyline clip-path=\"url(#clip402)\" style=\"stroke:#000000; stroke-width:4; stroke-opacity:1; fill:none\" points=\"\n  1652.17,1384.24 1652.17,1384.24 1701.06,1384.24 1652.17,1384.24 \n  \"/>\n<path clip-path=\"url(#clip402)\" d=\"\nM1701.06 1384.24 L1701.06 1384.24 L1749.96 1384.24 L1749.96 1384.24 L1701.06 1384.24 L1701.06 1384.24  Z\n  \" fill=\"#009af9\" fill-rule=\"evenodd\" fill-opacity=\"1\"/>\n<polyline clip-path=\"url(#clip402)\" style=\"stroke:#000000; stroke-width:4; stroke-opacity:1; fill:none\" points=\"\n  1701.06,1384.24 1701.06,1384.24 1749.96,1384.24 1701.06,1384.24 \n  \"/>\n<path clip-path=\"url(#clip402)\" d=\"\nM1749.96 1384.24 L1749.96 1384.24 L1798.86 1384.24 L1798.86 1384.24 L1749.96 1384.24 L1749.96 1384.24  Z\n  \" fill=\"#009af9\" fill-rule=\"evenodd\" fill-opacity=\"1\"/>\n<polyline clip-path=\"url(#clip402)\" style=\"stroke:#000000; stroke-width:4; stroke-opacity:1; fill:none\" points=\"\n  1749.96,1384.24 1749.96,1384.24 1798.86,1384.24 1749.96,1384.24 \n  \"/>\n<path clip-path=\"url(#clip402)\" d=\"\nM1798.86 1352.58 L1798.86 1384.24 L1847.75 1384.24 L1847.75 1352.58 L1798.86 1352.58 L1798.86 1352.58  Z\n  \" fill=\"#009af9\" fill-rule=\"evenodd\" fill-opacity=\"1\"/>\n<polyline clip-path=\"url(#clip402)\" style=\"stroke:#000000; stroke-width:4; stroke-opacity:1; fill:none\" points=\"\n  1798.86,1352.58 1798.86,1384.24 1847.75,1384.24 1847.75,1352.58 1798.86,1352.58 \n  \"/>\n<path clip-path=\"url(#clip402)\" d=\"\nM1847.75 1384.24 L1847.75 1384.24 L1896.65 1384.24 L1896.65 1384.24 L1847.75 1384.24 L1847.75 1384.24  Z\n  \" fill=\"#009af9\" fill-rule=\"evenodd\" fill-opacity=\"1\"/>\n<polyline clip-path=\"url(#clip402)\" style=\"stroke:#000000; stroke-width:4; stroke-opacity:1; fill:none\" points=\"\n  1847.75,1384.24 1847.75,1384.24 1896.65,1384.24 1847.75,1384.24 \n  \"/>\n<path clip-path=\"url(#clip402)\" d=\"\nM1896.65 1384.24 L1896.65 1384.24 L1945.55 1384.24 L1945.55 1384.24 L1896.65 1384.24 L1896.65 1384.24  Z\n  \" fill=\"#009af9\" fill-rule=\"evenodd\" fill-opacity=\"1\"/>\n<polyline clip-path=\"url(#clip402)\" style=\"stroke:#000000; stroke-width:4; stroke-opacity:1; fill:none\" points=\"\n  1896.65,1384.24 1896.65,1384.24 1945.55,1384.24 1896.65,1384.24 \n  \"/>\n<path clip-path=\"url(#clip402)\" d=\"\nM1945.55 1384.24 L1945.55 1384.24 L1994.44 1384.24 L1994.44 1384.24 L1945.55 1384.24 L1945.55 1384.24  Z\n  \" fill=\"#009af9\" fill-rule=\"evenodd\" fill-opacity=\"1\"/>\n<polyline clip-path=\"url(#clip402)\" style=\"stroke:#000000; stroke-width:4; stroke-opacity:1; fill:none\" points=\"\n  1945.55,1384.24 1945.55,1384.24 1994.44,1384.24 1945.55,1384.24 \n  \"/>\n<path clip-path=\"url(#clip402)\" d=\"\nM1994.44 1384.24 L1994.44 1384.24 L2043.34 1384.24 L2043.34 1384.24 L1994.44 1384.24 L1994.44 1384.24  Z\n  \" fill=\"#009af9\" fill-rule=\"evenodd\" fill-opacity=\"1\"/>\n<polyline clip-path=\"url(#clip402)\" style=\"stroke:#000000; stroke-width:4; stroke-opacity:1; fill:none\" points=\"\n  1994.44,1384.24 1994.44,1384.24 2043.34,1384.24 1994.44,1384.24 \n  \"/>\n<path clip-path=\"url(#clip402)\" d=\"\nM2043.34 1384.24 L2043.34 1384.24 L2092.24 1384.24 L2092.24 1384.24 L2043.34 1384.24 L2043.34 1384.24  Z\n  \" fill=\"#009af9\" fill-rule=\"evenodd\" fill-opacity=\"1\"/>\n<polyline clip-path=\"url(#clip402)\" style=\"stroke:#000000; stroke-width:4; stroke-opacity:1; fill:none\" points=\"\n  2043.34,1384.24 2043.34,1384.24 2092.24,1384.24 2043.34,1384.24 \n  \"/>\n<path clip-path=\"url(#clip402)\" d=\"\nM2092.24 1384.24 L2092.24 1384.24 L2141.13 1384.24 L2141.13 1384.24 L2092.24 1384.24 L2092.24 1384.24  Z\n  \" fill=\"#009af9\" fill-rule=\"evenodd\" fill-opacity=\"1\"/>\n<polyline clip-path=\"url(#clip402)\" style=\"stroke:#000000; stroke-width:4; stroke-opacity:1; fill:none\" points=\"\n  2092.24,1384.24 2092.24,1384.24 2141.13,1384.24 2092.24,1384.24 \n  \"/>\n<path clip-path=\"url(#clip402)\" d=\"\nM2141.13 1384.24 L2141.13 1384.24 L2190.03 1384.24 L2190.03 1384.24 L2141.13 1384.24 L2141.13 1384.24  Z\n  \" fill=\"#009af9\" fill-rule=\"evenodd\" fill-opacity=\"1\"/>\n<polyline clip-path=\"url(#clip402)\" style=\"stroke:#000000; stroke-width:4; stroke-opacity:1; fill:none\" points=\"\n  2141.13,1384.24 2141.13,1384.24 2190.03,1384.24 2141.13,1384.24 \n  \"/>\n<path clip-path=\"url(#clip402)\" d=\"\nM2190.03 1384.24 L2190.03 1384.24 L2238.93 1384.24 L2238.93 1384.24 L2190.03 1384.24 L2190.03 1384.24  Z\n  \" fill=\"#009af9\" fill-rule=\"evenodd\" fill-opacity=\"1\"/>\n<polyline clip-path=\"url(#clip402)\" style=\"stroke:#000000; stroke-width:4; stroke-opacity:1; fill:none\" points=\"\n  2190.03,1384.24 2190.03,1384.24 2238.93,1384.24 2190.03,1384.24 \n  \"/>\n<path clip-path=\"url(#clip402)\" d=\"\nM2238.93 1384.24 L2238.93 1384.24 L2287.82 1384.24 L2287.82 1384.24 L2238.93 1384.24 L2238.93 1384.24  Z\n  \" fill=\"#009af9\" fill-rule=\"evenodd\" fill-opacity=\"1\"/>\n<polyline clip-path=\"url(#clip402)\" style=\"stroke:#000000; stroke-width:4; stroke-opacity:1; fill:none\" points=\"\n  2238.93,1384.24 2238.93,1384.24 2287.82,1384.24 2238.93,1384.24 \n  \"/>\n<path clip-path=\"url(#clip402)\" d=\"\nM2287.82 1384.24 L2287.82 1384.24 L2336.72 1384.24 L2336.72 1384.24 L2287.82 1384.24 L2287.82 1384.24  Z\n  \" fill=\"#009af9\" fill-rule=\"evenodd\" fill-opacity=\"1\"/>\n<polyline clip-path=\"url(#clip402)\" style=\"stroke:#000000; stroke-width:4; stroke-opacity:1; fill:none\" points=\"\n  2287.82,1384.24 2287.82,1384.24 2336.72,1384.24 2287.82,1384.24 \n  \"/>\n<path clip-path=\"url(#clip402)\" d=\"\nM2336.72 1384.24 L2336.72 1384.24 L2385.62 1384.24 L2385.62 1384.24 L2336.72 1384.24 L2336.72 1384.24  Z\n  \" fill=\"#009af9\" fill-rule=\"evenodd\" fill-opacity=\"1\"/>\n<polyline clip-path=\"url(#clip402)\" style=\"stroke:#000000; stroke-width:4; stroke-opacity:1; fill:none\" points=\"\n  2336.72,1384.24 2336.72,1384.24 2385.62,1384.24 2336.72,1384.24 \n  \"/>\n<path clip-path=\"url(#clip402)\" d=\"\nM2385.62 1384.24 L2385.62 1384.24 L2434.51 1384.24 L2434.51 1384.24 L2385.62 1384.24 L2385.62 1384.24  Z\n  \" fill=\"#009af9\" fill-rule=\"evenodd\" fill-opacity=\"1\"/>\n<polyline clip-path=\"url(#clip402)\" style=\"stroke:#000000; stroke-width:4; stroke-opacity:1; fill:none\" points=\"\n  2385.62,1384.24 2385.62,1384.24 2434.51,1384.24 2385.62,1384.24 \n  \"/>\n<path clip-path=\"url(#clip402)\" d=\"\nM2434.51 1384.24 L2434.51 1384.24 L2483.41 1384.24 L2483.41 1384.24 L2434.51 1384.24 L2434.51 1384.24  Z\n  \" fill=\"#009af9\" fill-rule=\"evenodd\" fill-opacity=\"1\"/>\n<polyline clip-path=\"url(#clip402)\" style=\"stroke:#000000; stroke-width:4; stroke-opacity:1; fill:none\" points=\"\n  2434.51,1384.24 2434.51,1384.24 2483.41,1384.24 2434.51,1384.24 \n  \"/>\n<path clip-path=\"url(#clip402)\" d=\"\nM2483.41 1384.24 L2483.41 1384.24 L2532.31 1384.24 L2532.31 1384.24 L2483.41 1384.24 L2483.41 1384.24  Z\n  \" fill=\"#009af9\" fill-rule=\"evenodd\" fill-opacity=\"1\"/>\n<polyline clip-path=\"url(#clip402)\" style=\"stroke:#000000; stroke-width:4; stroke-opacity:1; fill:none\" points=\"\n  2483.41,1384.24 2483.41,1384.24 2532.31,1384.24 2483.41,1384.24 \n  \"/>\n<path clip-path=\"url(#clip402)\" d=\"\nM2532.31 1352.58 L2532.31 1384.24 L2581.2 1384.24 L2581.2 1352.58 L2532.31 1352.58 L2532.31 1352.58  Z\n  \" fill=\"#009af9\" fill-rule=\"evenodd\" fill-opacity=\"1\"/>\n<polyline clip-path=\"url(#clip402)\" style=\"stroke:#000000; stroke-width:4; stroke-opacity:1; fill:none\" points=\"\n  2532.31,1352.58 2532.31,1384.24 2581.2,1384.24 2581.2,1352.58 2532.31,1352.58 \n  \"/>\n<path clip-path=\"url(#clip402)\" d=\"\nM2581.2 1384.24 L2581.2 1384.24 L2630.1 1384.24 L2630.1 1384.24 L2581.2 1384.24 L2581.2 1384.24  Z\n  \" fill=\"#009af9\" fill-rule=\"evenodd\" fill-opacity=\"1\"/>\n<polyline clip-path=\"url(#clip402)\" style=\"stroke:#000000; stroke-width:4; stroke-opacity:1; fill:none\" points=\"\n  2581.2,1384.24 2581.2,1384.24 2630.1,1384.24 2581.2,1384.24 \n  \"/>\n<path clip-path=\"url(#clip402)\" d=\"\nM2630.1 1384.24 L2630.1 1384.24 L2679 1384.24 L2679 1384.24 L2630.1 1384.24 L2630.1 1384.24  Z\n  \" fill=\"#009af9\" fill-rule=\"evenodd\" fill-opacity=\"1\"/>\n<polyline clip-path=\"url(#clip402)\" style=\"stroke:#000000; stroke-width:4; stroke-opacity:1; fill:none\" points=\"\n  2630.1,1384.24 2630.1,1384.24 2679,1384.24 2630.1,1384.24 \n  \"/>\n<path clip-path=\"url(#clip402)\" d=\"\nM2679 1384.24 L2679 1384.24 L2727.9 1384.24 L2727.9 1384.24 L2679 1384.24 L2679 1384.24  Z\n  \" fill=\"#009af9\" fill-rule=\"evenodd\" fill-opacity=\"1\"/>\n<polyline clip-path=\"url(#clip402)\" style=\"stroke:#000000; stroke-width:4; stroke-opacity:1; fill:none\" points=\"\n  2679,1384.24 2679,1384.24 2727.9,1384.24 2679,1384.24 \n  \"/>\n<path clip-path=\"url(#clip402)\" d=\"\nM2727.9 1384.24 L2727.9 1384.24 L2776.79 1384.24 L2776.79 1384.24 L2727.9 1384.24 L2727.9 1384.24  Z\n  \" fill=\"#009af9\" fill-rule=\"evenodd\" fill-opacity=\"1\"/>\n<polyline clip-path=\"url(#clip402)\" style=\"stroke:#000000; stroke-width:4; stroke-opacity:1; fill:none\" points=\"\n  2727.9,1384.24 2727.9,1384.24 2776.79,1384.24 2727.9,1384.24 \n  \"/>\n<path clip-path=\"url(#clip402)\" d=\"\nM2776.79 1384.24 L2776.79 1384.24 L2825.69 1384.24 L2825.69 1384.24 L2776.79 1384.24 L2776.79 1384.24  Z\n  \" fill=\"#009af9\" fill-rule=\"evenodd\" fill-opacity=\"1\"/>\n<polyline clip-path=\"url(#clip402)\" style=\"stroke:#000000; stroke-width:4; stroke-opacity:1; fill:none\" points=\"\n  2776.79,1384.24 2776.79,1384.24 2825.69,1384.24 2776.79,1384.24 \n  \"/>\n<path clip-path=\"url(#clip402)\" d=\"\nM2825.69 1384.24 L2825.69 1384.24 L2874.59 1384.24 L2874.59 1384.24 L2825.69 1384.24 L2825.69 1384.24  Z\n  \" fill=\"#009af9\" fill-rule=\"evenodd\" fill-opacity=\"1\"/>\n<polyline clip-path=\"url(#clip402)\" style=\"stroke:#000000; stroke-width:4; stroke-opacity:1; fill:none\" points=\"\n  2825.69,1384.24 2825.69,1384.24 2874.59,1384.24 2825.69,1384.24 \n  \"/>\n<path clip-path=\"url(#clip402)\" d=\"\nM2874.59 1384.24 L2874.59 1384.24 L2923.48 1384.24 L2923.48 1384.24 L2874.59 1384.24 L2874.59 1384.24  Z\n  \" fill=\"#009af9\" fill-rule=\"evenodd\" fill-opacity=\"1\"/>\n<polyline clip-path=\"url(#clip402)\" style=\"stroke:#000000; stroke-width:4; stroke-opacity:1; fill:none\" points=\"\n  2874.59,1384.24 2874.59,1384.24 2923.48,1384.24 2874.59,1384.24 \n  \"/>\n<path clip-path=\"url(#clip402)\" d=\"\nM2923.48 1384.24 L2923.48 1384.24 L2972.38 1384.24 L2972.38 1384.24 L2923.48 1384.24 L2923.48 1384.24  Z\n  \" fill=\"#009af9\" fill-rule=\"evenodd\" fill-opacity=\"1\"/>\n<polyline clip-path=\"url(#clip402)\" style=\"stroke:#000000; stroke-width:4; stroke-opacity:1; fill:none\" points=\"\n  2923.48,1384.24 2923.48,1384.24 2972.38,1384.24 2923.48,1384.24 \n  \"/>\n<path clip-path=\"url(#clip402)\" d=\"\nM2972.38 1384.24 L2972.38 1384.24 L3021.28 1384.24 L3021.28 1384.24 L2972.38 1384.24 L2972.38 1384.24  Z\n  \" fill=\"#009af9\" fill-rule=\"evenodd\" fill-opacity=\"1\"/>\n<polyline clip-path=\"url(#clip402)\" style=\"stroke:#000000; stroke-width:4; stroke-opacity:1; fill:none\" points=\"\n  2972.38,1384.24 2972.38,1384.24 3021.28,1384.24 2972.38,1384.24 \n  \"/>\n<path clip-path=\"url(#clip402)\" d=\"\nM3021.28 1384.24 L3021.28 1384.24 L3070.17 1384.24 L3070.17 1384.24 L3021.28 1384.24 L3021.28 1384.24  Z\n  \" fill=\"#009af9\" fill-rule=\"evenodd\" fill-opacity=\"1\"/>\n<polyline clip-path=\"url(#clip402)\" style=\"stroke:#000000; stroke-width:4; stroke-opacity:1; fill:none\" points=\"\n  3021.28,1384.24 3021.28,1384.24 3070.17,1384.24 3021.28,1384.24 \n  \"/>\n<path clip-path=\"url(#clip402)\" d=\"\nM3070.17 1384.24 L3070.17 1384.24 L3119.07 1384.24 L3119.07 1384.24 L3070.17 1384.24 L3070.17 1384.24  Z\n  \" fill=\"#009af9\" fill-rule=\"evenodd\" fill-opacity=\"1\"/>\n<polyline clip-path=\"url(#clip402)\" style=\"stroke:#000000; stroke-width:4; stroke-opacity:1; fill:none\" points=\"\n  3070.17,1384.24 3070.17,1384.24 3119.07,1384.24 3070.17,1384.24 \n  \"/>\n<path clip-path=\"url(#clip402)\" d=\"\nM3119.07 1384.24 L3119.07 1384.24 L3167.97 1384.24 L3167.97 1384.24 L3119.07 1384.24 L3119.07 1384.24  Z\n  \" fill=\"#009af9\" fill-rule=\"evenodd\" fill-opacity=\"1\"/>\n<polyline clip-path=\"url(#clip402)\" style=\"stroke:#000000; stroke-width:4; stroke-opacity:1; fill:none\" points=\"\n  3119.07,1384.24 3119.07,1384.24 3167.97,1384.24 3119.07,1384.24 \n  \"/>\n<path clip-path=\"url(#clip402)\" d=\"\nM3167.97 1384.24 L3167.97 1384.24 L3216.86 1384.24 L3216.86 1384.24 L3167.97 1384.24 L3167.97 1384.24  Z\n  \" fill=\"#009af9\" fill-rule=\"evenodd\" fill-opacity=\"1\"/>\n<polyline clip-path=\"url(#clip402)\" style=\"stroke:#000000; stroke-width:4; stroke-opacity:1; fill:none\" points=\"\n  3167.97,1384.24 3167.97,1384.24 3216.86,1384.24 3167.97,1384.24 \n  \"/>\n<path clip-path=\"url(#clip402)\" d=\"\nM3216.86 1384.24 L3216.86 1384.24 L3265.76 1384.24 L3265.76 1384.24 L3216.86 1384.24 L3216.86 1384.24  Z\n  \" fill=\"#009af9\" fill-rule=\"evenodd\" fill-opacity=\"1\"/>\n<polyline clip-path=\"url(#clip402)\" style=\"stroke:#000000; stroke-width:4; stroke-opacity:1; fill:none\" points=\"\n  3216.86,1384.24 3216.86,1384.24 3265.76,1384.24 3216.86,1384.24 \n  \"/>\n<path clip-path=\"url(#clip402)\" d=\"\nM3265.76 1320.92 L3265.76 1384.24 L3314.66 1384.24 L3314.66 1320.92 L3265.76 1320.92 L3265.76 1320.92  Z\n  \" fill=\"#009af9\" fill-rule=\"evenodd\" fill-opacity=\"1\"/>\n<polyline clip-path=\"url(#clip402)\" style=\"stroke:#000000; stroke-width:4; stroke-opacity:1; fill:none\" points=\"\n  3265.76,1320.92 3265.76,1384.24 3314.66,1384.24 3314.66,1320.92 3265.76,1320.92 \n  \"/>\n<path clip-path=\"url(#clip402)\" d=\"\nM3314.66 1384.24 L3314.66 1384.24 L3363.55 1384.24 L3363.55 1384.24 L3314.66 1384.24 L3314.66 1384.24  Z\n  \" fill=\"#009af9\" fill-rule=\"evenodd\" fill-opacity=\"1\"/>\n<polyline clip-path=\"url(#clip402)\" style=\"stroke:#000000; stroke-width:4; stroke-opacity:1; fill:none\" points=\"\n  3314.66,1384.24 3314.66,1384.24 3363.55,1384.24 3314.66,1384.24 \n  \"/>\n<path clip-path=\"url(#clip402)\" d=\"\nM3363.55 1384.24 L3363.55 1384.24 L3412.45 1384.24 L3412.45 1384.24 L3363.55 1384.24 L3363.55 1384.24  Z\n  \" fill=\"#009af9\" fill-rule=\"evenodd\" fill-opacity=\"1\"/>\n<polyline clip-path=\"url(#clip402)\" style=\"stroke:#000000; stroke-width:4; stroke-opacity:1; fill:none\" points=\"\n  3363.55,1384.24 3363.55,1384.24 3412.45,1384.24 3363.55,1384.24 \n  \"/>\n<path clip-path=\"url(#clip402)\" d=\"\nM3412.45 1384.24 L3412.45 1384.24 L3461.35 1384.24 L3461.35 1384.24 L3412.45 1384.24 L3412.45 1384.24  Z\n  \" fill=\"#009af9\" fill-rule=\"evenodd\" fill-opacity=\"1\"/>\n<polyline clip-path=\"url(#clip402)\" style=\"stroke:#000000; stroke-width:4; stroke-opacity:1; fill:none\" points=\"\n  3412.45,1384.24 3412.45,1384.24 3461.35,1384.24 3412.45,1384.24 \n  \"/>\n<path clip-path=\"url(#clip402)\" d=\"\nM3461.35 1384.24 L3461.35 1384.24 L3510.24 1384.24 L3510.24 1384.24 L3461.35 1384.24 L3461.35 1384.24  Z\n  \" fill=\"#009af9\" fill-rule=\"evenodd\" fill-opacity=\"1\"/>\n<polyline clip-path=\"url(#clip402)\" style=\"stroke:#000000; stroke-width:4; stroke-opacity:1; fill:none\" points=\"\n  3461.35,1384.24 3461.35,1384.24 3510.24,1384.24 3461.35,1384.24 \n  \"/>\n<path clip-path=\"url(#clip402)\" d=\"\nM3510.24 1384.24 L3510.24 1384.24 L3559.14 1384.24 L3559.14 1384.24 L3510.24 1384.24 L3510.24 1384.24  Z\n  \" fill=\"#009af9\" fill-rule=\"evenodd\" fill-opacity=\"1\"/>\n<polyline clip-path=\"url(#clip402)\" style=\"stroke:#000000; stroke-width:4; stroke-opacity:1; fill:none\" points=\"\n  3510.24,1384.24 3510.24,1384.24 3559.14,1384.24 3510.24,1384.24 \n  \"/>\n<path clip-path=\"url(#clip402)\" d=\"\nM3559.14 1384.24 L3559.14 1384.24 L3608.04 1384.24 L3608.04 1384.24 L3559.14 1384.24 L3559.14 1384.24  Z\n  \" fill=\"#009af9\" fill-rule=\"evenodd\" fill-opacity=\"1\"/>\n<polyline clip-path=\"url(#clip402)\" style=\"stroke:#000000; stroke-width:4; stroke-opacity:1; fill:none\" points=\"\n  3559.14,1384.24 3559.14,1384.24 3608.04,1384.24 3559.14,1384.24 \n  \"/>\n<path clip-path=\"url(#clip402)\" d=\"\nM3608.04 1384.24 L3608.04 1384.24 L3656.93 1384.24 L3656.93 1384.24 L3608.04 1384.24 L3608.04 1384.24  Z\n  \" fill=\"#009af9\" fill-rule=\"evenodd\" fill-opacity=\"1\"/>\n<polyline clip-path=\"url(#clip402)\" style=\"stroke:#000000; stroke-width:4; stroke-opacity:1; fill:none\" points=\"\n  3608.04,1384.24 3608.04,1384.24 3656.93,1384.24 3608.04,1384.24 \n  \"/>\n<path clip-path=\"url(#clip402)\" d=\"\nM3656.93 1384.24 L3656.93 1384.24 L3705.83 1384.24 L3705.83 1384.24 L3656.93 1384.24 L3656.93 1384.24  Z\n  \" fill=\"#009af9\" fill-rule=\"evenodd\" fill-opacity=\"1\"/>\n<polyline clip-path=\"url(#clip402)\" style=\"stroke:#000000; stroke-width:4; stroke-opacity:1; fill:none\" points=\"\n  3656.93,1384.24 3656.93,1384.24 3705.83,1384.24 3656.93,1384.24 \n  \"/>\n<path clip-path=\"url(#clip402)\" d=\"\nM3705.83 1384.24 L3705.83 1384.24 L3754.73 1384.24 L3754.73 1384.24 L3705.83 1384.24 L3705.83 1384.24  Z\n  \" fill=\"#009af9\" fill-rule=\"evenodd\" fill-opacity=\"1\"/>\n<polyline clip-path=\"url(#clip402)\" style=\"stroke:#000000; stroke-width:4; stroke-opacity:1; fill:none\" points=\"\n  3705.83,1384.24 3705.83,1384.24 3754.73,1384.24 3705.83,1384.24 \n  \"/>\n<path clip-path=\"url(#clip402)\" d=\"\nM3754.73 1384.24 L3754.73 1384.24 L3803.62 1384.24 L3803.62 1384.24 L3754.73 1384.24 L3754.73 1384.24  Z\n  \" fill=\"#009af9\" fill-rule=\"evenodd\" fill-opacity=\"1\"/>\n<polyline clip-path=\"url(#clip402)\" style=\"stroke:#000000; stroke-width:4; stroke-opacity:1; fill:none\" points=\"\n  3754.73,1384.24 3754.73,1384.24 3803.62,1384.24 3754.73,1384.24 \n  \"/>\n<path clip-path=\"url(#clip402)\" d=\"\nM3803.62 1384.24 L3803.62 1384.24 L3852.52 1384.24 L3852.52 1384.24 L3803.62 1384.24 L3803.62 1384.24  Z\n  \" fill=\"#009af9\" fill-rule=\"evenodd\" fill-opacity=\"1\"/>\n<polyline clip-path=\"url(#clip402)\" style=\"stroke:#000000; stroke-width:4; stroke-opacity:1; fill:none\" points=\"\n  3803.62,1384.24 3803.62,1384.24 3852.52,1384.24 3803.62,1384.24 \n  \"/>\n<path clip-path=\"url(#clip402)\" d=\"\nM3852.52 1384.24 L3852.52 1384.24 L3901.42 1384.24 L3901.42 1384.24 L3852.52 1384.24 L3852.52 1384.24  Z\n  \" fill=\"#009af9\" fill-rule=\"evenodd\" fill-opacity=\"1\"/>\n<polyline clip-path=\"url(#clip402)\" style=\"stroke:#000000; stroke-width:4; stroke-opacity:1; fill:none\" points=\"\n  3852.52,1384.24 3852.52,1384.24 3901.42,1384.24 3852.52,1384.24 \n  \"/>\n<path clip-path=\"url(#clip402)\" d=\"\nM3901.42 1384.24 L3901.42 1384.24 L3950.32 1384.24 L3950.32 1384.24 L3901.42 1384.24 L3901.42 1384.24  Z\n  \" fill=\"#009af9\" fill-rule=\"evenodd\" fill-opacity=\"1\"/>\n<polyline clip-path=\"url(#clip402)\" style=\"stroke:#000000; stroke-width:4; stroke-opacity:1; fill:none\" points=\"\n  3901.42,1384.24 3901.42,1384.24 3950.32,1384.24 3901.42,1384.24 \n  \"/>\n<path clip-path=\"url(#clip402)\" d=\"\nM3950.32 1384.24 L3950.32 1384.24 L3999.21 1384.24 L3999.21 1384.24 L3950.32 1384.24 L3950.32 1384.24  Z\n  \" fill=\"#009af9\" fill-rule=\"evenodd\" fill-opacity=\"1\"/>\n<polyline clip-path=\"url(#clip402)\" style=\"stroke:#000000; stroke-width:4; stroke-opacity:1; fill:none\" points=\"\n  3950.32,1384.24 3950.32,1384.24 3999.21,1384.24 3950.32,1384.24 \n  \"/>\n<path clip-path=\"url(#clip402)\" d=\"\nM3999.21 1384.24 L3999.21 1384.24 L4048.11 1384.24 L4048.11 1384.24 L3999.21 1384.24 L3999.21 1384.24  Z\n  \" fill=\"#009af9\" fill-rule=\"evenodd\" fill-opacity=\"1\"/>\n<polyline clip-path=\"url(#clip402)\" style=\"stroke:#000000; stroke-width:4; stroke-opacity:1; fill:none\" points=\"\n  3999.21,1384.24 3999.21,1384.24 4048.11,1384.24 3999.21,1384.24 \n  \"/>\n<path clip-path=\"url(#clip402)\" d=\"\nM4048.11 1384.24 L4048.11 1384.24 L4097.01 1384.24 L4097.01 1384.24 L4048.11 1384.24 L4048.11 1384.24  Z\n  \" fill=\"#009af9\" fill-rule=\"evenodd\" fill-opacity=\"1\"/>\n<polyline clip-path=\"url(#clip402)\" style=\"stroke:#000000; stroke-width:4; stroke-opacity:1; fill:none\" points=\"\n  4048.11,1384.24 4048.11,1384.24 4097.01,1384.24 4048.11,1384.24 \n  \"/>\n<path clip-path=\"url(#clip402)\" d=\"\nM4097.01 1384.24 L4097.01 1384.24 L4145.9 1384.24 L4145.9 1384.24 L4097.01 1384.24 L4097.01 1384.24  Z\n  \" fill=\"#009af9\" fill-rule=\"evenodd\" fill-opacity=\"1\"/>\n<polyline clip-path=\"url(#clip402)\" style=\"stroke:#000000; stroke-width:4; stroke-opacity:1; fill:none\" points=\"\n  4097.01,1384.24 4097.01,1384.24 4145.9,1384.24 4097.01,1384.24 \n  \"/>\n<path clip-path=\"url(#clip402)\" d=\"\nM4145.9 1384.24 L4145.9 1384.24 L4194.8 1384.24 L4194.8 1384.24 L4145.9 1384.24 L4145.9 1384.24  Z\n  \" fill=\"#009af9\" fill-rule=\"evenodd\" fill-opacity=\"1\"/>\n<polyline clip-path=\"url(#clip402)\" style=\"stroke:#000000; stroke-width:4; stroke-opacity:1; fill:none\" points=\"\n  4145.9,1384.24 4145.9,1384.24 4194.8,1384.24 4145.9,1384.24 \n  \"/>\n<path clip-path=\"url(#clip402)\" d=\"\nM4194.8 1384.24 L4194.8 1384.24 L4243.7 1384.24 L4243.7 1384.24 L4194.8 1384.24 L4194.8 1384.24  Z\n  \" fill=\"#009af9\" fill-rule=\"evenodd\" fill-opacity=\"1\"/>\n<polyline clip-path=\"url(#clip402)\" style=\"stroke:#000000; stroke-width:4; stroke-opacity:1; fill:none\" points=\"\n  4194.8,1384.24 4194.8,1384.24 4243.7,1384.24 4194.8,1384.24 \n  \"/>\n<path clip-path=\"url(#clip402)\" d=\"\nM4243.7 1384.24 L4243.7 1384.24 L4292.59 1384.24 L4292.59 1384.24 L4243.7 1384.24 L4243.7 1384.24  Z\n  \" fill=\"#009af9\" fill-rule=\"evenodd\" fill-opacity=\"1\"/>\n<polyline clip-path=\"url(#clip402)\" style=\"stroke:#000000; stroke-width:4; stroke-opacity:1; fill:none\" points=\"\n  4243.7,1384.24 4243.7,1384.24 4292.59,1384.24 4243.7,1384.24 \n  \"/>\n<path clip-path=\"url(#clip402)\" d=\"\nM4292.59 1384.24 L4292.59 1384.24 L4341.49 1384.24 L4341.49 1384.24 L4292.59 1384.24 L4292.59 1384.24  Z\n  \" fill=\"#009af9\" fill-rule=\"evenodd\" fill-opacity=\"1\"/>\n<polyline clip-path=\"url(#clip402)\" style=\"stroke:#000000; stroke-width:4; stroke-opacity:1; fill:none\" points=\"\n  4292.59,1384.24 4292.59,1384.24 4341.49,1384.24 4292.59,1384.24 \n  \"/>\n<path clip-path=\"url(#clip402)\" d=\"\nM4341.49 1384.24 L4341.49 1384.24 L4390.39 1384.24 L4390.39 1384.24 L4341.49 1384.24 L4341.49 1384.24  Z\n  \" fill=\"#009af9\" fill-rule=\"evenodd\" fill-opacity=\"1\"/>\n<polyline clip-path=\"url(#clip402)\" style=\"stroke:#000000; stroke-width:4; stroke-opacity:1; fill:none\" points=\"\n  4341.49,1384.24 4341.49,1384.24 4390.39,1384.24 4341.49,1384.24 \n  \"/>\n<path clip-path=\"url(#clip402)\" d=\"\nM4390.39 1384.24 L4390.39 1384.24 L4439.28 1384.24 L4439.28 1384.24 L4390.39 1384.24 L4390.39 1384.24  Z\n  \" fill=\"#009af9\" fill-rule=\"evenodd\" fill-opacity=\"1\"/>\n<polyline clip-path=\"url(#clip402)\" style=\"stroke:#000000; stroke-width:4; stroke-opacity:1; fill:none\" points=\"\n  4390.39,1384.24 4390.39,1384.24 4439.28,1384.24 4390.39,1384.24 \n  \"/>\n<path clip-path=\"url(#clip402)\" d=\"\nM4439.28 1352.58 L4439.28 1384.24 L4488.18 1384.24 L4488.18 1352.58 L4439.28 1352.58 L4439.28 1352.58  Z\n  \" fill=\"#009af9\" fill-rule=\"evenodd\" fill-opacity=\"1\"/>\n<polyline clip-path=\"url(#clip402)\" style=\"stroke:#000000; stroke-width:4; stroke-opacity:1; fill:none\" points=\"\n  4439.28,1352.58 4439.28,1384.24 4488.18,1384.24 4488.18,1352.58 4439.28,1352.58 \n  \"/>\n<path clip-path=\"url(#clip402)\" d=\"\nM4488.18 1384.24 L4488.18 1384.24 L4537.08 1384.24 L4537.08 1384.24 L4488.18 1384.24 L4488.18 1384.24  Z\n  \" fill=\"#009af9\" fill-rule=\"evenodd\" fill-opacity=\"1\"/>\n<polyline clip-path=\"url(#clip402)\" style=\"stroke:#000000; stroke-width:4; stroke-opacity:1; fill:none\" points=\"\n  4488.18,1384.24 4488.18,1384.24 4537.08,1384.24 4488.18,1384.24 \n  \"/>\n<path clip-path=\"url(#clip402)\" d=\"\nM4537.08 1384.24 L4537.08 1384.24 L4585.97 1384.24 L4585.97 1384.24 L4537.08 1384.24 L4537.08 1384.24  Z\n  \" fill=\"#009af9\" fill-rule=\"evenodd\" fill-opacity=\"1\"/>\n<polyline clip-path=\"url(#clip402)\" style=\"stroke:#000000; stroke-width:4; stroke-opacity:1; fill:none\" points=\"\n  4537.08,1384.24 4537.08,1384.24 4585.97,1384.24 4537.08,1384.24 \n  \"/>\n<path clip-path=\"url(#clip402)\" d=\"\nM4585.97 1384.24 L4585.97 1384.24 L4634.87 1384.24 L4634.87 1384.24 L4585.97 1384.24 L4585.97 1384.24  Z\n  \" fill=\"#009af9\" fill-rule=\"evenodd\" fill-opacity=\"1\"/>\n<polyline clip-path=\"url(#clip402)\" style=\"stroke:#000000; stroke-width:4; stroke-opacity:1; fill:none\" points=\"\n  4585.97,1384.24 4585.97,1384.24 4634.87,1384.24 4585.97,1384.24 \n  \"/>\n<path clip-path=\"url(#clip402)\" d=\"\nM4634.87 1352.58 L4634.87 1384.24 L4683.77 1384.24 L4683.77 1352.58 L4634.87 1352.58 L4634.87 1352.58  Z\n  \" fill=\"#009af9\" fill-rule=\"evenodd\" fill-opacity=\"1\"/>\n<polyline clip-path=\"url(#clip402)\" style=\"stroke:#000000; stroke-width:4; stroke-opacity:1; fill:none\" points=\"\n  4634.87,1352.58 4634.87,1384.24 4683.77,1384.24 4683.77,1352.58 4634.87,1352.58 \n  \"/>\n<path clip-path=\"url(#clip402)\" d=\"\nM4683.77 1384.24 L4683.77 1384.24 L4732.66 1384.24 L4732.66 1384.24 L4683.77 1384.24 L4683.77 1384.24  Z\n  \" fill=\"#009af9\" fill-rule=\"evenodd\" fill-opacity=\"1\"/>\n<polyline clip-path=\"url(#clip402)\" style=\"stroke:#000000; stroke-width:4; stroke-opacity:1; fill:none\" points=\"\n  4683.77,1384.24 4683.77,1384.24 4732.66,1384.24 4683.77,1384.24 \n  \"/>\n<path clip-path=\"url(#clip402)\" d=\"\nM4732.66 1384.24 L4732.66 1384.24 L4781.56 1384.24 L4781.56 1384.24 L4732.66 1384.24 L4732.66 1384.24  Z\n  \" fill=\"#009af9\" fill-rule=\"evenodd\" fill-opacity=\"1\"/>\n<polyline clip-path=\"url(#clip402)\" style=\"stroke:#000000; stroke-width:4; stroke-opacity:1; fill:none\" points=\"\n  4732.66,1384.24 4732.66,1384.24 4781.56,1384.24 4732.66,1384.24 \n  \"/>\n<path clip-path=\"url(#clip402)\" d=\"\nM4781.56 1384.24 L4781.56 1384.24 L4830.46 1384.24 L4830.46 1384.24 L4781.56 1384.24 L4781.56 1384.24  Z\n  \" fill=\"#009af9\" fill-rule=\"evenodd\" fill-opacity=\"1\"/>\n<polyline clip-path=\"url(#clip402)\" style=\"stroke:#000000; stroke-width:4; stroke-opacity:1; fill:none\" points=\"\n  4781.56,1384.24 4781.56,1384.24 4830.46,1384.24 4781.56,1384.24 \n  \"/>\n<path clip-path=\"url(#clip402)\" d=\"\nM4830.46 1384.24 L4830.46 1384.24 L4879.35 1384.24 L4879.35 1384.24 L4830.46 1384.24 L4830.46 1384.24  Z\n  \" fill=\"#009af9\" fill-rule=\"evenodd\" fill-opacity=\"1\"/>\n<polyline clip-path=\"url(#clip402)\" style=\"stroke:#000000; stroke-width:4; stroke-opacity:1; fill:none\" points=\"\n  4830.46,1384.24 4830.46,1384.24 4879.35,1384.24 4830.46,1384.24 \n  \"/>\n<path clip-path=\"url(#clip402)\" d=\"\nM4879.35 1384.24 L4879.35 1384.24 L4928.25 1384.24 L4928.25 1384.24 L4879.35 1384.24 L4879.35 1384.24  Z\n  \" fill=\"#009af9\" fill-rule=\"evenodd\" fill-opacity=\"1\"/>\n<polyline clip-path=\"url(#clip402)\" style=\"stroke:#000000; stroke-width:4; stroke-opacity:1; fill:none\" points=\"\n  4879.35,1384.24 4879.35,1384.24 4928.25,1384.24 4879.35,1384.24 \n  \"/>\n<path clip-path=\"url(#clip402)\" d=\"\nM4928.25 1384.24 L4928.25 1384.24 L4977.15 1384.24 L4977.15 1384.24 L4928.25 1384.24 L4928.25 1384.24  Z\n  \" fill=\"#009af9\" fill-rule=\"evenodd\" fill-opacity=\"1\"/>\n<polyline clip-path=\"url(#clip402)\" style=\"stroke:#000000; stroke-width:4; stroke-opacity:1; fill:none\" points=\"\n  4928.25,1384.24 4928.25,1384.24 4977.15,1384.24 4928.25,1384.24 \n  \"/>\n<path clip-path=\"url(#clip402)\" d=\"\nM4977.15 1384.24 L4977.15 1384.24 L5026.04 1384.24 L5026.04 1384.24 L4977.15 1384.24 L4977.15 1384.24  Z\n  \" fill=\"#009af9\" fill-rule=\"evenodd\" fill-opacity=\"1\"/>\n<polyline clip-path=\"url(#clip402)\" style=\"stroke:#000000; stroke-width:4; stroke-opacity:1; fill:none\" points=\"\n  4977.15,1384.24 4977.15,1384.24 5026.04,1384.24 4977.15,1384.24 \n  \"/>\n<path clip-path=\"url(#clip402)\" d=\"\nM5026.04 1384.24 L5026.04 1384.24 L5074.94 1384.24 L5074.94 1384.24 L5026.04 1384.24 L5026.04 1384.24  Z\n  \" fill=\"#009af9\" fill-rule=\"evenodd\" fill-opacity=\"1\"/>\n<polyline clip-path=\"url(#clip402)\" style=\"stroke:#000000; stroke-width:4; stroke-opacity:1; fill:none\" points=\"\n  5026.04,1384.24 5026.04,1384.24 5074.94,1384.24 5026.04,1384.24 \n  \"/>\n<path clip-path=\"url(#clip402)\" d=\"\nM5074.94 1384.24 L5074.94 1384.24 L5123.84 1384.24 L5123.84 1384.24 L5074.94 1384.24 L5074.94 1384.24  Z\n  \" fill=\"#009af9\" fill-rule=\"evenodd\" fill-opacity=\"1\"/>\n<polyline clip-path=\"url(#clip402)\" style=\"stroke:#000000; stroke-width:4; stroke-opacity:1; fill:none\" points=\"\n  5074.94,1384.24 5074.94,1384.24 5123.84,1384.24 5074.94,1384.24 \n  \"/>\n<path clip-path=\"url(#clip402)\" d=\"\nM5123.84 1384.24 L5123.84 1384.24 L5172.73 1384.24 L5172.73 1384.24 L5123.84 1384.24 L5123.84 1384.24  Z\n  \" fill=\"#009af9\" fill-rule=\"evenodd\" fill-opacity=\"1\"/>\n<polyline clip-path=\"url(#clip402)\" style=\"stroke:#000000; stroke-width:4; stroke-opacity:1; fill:none\" points=\"\n  5123.84,1384.24 5123.84,1384.24 5172.73,1384.24 5123.84,1384.24 \n  \"/>\n<path clip-path=\"url(#clip402)\" d=\"\nM5172.73 1384.24 L5172.73 1384.24 L5221.63 1384.24 L5221.63 1384.24 L5172.73 1384.24 L5172.73 1384.24  Z\n  \" fill=\"#009af9\" fill-rule=\"evenodd\" fill-opacity=\"1\"/>\n<polyline clip-path=\"url(#clip402)\" style=\"stroke:#000000; stroke-width:4; stroke-opacity:1; fill:none\" points=\"\n  5172.73,1384.24 5172.73,1384.24 5221.63,1384.24 5172.73,1384.24 \n  \"/>\n<path clip-path=\"url(#clip402)\" d=\"\nM5221.63 1384.24 L5221.63 1384.24 L5270.53 1384.24 L5270.53 1384.24 L5221.63 1384.24 L5221.63 1384.24  Z\n  \" fill=\"#009af9\" fill-rule=\"evenodd\" fill-opacity=\"1\"/>\n<polyline clip-path=\"url(#clip402)\" style=\"stroke:#000000; stroke-width:4; stroke-opacity:1; fill:none\" points=\"\n  5221.63,1384.24 5221.63,1384.24 5270.53,1384.24 5221.63,1384.24 \n  \"/>\n<path clip-path=\"url(#clip402)\" d=\"\nM5270.53 1384.24 L5270.53 1384.24 L5319.43 1384.24 L5319.43 1384.24 L5270.53 1384.24 L5270.53 1384.24  Z\n  \" fill=\"#009af9\" fill-rule=\"evenodd\" fill-opacity=\"1\"/>\n<polyline clip-path=\"url(#clip402)\" style=\"stroke:#000000; stroke-width:4; stroke-opacity:1; fill:none\" points=\"\n  5270.53,1384.24 5270.53,1384.24 5319.43,1384.24 5270.53,1384.24 \n  \"/>\n<path clip-path=\"url(#clip402)\" d=\"\nM5319.43 1384.24 L5319.43 1384.24 L5368.32 1384.24 L5368.32 1384.24 L5319.43 1384.24 L5319.43 1384.24  Z\n  \" fill=\"#009af9\" fill-rule=\"evenodd\" fill-opacity=\"1\"/>\n<polyline clip-path=\"url(#clip402)\" style=\"stroke:#000000; stroke-width:4; stroke-opacity:1; fill:none\" points=\"\n  5319.43,1384.24 5319.43,1384.24 5368.32,1384.24 5319.43,1384.24 \n  \"/>\n<path clip-path=\"url(#clip402)\" d=\"\nM5368.32 1384.24 L5368.32 1384.24 L5417.22 1384.24 L5417.22 1384.24 L5368.32 1384.24 L5368.32 1384.24  Z\n  \" fill=\"#009af9\" fill-rule=\"evenodd\" fill-opacity=\"1\"/>\n<polyline clip-path=\"url(#clip402)\" style=\"stroke:#000000; stroke-width:4; stroke-opacity:1; fill:none\" points=\"\n  5368.32,1384.24 5368.32,1384.24 5417.22,1384.24 5368.32,1384.24 \n  \"/>\n<path clip-path=\"url(#clip402)\" d=\"\nM5417.22 1384.24 L5417.22 1384.24 L5466.12 1384.24 L5466.12 1384.24 L5417.22 1384.24 L5417.22 1384.24  Z\n  \" fill=\"#009af9\" fill-rule=\"evenodd\" fill-opacity=\"1\"/>\n<polyline clip-path=\"url(#clip402)\" style=\"stroke:#000000; stroke-width:4; stroke-opacity:1; fill:none\" points=\"\n  5417.22,1384.24 5417.22,1384.24 5466.12,1384.24 5417.22,1384.24 \n  \"/>\n<path clip-path=\"url(#clip402)\" d=\"\nM5466.12 1384.24 L5466.12 1384.24 L5515.01 1384.24 L5515.01 1384.24 L5466.12 1384.24 L5466.12 1384.24  Z\n  \" fill=\"#009af9\" fill-rule=\"evenodd\" fill-opacity=\"1\"/>\n<polyline clip-path=\"url(#clip402)\" style=\"stroke:#000000; stroke-width:4; stroke-opacity:1; fill:none\" points=\"\n  5466.12,1384.24 5466.12,1384.24 5515.01,1384.24 5466.12,1384.24 \n  \"/>\n<path clip-path=\"url(#clip402)\" d=\"\nM5515.01 1384.24 L5515.01 1384.24 L5563.91 1384.24 L5563.91 1384.24 L5515.01 1384.24 L5515.01 1384.24  Z\n  \" fill=\"#009af9\" fill-rule=\"evenodd\" fill-opacity=\"1\"/>\n<polyline clip-path=\"url(#clip402)\" style=\"stroke:#000000; stroke-width:4; stroke-opacity:1; fill:none\" points=\"\n  5515.01,1384.24 5515.01,1384.24 5563.91,1384.24 5515.01,1384.24 \n  \"/>\n<path clip-path=\"url(#clip402)\" d=\"\nM5563.91 1384.24 L5563.91 1384.24 L5612.81 1384.24 L5612.81 1384.24 L5563.91 1384.24 L5563.91 1384.24  Z\n  \" fill=\"#009af9\" fill-rule=\"evenodd\" fill-opacity=\"1\"/>\n<polyline clip-path=\"url(#clip402)\" style=\"stroke:#000000; stroke-width:4; stroke-opacity:1; fill:none\" points=\"\n  5563.91,1384.24 5563.91,1384.24 5612.81,1384.24 5563.91,1384.24 \n  \"/>\n<path clip-path=\"url(#clip402)\" d=\"\nM5612.81 1384.24 L5612.81 1384.24 L5661.7 1384.24 L5661.7 1384.24 L5612.81 1384.24 L5612.81 1384.24  Z\n  \" fill=\"#009af9\" fill-rule=\"evenodd\" fill-opacity=\"1\"/>\n<polyline clip-path=\"url(#clip402)\" style=\"stroke:#000000; stroke-width:4; stroke-opacity:1; fill:none\" points=\"\n  5612.81,1384.24 5612.81,1384.24 5661.7,1384.24 5612.81,1384.24 \n  \"/>\n<path clip-path=\"url(#clip402)\" d=\"\nM5661.7 1384.24 L5661.7 1384.24 L5710.6 1384.24 L5710.6 1384.24 L5661.7 1384.24 L5661.7 1384.24  Z\n  \" fill=\"#009af9\" fill-rule=\"evenodd\" fill-opacity=\"1\"/>\n<polyline clip-path=\"url(#clip402)\" style=\"stroke:#000000; stroke-width:4; stroke-opacity:1; fill:none\" points=\"\n  5661.7,1384.24 5661.7,1384.24 5710.6,1384.24 5661.7,1384.24 \n  \"/>\n<path clip-path=\"url(#clip402)\" d=\"\nM5710.6 1384.24 L5710.6 1384.24 L5759.5 1384.24 L5759.5 1384.24 L5710.6 1384.24 L5710.6 1384.24  Z\n  \" fill=\"#009af9\" fill-rule=\"evenodd\" fill-opacity=\"1\"/>\n<polyline clip-path=\"url(#clip402)\" style=\"stroke:#000000; stroke-width:4; stroke-opacity:1; fill:none\" points=\"\n  5710.6,1384.24 5710.6,1384.24 5759.5,1384.24 5710.6,1384.24 \n  \"/>\n<path clip-path=\"url(#clip402)\" d=\"\nM5759.5 1384.24 L5759.5 1384.24 L5808.39 1384.24 L5808.39 1384.24 L5759.5 1384.24 L5759.5 1384.24  Z\n  \" fill=\"#009af9\" fill-rule=\"evenodd\" fill-opacity=\"1\"/>\n<polyline clip-path=\"url(#clip402)\" style=\"stroke:#000000; stroke-width:4; stroke-opacity:1; fill:none\" points=\"\n  5759.5,1384.24 5759.5,1384.24 5808.39,1384.24 5759.5,1384.24 \n  \"/>\n<path clip-path=\"url(#clip402)\" d=\"\nM5808.39 1384.24 L5808.39 1384.24 L5857.29 1384.24 L5857.29 1384.24 L5808.39 1384.24 L5808.39 1384.24  Z\n  \" fill=\"#009af9\" fill-rule=\"evenodd\" fill-opacity=\"1\"/>\n<polyline clip-path=\"url(#clip402)\" style=\"stroke:#000000; stroke-width:4; stroke-opacity:1; fill:none\" points=\"\n  5808.39,1384.24 5808.39,1384.24 5857.29,1384.24 5808.39,1384.24 \n  \"/>\n<path clip-path=\"url(#clip402)\" d=\"\nM5857.29 1384.24 L5857.29 1384.24 L5906.19 1384.24 L5906.19 1384.24 L5857.29 1384.24 L5857.29 1384.24  Z\n  \" fill=\"#009af9\" fill-rule=\"evenodd\" fill-opacity=\"1\"/>\n<polyline clip-path=\"url(#clip402)\" style=\"stroke:#000000; stroke-width:4; stroke-opacity:1; fill:none\" points=\"\n  5857.29,1384.24 5857.29,1384.24 5906.19,1384.24 5857.29,1384.24 \n  \"/>\n<path clip-path=\"url(#clip402)\" d=\"\nM5906.19 1384.24 L5906.19 1384.24 L5955.08 1384.24 L5955.08 1384.24 L5906.19 1384.24 L5906.19 1384.24  Z\n  \" fill=\"#009af9\" fill-rule=\"evenodd\" fill-opacity=\"1\"/>\n<polyline clip-path=\"url(#clip402)\" style=\"stroke:#000000; stroke-width:4; stroke-opacity:1; fill:none\" points=\"\n  5906.19,1384.24 5906.19,1384.24 5955.08,1384.24 5906.19,1384.24 \n  \"/>\n<path clip-path=\"url(#clip402)\" d=\"\nM5955.08 1384.24 L5955.08 1384.24 L6003.98 1384.24 L6003.98 1384.24 L5955.08 1384.24 L5955.08 1384.24  Z\n  \" fill=\"#009af9\" fill-rule=\"evenodd\" fill-opacity=\"1\"/>\n<polyline clip-path=\"url(#clip402)\" style=\"stroke:#000000; stroke-width:4; stroke-opacity:1; fill:none\" points=\"\n  5955.08,1384.24 5955.08,1384.24 6003.98,1384.24 5955.08,1384.24 \n  \"/>\n<path clip-path=\"url(#clip402)\" d=\"\nM6003.98 1384.24 L6003.98 1384.24 L6052.88 1384.24 L6052.88 1384.24 L6003.98 1384.24 L6003.98 1384.24  Z\n  \" fill=\"#009af9\" fill-rule=\"evenodd\" fill-opacity=\"1\"/>\n<polyline clip-path=\"url(#clip402)\" style=\"stroke:#000000; stroke-width:4; stroke-opacity:1; fill:none\" points=\"\n  6003.98,1384.24 6003.98,1384.24 6052.88,1384.24 6003.98,1384.24 \n  \"/>\n<path clip-path=\"url(#clip402)\" d=\"\nM6052.88 1384.24 L6052.88 1384.24 L6101.77 1384.24 L6101.77 1384.24 L6052.88 1384.24 L6052.88 1384.24  Z\n  \" fill=\"#009af9\" fill-rule=\"evenodd\" fill-opacity=\"1\"/>\n<polyline clip-path=\"url(#clip402)\" style=\"stroke:#000000; stroke-width:4; stroke-opacity:1; fill:none\" points=\"\n  6052.88,1384.24 6052.88,1384.24 6101.77,1384.24 6052.88,1384.24 \n  \"/>\n<path clip-path=\"url(#clip402)\" d=\"\nM6101.77 1384.24 L6101.77 1384.24 L6150.67 1384.24 L6150.67 1384.24 L6101.77 1384.24 L6101.77 1384.24  Z\n  \" fill=\"#009af9\" fill-rule=\"evenodd\" fill-opacity=\"1\"/>\n<polyline clip-path=\"url(#clip402)\" style=\"stroke:#000000; stroke-width:4; stroke-opacity:1; fill:none\" points=\"\n  6101.77,1384.24 6101.77,1384.24 6150.67,1384.24 6101.77,1384.24 \n  \"/>\n<path clip-path=\"url(#clip402)\" d=\"\nM6150.67 1384.24 L6150.67 1384.24 L6199.57 1384.24 L6199.57 1384.24 L6150.67 1384.24 L6150.67 1384.24  Z\n  \" fill=\"#009af9\" fill-rule=\"evenodd\" fill-opacity=\"1\"/>\n<polyline clip-path=\"url(#clip402)\" style=\"stroke:#000000; stroke-width:4; stroke-opacity:1; fill:none\" points=\"\n  6150.67,1384.24 6150.67,1384.24 6199.57,1384.24 6150.67,1384.24 \n  \"/>\n<path clip-path=\"url(#clip402)\" d=\"\nM6199.57 1384.24 L6199.57 1384.24 L6248.46 1384.24 L6248.46 1384.24 L6199.57 1384.24 L6199.57 1384.24  Z\n  \" fill=\"#009af9\" fill-rule=\"evenodd\" fill-opacity=\"1\"/>\n<polyline clip-path=\"url(#clip402)\" style=\"stroke:#000000; stroke-width:4; stroke-opacity:1; fill:none\" points=\"\n  6199.57,1384.24 6199.57,1384.24 6248.46,1384.24 6199.57,1384.24 \n  \"/>\n<path clip-path=\"url(#clip402)\" d=\"\nM6248.46 1384.24 L6248.46 1384.24 L6297.36 1384.24 L6297.36 1384.24 L6248.46 1384.24 L6248.46 1384.24  Z\n  \" fill=\"#009af9\" fill-rule=\"evenodd\" fill-opacity=\"1\"/>\n<polyline clip-path=\"url(#clip402)\" style=\"stroke:#000000; stroke-width:4; stroke-opacity:1; fill:none\" points=\"\n  6248.46,1384.24 6248.46,1384.24 6297.36,1384.24 6248.46,1384.24 \n  \"/>\n<path clip-path=\"url(#clip402)\" d=\"\nM6297.36 1384.24 L6297.36 1384.24 L6346.26 1384.24 L6346.26 1384.24 L6297.36 1384.24 L6297.36 1384.24  Z\n  \" fill=\"#009af9\" fill-rule=\"evenodd\" fill-opacity=\"1\"/>\n<polyline clip-path=\"url(#clip402)\" style=\"stroke:#000000; stroke-width:4; stroke-opacity:1; fill:none\" points=\"\n  6297.36,1384.24 6297.36,1384.24 6346.26,1384.24 6297.36,1384.24 \n  \"/>\n<path clip-path=\"url(#clip402)\" d=\"\nM6346.26 1384.24 L6346.26 1384.24 L6395.15 1384.24 L6395.15 1384.24 L6346.26 1384.24 L6346.26 1384.24  Z\n  \" fill=\"#009af9\" fill-rule=\"evenodd\" fill-opacity=\"1\"/>\n<polyline clip-path=\"url(#clip402)\" style=\"stroke:#000000; stroke-width:4; stroke-opacity:1; fill:none\" points=\"\n  6346.26,1384.24 6346.26,1384.24 6395.15,1384.24 6346.26,1384.24 \n  \"/>\n<path clip-path=\"url(#clip402)\" d=\"\nM6395.15 1384.24 L6395.15 1384.24 L6444.05 1384.24 L6444.05 1384.24 L6395.15 1384.24 L6395.15 1384.24  Z\n  \" fill=\"#009af9\" fill-rule=\"evenodd\" fill-opacity=\"1\"/>\n<polyline clip-path=\"url(#clip402)\" style=\"stroke:#000000; stroke-width:4; stroke-opacity:1; fill:none\" points=\"\n  6395.15,1384.24 6395.15,1384.24 6444.05,1384.24 6395.15,1384.24 \n  \"/>\n<path clip-path=\"url(#clip402)\" d=\"\nM6444.05 1384.24 L6444.05 1384.24 L6492.95 1384.24 L6492.95 1384.24 L6444.05 1384.24 L6444.05 1384.24  Z\n  \" fill=\"#009af9\" fill-rule=\"evenodd\" fill-opacity=\"1\"/>\n<polyline clip-path=\"url(#clip402)\" style=\"stroke:#000000; stroke-width:4; stroke-opacity:1; fill:none\" points=\"\n  6444.05,1384.24 6444.05,1384.24 6492.95,1384.24 6444.05,1384.24 \n  \"/>\n<path clip-path=\"url(#clip402)\" d=\"\nM6492.95 1384.24 L6492.95 1384.24 L6541.85 1384.24 L6541.85 1384.24 L6492.95 1384.24 L6492.95 1384.24  Z\n  \" fill=\"#009af9\" fill-rule=\"evenodd\" fill-opacity=\"1\"/>\n<polyline clip-path=\"url(#clip402)\" style=\"stroke:#000000; stroke-width:4; stroke-opacity:1; fill:none\" points=\"\n  6492.95,1384.24 6492.95,1384.24 6541.85,1384.24 6492.95,1384.24 \n  \"/>\n<path clip-path=\"url(#clip402)\" d=\"\nM6541.85 1384.24 L6541.85 1384.24 L6590.74 1384.24 L6590.74 1384.24 L6541.85 1384.24 L6541.85 1384.24  Z\n  \" fill=\"#009af9\" fill-rule=\"evenodd\" fill-opacity=\"1\"/>\n<polyline clip-path=\"url(#clip402)\" style=\"stroke:#000000; stroke-width:4; stroke-opacity:1; fill:none\" points=\"\n  6541.85,1384.24 6541.85,1384.24 6590.74,1384.24 6541.85,1384.24 \n  \"/>\n<path clip-path=\"url(#clip402)\" d=\"\nM6590.74 1384.24 L6590.74 1384.24 L6639.64 1384.24 L6639.64 1384.24 L6590.74 1384.24 L6590.74 1384.24  Z\n  \" fill=\"#009af9\" fill-rule=\"evenodd\" fill-opacity=\"1\"/>\n<polyline clip-path=\"url(#clip402)\" style=\"stroke:#000000; stroke-width:4; stroke-opacity:1; fill:none\" points=\"\n  6590.74,1384.24 6590.74,1384.24 6639.64,1384.24 6590.74,1384.24 \n  \"/>\n<path clip-path=\"url(#clip402)\" d=\"\nM6639.64 1384.24 L6639.64 1384.24 L6688.54 1384.24 L6688.54 1384.24 L6639.64 1384.24 L6639.64 1384.24  Z\n  \" fill=\"#009af9\" fill-rule=\"evenodd\" fill-opacity=\"1\"/>\n<polyline clip-path=\"url(#clip402)\" style=\"stroke:#000000; stroke-width:4; stroke-opacity:1; fill:none\" points=\"\n  6639.64,1384.24 6639.64,1384.24 6688.54,1384.24 6639.64,1384.24 \n  \"/>\n<path clip-path=\"url(#clip402)\" d=\"\nM6688.54 1384.24 L6688.54 1384.24 L6737.43 1384.24 L6737.43 1384.24 L6688.54 1384.24 L6688.54 1384.24  Z\n  \" fill=\"#009af9\" fill-rule=\"evenodd\" fill-opacity=\"1\"/>\n<polyline clip-path=\"url(#clip402)\" style=\"stroke:#000000; stroke-width:4; stroke-opacity:1; fill:none\" points=\"\n  6688.54,1384.24 6688.54,1384.24 6737.43,1384.24 6688.54,1384.24 \n  \"/>\n<path clip-path=\"url(#clip402)\" d=\"\nM6737.43 1384.24 L6737.43 1384.24 L6786.33 1384.24 L6786.33 1384.24 L6737.43 1384.24 L6737.43 1384.24  Z\n  \" fill=\"#009af9\" fill-rule=\"evenodd\" fill-opacity=\"1\"/>\n<polyline clip-path=\"url(#clip402)\" style=\"stroke:#000000; stroke-width:4; stroke-opacity:1; fill:none\" points=\"\n  6737.43,1384.24 6737.43,1384.24 6786.33,1384.24 6737.43,1384.24 \n  \"/>\n<path clip-path=\"url(#clip402)\" d=\"\nM6786.33 1384.24 L6786.33 1384.24 L6835.23 1384.24 L6835.23 1384.24 L6786.33 1384.24 L6786.33 1384.24  Z\n  \" fill=\"#009af9\" fill-rule=\"evenodd\" fill-opacity=\"1\"/>\n<polyline clip-path=\"url(#clip402)\" style=\"stroke:#000000; stroke-width:4; stroke-opacity:1; fill:none\" points=\"\n  6786.33,1384.24 6786.33,1384.24 6835.23,1384.24 6786.33,1384.24 \n  \"/>\n<path clip-path=\"url(#clip402)\" d=\"\nM6835.23 1384.24 L6835.23 1384.24 L6884.12 1384.24 L6884.12 1384.24 L6835.23 1384.24 L6835.23 1384.24  Z\n  \" fill=\"#009af9\" fill-rule=\"evenodd\" fill-opacity=\"1\"/>\n<polyline clip-path=\"url(#clip402)\" style=\"stroke:#000000; stroke-width:4; stroke-opacity:1; fill:none\" points=\"\n  6835.23,1384.24 6835.23,1384.24 6884.12,1384.24 6835.23,1384.24 \n  \"/>\n<path clip-path=\"url(#clip402)\" d=\"\nM6884.12 1384.24 L6884.12 1384.24 L6933.02 1384.24 L6933.02 1384.24 L6884.12 1384.24 L6884.12 1384.24  Z\n  \" fill=\"#009af9\" fill-rule=\"evenodd\" fill-opacity=\"1\"/>\n<polyline clip-path=\"url(#clip402)\" style=\"stroke:#000000; stroke-width:4; stroke-opacity:1; fill:none\" points=\"\n  6884.12,1384.24 6884.12,1384.24 6933.02,1384.24 6884.12,1384.24 \n  \"/>\n<path clip-path=\"url(#clip402)\" d=\"\nM6933.02 1384.24 L6933.02 1384.24 L6981.92 1384.24 L6981.92 1384.24 L6933.02 1384.24 L6933.02 1384.24  Z\n  \" fill=\"#009af9\" fill-rule=\"evenodd\" fill-opacity=\"1\"/>\n<polyline clip-path=\"url(#clip402)\" style=\"stroke:#000000; stroke-width:4; stroke-opacity:1; fill:none\" points=\"\n  6933.02,1384.24 6933.02,1384.24 6981.92,1384.24 6933.02,1384.24 \n  \"/>\n<path clip-path=\"url(#clip402)\" d=\"\nM6981.92 1384.24 L6981.92 1384.24 L7030.81 1384.24 L7030.81 1384.24 L6981.92 1384.24 L6981.92 1384.24  Z\n  \" fill=\"#009af9\" fill-rule=\"evenodd\" fill-opacity=\"1\"/>\n<polyline clip-path=\"url(#clip402)\" style=\"stroke:#000000; stroke-width:4; stroke-opacity:1; fill:none\" points=\"\n  6981.92,1384.24 6981.92,1384.24 7030.81,1384.24 6981.92,1384.24 \n  \"/>\n<path clip-path=\"url(#clip402)\" d=\"\nM7030.81 1384.24 L7030.81 1384.24 L7079.71 1384.24 L7079.71 1384.24 L7030.81 1384.24 L7030.81 1384.24  Z\n  \" fill=\"#009af9\" fill-rule=\"evenodd\" fill-opacity=\"1\"/>\n<polyline clip-path=\"url(#clip402)\" style=\"stroke:#000000; stroke-width:4; stroke-opacity:1; fill:none\" points=\"\n  7030.81,1384.24 7030.81,1384.24 7079.71,1384.24 7030.81,1384.24 \n  \"/>\n<path clip-path=\"url(#clip402)\" d=\"\nM7079.71 1384.24 L7079.71 1384.24 L7128.61 1384.24 L7128.61 1384.24 L7079.71 1384.24 L7079.71 1384.24  Z\n  \" fill=\"#009af9\" fill-rule=\"evenodd\" fill-opacity=\"1\"/>\n<polyline clip-path=\"url(#clip402)\" style=\"stroke:#000000; stroke-width:4; stroke-opacity:1; fill:none\" points=\"\n  7079.71,1384.24 7079.71,1384.24 7128.61,1384.24 7079.71,1384.24 \n  \"/>\n<path clip-path=\"url(#clip402)\" d=\"\nM7128.61 1384.24 L7128.61 1384.24 L7177.5 1384.24 L7177.5 1384.24 L7128.61 1384.24 L7128.61 1384.24  Z\n  \" fill=\"#009af9\" fill-rule=\"evenodd\" fill-opacity=\"1\"/>\n<polyline clip-path=\"url(#clip402)\" style=\"stroke:#000000; stroke-width:4; stroke-opacity:1; fill:none\" points=\"\n  7128.61,1384.24 7128.61,1384.24 7177.5,1384.24 7128.61,1384.24 \n  \"/>\n<path clip-path=\"url(#clip402)\" d=\"\nM7177.5 1384.24 L7177.5 1384.24 L7226.4 1384.24 L7226.4 1384.24 L7177.5 1384.24 L7177.5 1384.24  Z\n  \" fill=\"#009af9\" fill-rule=\"evenodd\" fill-opacity=\"1\"/>\n<polyline clip-path=\"url(#clip402)\" style=\"stroke:#000000; stroke-width:4; stroke-opacity:1; fill:none\" points=\"\n  7177.5,1384.24 7177.5,1384.24 7226.4,1384.24 7177.5,1384.24 \n  \"/>\n<path clip-path=\"url(#clip402)\" d=\"\nM7226.4 1384.24 L7226.4 1384.24 L7275.3 1384.24 L7275.3 1384.24 L7226.4 1384.24 L7226.4 1384.24  Z\n  \" fill=\"#009af9\" fill-rule=\"evenodd\" fill-opacity=\"1\"/>\n<polyline clip-path=\"url(#clip402)\" style=\"stroke:#000000; stroke-width:4; stroke-opacity:1; fill:none\" points=\"\n  7226.4,1384.24 7226.4,1384.24 7275.3,1384.24 7226.4,1384.24 \n  \"/>\n<path clip-path=\"url(#clip402)\" d=\"\nM7275.3 1384.24 L7275.3 1384.24 L7324.19 1384.24 L7324.19 1384.24 L7275.3 1384.24 L7275.3 1384.24  Z\n  \" fill=\"#009af9\" fill-rule=\"evenodd\" fill-opacity=\"1\"/>\n<polyline clip-path=\"url(#clip402)\" style=\"stroke:#000000; stroke-width:4; stroke-opacity:1; fill:none\" points=\"\n  7275.3,1384.24 7275.3,1384.24 7324.19,1384.24 7275.3,1384.24 \n  \"/>\n<path clip-path=\"url(#clip402)\" d=\"\nM7324.19 1384.24 L7324.19 1384.24 L7373.09 1384.24 L7373.09 1384.24 L7324.19 1384.24 L7324.19 1384.24  Z\n  \" fill=\"#009af9\" fill-rule=\"evenodd\" fill-opacity=\"1\"/>\n<polyline clip-path=\"url(#clip402)\" style=\"stroke:#000000; stroke-width:4; stroke-opacity:1; fill:none\" points=\"\n  7324.19,1384.24 7324.19,1384.24 7373.09,1384.24 7324.19,1384.24 \n  \"/>\n<path clip-path=\"url(#clip402)\" d=\"\nM7373.09 1384.24 L7373.09 1384.24 L7421.99 1384.24 L7421.99 1384.24 L7373.09 1384.24 L7373.09 1384.24  Z\n  \" fill=\"#009af9\" fill-rule=\"evenodd\" fill-opacity=\"1\"/>\n<polyline clip-path=\"url(#clip402)\" style=\"stroke:#000000; stroke-width:4; stroke-opacity:1; fill:none\" points=\"\n  7373.09,1384.24 7373.09,1384.24 7421.99,1384.24 7373.09,1384.24 \n  \"/>\n<path clip-path=\"url(#clip402)\" d=\"\nM7421.99 1384.24 L7421.99 1384.24 L7470.88 1384.24 L7470.88 1384.24 L7421.99 1384.24 L7421.99 1384.24  Z\n  \" fill=\"#009af9\" fill-rule=\"evenodd\" fill-opacity=\"1\"/>\n<polyline clip-path=\"url(#clip402)\" style=\"stroke:#000000; stroke-width:4; stroke-opacity:1; fill:none\" points=\"\n  7421.99,1384.24 7421.99,1384.24 7470.88,1384.24 7421.99,1384.24 \n  \"/>\n<path clip-path=\"url(#clip402)\" d=\"\nM7470.88 1384.24 L7470.88 1384.24 L7519.78 1384.24 L7519.78 1384.24 L7470.88 1384.24 L7470.88 1384.24  Z\n  \" fill=\"#009af9\" fill-rule=\"evenodd\" fill-opacity=\"1\"/>\n<polyline clip-path=\"url(#clip402)\" style=\"stroke:#000000; stroke-width:4; stroke-opacity:1; fill:none\" points=\"\n  7470.88,1384.24 7470.88,1384.24 7519.78,1384.24 7470.88,1384.24 \n  \"/>\n<path clip-path=\"url(#clip402)\" d=\"\nM7519.78 1352.58 L7519.78 1384.24 L7568.68 1384.24 L7568.68 1352.58 L7519.78 1352.58 L7519.78 1352.58  Z\n  \" fill=\"#009af9\" fill-rule=\"evenodd\" fill-opacity=\"1\"/>\n<polyline clip-path=\"url(#clip402)\" style=\"stroke:#000000; stroke-width:4; stroke-opacity:1; fill:none\" points=\"\n  7519.78,1352.58 7519.78,1384.24 7568.68,1384.24 7568.68,1352.58 7519.78,1352.58 \n  \"/>\n<path clip-path=\"url(#clip402)\" d=\"\nM7568.68 1384.24 L7568.68 1384.24 L7617.57 1384.24 L7617.57 1384.24 L7568.68 1384.24 L7568.68 1384.24  Z\n  \" fill=\"#009af9\" fill-rule=\"evenodd\" fill-opacity=\"1\"/>\n<polyline clip-path=\"url(#clip402)\" style=\"stroke:#000000; stroke-width:4; stroke-opacity:1; fill:none\" points=\"\n  7568.68,1384.24 7568.68,1384.24 7617.57,1384.24 7568.68,1384.24 \n  \"/>\n<path clip-path=\"url(#clip402)\" d=\"\nM7617.57 1384.24 L7617.57 1384.24 L7666.47 1384.24 L7666.47 1384.24 L7617.57 1384.24 L7617.57 1384.24  Z\n  \" fill=\"#009af9\" fill-rule=\"evenodd\" fill-opacity=\"1\"/>\n<polyline clip-path=\"url(#clip402)\" style=\"stroke:#000000; stroke-width:4; stroke-opacity:1; fill:none\" points=\"\n  7617.57,1384.24 7617.57,1384.24 7666.47,1384.24 7617.57,1384.24 \n  \"/>\n<path clip-path=\"url(#clip402)\" d=\"\nM7666.47 1384.24 L7666.47 1384.24 L7715.37 1384.24 L7715.37 1384.24 L7666.47 1384.24 L7666.47 1384.24  Z\n  \" fill=\"#009af9\" fill-rule=\"evenodd\" fill-opacity=\"1\"/>\n<polyline clip-path=\"url(#clip402)\" style=\"stroke:#000000; stroke-width:4; stroke-opacity:1; fill:none\" points=\"\n  7666.47,1384.24 7666.47,1384.24 7715.37,1384.24 7666.47,1384.24 \n  \"/>\n<path clip-path=\"url(#clip402)\" d=\"\nM7715.37 1384.24 L7715.37 1384.24 L7764.27 1384.24 L7764.27 1384.24 L7715.37 1384.24 L7715.37 1384.24  Z\n  \" fill=\"#009af9\" fill-rule=\"evenodd\" fill-opacity=\"1\"/>\n<polyline clip-path=\"url(#clip402)\" style=\"stroke:#000000; stroke-width:4; stroke-opacity:1; fill:none\" points=\"\n  7715.37,1384.24 7715.37,1384.24 7764.27,1384.24 7715.37,1384.24 \n  \"/>\n<path clip-path=\"url(#clip402)\" d=\"\nM7764.27 1384.24 L7764.27 1384.24 L7813.16 1384.24 L7813.16 1384.24 L7764.27 1384.24 L7764.27 1384.24  Z\n  \" fill=\"#009af9\" fill-rule=\"evenodd\" fill-opacity=\"1\"/>\n<polyline clip-path=\"url(#clip402)\" style=\"stroke:#000000; stroke-width:4; stroke-opacity:1; fill:none\" points=\"\n  7764.27,1384.24 7764.27,1384.24 7813.16,1384.24 7764.27,1384.24 \n  \"/>\n<path clip-path=\"url(#clip402)\" d=\"\nM7813.16 1384.24 L7813.16 1384.24 L7862.06 1384.24 L7862.06 1384.24 L7813.16 1384.24 L7813.16 1384.24  Z\n  \" fill=\"#009af9\" fill-rule=\"evenodd\" fill-opacity=\"1\"/>\n<polyline clip-path=\"url(#clip402)\" style=\"stroke:#000000; stroke-width:4; stroke-opacity:1; fill:none\" points=\"\n  7813.16,1384.24 7813.16,1384.24 7862.06,1384.24 7813.16,1384.24 \n  \"/>\n<path clip-path=\"url(#clip402)\" d=\"\nM7862.06 1384.24 L7862.06 1384.24 L7910.96 1384.24 L7910.96 1384.24 L7862.06 1384.24 L7862.06 1384.24  Z\n  \" fill=\"#009af9\" fill-rule=\"evenodd\" fill-opacity=\"1\"/>\n<polyline clip-path=\"url(#clip402)\" style=\"stroke:#000000; stroke-width:4; stroke-opacity:1; fill:none\" points=\"\n  7862.06,1384.24 7862.06,1384.24 7910.96,1384.24 7862.06,1384.24 \n  \"/>\n<path clip-path=\"url(#clip402)\" d=\"\nM7910.96 1384.24 L7910.96 1384.24 L7959.85 1384.24 L7959.85 1384.24 L7910.96 1384.24 L7910.96 1384.24  Z\n  \" fill=\"#009af9\" fill-rule=\"evenodd\" fill-opacity=\"1\"/>\n<polyline clip-path=\"url(#clip402)\" style=\"stroke:#000000; stroke-width:4; stroke-opacity:1; fill:none\" points=\"\n  7910.96,1384.24 7910.96,1384.24 7959.85,1384.24 7910.96,1384.24 \n  \"/>\n<path clip-path=\"url(#clip402)\" d=\"\nM7959.85 1352.58 L7959.85 1384.24 L8008.75 1384.24 L8008.75 1352.58 L7959.85 1352.58 L7959.85 1352.58  Z\n  \" fill=\"#009af9\" fill-rule=\"evenodd\" fill-opacity=\"1\"/>\n<polyline clip-path=\"url(#clip402)\" style=\"stroke:#000000; stroke-width:4; stroke-opacity:1; fill:none\" points=\"\n  7959.85,1352.58 7959.85,1384.24 8008.75,1384.24 8008.75,1352.58 7959.85,1352.58 \n  \"/>\n<path clip-path=\"url(#clip402)\" d=\"\nM8008.75 1384.24 L8008.75 1384.24 L8057.65 1384.24 L8057.65 1384.24 L8008.75 1384.24 L8008.75 1384.24  Z\n  \" fill=\"#009af9\" fill-rule=\"evenodd\" fill-opacity=\"1\"/>\n<polyline clip-path=\"url(#clip402)\" style=\"stroke:#000000; stroke-width:4; stroke-opacity:1; fill:none\" points=\"\n  8008.75,1384.24 8008.75,1384.24 8057.65,1384.24 8008.75,1384.24 \n  \"/>\n<path clip-path=\"url(#clip402)\" d=\"\nM8057.65 1384.24 L8057.65 1384.24 L8106.54 1384.24 L8106.54 1384.24 L8057.65 1384.24 L8057.65 1384.24  Z\n  \" fill=\"#009af9\" fill-rule=\"evenodd\" fill-opacity=\"1\"/>\n<polyline clip-path=\"url(#clip402)\" style=\"stroke:#000000; stroke-width:4; stroke-opacity:1; fill:none\" points=\"\n  8057.65,1384.24 8057.65,1384.24 8106.54,1384.24 8057.65,1384.24 \n  \"/>\n<path clip-path=\"url(#clip402)\" d=\"\nM8106.54 1384.24 L8106.54 1384.24 L8155.44 1384.24 L8155.44 1384.24 L8106.54 1384.24 L8106.54 1384.24  Z\n  \" fill=\"#009af9\" fill-rule=\"evenodd\" fill-opacity=\"1\"/>\n<polyline clip-path=\"url(#clip402)\" style=\"stroke:#000000; stroke-width:4; stroke-opacity:1; fill:none\" points=\"\n  8106.54,1384.24 8106.54,1384.24 8155.44,1384.24 8106.54,1384.24 \n  \"/>\n<path clip-path=\"url(#clip402)\" d=\"\nM8155.44 1384.24 L8155.44 1384.24 L8204.34 1384.24 L8204.34 1384.24 L8155.44 1384.24 L8155.44 1384.24  Z\n  \" fill=\"#009af9\" fill-rule=\"evenodd\" fill-opacity=\"1\"/>\n<polyline clip-path=\"url(#clip402)\" style=\"stroke:#000000; stroke-width:4; stroke-opacity:1; fill:none\" points=\"\n  8155.44,1384.24 8155.44,1384.24 8204.34,1384.24 8155.44,1384.24 \n  \"/>\n<path clip-path=\"url(#clip402)\" d=\"\nM8204.34 1384.24 L8204.34 1384.24 L8253.23 1384.24 L8253.23 1384.24 L8204.34 1384.24 L8204.34 1384.24  Z\n  \" fill=\"#009af9\" fill-rule=\"evenodd\" fill-opacity=\"1\"/>\n<polyline clip-path=\"url(#clip402)\" style=\"stroke:#000000; stroke-width:4; stroke-opacity:1; fill:none\" points=\"\n  8204.34,1384.24 8204.34,1384.24 8253.23,1384.24 8204.34,1384.24 \n  \"/>\n<path clip-path=\"url(#clip402)\" d=\"\nM8253.23 1384.24 L8253.23 1384.24 L8302.13 1384.24 L8302.13 1384.24 L8253.23 1384.24 L8253.23 1384.24  Z\n  \" fill=\"#009af9\" fill-rule=\"evenodd\" fill-opacity=\"1\"/>\n<polyline clip-path=\"url(#clip402)\" style=\"stroke:#000000; stroke-width:4; stroke-opacity:1; fill:none\" points=\"\n  8253.23,1384.24 8253.23,1384.24 8302.13,1384.24 8253.23,1384.24 \n  \"/>\n<path clip-path=\"url(#clip402)\" d=\"\nM8302.13 1384.24 L8302.13 1384.24 L8351.03 1384.24 L8351.03 1384.24 L8302.13 1384.24 L8302.13 1384.24  Z\n  \" fill=\"#009af9\" fill-rule=\"evenodd\" fill-opacity=\"1\"/>\n<polyline clip-path=\"url(#clip402)\" style=\"stroke:#000000; stroke-width:4; stroke-opacity:1; fill:none\" points=\"\n  8302.13,1384.24 8302.13,1384.24 8351.03,1384.24 8302.13,1384.24 \n  \"/>\n<path clip-path=\"url(#clip402)\" d=\"\nM8351.03 1384.24 L8351.03 1384.24 L8399.92 1384.24 L8399.92 1384.24 L8351.03 1384.24 L8351.03 1384.24  Z\n  \" fill=\"#009af9\" fill-rule=\"evenodd\" fill-opacity=\"1\"/>\n<polyline clip-path=\"url(#clip402)\" style=\"stroke:#000000; stroke-width:4; stroke-opacity:1; fill:none\" points=\"\n  8351.03,1384.24 8351.03,1384.24 8399.92,1384.24 8351.03,1384.24 \n  \"/>\n<path clip-path=\"url(#clip402)\" d=\"\nM8399.92 1384.24 L8399.92 1384.24 L8448.82 1384.24 L8448.82 1384.24 L8399.92 1384.24 L8399.92 1384.24  Z\n  \" fill=\"#009af9\" fill-rule=\"evenodd\" fill-opacity=\"1\"/>\n<polyline clip-path=\"url(#clip402)\" style=\"stroke:#000000; stroke-width:4; stroke-opacity:1; fill:none\" points=\"\n  8399.92,1384.24 8399.92,1384.24 8448.82,1384.24 8399.92,1384.24 \n  \"/>\n<path clip-path=\"url(#clip402)\" d=\"\nM8448.82 1384.24 L8448.82 1384.24 L8497.72 1384.24 L8497.72 1384.24 L8448.82 1384.24 L8448.82 1384.24  Z\n  \" fill=\"#009af9\" fill-rule=\"evenodd\" fill-opacity=\"1\"/>\n<polyline clip-path=\"url(#clip402)\" style=\"stroke:#000000; stroke-width:4; stroke-opacity:1; fill:none\" points=\"\n  8448.82,1384.24 8448.82,1384.24 8497.72,1384.24 8448.82,1384.24 \n  \"/>\n<path clip-path=\"url(#clip402)\" d=\"\nM8497.72 1384.24 L8497.72 1384.24 L8546.61 1384.24 L8546.61 1384.24 L8497.72 1384.24 L8497.72 1384.24  Z\n  \" fill=\"#009af9\" fill-rule=\"evenodd\" fill-opacity=\"1\"/>\n<polyline clip-path=\"url(#clip402)\" style=\"stroke:#000000; stroke-width:4; stroke-opacity:1; fill:none\" points=\"\n  8497.72,1384.24 8497.72,1384.24 8546.61,1384.24 8497.72,1384.24 \n  \"/>\n<path clip-path=\"url(#clip402)\" d=\"\nM8546.61 1384.24 L8546.61 1384.24 L8595.51 1384.24 L8595.51 1384.24 L8546.61 1384.24 L8546.61 1384.24  Z\n  \" fill=\"#009af9\" fill-rule=\"evenodd\" fill-opacity=\"1\"/>\n<polyline clip-path=\"url(#clip402)\" style=\"stroke:#000000; stroke-width:4; stroke-opacity:1; fill:none\" points=\"\n  8546.61,1384.24 8546.61,1384.24 8595.51,1384.24 8546.61,1384.24 \n  \"/>\n<path clip-path=\"url(#clip402)\" d=\"\nM8595.51 1384.24 L8595.51 1384.24 L8644.41 1384.24 L8644.41 1384.24 L8595.51 1384.24 L8595.51 1384.24  Z\n  \" fill=\"#009af9\" fill-rule=\"evenodd\" fill-opacity=\"1\"/>\n<polyline clip-path=\"url(#clip402)\" style=\"stroke:#000000; stroke-width:4; stroke-opacity:1; fill:none\" points=\"\n  8595.51,1384.24 8595.51,1384.24 8644.41,1384.24 8595.51,1384.24 \n  \"/>\n<path clip-path=\"url(#clip402)\" d=\"\nM8644.41 1352.58 L8644.41 1384.24 L8693.3 1384.24 L8693.3 1352.58 L8644.41 1352.58 L8644.41 1352.58  Z\n  \" fill=\"#009af9\" fill-rule=\"evenodd\" fill-opacity=\"1\"/>\n<polyline clip-path=\"url(#clip402)\" style=\"stroke:#000000; stroke-width:4; stroke-opacity:1; fill:none\" points=\"\n  8644.41,1352.58 8644.41,1384.24 8693.3,1384.24 8693.3,1352.58 8644.41,1352.58 \n  \"/>\n<path clip-path=\"url(#clip402)\" d=\"\nM8693.3 1384.24 L8693.3 1384.24 L8742.2 1384.24 L8742.2 1384.24 L8693.3 1384.24 L8693.3 1384.24  Z\n  \" fill=\"#009af9\" fill-rule=\"evenodd\" fill-opacity=\"1\"/>\n<polyline clip-path=\"url(#clip402)\" style=\"stroke:#000000; stroke-width:4; stroke-opacity:1; fill:none\" points=\"\n  8693.3,1384.24 8693.3,1384.24 8742.2,1384.24 8693.3,1384.24 \n  \"/>\n<path clip-path=\"url(#clip402)\" d=\"\nM8742.2 1384.24 L8742.2 1384.24 L8791.1 1384.24 L8791.1 1384.24 L8742.2 1384.24 L8742.2 1384.24  Z\n  \" fill=\"#009af9\" fill-rule=\"evenodd\" fill-opacity=\"1\"/>\n<polyline clip-path=\"url(#clip402)\" style=\"stroke:#000000; stroke-width:4; stroke-opacity:1; fill:none\" points=\"\n  8742.2,1384.24 8742.2,1384.24 8791.1,1384.24 8742.2,1384.24 \n  \"/>\n<path clip-path=\"url(#clip402)\" d=\"\nM8791.1 1384.24 L8791.1 1384.24 L8839.99 1384.24 L8839.99 1384.24 L8791.1 1384.24 L8791.1 1384.24  Z\n  \" fill=\"#009af9\" fill-rule=\"evenodd\" fill-opacity=\"1\"/>\n<polyline clip-path=\"url(#clip402)\" style=\"stroke:#000000; stroke-width:4; stroke-opacity:1; fill:none\" points=\"\n  8791.1,1384.24 8791.1,1384.24 8839.99,1384.24 8791.1,1384.24 \n  \"/>\n<path clip-path=\"url(#clip402)\" d=\"\nM8839.99 1384.24 L8839.99 1384.24 L8888.89 1384.24 L8888.89 1384.24 L8839.99 1384.24 L8839.99 1384.24  Z\n  \" fill=\"#009af9\" fill-rule=\"evenodd\" fill-opacity=\"1\"/>\n<polyline clip-path=\"url(#clip402)\" style=\"stroke:#000000; stroke-width:4; stroke-opacity:1; fill:none\" points=\"\n  8839.99,1384.24 8839.99,1384.24 8888.89,1384.24 8839.99,1384.24 \n  \"/>\n<path clip-path=\"url(#clip402)\" d=\"\nM8888.89 1384.24 L8888.89 1384.24 L8937.79 1384.24 L8937.79 1384.24 L8888.89 1384.24 L8888.89 1384.24  Z\n  \" fill=\"#009af9\" fill-rule=\"evenodd\" fill-opacity=\"1\"/>\n<polyline clip-path=\"url(#clip402)\" style=\"stroke:#000000; stroke-width:4; stroke-opacity:1; fill:none\" points=\"\n  8888.89,1384.24 8888.89,1384.24 8937.79,1384.24 8888.89,1384.24 \n  \"/>\n<path clip-path=\"url(#clip402)\" d=\"\nM8937.79 1384.24 L8937.79 1384.24 L8986.68 1384.24 L8986.68 1384.24 L8937.79 1384.24 L8937.79 1384.24  Z\n  \" fill=\"#009af9\" fill-rule=\"evenodd\" fill-opacity=\"1\"/>\n<polyline clip-path=\"url(#clip402)\" style=\"stroke:#000000; stroke-width:4; stroke-opacity:1; fill:none\" points=\"\n  8937.79,1384.24 8937.79,1384.24 8986.68,1384.24 8937.79,1384.24 \n  \"/>\n<path clip-path=\"url(#clip402)\" d=\"\nM8986.68 1320.92 L8986.68 1384.24 L9035.58 1384.24 L9035.58 1320.92 L8986.68 1320.92 L8986.68 1320.92  Z\n  \" fill=\"#009af9\" fill-rule=\"evenodd\" fill-opacity=\"1\"/>\n<polyline clip-path=\"url(#clip402)\" style=\"stroke:#000000; stroke-width:4; stroke-opacity:1; fill:none\" points=\"\n  8986.68,1320.92 8986.68,1384.24 9035.58,1384.24 9035.58,1320.92 8986.68,1320.92 \n  \"/>\n<path clip-path=\"url(#clip402)\" d=\"\nM9035.58 1352.58 L9035.58 1384.24 L9084.48 1384.24 L9084.48 1352.58 L9035.58 1352.58 L9035.58 1352.58  Z\n  \" fill=\"#009af9\" fill-rule=\"evenodd\" fill-opacity=\"1\"/>\n<polyline clip-path=\"url(#clip402)\" style=\"stroke:#000000; stroke-width:4; stroke-opacity:1; fill:none\" points=\"\n  9035.58,1352.58 9035.58,1384.24 9084.48,1384.24 9084.48,1352.58 9035.58,1352.58 \n  \"/>\n<path clip-path=\"url(#clip402)\" d=\"\nM9084.48 1384.24 L9084.48 1384.24 L9133.38 1384.24 L9133.38 1384.24 L9084.48 1384.24 L9084.48 1384.24  Z\n  \" fill=\"#009af9\" fill-rule=\"evenodd\" fill-opacity=\"1\"/>\n<polyline clip-path=\"url(#clip402)\" style=\"stroke:#000000; stroke-width:4; stroke-opacity:1; fill:none\" points=\"\n  9084.48,1384.24 9084.48,1384.24 9133.38,1384.24 9084.48,1384.24 \n  \"/>\n<path clip-path=\"url(#clip402)\" d=\"\nM9133.38 1384.24 L9133.38 1384.24 L9182.27 1384.24 L9182.27 1384.24 L9133.38 1384.24 L9133.38 1384.24  Z\n  \" fill=\"#009af9\" fill-rule=\"evenodd\" fill-opacity=\"1\"/>\n<polyline clip-path=\"url(#clip402)\" style=\"stroke:#000000; stroke-width:4; stroke-opacity:1; fill:none\" points=\"\n  9133.38,1384.24 9133.38,1384.24 9182.27,1384.24 9133.38,1384.24 \n  \"/>\n<path clip-path=\"url(#clip402)\" d=\"\nM9182.27 1384.24 L9182.27 1384.24 L9231.17 1384.24 L9231.17 1384.24 L9182.27 1384.24 L9182.27 1384.24  Z\n  \" fill=\"#009af9\" fill-rule=\"evenodd\" fill-opacity=\"1\"/>\n<polyline clip-path=\"url(#clip402)\" style=\"stroke:#000000; stroke-width:4; stroke-opacity:1; fill:none\" points=\"\n  9182.27,1384.24 9182.27,1384.24 9231.17,1384.24 9182.27,1384.24 \n  \"/>\n<path clip-path=\"url(#clip402)\" d=\"\nM9231.17 1384.24 L9231.17 1384.24 L9280.07 1384.24 L9280.07 1384.24 L9231.17 1384.24 L9231.17 1384.24  Z\n  \" fill=\"#009af9\" fill-rule=\"evenodd\" fill-opacity=\"1\"/>\n<polyline clip-path=\"url(#clip402)\" style=\"stroke:#000000; stroke-width:4; stroke-opacity:1; fill:none\" points=\"\n  9231.17,1384.24 9231.17,1384.24 9280.07,1384.24 9231.17,1384.24 \n  \"/>\n<path clip-path=\"url(#clip402)\" d=\"\nM9280.07 1384.24 L9280.07 1384.24 L9328.96 1384.24 L9328.96 1384.24 L9280.07 1384.24 L9280.07 1384.24  Z\n  \" fill=\"#009af9\" fill-rule=\"evenodd\" fill-opacity=\"1\"/>\n<polyline clip-path=\"url(#clip402)\" style=\"stroke:#000000; stroke-width:4; stroke-opacity:1; fill:none\" points=\"\n  9280.07,1384.24 9280.07,1384.24 9328.96,1384.24 9280.07,1384.24 \n  \"/>\n<path clip-path=\"url(#clip402)\" d=\"\nM9328.96 1384.24 L9328.96 1384.24 L9377.86 1384.24 L9377.86 1384.24 L9328.96 1384.24 L9328.96 1384.24  Z\n  \" fill=\"#009af9\" fill-rule=\"evenodd\" fill-opacity=\"1\"/>\n<polyline clip-path=\"url(#clip402)\" style=\"stroke:#000000; stroke-width:4; stroke-opacity:1; fill:none\" points=\"\n  9328.96,1384.24 9328.96,1384.24 9377.86,1384.24 9328.96,1384.24 \n  \"/>\n<path clip-path=\"url(#clip402)\" d=\"\nM9377.86 1384.24 L9377.86 1384.24 L9426.76 1384.24 L9426.76 1384.24 L9377.86 1384.24 L9377.86 1384.24  Z\n  \" fill=\"#009af9\" fill-rule=\"evenodd\" fill-opacity=\"1\"/>\n<polyline clip-path=\"url(#clip402)\" style=\"stroke:#000000; stroke-width:4; stroke-opacity:1; fill:none\" points=\"\n  9377.86,1384.24 9377.86,1384.24 9426.76,1384.24 9377.86,1384.24 \n  \"/>\n<path clip-path=\"url(#clip402)\" d=\"\nM9426.76 1384.24 L9426.76 1384.24 L9475.65 1384.24 L9475.65 1384.24 L9426.76 1384.24 L9426.76 1384.24  Z\n  \" fill=\"#009af9\" fill-rule=\"evenodd\" fill-opacity=\"1\"/>\n<polyline clip-path=\"url(#clip402)\" style=\"stroke:#000000; stroke-width:4; stroke-opacity:1; fill:none\" points=\"\n  9426.76,1384.24 9426.76,1384.24 9475.65,1384.24 9426.76,1384.24 \n  \"/>\n<path clip-path=\"url(#clip402)\" d=\"\nM9475.65 1384.24 L9475.65 1384.24 L9524.55 1384.24 L9524.55 1384.24 L9475.65 1384.24 L9475.65 1384.24  Z\n  \" fill=\"#009af9\" fill-rule=\"evenodd\" fill-opacity=\"1\"/>\n<polyline clip-path=\"url(#clip402)\" style=\"stroke:#000000; stroke-width:4; stroke-opacity:1; fill:none\" points=\"\n  9475.65,1384.24 9475.65,1384.24 9524.55,1384.24 9475.65,1384.24 \n  \"/>\n<path clip-path=\"url(#clip402)\" d=\"\nM9524.55 1384.24 L9524.55 1384.24 L9573.45 1384.24 L9573.45 1384.24 L9524.55 1384.24 L9524.55 1384.24  Z\n  \" fill=\"#009af9\" fill-rule=\"evenodd\" fill-opacity=\"1\"/>\n<polyline clip-path=\"url(#clip402)\" style=\"stroke:#000000; stroke-width:4; stroke-opacity:1; fill:none\" points=\"\n  9524.55,1384.24 9524.55,1384.24 9573.45,1384.24 9524.55,1384.24 \n  \"/>\n<path clip-path=\"url(#clip402)\" d=\"\nM9573.45 1384.24 L9573.45 1384.24 L9622.34 1384.24 L9622.34 1384.24 L9573.45 1384.24 L9573.45 1384.24  Z\n  \" fill=\"#009af9\" fill-rule=\"evenodd\" fill-opacity=\"1\"/>\n<polyline clip-path=\"url(#clip402)\" style=\"stroke:#000000; stroke-width:4; stroke-opacity:1; fill:none\" points=\"\n  9573.45,1384.24 9573.45,1384.24 9622.34,1384.24 9573.45,1384.24 \n  \"/>\n<path clip-path=\"url(#clip402)\" d=\"\nM9622.34 1384.24 L9622.34 1384.24 L9671.24 1384.24 L9671.24 1384.24 L9622.34 1384.24 L9622.34 1384.24  Z\n  \" fill=\"#009af9\" fill-rule=\"evenodd\" fill-opacity=\"1\"/>\n<polyline clip-path=\"url(#clip402)\" style=\"stroke:#000000; stroke-width:4; stroke-opacity:1; fill:none\" points=\"\n  9622.34,1384.24 9622.34,1384.24 9671.24,1384.24 9622.34,1384.24 \n  \"/>\n<path clip-path=\"url(#clip402)\" d=\"\nM9671.24 1384.24 L9671.24 1384.24 L9720.14 1384.24 L9720.14 1384.24 L9671.24 1384.24 L9671.24 1384.24  Z\n  \" fill=\"#009af9\" fill-rule=\"evenodd\" fill-opacity=\"1\"/>\n<polyline clip-path=\"url(#clip402)\" style=\"stroke:#000000; stroke-width:4; stroke-opacity:1; fill:none\" points=\"\n  9671.24,1384.24 9671.24,1384.24 9720.14,1384.24 9671.24,1384.24 \n  \"/>\n<path clip-path=\"url(#clip402)\" d=\"\nM9720.14 1384.24 L9720.14 1384.24 L9769.03 1384.24 L9769.03 1384.24 L9720.14 1384.24 L9720.14 1384.24  Z\n  \" fill=\"#009af9\" fill-rule=\"evenodd\" fill-opacity=\"1\"/>\n<polyline clip-path=\"url(#clip402)\" style=\"stroke:#000000; stroke-width:4; stroke-opacity:1; fill:none\" points=\"\n  9720.14,1384.24 9720.14,1384.24 9769.03,1384.24 9720.14,1384.24 \n  \"/>\n<path clip-path=\"url(#clip402)\" d=\"\nM9769.03 1384.24 L9769.03 1384.24 L9817.93 1384.24 L9817.93 1384.24 L9769.03 1384.24 L9769.03 1384.24  Z\n  \" fill=\"#009af9\" fill-rule=\"evenodd\" fill-opacity=\"1\"/>\n<polyline clip-path=\"url(#clip402)\" style=\"stroke:#000000; stroke-width:4; stroke-opacity:1; fill:none\" points=\"\n  9769.03,1384.24 9769.03,1384.24 9817.93,1384.24 9769.03,1384.24 \n  \"/>\n<path clip-path=\"url(#clip402)\" d=\"\nM9817.93 1384.24 L9817.93 1384.24 L9866.83 1384.24 L9866.83 1384.24 L9817.93 1384.24 L9817.93 1384.24  Z\n  \" fill=\"#009af9\" fill-rule=\"evenodd\" fill-opacity=\"1\"/>\n<polyline clip-path=\"url(#clip402)\" style=\"stroke:#000000; stroke-width:4; stroke-opacity:1; fill:none\" points=\"\n  9817.93,1384.24 9817.93,1384.24 9866.83,1384.24 9817.93,1384.24 \n  \"/>\n<path clip-path=\"url(#clip402)\" d=\"\nM9866.83 1384.24 L9866.83 1384.24 L9915.72 1384.24 L9915.72 1384.24 L9866.83 1384.24 L9866.83 1384.24  Z\n  \" fill=\"#009af9\" fill-rule=\"evenodd\" fill-opacity=\"1\"/>\n<polyline clip-path=\"url(#clip402)\" style=\"stroke:#000000; stroke-width:4; stroke-opacity:1; fill:none\" points=\"\n  9866.83,1384.24 9866.83,1384.24 9915.72,1384.24 9866.83,1384.24 \n  \"/>\n<path clip-path=\"url(#clip402)\" d=\"\nM9915.72 1384.24 L9915.72 1384.24 L9964.62 1384.24 L9964.62 1384.24 L9915.72 1384.24 L9915.72 1384.24  Z\n  \" fill=\"#009af9\" fill-rule=\"evenodd\" fill-opacity=\"1\"/>\n<polyline clip-path=\"url(#clip402)\" style=\"stroke:#000000; stroke-width:4; stroke-opacity:1; fill:none\" points=\"\n  9915.72,1384.24 9915.72,1384.24 9964.62,1384.24 9915.72,1384.24 \n  \"/>\n<path clip-path=\"url(#clip402)\" d=\"\nM9964.62 1384.24 L9964.62 1384.24 L10013.5 1384.24 L10013.5 1384.24 L9964.62 1384.24 L9964.62 1384.24  Z\n  \" fill=\"#009af9\" fill-rule=\"evenodd\" fill-opacity=\"1\"/>\n<polyline clip-path=\"url(#clip402)\" style=\"stroke:#000000; stroke-width:4; stroke-opacity:1; fill:none\" points=\"\n  9964.62,1384.24 9964.62,1384.24 10013.5,1384.24 9964.62,1384.24 \n  \"/>\n<path clip-path=\"url(#clip402)\" d=\"\nM10013.5 1384.24 L10013.5 1384.24 L10062.4 1384.24 L10062.4 1384.24 L10013.5 1384.24 L10013.5 1384.24  Z\n  \" fill=\"#009af9\" fill-rule=\"evenodd\" fill-opacity=\"1\"/>\n<polyline clip-path=\"url(#clip402)\" style=\"stroke:#000000; stroke-width:4; stroke-opacity:1; fill:none\" points=\"\n  10013.5,1384.24 10013.5,1384.24 10062.4,1384.24 10013.5,1384.24 \n  \"/>\n<path clip-path=\"url(#clip402)\" d=\"\nM10062.4 1384.24 L10062.4 1384.24 L10111.3 1384.24 L10111.3 1384.24 L10062.4 1384.24 L10062.4 1384.24  Z\n  \" fill=\"#009af9\" fill-rule=\"evenodd\" fill-opacity=\"1\"/>\n<polyline clip-path=\"url(#clip402)\" style=\"stroke:#000000; stroke-width:4; stroke-opacity:1; fill:none\" points=\"\n  10062.4,1384.24 10062.4,1384.24 10111.3,1384.24 10062.4,1384.24 \n  \"/>\n<path clip-path=\"url(#clip402)\" d=\"\nM10111.3 1384.24 L10111.3 1384.24 L10160.2 1384.24 L10160.2 1384.24 L10111.3 1384.24 L10111.3 1384.24  Z\n  \" fill=\"#009af9\" fill-rule=\"evenodd\" fill-opacity=\"1\"/>\n<polyline clip-path=\"url(#clip402)\" style=\"stroke:#000000; stroke-width:4; stroke-opacity:1; fill:none\" points=\"\n  10111.3,1384.24 10111.3,1384.24 10160.2,1384.24 10111.3,1384.24 \n  \"/>\n<path clip-path=\"url(#clip402)\" d=\"\nM10160.2 1384.24 L10160.2 1384.24 L10209.1 1384.24 L10209.1 1384.24 L10160.2 1384.24 L10160.2 1384.24  Z\n  \" fill=\"#009af9\" fill-rule=\"evenodd\" fill-opacity=\"1\"/>\n<polyline clip-path=\"url(#clip402)\" style=\"stroke:#000000; stroke-width:4; stroke-opacity:1; fill:none\" points=\"\n  10160.2,1384.24 10160.2,1384.24 10209.1,1384.24 10160.2,1384.24 \n  \"/>\n<path clip-path=\"url(#clip402)\" d=\"\nM10209.1 1384.24 L10209.1 1384.24 L10258 1384.24 L10258 1384.24 L10209.1 1384.24 L10209.1 1384.24  Z\n  \" fill=\"#009af9\" fill-rule=\"evenodd\" fill-opacity=\"1\"/>\n<polyline clip-path=\"url(#clip402)\" style=\"stroke:#000000; stroke-width:4; stroke-opacity:1; fill:none\" points=\"\n  10209.1,1384.24 10209.1,1384.24 10258,1384.24 10209.1,1384.24 \n  \"/>\n<path clip-path=\"url(#clip402)\" d=\"\nM10258 1384.24 L10258 1384.24 L10306.9 1384.24 L10306.9 1384.24 L10258 1384.24 L10258 1384.24  Z\n  \" fill=\"#009af9\" fill-rule=\"evenodd\" fill-opacity=\"1\"/>\n<polyline clip-path=\"url(#clip402)\" style=\"stroke:#000000; stroke-width:4; stroke-opacity:1; fill:none\" points=\"\n  10258,1384.24 10258,1384.24 10306.9,1384.24 10258,1384.24 \n  \"/>\n<path clip-path=\"url(#clip402)\" d=\"\nM10306.9 1384.24 L10306.9 1384.24 L10355.8 1384.24 L10355.8 1384.24 L10306.9 1384.24 L10306.9 1384.24  Z\n  \" fill=\"#009af9\" fill-rule=\"evenodd\" fill-opacity=\"1\"/>\n<polyline clip-path=\"url(#clip402)\" style=\"stroke:#000000; stroke-width:4; stroke-opacity:1; fill:none\" points=\"\n  10306.9,1384.24 10306.9,1384.24 10355.8,1384.24 10306.9,1384.24 \n  \"/>\n<path clip-path=\"url(#clip402)\" d=\"\nM10355.8 1384.24 L10355.8 1384.24 L10404.7 1384.24 L10404.7 1384.24 L10355.8 1384.24 L10355.8 1384.24  Z\n  \" fill=\"#009af9\" fill-rule=\"evenodd\" fill-opacity=\"1\"/>\n<polyline clip-path=\"url(#clip402)\" style=\"stroke:#000000; stroke-width:4; stroke-opacity:1; fill:none\" points=\"\n  10355.8,1384.24 10355.8,1384.24 10404.7,1384.24 10355.8,1384.24 \n  \"/>\n<path clip-path=\"url(#clip402)\" d=\"\nM10404.7 1384.24 L10404.7 1384.24 L10453.6 1384.24 L10453.6 1384.24 L10404.7 1384.24 L10404.7 1384.24  Z\n  \" fill=\"#009af9\" fill-rule=\"evenodd\" fill-opacity=\"1\"/>\n<polyline clip-path=\"url(#clip402)\" style=\"stroke:#000000; stroke-width:4; stroke-opacity:1; fill:none\" points=\"\n  10404.7,1384.24 10404.7,1384.24 10453.6,1384.24 10404.7,1384.24 \n  \"/>\n<path clip-path=\"url(#clip402)\" d=\"\nM10453.6 1384.24 L10453.6 1384.24 L10502.5 1384.24 L10502.5 1384.24 L10453.6 1384.24 L10453.6 1384.24  Z\n  \" fill=\"#009af9\" fill-rule=\"evenodd\" fill-opacity=\"1\"/>\n<polyline clip-path=\"url(#clip402)\" style=\"stroke:#000000; stroke-width:4; stroke-opacity:1; fill:none\" points=\"\n  10453.6,1384.24 10453.6,1384.24 10502.5,1384.24 10453.6,1384.24 \n  \"/>\n<path clip-path=\"url(#clip402)\" d=\"\nM10502.5 1384.24 L10502.5 1384.24 L10551.4 1384.24 L10551.4 1384.24 L10502.5 1384.24 L10502.5 1384.24  Z\n  \" fill=\"#009af9\" fill-rule=\"evenodd\" fill-opacity=\"1\"/>\n<polyline clip-path=\"url(#clip402)\" style=\"stroke:#000000; stroke-width:4; stroke-opacity:1; fill:none\" points=\"\n  10502.5,1384.24 10502.5,1384.24 10551.4,1384.24 10502.5,1384.24 \n  \"/>\n<path clip-path=\"url(#clip402)\" d=\"\nM10551.4 1352.58 L10551.4 1384.24 L10600.3 1384.24 L10600.3 1352.58 L10551.4 1352.58 L10551.4 1352.58  Z\n  \" fill=\"#009af9\" fill-rule=\"evenodd\" fill-opacity=\"1\"/>\n<polyline clip-path=\"url(#clip402)\" style=\"stroke:#000000; stroke-width:4; stroke-opacity:1; fill:none\" points=\"\n  10551.4,1352.58 10551.4,1384.24 10600.3,1384.24 10600.3,1352.58 10551.4,1352.58 \n  \"/>\n<path clip-path=\"url(#clip402)\" d=\"\nM10600.3 1384.24 L10600.3 1384.24 L10649.2 1384.24 L10649.2 1384.24 L10600.3 1384.24 L10600.3 1384.24  Z\n  \" fill=\"#009af9\" fill-rule=\"evenodd\" fill-opacity=\"1\"/>\n<polyline clip-path=\"url(#clip402)\" style=\"stroke:#000000; stroke-width:4; stroke-opacity:1; fill:none\" points=\"\n  10600.3,1384.24 10600.3,1384.24 10649.2,1384.24 10600.3,1384.24 \n  \"/>\n<path clip-path=\"url(#clip402)\" d=\"\nM10649.2 1384.24 L10649.2 1384.24 L10698.1 1384.24 L10698.1 1384.24 L10649.2 1384.24 L10649.2 1384.24  Z\n  \" fill=\"#009af9\" fill-rule=\"evenodd\" fill-opacity=\"1\"/>\n<polyline clip-path=\"url(#clip402)\" style=\"stroke:#000000; stroke-width:4; stroke-opacity:1; fill:none\" points=\"\n  10649.2,1384.24 10649.2,1384.24 10698.1,1384.24 10649.2,1384.24 \n  \"/>\n<path clip-path=\"url(#clip402)\" d=\"\nM10698.1 1384.24 L10698.1 1384.24 L10747 1384.24 L10747 1384.24 L10698.1 1384.24 L10698.1 1384.24  Z\n  \" fill=\"#009af9\" fill-rule=\"evenodd\" fill-opacity=\"1\"/>\n<polyline clip-path=\"url(#clip402)\" style=\"stroke:#000000; stroke-width:4; stroke-opacity:1; fill:none\" points=\"\n  10698.1,1384.24 10698.1,1384.24 10747,1384.24 10698.1,1384.24 \n  \"/>\n<path clip-path=\"url(#clip402)\" d=\"\nM10747 1384.24 L10747 1384.24 L10795.9 1384.24 L10795.9 1384.24 L10747 1384.24 L10747 1384.24  Z\n  \" fill=\"#009af9\" fill-rule=\"evenodd\" fill-opacity=\"1\"/>\n<polyline clip-path=\"url(#clip402)\" style=\"stroke:#000000; stroke-width:4; stroke-opacity:1; fill:none\" points=\"\n  10747,1384.24 10747,1384.24 10795.9,1384.24 10747,1384.24 \n  \"/>\n<path clip-path=\"url(#clip402)\" d=\"\nM10795.9 1384.24 L10795.9 1384.24 L10844.8 1384.24 L10844.8 1384.24 L10795.9 1384.24 L10795.9 1384.24  Z\n  \" fill=\"#009af9\" fill-rule=\"evenodd\" fill-opacity=\"1\"/>\n<polyline clip-path=\"url(#clip402)\" style=\"stroke:#000000; stroke-width:4; stroke-opacity:1; fill:none\" points=\"\n  10795.9,1384.24 10795.9,1384.24 10844.8,1384.24 10795.9,1384.24 \n  \"/>\n<path clip-path=\"url(#clip402)\" d=\"\nM10844.8 1384.24 L10844.8 1384.24 L10893.7 1384.24 L10893.7 1384.24 L10844.8 1384.24 L10844.8 1384.24  Z\n  \" fill=\"#009af9\" fill-rule=\"evenodd\" fill-opacity=\"1\"/>\n<polyline clip-path=\"url(#clip402)\" style=\"stroke:#000000; stroke-width:4; stroke-opacity:1; fill:none\" points=\"\n  10844.8,1384.24 10844.8,1384.24 10893.7,1384.24 10844.8,1384.24 \n  \"/>\n<path clip-path=\"url(#clip402)\" d=\"\nM10893.7 1352.58 L10893.7 1384.24 L10942.6 1384.24 L10942.6 1352.58 L10893.7 1352.58 L10893.7 1352.58  Z\n  \" fill=\"#009af9\" fill-rule=\"evenodd\" fill-opacity=\"1\"/>\n<polyline clip-path=\"url(#clip402)\" style=\"stroke:#000000; stroke-width:4; stroke-opacity:1; fill:none\" points=\"\n  10893.7,1352.58 10893.7,1384.24 10942.6,1384.24 10942.6,1352.58 10893.7,1352.58 \n  \"/>\n<path clip-path=\"url(#clip402)\" d=\"\nM10942.6 1384.24 L10942.6 1384.24 L10991.5 1384.24 L10991.5 1384.24 L10942.6 1384.24 L10942.6 1384.24  Z\n  \" fill=\"#009af9\" fill-rule=\"evenodd\" fill-opacity=\"1\"/>\n<polyline clip-path=\"url(#clip402)\" style=\"stroke:#000000; stroke-width:4; stroke-opacity:1; fill:none\" points=\"\n  10942.6,1384.24 10942.6,1384.24 10991.5,1384.24 10942.6,1384.24 \n  \"/>\n<path clip-path=\"url(#clip402)\" d=\"\nM10991.5 1384.24 L10991.5 1384.24 L11040.4 1384.24 L11040.4 1384.24 L10991.5 1384.24 L10991.5 1384.24  Z\n  \" fill=\"#009af9\" fill-rule=\"evenodd\" fill-opacity=\"1\"/>\n<polyline clip-path=\"url(#clip402)\" style=\"stroke:#000000; stroke-width:4; stroke-opacity:1; fill:none\" points=\"\n  10991.5,1384.24 10991.5,1384.24 11040.4,1384.24 10991.5,1384.24 \n  \"/>\n<path clip-path=\"url(#clip402)\" d=\"\nM11040.4 1384.24 L11040.4 1384.24 L11089.2 1384.24 L11089.2 1384.24 L11040.4 1384.24 L11040.4 1384.24  Z\n  \" fill=\"#009af9\" fill-rule=\"evenodd\" fill-opacity=\"1\"/>\n<polyline clip-path=\"url(#clip402)\" style=\"stroke:#000000; stroke-width:4; stroke-opacity:1; fill:none\" points=\"\n  11040.4,1384.24 11040.4,1384.24 11089.2,1384.24 11040.4,1384.24 \n  \"/>\n<path clip-path=\"url(#clip402)\" d=\"\nM11089.2 1384.24 L11089.2 1384.24 L11138.1 1384.24 L11138.1 1384.24 L11089.2 1384.24 L11089.2 1384.24  Z\n  \" fill=\"#009af9\" fill-rule=\"evenodd\" fill-opacity=\"1\"/>\n<polyline clip-path=\"url(#clip402)\" style=\"stroke:#000000; stroke-width:4; stroke-opacity:1; fill:none\" points=\"\n  11089.2,1384.24 11089.2,1384.24 11138.1,1384.24 11089.2,1384.24 \n  \"/>\n<path clip-path=\"url(#clip402)\" d=\"\nM11138.1 1384.24 L11138.1 1384.24 L11187 1384.24 L11187 1384.24 L11138.1 1384.24 L11138.1 1384.24  Z\n  \" fill=\"#009af9\" fill-rule=\"evenodd\" fill-opacity=\"1\"/>\n<polyline clip-path=\"url(#clip402)\" style=\"stroke:#000000; stroke-width:4; stroke-opacity:1; fill:none\" points=\"\n  11138.1,1384.24 11138.1,1384.24 11187,1384.24 11138.1,1384.24 \n  \"/>\n<path clip-path=\"url(#clip402)\" d=\"\nM11187 1384.24 L11187 1384.24 L11235.9 1384.24 L11235.9 1384.24 L11187 1384.24 L11187 1384.24  Z\n  \" fill=\"#009af9\" fill-rule=\"evenodd\" fill-opacity=\"1\"/>\n<polyline clip-path=\"url(#clip402)\" style=\"stroke:#000000; stroke-width:4; stroke-opacity:1; fill:none\" points=\"\n  11187,1384.24 11187,1384.24 11235.9,1384.24 11187,1384.24 \n  \"/>\n<path clip-path=\"url(#clip402)\" d=\"\nM11235.9 1384.24 L11235.9 1384.24 L11284.8 1384.24 L11284.8 1384.24 L11235.9 1384.24 L11235.9 1384.24  Z\n  \" fill=\"#009af9\" fill-rule=\"evenodd\" fill-opacity=\"1\"/>\n<polyline clip-path=\"url(#clip402)\" style=\"stroke:#000000; stroke-width:4; stroke-opacity:1; fill:none\" points=\"\n  11235.9,1384.24 11235.9,1384.24 11284.8,1384.24 11235.9,1384.24 \n  \"/>\n<path clip-path=\"url(#clip402)\" d=\"\nM11284.8 1384.24 L11284.8 1384.24 L11333.7 1384.24 L11333.7 1384.24 L11284.8 1384.24 L11284.8 1384.24  Z\n  \" fill=\"#009af9\" fill-rule=\"evenodd\" fill-opacity=\"1\"/>\n<polyline clip-path=\"url(#clip402)\" style=\"stroke:#000000; stroke-width:4; stroke-opacity:1; fill:none\" points=\"\n  11284.8,1384.24 11284.8,1384.24 11333.7,1384.24 11284.8,1384.24 \n  \"/>\n<path clip-path=\"url(#clip402)\" d=\"\nM11333.7 1384.24 L11333.7 1384.24 L11382.6 1384.24 L11382.6 1384.24 L11333.7 1384.24 L11333.7 1384.24  Z\n  \" fill=\"#009af9\" fill-rule=\"evenodd\" fill-opacity=\"1\"/>\n<polyline clip-path=\"url(#clip402)\" style=\"stroke:#000000; stroke-width:4; stroke-opacity:1; fill:none\" points=\"\n  11333.7,1384.24 11333.7,1384.24 11382.6,1384.24 11333.7,1384.24 \n  \"/>\n<path clip-path=\"url(#clip402)\" d=\"\nM11382.6 1384.24 L11382.6 1384.24 L11431.5 1384.24 L11431.5 1384.24 L11382.6 1384.24 L11382.6 1384.24  Z\n  \" fill=\"#009af9\" fill-rule=\"evenodd\" fill-opacity=\"1\"/>\n<polyline clip-path=\"url(#clip402)\" style=\"stroke:#000000; stroke-width:4; stroke-opacity:1; fill:none\" points=\"\n  11382.6,1384.24 11382.6,1384.24 11431.5,1384.24 11382.6,1384.24 \n  \"/>\n<path clip-path=\"url(#clip402)\" d=\"\nM11431.5 1352.58 L11431.5 1384.24 L11480.4 1384.24 L11480.4 1352.58 L11431.5 1352.58 L11431.5 1352.58  Z\n  \" fill=\"#009af9\" fill-rule=\"evenodd\" fill-opacity=\"1\"/>\n<polyline clip-path=\"url(#clip402)\" style=\"stroke:#000000; stroke-width:4; stroke-opacity:1; fill:none\" points=\"\n  11431.5,1352.58 11431.5,1384.24 11480.4,1384.24 11480.4,1352.58 11431.5,1352.58 \n  \"/>\n<path clip-path=\"url(#clip402)\" d=\"\nM11480.4 1384.24 L11480.4 1384.24 L11529.3 1384.24 L11529.3 1384.24 L11480.4 1384.24 L11480.4 1384.24  Z\n  \" fill=\"#009af9\" fill-rule=\"evenodd\" fill-opacity=\"1\"/>\n<polyline clip-path=\"url(#clip402)\" style=\"stroke:#000000; stroke-width:4; stroke-opacity:1; fill:none\" points=\"\n  11480.4,1384.24 11480.4,1384.24 11529.3,1384.24 11480.4,1384.24 \n  \"/>\n<path clip-path=\"url(#clip402)\" d=\"\nM11529.3 1352.58 L11529.3 1384.24 L11578.2 1384.24 L11578.2 1352.58 L11529.3 1352.58 L11529.3 1352.58  Z\n  \" fill=\"#009af9\" fill-rule=\"evenodd\" fill-opacity=\"1\"/>\n<polyline clip-path=\"url(#clip402)\" style=\"stroke:#000000; stroke-width:4; stroke-opacity:1; fill:none\" points=\"\n  11529.3,1352.58 11529.3,1384.24 11578.2,1384.24 11578.2,1352.58 11529.3,1352.58 \n  \"/>\n<path clip-path=\"url(#clip402)\" d=\"\nM11578.2 1384.24 L11578.2 1384.24 L11627.1 1384.24 L11627.1 1384.24 L11578.2 1384.24 L11578.2 1384.24  Z\n  \" fill=\"#009af9\" fill-rule=\"evenodd\" fill-opacity=\"1\"/>\n<polyline clip-path=\"url(#clip402)\" style=\"stroke:#000000; stroke-width:4; stroke-opacity:1; fill:none\" points=\"\n  11578.2,1384.24 11578.2,1384.24 11627.1,1384.24 11578.2,1384.24 \n  \"/>\n<path clip-path=\"url(#clip402)\" d=\"\nM11627.1 1384.24 L11627.1 1384.24 L11676 1384.24 L11676 1384.24 L11627.1 1384.24 L11627.1 1384.24  Z\n  \" fill=\"#009af9\" fill-rule=\"evenodd\" fill-opacity=\"1\"/>\n<polyline clip-path=\"url(#clip402)\" style=\"stroke:#000000; stroke-width:4; stroke-opacity:1; fill:none\" points=\"\n  11627.1,1384.24 11627.1,1384.24 11676,1384.24 11627.1,1384.24 \n  \"/>\n<path clip-path=\"url(#clip402)\" d=\"\nM11676 1384.24 L11676 1384.24 L11724.9 1384.24 L11724.9 1384.24 L11676 1384.24 L11676 1384.24  Z\n  \" fill=\"#009af9\" fill-rule=\"evenodd\" fill-opacity=\"1\"/>\n<polyline clip-path=\"url(#clip402)\" style=\"stroke:#000000; stroke-width:4; stroke-opacity:1; fill:none\" points=\"\n  11676,1384.24 11676,1384.24 11724.9,1384.24 11676,1384.24 \n  \"/>\n<path clip-path=\"url(#clip402)\" d=\"\nM11724.9 1384.24 L11724.9 1384.24 L11773.8 1384.24 L11773.8 1384.24 L11724.9 1384.24 L11724.9 1384.24  Z\n  \" fill=\"#009af9\" fill-rule=\"evenodd\" fill-opacity=\"1\"/>\n<polyline clip-path=\"url(#clip402)\" style=\"stroke:#000000; stroke-width:4; stroke-opacity:1; fill:none\" points=\"\n  11724.9,1384.24 11724.9,1384.24 11773.8,1384.24 11724.9,1384.24 \n  \"/>\n<path clip-path=\"url(#clip402)\" d=\"\nM11773.8 1384.24 L11773.8 1384.24 L11822.7 1384.24 L11822.7 1384.24 L11773.8 1384.24 L11773.8 1384.24  Z\n  \" fill=\"#009af9\" fill-rule=\"evenodd\" fill-opacity=\"1\"/>\n<polyline clip-path=\"url(#clip402)\" style=\"stroke:#000000; stroke-width:4; stroke-opacity:1; fill:none\" points=\"\n  11773.8,1384.24 11773.8,1384.24 11822.7,1384.24 11773.8,1384.24 \n  \"/>\n<path clip-path=\"url(#clip402)\" d=\"\nM11822.7 1384.24 L11822.7 1384.24 L11871.6 1384.24 L11871.6 1384.24 L11822.7 1384.24 L11822.7 1384.24  Z\n  \" fill=\"#009af9\" fill-rule=\"evenodd\" fill-opacity=\"1\"/>\n<polyline clip-path=\"url(#clip402)\" style=\"stroke:#000000; stroke-width:4; stroke-opacity:1; fill:none\" points=\"\n  11822.7,1384.24 11822.7,1384.24 11871.6,1384.24 11822.7,1384.24 \n  \"/>\n<path clip-path=\"url(#clip402)\" d=\"\nM11871.6 1384.24 L11871.6 1384.24 L11920.5 1384.24 L11920.5 1384.24 L11871.6 1384.24 L11871.6 1384.24  Z\n  \" fill=\"#009af9\" fill-rule=\"evenodd\" fill-opacity=\"1\"/>\n<polyline clip-path=\"url(#clip402)\" style=\"stroke:#000000; stroke-width:4; stroke-opacity:1; fill:none\" points=\"\n  11871.6,1384.24 11871.6,1384.24 11920.5,1384.24 11871.6,1384.24 \n  \"/>\n<path clip-path=\"url(#clip402)\" d=\"\nM11920.5 1384.24 L11920.5 1384.24 L11969.4 1384.24 L11969.4 1384.24 L11920.5 1384.24 L11920.5 1384.24  Z\n  \" fill=\"#009af9\" fill-rule=\"evenodd\" fill-opacity=\"1\"/>\n<polyline clip-path=\"url(#clip402)\" style=\"stroke:#000000; stroke-width:4; stroke-opacity:1; fill:none\" points=\"\n  11920.5,1384.24 11920.5,1384.24 11969.4,1384.24 11920.5,1384.24 \n  \"/>\n<path clip-path=\"url(#clip402)\" d=\"\nM11969.4 1384.24 L11969.4 1384.24 L12018.3 1384.24 L12018.3 1384.24 L11969.4 1384.24 L11969.4 1384.24  Z\n  \" fill=\"#009af9\" fill-rule=\"evenodd\" fill-opacity=\"1\"/>\n<polyline clip-path=\"url(#clip402)\" style=\"stroke:#000000; stroke-width:4; stroke-opacity:1; fill:none\" points=\"\n  11969.4,1384.24 11969.4,1384.24 12018.3,1384.24 11969.4,1384.24 \n  \"/>\n<path clip-path=\"url(#clip402)\" d=\"\nM12018.3 1384.24 L12018.3 1384.24 L12067.2 1384.24 L12067.2 1384.24 L12018.3 1384.24 L12018.3 1384.24  Z\n  \" fill=\"#009af9\" fill-rule=\"evenodd\" fill-opacity=\"1\"/>\n<polyline clip-path=\"url(#clip402)\" style=\"stroke:#000000; stroke-width:4; stroke-opacity:1; fill:none\" points=\"\n  12018.3,1384.24 12018.3,1384.24 12067.2,1384.24 12018.3,1384.24 \n  \"/>\n<path clip-path=\"url(#clip402)\" d=\"\nM12067.2 1384.24 L12067.2 1384.24 L12116.1 1384.24 L12116.1 1384.24 L12067.2 1384.24 L12067.2 1384.24  Z\n  \" fill=\"#009af9\" fill-rule=\"evenodd\" fill-opacity=\"1\"/>\n<polyline clip-path=\"url(#clip402)\" style=\"stroke:#000000; stroke-width:4; stroke-opacity:1; fill:none\" points=\"\n  12067.2,1384.24 12067.2,1384.24 12116.1,1384.24 12067.2,1384.24 \n  \"/>\n<path clip-path=\"url(#clip402)\" d=\"\nM12116.1 1384.24 L12116.1 1384.24 L12165 1384.24 L12165 1384.24 L12116.1 1384.24 L12116.1 1384.24  Z\n  \" fill=\"#009af9\" fill-rule=\"evenodd\" fill-opacity=\"1\"/>\n<polyline clip-path=\"url(#clip402)\" style=\"stroke:#000000; stroke-width:4; stroke-opacity:1; fill:none\" points=\"\n  12116.1,1384.24 12116.1,1384.24 12165,1384.24 12116.1,1384.24 \n  \"/>\n<path clip-path=\"url(#clip402)\" d=\"\nM12165 1384.24 L12165 1384.24 L12213.9 1384.24 L12213.9 1384.24 L12165 1384.24 L12165 1384.24  Z\n  \" fill=\"#009af9\" fill-rule=\"evenodd\" fill-opacity=\"1\"/>\n<polyline clip-path=\"url(#clip402)\" style=\"stroke:#000000; stroke-width:4; stroke-opacity:1; fill:none\" points=\"\n  12165,1384.24 12165,1384.24 12213.9,1384.24 12165,1384.24 \n  \"/>\n<path clip-path=\"url(#clip402)\" d=\"\nM12213.9 1384.24 L12213.9 1384.24 L12262.8 1384.24 L12262.8 1384.24 L12213.9 1384.24 L12213.9 1384.24  Z\n  \" fill=\"#009af9\" fill-rule=\"evenodd\" fill-opacity=\"1\"/>\n<polyline clip-path=\"url(#clip402)\" style=\"stroke:#000000; stroke-width:4; stroke-opacity:1; fill:none\" points=\"\n  12213.9,1384.24 12213.9,1384.24 12262.8,1384.24 12213.9,1384.24 \n  \"/>\n<path clip-path=\"url(#clip402)\" d=\"\nM12262.8 1384.24 L12262.8 1384.24 L12311.7 1384.24 L12311.7 1384.24 L12262.8 1384.24 L12262.8 1384.24  Z\n  \" fill=\"#009af9\" fill-rule=\"evenodd\" fill-opacity=\"1\"/>\n<polyline clip-path=\"url(#clip402)\" style=\"stroke:#000000; stroke-width:4; stroke-opacity:1; fill:none\" points=\"\n  12262.8,1384.24 12262.8,1384.24 12311.7,1384.24 12262.8,1384.24 \n  \"/>\n<path clip-path=\"url(#clip402)\" d=\"\nM12311.7 1384.24 L12311.7 1384.24 L12360.6 1384.24 L12360.6 1384.24 L12311.7 1384.24 L12311.7 1384.24  Z\n  \" fill=\"#009af9\" fill-rule=\"evenodd\" fill-opacity=\"1\"/>\n<polyline clip-path=\"url(#clip402)\" style=\"stroke:#000000; stroke-width:4; stroke-opacity:1; fill:none\" points=\"\n  12311.7,1384.24 12311.7,1384.24 12360.6,1384.24 12311.7,1384.24 \n  \"/>\n<path clip-path=\"url(#clip402)\" d=\"\nM12360.6 1384.24 L12360.6 1384.24 L12409.5 1384.24 L12409.5 1384.24 L12360.6 1384.24 L12360.6 1384.24  Z\n  \" fill=\"#009af9\" fill-rule=\"evenodd\" fill-opacity=\"1\"/>\n<polyline clip-path=\"url(#clip402)\" style=\"stroke:#000000; stroke-width:4; stroke-opacity:1; fill:none\" points=\"\n  12360.6,1384.24 12360.6,1384.24 12409.5,1384.24 12360.6,1384.24 \n  \"/>\n<path clip-path=\"url(#clip402)\" d=\"\nM12409.5 1352.58 L12409.5 1384.24 L12458.4 1384.24 L12458.4 1352.58 L12409.5 1352.58 L12409.5 1352.58  Z\n  \" fill=\"#009af9\" fill-rule=\"evenodd\" fill-opacity=\"1\"/>\n<polyline clip-path=\"url(#clip402)\" style=\"stroke:#000000; stroke-width:4; stroke-opacity:1; fill:none\" points=\"\n  12409.5,1352.58 12409.5,1384.24 12458.4,1384.24 12458.4,1352.58 12409.5,1352.58 \n  \"/>\n<path clip-path=\"url(#clip402)\" d=\"\nM12458.4 1384.24 L12458.4 1384.24 L12507.3 1384.24 L12507.3 1384.24 L12458.4 1384.24 L12458.4 1384.24  Z\n  \" fill=\"#009af9\" fill-rule=\"evenodd\" fill-opacity=\"1\"/>\n<polyline clip-path=\"url(#clip402)\" style=\"stroke:#000000; stroke-width:4; stroke-opacity:1; fill:none\" points=\"\n  12458.4,1384.24 12458.4,1384.24 12507.3,1384.24 12458.4,1384.24 \n  \"/>\n<path clip-path=\"url(#clip402)\" d=\"\nM12507.3 1384.24 L12507.3 1384.24 L12556.2 1384.24 L12556.2 1384.24 L12507.3 1384.24 L12507.3 1384.24  Z\n  \" fill=\"#009af9\" fill-rule=\"evenodd\" fill-opacity=\"1\"/>\n<polyline clip-path=\"url(#clip402)\" style=\"stroke:#000000; stroke-width:4; stroke-opacity:1; fill:none\" points=\"\n  12507.3,1384.24 12507.3,1384.24 12556.2,1384.24 12507.3,1384.24 \n  \"/>\n<path clip-path=\"url(#clip402)\" d=\"\nM12556.2 1384.24 L12556.2 1384.24 L12605 1384.24 L12605 1384.24 L12556.2 1384.24 L12556.2 1384.24  Z\n  \" fill=\"#009af9\" fill-rule=\"evenodd\" fill-opacity=\"1\"/>\n<polyline clip-path=\"url(#clip402)\" style=\"stroke:#000000; stroke-width:4; stroke-opacity:1; fill:none\" points=\"\n  12556.2,1384.24 12556.2,1384.24 12605,1384.24 12556.2,1384.24 \n  \"/>\n<path clip-path=\"url(#clip402)\" d=\"\nM12605 1384.24 L12605 1384.24 L12653.9 1384.24 L12653.9 1384.24 L12605 1384.24 L12605 1384.24  Z\n  \" fill=\"#009af9\" fill-rule=\"evenodd\" fill-opacity=\"1\"/>\n<polyline clip-path=\"url(#clip402)\" style=\"stroke:#000000; stroke-width:4; stroke-opacity:1; fill:none\" points=\"\n  12605,1384.24 12605,1384.24 12653.9,1384.24 12605,1384.24 \n  \"/>\n<path clip-path=\"url(#clip402)\" d=\"\nM12653.9 1384.24 L12653.9 1384.24 L12702.8 1384.24 L12702.8 1384.24 L12653.9 1384.24 L12653.9 1384.24  Z\n  \" fill=\"#009af9\" fill-rule=\"evenodd\" fill-opacity=\"1\"/>\n<polyline clip-path=\"url(#clip402)\" style=\"stroke:#000000; stroke-width:4; stroke-opacity:1; fill:none\" points=\"\n  12653.9,1384.24 12653.9,1384.24 12702.8,1384.24 12653.9,1384.24 \n  \"/>\n<path clip-path=\"url(#clip402)\" d=\"\nM12702.8 1352.58 L12702.8 1384.24 L12751.7 1384.24 L12751.7 1352.58 L12702.8 1352.58 L12702.8 1352.58  Z\n  \" fill=\"#009af9\" fill-rule=\"evenodd\" fill-opacity=\"1\"/>\n<polyline clip-path=\"url(#clip402)\" style=\"stroke:#000000; stroke-width:4; stroke-opacity:1; fill:none\" points=\"\n  12702.8,1352.58 12702.8,1384.24 12751.7,1384.24 12751.7,1352.58 12702.8,1352.58 \n  \"/>\n<path clip-path=\"url(#clip402)\" d=\"\nM12751.7 1384.24 L12751.7 1384.24 L12800.6 1384.24 L12800.6 1384.24 L12751.7 1384.24 L12751.7 1384.24  Z\n  \" fill=\"#009af9\" fill-rule=\"evenodd\" fill-opacity=\"1\"/>\n<polyline clip-path=\"url(#clip402)\" style=\"stroke:#000000; stroke-width:4; stroke-opacity:1; fill:none\" points=\"\n  12751.7,1384.24 12751.7,1384.24 12800.6,1384.24 12751.7,1384.24 \n  \"/>\n<path clip-path=\"url(#clip402)\" d=\"\nM12800.6 1384.24 L12800.6 1384.24 L12849.5 1384.24 L12849.5 1384.24 L12800.6 1384.24 L12800.6 1384.24  Z\n  \" fill=\"#009af9\" fill-rule=\"evenodd\" fill-opacity=\"1\"/>\n<polyline clip-path=\"url(#clip402)\" style=\"stroke:#000000; stroke-width:4; stroke-opacity:1; fill:none\" points=\"\n  12800.6,1384.24 12800.6,1384.24 12849.5,1384.24 12800.6,1384.24 \n  \"/>\n<path clip-path=\"url(#clip402)\" d=\"\nM12849.5 1384.24 L12849.5 1384.24 L12898.4 1384.24 L12898.4 1384.24 L12849.5 1384.24 L12849.5 1384.24  Z\n  \" fill=\"#009af9\" fill-rule=\"evenodd\" fill-opacity=\"1\"/>\n<polyline clip-path=\"url(#clip402)\" style=\"stroke:#000000; stroke-width:4; stroke-opacity:1; fill:none\" points=\"\n  12849.5,1384.24 12849.5,1384.24 12898.4,1384.24 12849.5,1384.24 \n  \"/>\n<path clip-path=\"url(#clip402)\" d=\"\nM12898.4 1384.24 L12898.4 1384.24 L12947.3 1384.24 L12947.3 1384.24 L12898.4 1384.24 L12898.4 1384.24  Z\n  \" fill=\"#009af9\" fill-rule=\"evenodd\" fill-opacity=\"1\"/>\n<polyline clip-path=\"url(#clip402)\" style=\"stroke:#000000; stroke-width:4; stroke-opacity:1; fill:none\" points=\"\n  12898.4,1384.24 12898.4,1384.24 12947.3,1384.24 12898.4,1384.24 \n  \"/>\n<path clip-path=\"url(#clip402)\" d=\"\nM12947.3 1352.58 L12947.3 1384.24 L12996.2 1384.24 L12996.2 1352.58 L12947.3 1352.58 L12947.3 1352.58  Z\n  \" fill=\"#009af9\" fill-rule=\"evenodd\" fill-opacity=\"1\"/>\n<polyline clip-path=\"url(#clip402)\" style=\"stroke:#000000; stroke-width:4; stroke-opacity:1; fill:none\" points=\"\n  12947.3,1352.58 12947.3,1384.24 12996.2,1384.24 12996.2,1352.58 12947.3,1352.58 \n  \"/>\n<path clip-path=\"url(#clip402)\" d=\"\nM12996.2 1352.58 L12996.2 1384.24 L13045.1 1384.24 L13045.1 1352.58 L12996.2 1352.58 L12996.2 1352.58  Z\n  \" fill=\"#009af9\" fill-rule=\"evenodd\" fill-opacity=\"1\"/>\n<polyline clip-path=\"url(#clip402)\" style=\"stroke:#000000; stroke-width:4; stroke-opacity:1; fill:none\" points=\"\n  12996.2,1352.58 12996.2,1384.24 13045.1,1384.24 13045.1,1352.58 12996.2,1352.58 \n  \"/>\n<path clip-path=\"url(#clip402)\" d=\"\nM13045.1 1352.58 L13045.1 1384.24 L13094 1384.24 L13094 1352.58 L13045.1 1352.58 L13045.1 1352.58  Z\n  \" fill=\"#009af9\" fill-rule=\"evenodd\" fill-opacity=\"1\"/>\n<polyline clip-path=\"url(#clip402)\" style=\"stroke:#000000; stroke-width:4; stroke-opacity:1; fill:none\" points=\"\n  13045.1,1352.58 13045.1,1384.24 13094,1384.24 13094,1352.58 13045.1,1352.58 \n  \"/>\n<path clip-path=\"url(#clip402)\" d=\"\nM13094 1384.24 L13094 1384.24 L13142.9 1384.24 L13142.9 1384.24 L13094 1384.24 L13094 1384.24  Z\n  \" fill=\"#009af9\" fill-rule=\"evenodd\" fill-opacity=\"1\"/>\n<polyline clip-path=\"url(#clip402)\" style=\"stroke:#000000; stroke-width:4; stroke-opacity:1; fill:none\" points=\"\n  13094,1384.24 13094,1384.24 13142.9,1384.24 13094,1384.24 \n  \"/>\n<path clip-path=\"url(#clip402)\" d=\"\nM13142.9 1352.58 L13142.9 1384.24 L13191.8 1384.24 L13191.8 1352.58 L13142.9 1352.58 L13142.9 1352.58  Z\n  \" fill=\"#009af9\" fill-rule=\"evenodd\" fill-opacity=\"1\"/>\n<polyline clip-path=\"url(#clip402)\" style=\"stroke:#000000; stroke-width:4; stroke-opacity:1; fill:none\" points=\"\n  13142.9,1352.58 13142.9,1384.24 13191.8,1384.24 13191.8,1352.58 13142.9,1352.58 \n  \"/>\n<path clip-path=\"url(#clip402)\" d=\"\nM13191.8 1384.24 L13191.8 1384.24 L13240.7 1384.24 L13240.7 1384.24 L13191.8 1384.24 L13191.8 1384.24  Z\n  \" fill=\"#009af9\" fill-rule=\"evenodd\" fill-opacity=\"1\"/>\n<polyline clip-path=\"url(#clip402)\" style=\"stroke:#000000; stroke-width:4; stroke-opacity:1; fill:none\" points=\"\n  13191.8,1384.24 13191.8,1384.24 13240.7,1384.24 13191.8,1384.24 \n  \"/>\n<path clip-path=\"url(#clip402)\" d=\"\nM13240.7 1384.24 L13240.7 1384.24 L13289.6 1384.24 L13289.6 1384.24 L13240.7 1384.24 L13240.7 1384.24  Z\n  \" fill=\"#009af9\" fill-rule=\"evenodd\" fill-opacity=\"1\"/>\n<polyline clip-path=\"url(#clip402)\" style=\"stroke:#000000; stroke-width:4; stroke-opacity:1; fill:none\" points=\"\n  13240.7,1384.24 13240.7,1384.24 13289.6,1384.24 13240.7,1384.24 \n  \"/>\n<path clip-path=\"url(#clip402)\" d=\"\nM13289.6 1352.58 L13289.6 1384.24 L13338.5 1384.24 L13338.5 1352.58 L13289.6 1352.58 L13289.6 1352.58  Z\n  \" fill=\"#009af9\" fill-rule=\"evenodd\" fill-opacity=\"1\"/>\n<polyline clip-path=\"url(#clip402)\" style=\"stroke:#000000; stroke-width:4; stroke-opacity:1; fill:none\" points=\"\n  13289.6,1352.58 13289.6,1384.24 13338.5,1384.24 13338.5,1352.58 13289.6,1352.58 \n  \"/>\n<path clip-path=\"url(#clip402)\" d=\"\nM13338.5 1384.24 L13338.5 1384.24 L13387.4 1384.24 L13387.4 1384.24 L13338.5 1384.24 L13338.5 1384.24  Z\n  \" fill=\"#009af9\" fill-rule=\"evenodd\" fill-opacity=\"1\"/>\n<polyline clip-path=\"url(#clip402)\" style=\"stroke:#000000; stroke-width:4; stroke-opacity:1; fill:none\" points=\"\n  13338.5,1384.24 13338.5,1384.24 13387.4,1384.24 13338.5,1384.24 \n  \"/>\n<path clip-path=\"url(#clip402)\" d=\"\nM13387.4 1384.24 L13387.4 1384.24 L13436.3 1384.24 L13436.3 1384.24 L13387.4 1384.24 L13387.4 1384.24  Z\n  \" fill=\"#009af9\" fill-rule=\"evenodd\" fill-opacity=\"1\"/>\n<polyline clip-path=\"url(#clip402)\" style=\"stroke:#000000; stroke-width:4; stroke-opacity:1; fill:none\" points=\"\n  13387.4,1384.24 13387.4,1384.24 13436.3,1384.24 13387.4,1384.24 \n  \"/>\n<path clip-path=\"url(#clip402)\" d=\"\nM13436.3 1352.58 L13436.3 1384.24 L13485.2 1384.24 L13485.2 1352.58 L13436.3 1352.58 L13436.3 1352.58  Z\n  \" fill=\"#009af9\" fill-rule=\"evenodd\" fill-opacity=\"1\"/>\n<polyline clip-path=\"url(#clip402)\" style=\"stroke:#000000; stroke-width:4; stroke-opacity:1; fill:none\" points=\"\n  13436.3,1352.58 13436.3,1384.24 13485.2,1384.24 13485.2,1352.58 13436.3,1352.58 \n  \"/>\n<path clip-path=\"url(#clip402)\" d=\"\nM13485.2 1384.24 L13485.2 1384.24 L13534.1 1384.24 L13534.1 1384.24 L13485.2 1384.24 L13485.2 1384.24  Z\n  \" fill=\"#009af9\" fill-rule=\"evenodd\" fill-opacity=\"1\"/>\n<polyline clip-path=\"url(#clip402)\" style=\"stroke:#000000; stroke-width:4; stroke-opacity:1; fill:none\" points=\"\n  13485.2,1384.24 13485.2,1384.24 13534.1,1384.24 13485.2,1384.24 \n  \"/>\n<path clip-path=\"url(#clip402)\" d=\"\nM13534.1 1289.26 L13534.1 1384.24 L13583 1384.24 L13583 1289.26 L13534.1 1289.26 L13534.1 1289.26  Z\n  \" fill=\"#009af9\" fill-rule=\"evenodd\" fill-opacity=\"1\"/>\n<polyline clip-path=\"url(#clip402)\" style=\"stroke:#000000; stroke-width:4; stroke-opacity:1; fill:none\" points=\"\n  13534.1,1289.26 13534.1,1384.24 13583,1384.24 13583,1289.26 13534.1,1289.26 \n  \"/>\n<path clip-path=\"url(#clip402)\" d=\"\nM13583 1320.92 L13583 1384.24 L13631.9 1384.24 L13631.9 1320.92 L13583 1320.92 L13583 1320.92  Z\n  \" fill=\"#009af9\" fill-rule=\"evenodd\" fill-opacity=\"1\"/>\n<polyline clip-path=\"url(#clip402)\" style=\"stroke:#000000; stroke-width:4; stroke-opacity:1; fill:none\" points=\"\n  13583,1320.92 13583,1384.24 13631.9,1384.24 13631.9,1320.92 13583,1320.92 \n  \"/>\n<path clip-path=\"url(#clip402)\" d=\"\nM13631.9 1320.92 L13631.9 1384.24 L13680.8 1384.24 L13680.8 1320.92 L13631.9 1320.92 L13631.9 1320.92  Z\n  \" fill=\"#009af9\" fill-rule=\"evenodd\" fill-opacity=\"1\"/>\n<polyline clip-path=\"url(#clip402)\" style=\"stroke:#000000; stroke-width:4; stroke-opacity:1; fill:none\" points=\"\n  13631.9,1320.92 13631.9,1384.24 13680.8,1384.24 13680.8,1320.92 13631.9,1320.92 \n  \"/>\n<path clip-path=\"url(#clip402)\" d=\"\nM13680.8 1257.6 L13680.8 1384.24 L13729.7 1384.24 L13729.7 1257.6 L13680.8 1257.6 L13680.8 1257.6  Z\n  \" fill=\"#009af9\" fill-rule=\"evenodd\" fill-opacity=\"1\"/>\n<polyline clip-path=\"url(#clip402)\" style=\"stroke:#000000; stroke-width:4; stroke-opacity:1; fill:none\" points=\"\n  13680.8,1257.6 13680.8,1384.24 13729.7,1384.24 13729.7,1257.6 13680.8,1257.6 \n  \"/>\n<path clip-path=\"url(#clip402)\" d=\"\nM13729.7 1225.94 L13729.7 1384.24 L13778.6 1384.24 L13778.6 1225.94 L13729.7 1225.94 L13729.7 1225.94  Z\n  \" fill=\"#009af9\" fill-rule=\"evenodd\" fill-opacity=\"1\"/>\n<polyline clip-path=\"url(#clip402)\" style=\"stroke:#000000; stroke-width:4; stroke-opacity:1; fill:none\" points=\"\n  13729.7,1225.94 13729.7,1384.24 13778.6,1384.24 13778.6,1225.94 13729.7,1225.94 \n  \"/>\n<path clip-path=\"url(#clip402)\" d=\"\nM13778.6 1257.6 L13778.6 1384.24 L13827.5 1384.24 L13827.5 1257.6 L13778.6 1257.6 L13778.6 1257.6  Z\n  \" fill=\"#009af9\" fill-rule=\"evenodd\" fill-opacity=\"1\"/>\n<polyline clip-path=\"url(#clip402)\" style=\"stroke:#000000; stroke-width:4; stroke-opacity:1; fill:none\" points=\"\n  13778.6,1257.6 13778.6,1384.24 13827.5,1384.24 13827.5,1257.6 13778.6,1257.6 \n  \"/>\n<path clip-path=\"url(#clip402)\" d=\"\nM13827.5 1289.26 L13827.5 1384.24 L13876.4 1384.24 L13876.4 1289.26 L13827.5 1289.26 L13827.5 1289.26  Z\n  \" fill=\"#009af9\" fill-rule=\"evenodd\" fill-opacity=\"1\"/>\n<polyline clip-path=\"url(#clip402)\" style=\"stroke:#000000; stroke-width:4; stroke-opacity:1; fill:none\" points=\"\n  13827.5,1289.26 13827.5,1384.24 13876.4,1384.24 13876.4,1289.26 13827.5,1289.26 \n  \"/>\n<path clip-path=\"url(#clip402)\" d=\"\nM13876.4 1130.96 L13876.4 1384.24 L13925.3 1384.24 L13925.3 1130.96 L13876.4 1130.96 L13876.4 1130.96  Z\n  \" fill=\"#009af9\" fill-rule=\"evenodd\" fill-opacity=\"1\"/>\n<polyline clip-path=\"url(#clip402)\" style=\"stroke:#000000; stroke-width:4; stroke-opacity:1; fill:none\" points=\"\n  13876.4,1130.96 13876.4,1384.24 13925.3,1384.24 13925.3,1130.96 13876.4,1130.96 \n  \"/>\n<path clip-path=\"url(#clip402)\" d=\"\nM13925.3 1194.28 L13925.3 1384.24 L13974.2 1384.24 L13974.2 1194.28 L13925.3 1194.28 L13925.3 1194.28  Z\n  \" fill=\"#009af9\" fill-rule=\"evenodd\" fill-opacity=\"1\"/>\n<polyline clip-path=\"url(#clip402)\" style=\"stroke:#000000; stroke-width:4; stroke-opacity:1; fill:none\" points=\"\n  13925.3,1194.28 13925.3,1384.24 13974.2,1384.24 13974.2,1194.28 13925.3,1194.28 \n  \"/>\n<path clip-path=\"url(#clip402)\" d=\"\nM13974.2 1225.94 L13974.2 1384.24 L14023.1 1384.24 L14023.1 1225.94 L13974.2 1225.94 L13974.2 1225.94  Z\n  \" fill=\"#009af9\" fill-rule=\"evenodd\" fill-opacity=\"1\"/>\n<polyline clip-path=\"url(#clip402)\" style=\"stroke:#000000; stroke-width:4; stroke-opacity:1; fill:none\" points=\"\n  13974.2,1225.94 13974.2,1384.24 14023.1,1384.24 14023.1,1225.94 13974.2,1225.94 \n  \"/>\n<path clip-path=\"url(#clip402)\" d=\"\nM14023.1 1352.58 L14023.1 1384.24 L14072 1384.24 L14072 1352.58 L14023.1 1352.58 L14023.1 1352.58  Z\n  \" fill=\"#009af9\" fill-rule=\"evenodd\" fill-opacity=\"1\"/>\n<polyline clip-path=\"url(#clip402)\" style=\"stroke:#000000; stroke-width:4; stroke-opacity:1; fill:none\" points=\"\n  14023.1,1352.58 14023.1,1384.24 14072,1384.24 14072,1352.58 14023.1,1352.58 \n  \"/>\n<path clip-path=\"url(#clip402)\" d=\"\nM14072 1162.62 L14072 1384.24 L14120.8 1384.24 L14120.8 1162.62 L14072 1162.62 L14072 1162.62  Z\n  \" fill=\"#009af9\" fill-rule=\"evenodd\" fill-opacity=\"1\"/>\n<polyline clip-path=\"url(#clip402)\" style=\"stroke:#000000; stroke-width:4; stroke-opacity:1; fill:none\" points=\"\n  14072,1162.62 14072,1384.24 14120.8,1384.24 14120.8,1162.62 14072,1162.62 \n  \"/>\n<path clip-path=\"url(#clip402)\" d=\"\nM14120.8 1035.98 L14120.8 1384.24 L14169.7 1384.24 L14169.7 1035.98 L14120.8 1035.98 L14120.8 1035.98  Z\n  \" fill=\"#009af9\" fill-rule=\"evenodd\" fill-opacity=\"1\"/>\n<polyline clip-path=\"url(#clip402)\" style=\"stroke:#000000; stroke-width:4; stroke-opacity:1; fill:none\" points=\"\n  14120.8,1035.98 14120.8,1384.24 14169.7,1384.24 14169.7,1035.98 14120.8,1035.98 \n  \"/>\n<path clip-path=\"url(#clip402)\" d=\"\nM14169.7 1099.3 L14169.7 1384.24 L14218.6 1384.24 L14218.6 1099.3 L14169.7 1099.3 L14169.7 1099.3  Z\n  \" fill=\"#009af9\" fill-rule=\"evenodd\" fill-opacity=\"1\"/>\n<polyline clip-path=\"url(#clip402)\" style=\"stroke:#000000; stroke-width:4; stroke-opacity:1; fill:none\" points=\"\n  14169.7,1099.3 14169.7,1384.24 14218.6,1384.24 14218.6,1099.3 14169.7,1099.3 \n  \"/>\n<path clip-path=\"url(#clip402)\" d=\"\nM14218.6 972.661 L14218.6 1384.24 L14267.5 1384.24 L14267.5 972.661 L14218.6 972.661 L14218.6 972.661  Z\n  \" fill=\"#009af9\" fill-rule=\"evenodd\" fill-opacity=\"1\"/>\n<polyline clip-path=\"url(#clip402)\" style=\"stroke:#000000; stroke-width:4; stroke-opacity:1; fill:none\" points=\"\n  14218.6,972.661 14218.6,1384.24 14267.5,1384.24 14267.5,972.661 14218.6,972.661 \n  \"/>\n<path clip-path=\"url(#clip402)\" d=\"\nM14267.5 1035.98 L14267.5 1384.24 L14316.4 1384.24 L14316.4 1035.98 L14267.5 1035.98 L14267.5 1035.98  Z\n  \" fill=\"#009af9\" fill-rule=\"evenodd\" fill-opacity=\"1\"/>\n<polyline clip-path=\"url(#clip402)\" style=\"stroke:#000000; stroke-width:4; stroke-opacity:1; fill:none\" points=\"\n  14267.5,1035.98 14267.5,1384.24 14316.4,1384.24 14316.4,1035.98 14267.5,1035.98 \n  \"/>\n<path clip-path=\"url(#clip402)\" d=\"\nM14316.4 782.702 L14316.4 1384.24 L14365.3 1384.24 L14365.3 782.702 L14316.4 782.702 L14316.4 782.702  Z\n  \" fill=\"#009af9\" fill-rule=\"evenodd\" fill-opacity=\"1\"/>\n<polyline clip-path=\"url(#clip402)\" style=\"stroke:#000000; stroke-width:4; stroke-opacity:1; fill:none\" points=\"\n  14316.4,782.702 14316.4,1384.24 14365.3,1384.24 14365.3,782.702 14316.4,782.702 \n  \"/>\n<path clip-path=\"url(#clip402)\" d=\"\nM14365.3 814.362 L14365.3 1384.24 L14414.2 1384.24 L14414.2 814.362 L14365.3 814.362 L14365.3 814.362  Z\n  \" fill=\"#009af9\" fill-rule=\"evenodd\" fill-opacity=\"1\"/>\n<polyline clip-path=\"url(#clip402)\" style=\"stroke:#000000; stroke-width:4; stroke-opacity:1; fill:none\" points=\"\n  14365.3,814.362 14365.3,1384.24 14414.2,1384.24 14414.2,814.362 14365.3,814.362 \n  \"/>\n<path clip-path=\"url(#clip402)\" d=\"\nM14414.2 719.382 L14414.2 1384.24 L14463.1 1384.24 L14463.1 719.382 L14414.2 719.382 L14414.2 719.382  Z\n  \" fill=\"#009af9\" fill-rule=\"evenodd\" fill-opacity=\"1\"/>\n<polyline clip-path=\"url(#clip402)\" style=\"stroke:#000000; stroke-width:4; stroke-opacity:1; fill:none\" points=\"\n  14414.2,719.382 14414.2,1384.24 14463.1,1384.24 14463.1,719.382 14414.2,719.382 \n  \"/>\n<path clip-path=\"url(#clip402)\" d=\"\nM14463.1 402.784 L14463.1 1384.24 L14512 1384.24 L14512 402.784 L14463.1 402.784 L14463.1 402.784  Z\n  \" fill=\"#009af9\" fill-rule=\"evenodd\" fill-opacity=\"1\"/>\n<polyline clip-path=\"url(#clip402)\" style=\"stroke:#000000; stroke-width:4; stroke-opacity:1; fill:none\" points=\"\n  14463.1,402.784 14463.1,1384.24 14512,1384.24 14512,402.784 14463.1,402.784 \n  \"/>\n<path clip-path=\"url(#clip402)\" d=\"\nM14512 86.1857 L14512 1384.24 L14560.9 1384.24 L14560.9 86.1857 L14512 86.1857 L14512 86.1857  Z\n  \" fill=\"#009af9\" fill-rule=\"evenodd\" fill-opacity=\"1\"/>\n<polyline clip-path=\"url(#clip402)\" style=\"stroke:#000000; stroke-width:4; stroke-opacity:1; fill:none\" points=\"\n  14512,86.1857 14512,1384.24 14560.9,1384.24 14560.9,86.1857 14512,86.1857 \n  \"/>\n<path clip-path=\"url(#clip402)\" d=\"\nM14560.9 592.743 L14560.9 1384.24 L14609.8 1384.24 L14609.8 592.743 L14560.9 592.743 L14560.9 592.743  Z\n  \" fill=\"#009af9\" fill-rule=\"evenodd\" fill-opacity=\"1\"/>\n<polyline clip-path=\"url(#clip402)\" style=\"stroke:#000000; stroke-width:4; stroke-opacity:1; fill:none\" points=\"\n  14560.9,592.743 14560.9,1384.24 14609.8,1384.24 14609.8,592.743 14560.9,592.743 \n  \"/>\n<path clip-path=\"url(#clip402)\" d=\"\nM14609.8 909.341 L14609.8 1384.24 L14658.7 1384.24 L14658.7 909.341 L14609.8 909.341 L14609.8 909.341  Z\n  \" fill=\"#009af9\" fill-rule=\"evenodd\" fill-opacity=\"1\"/>\n<polyline clip-path=\"url(#clip402)\" style=\"stroke:#000000; stroke-width:4; stroke-opacity:1; fill:none\" points=\"\n  14609.8,909.341 14609.8,1384.24 14658.7,1384.24 14658.7,909.341 14609.8,909.341 \n  \"/>\n<path clip-path=\"url(#clip402)\" d=\"\nM14658.7 1320.92 L14658.7 1384.24 L14707.6 1384.24 L14707.6 1320.92 L14658.7 1320.92 L14658.7 1320.92  Z\n  \" fill=\"#009af9\" fill-rule=\"evenodd\" fill-opacity=\"1\"/>\n<polyline clip-path=\"url(#clip402)\" style=\"stroke:#000000; stroke-width:4; stroke-opacity:1; fill:none\" points=\"\n  14658.7,1320.92 14658.7,1384.24 14707.6,1384.24 14707.6,1320.92 14658.7,1320.92 \n  \"/>\n</svg>\n"
          },
          "metadata": {}
        }
      ],
      "execution_count": 19,
      "metadata": {
        "execution": {
          "iopub.status.busy": "2021-03-26T22:09:01.185Z",
          "iopub.execute_input": "2021-03-26T22:09:01.974Z",
          "iopub.status.idle": "2021-03-26T22:09:10.006Z"
        }
      }
    },
    {
      "cell_type": "code",
      "source": [
        "# If we allow C to re-arrange the floating point operations, then it'll vectorize with SIMD (single instruction, multiple data) instructions.\n",
        "const Clib_fastmath = tempname()   # make a temporary file\n",
        "\n",
        "# The same as above but with a -ffast-math flag added\n",
        "open(`gcc -fPIC -O3 -msse3 -xc -shared -ffast-math -o $(Clib_fastmath * \".\" * Libdl.dlext) -`, \"w\") do f\n",
        "    print(f, C_code)\n",
        "end\n",
        "\n",
        "# define a Julia function that calls the C function:\n",
        "c_sum_fastmath(X::Array{Float64}) = ccall((\"c_sum\", Clib_fastmath), Float64, (Csize_t, Ptr{Float64}), length(X), X)"
      ],
      "outputs": [
        {
          "output_type": "execute_result",
          "execution_count": 20,
          "data": {
            "text/plain": "c_sum_fastmath (generic function with 1 method)"
          },
          "metadata": {}
        }
      ],
      "execution_count": 20,
      "metadata": {
        "execution": {
          "iopub.status.busy": "2021-03-26T22:09:26.272Z",
          "iopub.execute_input": "2021-03-26T22:09:26.289Z",
          "iopub.status.idle": "2021-03-26T22:09:26.483Z"
        }
      }
    },
    {
      "cell_type": "code",
      "source": [
        "c_fastmath_bench = @benchmark $c_sum_fastmath($a)"
      ],
      "outputs": [
        {
          "output_type": "execute_result",
          "execution_count": 21,
          "data": {
            "text/plain": "BenchmarkTools.Trial: \n  memory estimate:  0 bytes\n  allocs estimate:  0\n  --------------\n  minimum time:     3.585 ms (0.00% GC)\n  median time:      3.653 ms (0.00% GC)\n  mean time:        3.700 ms (0.00% GC)\n  maximum time:     5.549 ms (0.00% GC)\n  --------------\n  samples:          1351\n  evals/sample:     1"
          },
          "metadata": {}
        }
      ],
      "execution_count": 21,
      "metadata": {
        "execution": {
          "iopub.status.busy": "2021-03-26T22:09:30.674Z",
          "iopub.execute_input": "2021-03-26T22:09:30.688Z",
          "iopub.status.idle": "2021-03-26T22:09:42.226Z"
        }
      }
    },
    {
      "cell_type": "code",
      "source": [
        "d[\"C -ffast-math\"] = minimum(c_fastmath_bench.times) / 1e6  # in milliseconds"
      ],
      "outputs": [
        {
          "output_type": "execute_result",
          "execution_count": 22,
          "data": {
            "text/plain": "3.585153"
          },
          "metadata": {}
        }
      ],
      "execution_count": 22,
      "metadata": {
        "execution": {
          "iopub.status.busy": "2021-03-26T22:09:42.246Z",
          "iopub.execute_input": "2021-03-26T22:09:42.259Z",
          "iopub.status.idle": "2021-03-26T22:09:42.290Z"
        }
      }
    },
    {
      "cell_type": "markdown",
      "source": [
        "# 3. Python's built in `sum`"
      ],
      "metadata": {}
    },
    {
      "cell_type": "markdown",
      "source": [
        "The `PyCall` package provides a Julia interface to Python:"
      ],
      "metadata": {}
    },
    {
      "cell_type": "code",
      "source": [
        "# using Pkg; Pkg.add(\"PyCall\")\n",
        "using PyCall"
      ],
      "outputs": [],
      "execution_count": 24,
      "metadata": {
        "execution": {
          "iopub.status.busy": "2021-03-26T22:13:02.194Z",
          "iopub.execute_input": "2021-03-26T22:13:02.210Z",
          "iopub.status.idle": "2021-03-26T22:13:03.473Z"
        }
      }
    },
    {
      "cell_type": "code",
      "source": [
        "# get the Python built-in \"sum\" function:\n",
        "pysum = pybuiltin(\"sum\")"
      ],
      "outputs": [
        {
          "output_type": "execute_result",
          "execution_count": 25,
          "data": {
            "text/plain": "PyObject <built-in function sum>"
          },
          "metadata": {}
        }
      ],
      "execution_count": 25,
      "metadata": {
        "execution": {
          "iopub.status.busy": "2021-03-26T22:13:07.411Z",
          "iopub.execute_input": "2021-03-26T22:13:09.186Z",
          "iopub.status.idle": "2021-03-26T22:13:09.476Z"
        }
      }
    },
    {
      "cell_type": "code",
      "source": [
        "pysum(a)"
      ],
      "outputs": [
        {
          "output_type": "execute_result",
          "execution_count": 26,
          "data": {
            "text/plain": "5.000489438658943e6"
          },
          "metadata": {}
        }
      ],
      "execution_count": 26,
      "metadata": {
        "execution": {
          "iopub.status.busy": "2021-03-26T22:13:12.503Z",
          "iopub.execute_input": "2021-03-26T22:13:12.519Z",
          "iopub.status.idle": "2021-03-26T22:13:17.678Z"
        }
      }
    },
    {
      "cell_type": "code",
      "source": [
        "pysum(a) ≈ sum(a)"
      ],
      "outputs": [
        {
          "output_type": "execute_result",
          "execution_count": 27,
          "data": {
            "text/plain": "true"
          },
          "metadata": {}
        }
      ],
      "execution_count": 27,
      "metadata": {
        "execution": {
          "iopub.status.busy": "2021-03-26T22:13:17.701Z",
          "iopub.execute_input": "2021-03-26T22:13:17.716Z",
          "iopub.status.idle": "2021-03-26T22:13:19.141Z"
        }
      }
    },
    {
      "cell_type": "code",
      "source": [
        "py_list_bench = @benchmark $pysum($a)"
      ],
      "outputs": [
        {
          "output_type": "execute_result",
          "execution_count": 28,
          "data": {
            "text/plain": "BenchmarkTools.Trial: \n  memory estimate:  336 bytes\n  allocs estimate:  6\n  --------------\n  minimum time:     1.407 s (0.00% GC)\n  median time:      1.429 s (0.00% GC)\n  mean time:        1.426 s (0.00% GC)\n  maximum time:     1.440 s (0.00% GC)\n  --------------\n  samples:          4\n  evals/sample:     1"
          },
          "metadata": {}
        }
      ],
      "execution_count": 28,
      "metadata": {
        "execution": {
          "iopub.status.busy": "2021-03-26T22:13:23.473Z",
          "iopub.execute_input": "2021-03-26T22:13:23.487Z",
          "iopub.status.idle": "2021-03-26T22:13:41.510Z"
        }
      }
    },
    {
      "cell_type": "code",
      "source": [
        "d[\"Python built-in\"] = minimum(py_list_bench.times) / 1e6\n",
        "d"
      ],
      "outputs": [
        {
          "output_type": "execute_result",
          "execution_count": 29,
          "data": {
            "text/plain": "Dict{Any, Any} with 3 entries:\n  \"C\"               => 11.597\n  \"Python built-in\" => 1406.67\n  \"C -ffast-math\"   => 3.58515"
          },
          "metadata": {}
        }
      ],
      "execution_count": 29,
      "metadata": {
        "execution": {
          "iopub.status.busy": "2021-03-26T22:13:41.532Z",
          "iopub.execute_input": "2021-03-26T22:13:41.546Z",
          "iopub.status.idle": "2021-03-26T22:13:41.575Z"
        }
      }
    },
    {
      "cell_type": "markdown",
      "source": [
        "# 4. Python: `numpy`\n",
        "\n",
        "## Takes advantage of hardware \"SIMD\", but only works when it works.\n",
        "\n",
        "`numpy` is an optimized C library, callable from Python.\n",
        "It may be installed within Julia as follows:"
      ],
      "metadata": {}
    },
    {
      "cell_type": "code",
      "source": [
        "# using Pkg; Pkg.add(\"Conda\")\n",
        "using Conda"
      ],
      "outputs": [],
      "execution_count": 31,
      "metadata": {
        "execution": {
          "iopub.status.busy": "2021-03-26T22:14:26.789Z",
          "iopub.execute_input": "2021-03-26T22:14:26.804Z",
          "iopub.status.idle": "2021-03-26T22:14:26.830Z"
        }
      }
    },
    {
      "cell_type": "code",
      "source": [
        "# Conda.add(\"numpy\")"
      ],
      "outputs": [],
      "execution_count": null,
      "metadata": {}
    },
    {
      "cell_type": "code",
      "source": [
        "numpy_sum = pyimport(\"numpy\")[\"sum\"]\n",
        "\n",
        "py_numpy_bench = @benchmark $numpy_sum($a)"
      ],
      "outputs": [
        {
          "output_type": "execute_result",
          "execution_count": 32,
          "data": {
            "text/plain": "BenchmarkTools.Trial: \n  memory estimate:  336 bytes\n  allocs estimate:  6\n  --------------\n  minimum time:     3.659 ms (0.00% GC)\n  median time:      3.713 ms (0.00% GC)\n  mean time:        3.826 ms (0.00% GC)\n  maximum time:     6.267 ms (0.00% GC)\n  --------------\n  samples:          1307\n  evals/sample:     1"
          },
          "metadata": {}
        }
      ],
      "execution_count": 32,
      "metadata": {
        "execution": {
          "iopub.status.busy": "2021-03-26T22:14:34.172Z",
          "iopub.execute_input": "2021-03-26T22:14:34.187Z",
          "iopub.status.idle": "2021-03-26T22:14:45.465Z"
        }
      }
    },
    {
      "cell_type": "code",
      "source": [
        "numpy_sum(a)"
      ],
      "outputs": [
        {
          "output_type": "execute_result",
          "execution_count": 34,
          "data": {
            "text/plain": "5.000489438658387e6"
          },
          "metadata": {}
        }
      ],
      "execution_count": 34,
      "metadata": {
        "execution": {
          "iopub.status.busy": "2021-03-26T22:14:50.079Z",
          "iopub.execute_input": "2021-03-26T22:14:50.096Z",
          "iopub.status.idle": "2021-03-26T22:14:50.132Z"
        }
      }
    },
    {
      "cell_type": "code",
      "source": [
        "numpy_sum(a) ≈ sum(a)"
      ],
      "outputs": [
        {
          "output_type": "execute_result",
          "execution_count": 35,
          "data": {
            "text/plain": "true"
          },
          "metadata": {}
        }
      ],
      "execution_count": 35,
      "metadata": {
        "execution": {
          "iopub.status.busy": "2021-03-26T22:14:53.216Z",
          "iopub.execute_input": "2021-03-26T22:14:53.230Z",
          "iopub.status.idle": "2021-03-26T22:14:53.260Z"
        }
      }
    },
    {
      "cell_type": "code",
      "source": [
        "d[\"Python numpy\"] = minimum(py_numpy_bench.times) / 1e6\n",
        "d"
      ],
      "outputs": [
        {
          "output_type": "execute_result",
          "execution_count": 36,
          "data": {
            "text/plain": "Dict{Any, Any} with 4 entries:\n  \"C\"               => 11.597\n  \"Python numpy\"    => 3.65935\n  \"Python built-in\" => 1406.67\n  \"C -ffast-math\"   => 3.58515"
          },
          "metadata": {}
        }
      ],
      "execution_count": 36,
      "metadata": {
        "execution": {
          "iopub.status.busy": "2021-03-26T22:14:55.862Z",
          "iopub.execute_input": "2021-03-26T22:14:55.875Z",
          "iopub.status.idle": "2021-03-26T22:14:55.903Z"
        }
      }
    },
    {
      "cell_type": "markdown",
      "source": [
        "# 5. Python, hand-written"
      ],
      "metadata": {}
    },
    {
      "cell_type": "code",
      "source": [
        "py\"\"\"\n",
        "def py_sum(A):\n",
        "    s = 0.0\n",
        "    for a in A:\n",
        "        s += a\n",
        "    return s\n",
        "\"\"\"\n",
        "\n",
        "sum_py = py\"py_sum\""
      ],
      "outputs": [
        {
          "output_type": "execute_result",
          "execution_count": 37,
          "data": {
            "text/plain": "PyObject <function py_sum at 0x7fe6c466bca0>"
          },
          "metadata": {}
        }
      ],
      "execution_count": 37,
      "metadata": {
        "execution": {
          "iopub.status.busy": "2021-03-26T22:15:07.390Z",
          "iopub.execute_input": "2021-03-26T22:15:07.406Z",
          "iopub.status.idle": "2021-03-26T22:15:07.769Z"
        }
      }
    },
    {
      "cell_type": "code",
      "source": [
        "py_hand = @benchmark $sum_py($a)"
      ],
      "outputs": [
        {
          "output_type": "execute_result",
          "execution_count": 38,
          "data": {
            "text/plain": "BenchmarkTools.Trial: \n  memory estimate:  336 bytes\n  allocs estimate:  6\n  --------------\n  minimum time:     1.692 s (0.00% GC)\n  median time:      1.709 s (0.00% GC)\n  mean time:        1.732 s (0.00% GC)\n  maximum time:     1.794 s (0.00% GC)\n  --------------\n  samples:          3\n  evals/sample:     1"
          },
          "metadata": {}
        }
      ],
      "execution_count": 38,
      "metadata": {
        "execution": {
          "iopub.status.busy": "2021-03-26T22:15:09.939Z",
          "iopub.execute_input": "2021-03-26T22:15:09.955Z",
          "iopub.status.idle": "2021-03-26T22:15:24.920Z"
        }
      }
    },
    {
      "cell_type": "code",
      "source": [
        "sum_py(a)"
      ],
      "outputs": [
        {
          "output_type": "execute_result",
          "execution_count": 39,
          "data": {
            "text/plain": "5.000489438658943e6"
          },
          "metadata": {}
        }
      ],
      "execution_count": 39,
      "metadata": {
        "execution": {
          "iopub.status.busy": "2021-03-26T22:15:24.940Z",
          "iopub.execute_input": "2021-03-26T22:15:24.953Z",
          "iopub.status.idle": "2021-03-26T22:15:26.802Z"
        }
      }
    },
    {
      "cell_type": "code",
      "source": [
        "sum_py(a) ≈ sum(a)"
      ],
      "outputs": [
        {
          "output_type": "execute_result",
          "execution_count": 40,
          "data": {
            "text/plain": "true"
          },
          "metadata": {}
        }
      ],
      "execution_count": 40,
      "metadata": {
        "execution": {
          "iopub.status.busy": "2021-03-26T22:15:28.659Z",
          "iopub.execute_input": "2021-03-26T22:15:28.674Z",
          "iopub.status.idle": "2021-03-26T22:15:30.416Z"
        }
      }
    },
    {
      "cell_type": "code",
      "source": [
        "d[\"Python hand-written\"] = minimum(py_hand.times) / 1e6\n",
        "d"
      ],
      "outputs": [
        {
          "output_type": "execute_result",
          "execution_count": 41,
          "data": {
            "text/plain": "Dict{Any, Any} with 5 entries:\n  \"C\"                   => 11.597\n  \"Python numpy\"        => 3.65935\n  \"Python hand-written\" => 1692.15\n  \"Python built-in\"     => 1406.67\n  \"C -ffast-math\"       => 3.58515"
          },
          "metadata": {}
        }
      ],
      "execution_count": 41,
      "metadata": {
        "execution": {
          "iopub.status.busy": "2021-03-26T22:15:32.059Z",
          "iopub.execute_input": "2021-03-26T22:15:32.077Z",
          "iopub.status.idle": "2021-03-26T22:15:32.114Z"
        }
      }
    },
    {
      "cell_type": "markdown",
      "source": [
        "# 6. Julia (built-in)\n",
        "\n",
        "## Written directly in Julia, not in C!"
      ],
      "metadata": {}
    },
    {
      "cell_type": "code",
      "source": [
        "@which sum(a)"
      ],
      "outputs": [
        {
          "output_type": "execute_result",
          "execution_count": 42,
          "data": {
            "text/plain": "sum(a::AbstractArray; dims, kw...) in Base at reducedim.jl:873",
            "text/html": "sum(a::<b>AbstractArray</b>; <i>dims, kw...</i>) in Base at <a href=\"https://github.com/JuliaLang/julia/tree/f9720dc2ebd6cd9e3086365f281e62506444ef37/base/reducedim.jl#L873\" target=\"_blank\">reducedim.jl:873</a>"
          },
          "metadata": {}
        }
      ],
      "execution_count": 42,
      "metadata": {
        "execution": {
          "iopub.status.busy": "2021-03-26T22:15:36.073Z",
          "iopub.execute_input": "2021-03-26T22:15:36.088Z",
          "iopub.status.idle": "2021-03-26T22:15:36.907Z"
        }
      }
    },
    {
      "cell_type": "code",
      "source": [
        "j_bench = @benchmark sum($a)"
      ],
      "outputs": [
        {
          "output_type": "execute_result",
          "execution_count": 43,
          "data": {
            "text/plain": "BenchmarkTools.Trial: \n  memory estimate:  0 bytes\n  allocs estimate:  0\n  --------------\n  minimum time:     3.646 ms (0.00% GC)\n  median time:      3.986 ms (0.00% GC)\n  mean time:        3.995 ms (0.00% GC)\n  maximum time:     5.469 ms (0.00% GC)\n  --------------\n  samples:          1252\n  evals/sample:     1"
          },
          "metadata": {}
        }
      ],
      "execution_count": 43,
      "metadata": {
        "execution": {
          "iopub.status.busy": "2021-03-26T22:15:46.182Z",
          "iopub.execute_input": "2021-03-26T22:15:46.201Z",
          "iopub.status.idle": "2021-03-26T22:15:57.320Z"
        }
      }
    },
    {
      "cell_type": "code",
      "source": [
        "d[\"Julia built-in\"] = minimum(j_bench.times) / 1e6\n",
        "d"
      ],
      "outputs": [
        {
          "output_type": "execute_result",
          "execution_count": 44,
          "data": {
            "text/plain": "Dict{Any, Any} with 6 entries:\n  \"C\"                   => 11.597\n  \"Python numpy\"        => 3.65935\n  \"Python hand-written\" => 1692.15\n  \"Python built-in\"     => 1406.67\n  \"Julia built-in\"      => 3.64573\n  \"C -ffast-math\"       => 3.58515"
          },
          "metadata": {}
        }
      ],
      "execution_count": 44,
      "metadata": {
        "execution": {
          "iopub.status.busy": "2021-03-26T22:16:00.615Z",
          "iopub.execute_input": "2021-03-26T22:16:00.632Z",
          "iopub.status.idle": "2021-03-26T22:16:00.663Z"
        }
      }
    },
    {
      "cell_type": "markdown",
      "source": [
        "# 7. Julia (hand-written)"
      ],
      "metadata": {}
    },
    {
      "cell_type": "code",
      "source": [
        "function mysum(A)\n",
        "    s = 0.0 # s = zero(eltype(a))\n",
        "    for a in A\n",
        "        s += a\n",
        "    end\n",
        "    s\n",
        "end"
      ],
      "outputs": [
        {
          "output_type": "execute_result",
          "execution_count": 45,
          "data": {
            "text/plain": "mysum (generic function with 1 method)"
          },
          "metadata": {}
        }
      ],
      "execution_count": 45,
      "metadata": {
        "execution": {
          "iopub.status.busy": "2021-03-26T22:16:17.356Z",
          "iopub.execute_input": "2021-03-26T22:16:17.374Z",
          "iopub.status.idle": "2021-03-26T22:16:17.437Z"
        }
      }
    },
    {
      "cell_type": "code",
      "source": [
        "j_bench_hand = @benchmark mysum($a)"
      ],
      "outputs": [
        {
          "output_type": "execute_result",
          "execution_count": 46,
          "data": {
            "text/plain": "BenchmarkTools.Trial: \n  memory estimate:  0 bytes\n  allocs estimate:  0\n  --------------\n  minimum time:     12.073 ms (0.00% GC)\n  median time:      17.271 ms (0.00% GC)\n  mean time:        16.203 ms (0.00% GC)\n  maximum time:     17.674 ms (0.00% GC)\n  --------------\n  samples:          309\n  evals/sample:     1"
          },
          "metadata": {}
        }
      ],
      "execution_count": 46,
      "metadata": {
        "execution": {
          "iopub.status.busy": "2021-03-26T22:16:24.760Z",
          "iopub.execute_input": "2021-03-26T22:16:24.777Z",
          "iopub.status.idle": "2021-03-26T22:16:36.004Z"
        }
      }
    },
    {
      "cell_type": "code",
      "source": [
        "d[\"Julia hand-written\"] = minimum(j_bench_hand.times) / 1e6\n",
        "d"
      ],
      "outputs": [
        {
          "output_type": "execute_result",
          "execution_count": 48,
          "data": {
            "text/plain": "Dict{Any, Any} with 7 entries:\n  \"C\"                   => 11.597\n  \"Python numpy\"        => 3.65935\n  \"Julia hand-written\"  => 12.0727\n  \"Python hand-written\" => 1692.15\n  \"Python built-in\"     => 1406.67\n  \"Julia built-in\"      => 3.64573\n  \"C -ffast-math\"       => 3.58515"
          },
          "metadata": {}
        }
      ],
      "execution_count": 48,
      "metadata": {
        "execution": {
          "iopub.status.busy": "2021-03-26T22:16:41.745Z",
          "iopub.execute_input": "2021-03-26T22:16:41.761Z",
          "iopub.status.idle": "2021-03-26T22:16:41.794Z"
        }
      }
    },
    {
      "cell_type": "markdown",
      "source": [
        "# 8. Julia (hand-written w. simd)"
      ],
      "metadata": {}
    },
    {
      "cell_type": "code",
      "source": [
        "function mysum_simd(A)\n",
        "    s = 0.0 # s = zero(eltype(A))\n",
        "    @simd for a in A\n",
        "        s += a\n",
        "    end\n",
        "    s\n",
        "end"
      ],
      "outputs": [
        {
          "output_type": "execute_result",
          "execution_count": 49,
          "data": {
            "text/plain": "mysum_simd (generic function with 1 method)"
          },
          "metadata": {}
        }
      ],
      "execution_count": 49,
      "metadata": {
        "execution": {
          "iopub.status.busy": "2021-03-26T22:16:48.200Z",
          "iopub.execute_input": "2021-03-26T22:16:48.218Z",
          "iopub.status.idle": "2021-03-26T22:16:48.283Z"
        }
      }
    },
    {
      "cell_type": "code",
      "source": [
        "j_bench_hand_simd = @benchmark mysum_simd($a)"
      ],
      "outputs": [
        {
          "output_type": "execute_result",
          "execution_count": 50,
          "data": {
            "text/plain": "BenchmarkTools.Trial: \n  memory estimate:  0 bytes\n  allocs estimate:  0\n  --------------\n  minimum time:     3.728 ms (0.00% GC)\n  median time:      4.128 ms (0.00% GC)\n  mean time:        4.211 ms (0.00% GC)\n  maximum time:     14.849 ms (0.00% GC)\n  --------------\n  samples:          1187\n  evals/sample:     1"
          },
          "metadata": {}
        }
      ],
      "execution_count": 50,
      "metadata": {
        "execution": {
          "iopub.status.busy": "2021-03-26T22:16:54.334Z",
          "iopub.execute_input": "2021-03-26T22:16:54.352Z",
          "iopub.status.idle": "2021-03-26T22:17:05.430Z"
        }
      }
    },
    {
      "cell_type": "code",
      "source": [
        "mysum_simd(a)"
      ],
      "outputs": [
        {
          "output_type": "execute_result",
          "execution_count": 51,
          "data": {
            "text/plain": "5.000489438658357e6"
          },
          "metadata": {}
        }
      ],
      "execution_count": 51,
      "metadata": {
        "execution": {
          "iopub.status.busy": "2021-03-26T22:17:05.452Z",
          "iopub.execute_input": "2021-03-26T22:17:05.466Z",
          "iopub.status.idle": "2021-03-26T22:17:05.494Z"
        }
      }
    },
    {
      "cell_type": "code",
      "source": [
        "d[\"Julia hand-written simd\"] = minimum(j_bench_hand_simd.times) / 1e6\n",
        "d"
      ],
      "outputs": [
        {
          "output_type": "execute_result",
          "execution_count": 52,
          "data": {
            "text/plain": "Dict{Any, Any} with 8 entries:\n  \"Julia hand-written simd\" => 3.72803\n  \"C\"                       => 11.597\n  \"Python numpy\"            => 3.65935\n  \"Julia hand-written\"      => 12.0727\n  \"Python hand-written\"     => 1692.15\n  \"Python built-in\"         => 1406.67\n  \"Julia built-in\"          => 3.64573\n  \"C -ffast-math\"           => 3.58515"
          },
          "metadata": {}
        }
      ],
      "execution_count": 52,
      "metadata": {
        "execution": {
          "iopub.status.busy": "2021-03-26T22:17:05.515Z",
          "iopub.execute_input": "2021-03-26T22:17:05.528Z",
          "iopub.status.idle": "2021-03-26T22:17:05.555Z"
        }
      }
    },
    {
      "cell_type": "markdown",
      "source": [
        "# Summary"
      ],
      "metadata": {}
    },
    {
      "cell_type": "code",
      "source": [
        "for (key, value) in sort(collect(d), by=last)\n",
        "    println(rpad(key, 25, \".\"), lpad(round(value; digits=1), 6, \".\"))\n",
        "end"
      ],
      "outputs": [
        {
          "output_type": "stream",
          "name": "stdout",
          "text": [
            "C -ffast-math...............3.6\n",
            "Julia built-in..............3.6\n",
            "Python numpy................3.7\n",
            "Julia hand-written simd.....3.7\n",
            "C..........................11.6\n",
            "Julia hand-written.........12.1\n",
            "Python built-in..........1406.7\n",
            "Python hand-written......1692.2\n"
          ]
        }
      ],
      "execution_count": 53,
      "metadata": {
        "execution": {
          "iopub.status.busy": "2021-03-26T22:17:10.013Z",
          "iopub.execute_input": "2021-03-26T22:17:10.029Z",
          "iopub.status.idle": "2021-03-26T22:17:10.453Z"
        }
      }
    }
  ],
  "metadata": {
    "language_info": {
      "file_extension": ".jl",
      "name": "julia",
      "mimetype": "application/julia",
      "version": "1.6.0"
    },
    "kernelspec": {
      "name": "julia-1.0",
      "display_name": "Julia 1.0.3",
      "language": "julia"
    },
    "nteract": {
      "version": "0.28.0"
    }
  },
  "nbformat": 4,
  "nbformat_minor": 3
}